{
 "cells": [
  {
   "cell_type": "code",
   "execution_count": 3,
   "metadata": {
    "id": "f5NDXrN2CtH7"
   },
   "outputs": [],
   "source": [
    "import os\n",
    "import json\n",
    "import gzip\n",
    "import pandas as pd\n",
    "from urllib.request import urlopen"
   ]
  },
  {
   "cell_type": "code",
   "execution_count": null,
   "metadata": {
    "colab": {
     "base_uri": "https://localhost:8080/"
    },
    "id": "NIpCl4lKHY8D",
    "outputId": "b1e549d6-cb93-44f1-f65f-a10c6434c2cd"
   },
   "outputs": [],
   "source": [
    "!wget https://datarepo.eng.ucsd.edu/mcauley_group/data/amazon_v2/categoryFiles/Industrial_and_Scientific.json.gz"
   ]
  },
  {
   "cell_type": "code",
   "execution_count": null,
   "metadata": {
    "colab": {
     "base_uri": "https://localhost:8080/"
    },
    "id": "bb5fGi2wJpXI",
    "outputId": "9361b9de-dedc-4032-f99a-80e68b110106"
   },
   "outputs": [],
   "source": [
    "!wget https://datarepo.eng.ucsd.edu/mcauley_group/data/amazon_v2/metaFiles2/meta_Industrial_and_Scientific.json.gz"
   ]
  },
  {
   "cell_type": "code",
   "execution_count": 2,
   "metadata": {
    "colab": {
     "base_uri": "https://localhost:8080/"
    },
    "id": "vBfzThdejDSJ",
    "outputId": "91a779c0-1601-49f8-9d1d-c711117a776e"
   },
   "outputs": [
    {
     "name": "stdout",
     "output_type": "stream",
     "text": [
      "Defaulting to user installation because normal site-packages is not writeable\n",
      "Requirement already satisfied: pyspark in /apps/software/standard/core/pyspark/3.4.1-py3.11/lib/python3.11/site-packages (3.4.1)\n",
      "Requirement already satisfied: py4j==0.10.9.7 in /apps/software/standard/core/pyspark/3.4.1-py3.11/lib/python3.11/site-packages (from pyspark) (0.10.9.7)\n"
     ]
    }
   ],
   "source": [
    "!pip install pyspark"
   ]
  },
  {
   "cell_type": "markdown",
   "metadata": {
    "id": "ddVjvBQ5BnXq",
    "tags": []
   },
   "source": [
    "# Data Reading"
   ]
  },
  {
   "cell_type": "code",
   "execution_count": 4,
   "metadata": {
    "id": "G8Qexuq_3Rx0"
   },
   "outputs": [
    {
     "name": "stderr",
     "output_type": "stream",
     "text": [
      "Setting default log level to \"WARN\".\n",
      "To adjust logging level use sc.setLogLevel(newLevel). For SparkR, use setLogLevel(newLevel).\n",
      "23/11/17 21:22:59 WARN NativeCodeLoader: Unable to load native-hadoop library for your platform... using builtin-java classes where applicable\n",
      "23/11/17 21:23:14 WARN package: Truncated the string representation of a plan since it was too large. This behavior can be adjusted by setting 'spark.sql.debug.maxToStringFields'.\n"
     ]
    }
   ],
   "source": [
    "from pyspark.sql import SparkSession\n",
    "\n",
    "# Create a Spark session\n",
    "spark = SparkSession.builder \\\n",
    "    .appName(\"readGZ\") \\\n",
    "    .master(\"local[*]\") \\\n",
    "    .config(\"spark.default.parallelism\", 24) \\\n",
    "    .config(\"spark.sql.shuffle.partitions\", 24) \\\n",
    "    .config(\"spark.driver.memory\", \"16g\") \\\n",
    "    .config(\"spark.executor.memory\", \"16g\") \\\n",
    "    .getOrCreate()\n",
    "\n",
    "# Read the gzipped JSON file directly into a DataFrame\n",
    "df = spark.read.json(\"Industrial_and_Scientific.json.gz\")"
   ]
  },
  {
   "cell_type": "code",
   "execution_count": 38,
   "metadata": {
    "colab": {
     "base_uri": "https://localhost:8080/"
    },
    "id": "SSkWP10AtaKv",
    "outputId": "219a8d98-5f89-41f8-eb8e-3b053f11ca9a"
   },
   "outputs": [
    {
     "name": "stdout",
     "output_type": "stream",
     "text": [
      "+----------+-----+-------+--------------------+-----------+--------------+----------------+-----+--------------------+--------------+--------+----+\n",
      "|      asin|image|overall|          reviewText| reviewTime|    reviewerID|    reviewerName|style|             summary|unixReviewTime|verified|vote|\n",
      "+----------+-----+-------+--------------------+-----------+--------------+----------------+-----+--------------------+--------------+--------+----+\n",
      "|0176496920| null|    5.0|Arrived on time, ...|01 23, 2013|A3FANY5GOT5X0W|    Kelly Keyser| null|  Just as described!|    1358899200|    true|null|\n",
      "|0176496920| null|    5.0|This device was h...| 11 5, 2012| AT6HRPPYOPHMB|       Michael C| null|        Great device|    1352073600|    true|null|\n",
      "|0176496920| null|    4.0|Just a clicker no...|10 17, 2012| A4IX7B38LIN1E|              BH| null|         Pretty Good|    1350432000|    true|null|\n",
      "|0176496920| null|    5.0|Great response ca...|03 29, 2017|A12Q4LR8N17AOZ|   Waterfall3500| null|Thank you for the...|    1490745600|    true|null|\n",
      "|0176496920| null|    1.0|It only lasted fo...|03 21, 2017|A1GJXZZPOZ3OD9| Amazon Customer| null|            One Star|    1490054400|    true|null|\n",
      "|0176496920| null|    1.0|There is no licen...|02 22, 2017| AAHQWAS1NA6AX|Kimberly Alvarez| null|             License|    1487721600|    true|null|\n",
      "|0176496920| null|    5.0|Arrived perfectly...|02 14, 2017|A1IFO0SYT4VYHQ| Amazon Customer| null|     Would recommend|    1487030400|    true|null|\n",
      "|0176496920| null|    5.0|        Works great!|02 13, 2017|A2EYTYCKW20APK| Amazon Customer| null|          Five Stars|    1486944000|    true|null|\n",
      "|0176496920| null|    5.0|I got this in les...|02 10, 2017|A3JSW99QMYGZNL|          Yadira| null|       In good shape|    1486684800|    true|null|\n",
      "|0176496920| null|    3.0|Came in quickly a...|01 24, 2017| A71I4604KUANI|  Kirsten Draper| null|Came in quick but...|    1485216000|    true|null|\n",
      "+----------+-----+-------+--------------------+-----------+--------------+----------------+-----+--------------------+--------------+--------+----+\n",
      "only showing top 10 rows\n",
      "\n"
     ]
    }
   ],
   "source": [
    "# Show the DataFrame to check if it's loaded correctly\n",
    "df.show(10)"
   ]
  },
  {
   "cell_type": "code",
   "execution_count": 38,
   "metadata": {
    "tags": []
   },
   "outputs": [
    {
     "name": "stderr",
     "output_type": "stream",
     "text": [
      "[Stage 14:>                                                         (0 + 1) / 1]\r"
     ]
    },
    {
     "name": "stdout",
     "output_type": "stream",
     "text": [
      "+-------+-------+\n",
      "|summary|overall|\n",
      "+-------+-------+\n",
      "|  count|  60676|\n",
      "+-------+-------+\n",
      "\n"
     ]
    },
    {
     "name": "stderr",
     "output_type": "stream",
     "text": [
      "                                                                                \r"
     ]
    }
   ],
   "source": [
    "df.select(\"overall\").summary(\"count\").show()"
   ]
  },
  {
   "cell_type": "code",
   "execution_count": 41,
   "metadata": {
    "tags": []
   },
   "outputs": [
    {
     "name": "stderr",
     "output_type": "stream",
     "text": [
      "[Stage 18:>                                                         (0 + 1) / 1]\r"
     ]
    },
    {
     "name": "stdout",
     "output_type": "stream",
     "text": [
      "+-------+------+\n",
      "|summary|  asin|\n",
      "+-------+------+\n",
      "|  count|167442|\n",
      "+-------+------+\n",
      "\n"
     ]
    },
    {
     "name": "stderr",
     "output_type": "stream",
     "text": [
      "                                                                                \r"
     ]
    }
   ],
   "source": [
    "df_meta.select(\"asin\").summary(\"count\").show()"
   ]
  },
  {
   "cell_type": "code",
   "execution_count": 40,
   "metadata": {
    "id": "7igYuRaV4bF7"
   },
   "outputs": [
    {
     "name": "stderr",
     "output_type": "stream",
     "text": [
      "                                                                                \r"
     ]
    }
   ],
   "source": [
    "### load the meta data\n",
    "\n",
    "df_meta = spark.read.json(\"meta_Industrial_and_Scientific.json.gz\")"
   ]
  },
  {
   "cell_type": "code",
   "execution_count": 7,
   "metadata": {
    "colab": {
     "base_uri": "https://localhost:8080/"
    },
    "id": "vv5iGqYNiq9L",
    "outputId": "39501445-92da-4e37-9eec-3dee6c081402"
   },
   "outputs": [
    {
     "name": "stdout",
     "output_type": "stream",
     "text": [
      "+--------------------+--------------------+----------+--------------------+--------------------+-----------------+--------------------+-------+--------------------+---+--------------------+--------------------+--------------------+------+--------------------+------------+--------------------+-----+--------------------+\n",
      "|            also_buy|           also_view|      asin|               brand|            category|             date|         description|details|             feature|fit|            imageURL|     imageURLHighRes|            main_cat| price|                rank|similar_item|               tech1|tech2|               title|\n",
      "+--------------------+--------------------+----------+--------------------+--------------------+-----------------+--------------------+-------+--------------------+---+--------------------+--------------------+--------------------+------+--------------------+------------+--------------------+-----+--------------------+\n",
      "|[1454894547, 0133...|                  []|0176496920|Turning Technolog...|[Industrial & Sci...|                 |[RCRF-03 - Works ...|   null|                  []|   |[https://images-n...|[https://images-n...|Industrial & Scie...|$23.61|12,329 in Industr...|            |                    |     |Turning Technolog...|\n",
      "|[B01NBCNTJ9, B01I...|                  []|0692782109|               R-Cat|                  []|                 |[The only laminat...|   null|                  []|   |[https://images-n...|[https://images-n...|Industrial & Scie...|$20.00|20,174 in Industr...|            |                    |     |R-Cat 692782109 E...|\n",
      "|[0781776821, 0781...|                  []|0781776848|Anatomical Chart ...|[Industrial & Sci...|   August 7, 2007|[<div>, Now in it...|   null|[MPN: 97807817768...|   |                  []|                  []|     Office Products|$10.37|[\">#351,522 in Of...|            | class=\"a-keyvalu...|     |Anatomical Chart ...|\n",
      "|[0781786630, 1587...|[B07BCNHC3K, B07D...|0781786606|Anatomical Chart ...|[Industrial & Sci...|February 26, 2009|[<div>, Developed...|   null|[MPN: 97807817866...|   |                  []|                  []|     Office Products|      |[\">#459,493 in Of...|            | class=\"a-keyvalu...|     |Joints of the Low...|\n",
      "|[0077402286, 1455...|                  []|0840026080|Responsive Innova...|[Industrial & Sci...|                 |[Advanced digital...|   null|                  []|   |[https://images-n...|[https://images-n...|Industrial & Scie...|$32.00|172,566 in Indust...|            |                    |     |Turning Technolog...|\n",
      "|[089455767X, 0894...|                  []|0894558358|   Critical Thinking|                  []|                 |[The mind-buildin...|   null|                  []|   |[https://images-n...|[https://images-n...|Industrial & Scie...|$21.99|91,253 in Industr...|            |                    |     |Science Detective...|\n",
      "|        [1572224975]|[0760724083, B078...|0971007004|    Thomas McCracken|[Industrial & Sci...|                 |                  []|   null|                  []|   |                  []|                  []|               Books|$13.32|1,104,587 in Books (|            |                    |     |Wall Chart of Hum...|\n",
      "|[1587790211, 1587...|                  []|1587790319|Anatomical Chart ...|[Industrial & Sci...|September 6, 2006|[<div>&#160;The <...|   null|[Provides anterio...|   |                  []|                  []|     Office Products|$14.82|[\">#90,545 in Off...|            | class=\"a-keyvalu...|     |The Male Reproduc...|\n",
      "|[B004MAJHLW, 1587...|                  []|1587792052|             Unknown|[Industrial & Sci...|                 |[Illustrates spin...|   null|                  []|   |                  []|                  []|Industrial & Scie...|$23.84|17,125 in Industr...|            |                    |     |The Spinal Nerves...|\n",
      "|[1587798085, 1587...|                  []|1587791420|  Physician Supplies|[Industrial & Sci...|   August 4, 2005|[<DIV>Shows muscl...|   null|[Shows muscle and...|   |                  []|                  []|     Office Products|$24.45|[\">#318,099 in Of...|            | class=\"a-keyvalu...|     |Hand and Wrist An...|\n",
      "+--------------------+--------------------+----------+--------------------+--------------------+-----------------+--------------------+-------+--------------------+---+--------------------+--------------------+--------------------+------+--------------------+------------+--------------------+-----+--------------------+\n",
      "only showing top 10 rows\n",
      "\n"
     ]
    }
   ],
   "source": [
    "df_meta.show(10)"
   ]
  },
  {
   "cell_type": "markdown",
   "metadata": {
    "id": "hfMHyp_wCLIj"
   },
   "source": [
    "## Discussion\n",
    "\n",
    "\n",
    "\n",
    "1.   We can not read some categories (especially those with large data, in this case, the sofrware category) directly in Spark; Need to figure out why and how to solve this. (Tried reading by in raw and use pandas and then spark, but this also failed.)\n",
    "(I skipped this question by choosing another category which is fine to read directly)\n",
    "\n",
    "\n",
    "\n"
   ]
  },
  {
   "cell_type": "markdown",
   "metadata": {
    "id": "0lporcTWBqQq",
    "tags": []
   },
   "source": [
    "# Data Pre-Processing and visulization"
   ]
  },
  {
   "cell_type": "code",
   "execution_count": 5,
   "metadata": {
    "id": "LgWrDtZ94w89"
   },
   "outputs": [],
   "source": [
    "# Drop the image column because I don't think we need it\n",
    "df = df.drop('image')"
   ]
  },
  {
   "cell_type": "code",
   "execution_count": 6,
   "metadata": {
    "id": "HoBwuSpS0a_A"
   },
   "outputs": [],
   "source": [
    "from pyspark.sql.functions import col, when, length, unix_timestamp, to_date\n",
    "\n",
    "# Handling missing values: For simplicity, we'll drop rows with any NULLs\n",
    "df = df.na.drop()\n",
    "\n",
    "# Filtering out unverified reviews\n",
    "df = df.filter(col('verified') == True)\n",
    "\n",
    "# Feature Engineering - creating a new feature for the length of the reviewText\n",
    "df = df.withColumn('reviewText_length', length(col('reviewText')))\n"
   ]
  },
  {
   "cell_type": "code",
   "execution_count": 7,
   "metadata": {
    "colab": {
     "base_uri": "https://localhost:8080/"
    },
    "id": "7K4J7Ww92DLo",
    "outputId": "7810957f-2851-4b36-9834-31bb22726bb6"
   },
   "outputs": [
    {
     "name": "stdout",
     "output_type": "stream",
     "text": [
      "+----------+-------+--------------------+-----------+--------------+-------------+--------------------+--------------------+--------------+--------+----+-----------------+\n",
      "|      asin|overall|          reviewText| reviewTime|    reviewerID| reviewerName|               style|             summary|unixReviewTime|verified|vote|reviewText_length|\n",
      "+----------+-------+--------------------+-----------+--------------+-------------+--------------------+--------------------+--------------+--------+----+-----------------+\n",
      "|1587790637|    5.0|I love everything...| 08 3, 2014| ALORN8T3UJC88| Ji Sung Moon|{null, null, null...|Great studying ma...|    1407024000|    true|   6|              390|\n",
      "|1587790637|    2.0|Disappointed with...| 06 9, 2014|A2DR04A9BINUE6|        Becky|{null, null, null...|             Creased|    1402272000|    true|   4|              157|\n",
      "|1587790637|    1.0|Very poor packagi...| 04 8, 2014|A39NP41GNG6DJT|  Nicole Ryan|{null, null, null...|Poster bent and w...|    1396915200|    true|   8|              286|\n",
      "|1587790637|    5.0|Clear font, easy ...| 04 1, 2017|A22L35OKSZBXE6|  Outdoorsy29|{null, null, null...|        easy to read|    1491004800|    true|   2|               81|\n",
      "|1587790637|    5.0|Great image quali...|10 15, 2016| A8QBLKY1N72GG|LovelyNutty31|{null, null, null...|           Recommend|    1476489600|    true|   3|              217|\n",
      "|1587790637|    5.0|This poster is aw...|03 27, 2016|A1NBP94KU536L6|  Esther Hong|{null, null, null...|Perfect for med/n...|    1459036800|    true|   2|              289|\n",
      "|1587790637|    2.0|The product itsel...|09 30, 2015|A32AJ6YUG1FCQY|         Mary|{null, null, null...|The product itsel...|    1443571200|    true|   2|              179|\n",
      "|1587790637|    2.0|Came in poor cond...|03 23, 2015| AHX9VS31SMYWN|    Ronnie Yu|{null, null, null...|           Two Stars|    1427068800|    true|   4|              103|\n",
      "|B0000223SK|    5.0|When working with...|01 15, 2012| AKPWF09K5F5OZ|Marge Wellman|{null, null, null...|       Lasts & Lasts|    1326585600|    true|   2|              128|\n",
      "|B0000223SK|    5.0|Lasts for several...|12 14, 2011|A29ATM05PXSQY7|      Mr Phil|{null, null, null...|   Serious sandpaper|    1323820800|    true|   5|              246|\n",
      "+----------+-------+--------------------+-----------+--------------+-------------+--------------------+--------------------+--------------+--------+----+-----------------+\n",
      "only showing top 10 rows\n",
      "\n"
     ]
    }
   ],
   "source": [
    "# Show the processed DataFrame\n",
    "df.show(10)"
   ]
  },
  {
   "cell_type": "code",
   "execution_count": 42,
   "metadata": {
    "colab": {
     "base_uri": "https://localhost:8080/",
     "height": 564
    },
    "id": "AH_C-uRAu5G-",
    "outputId": "32bb7fa5-58e4-4940-e1cc-aca61a0789c7"
   },
   "outputs": [
    {
     "name": "stderr",
     "output_type": "stream",
     "text": [
      "                                                                                \r"
     ]
    },
    {
     "data": {
      "image/png": "[encoded data removed]",
      "text/plain": [
       "<Figure size 1000x600 with 1 Axes>"
      ]
     },
     "metadata": {},
     "output_type": "display_data"
    }
   ],
   "source": [
    "import matplotlib.pyplot as plt\n",
    "\n",
    "review_lengths = df.select('reviewText_length').rdd.flatMap(lambda x: x).collect()\n",
    "\n",
    "# Now convert this list to a Pandas Series\n",
    "pd_series = pd.Series(review_lengths)\n",
    "\n",
    "# Plotting the distribution of reviewText_length using Pandas/Matplotlib\n",
    "plt.figure(figsize=(10, 6))\n",
    "pd_series.hist(bins=50)  # Adjust the number of bins for your specific dataset\n",
    "plt.title('Distribution of Review Text Lengths')\n",
    "plt.xlabel('Review Text Length')\n",
    "plt.ylabel('Count')\n",
    "plt.grid(False)\n",
    "plt.show()"
   ]
  },
  {
   "cell_type": "code",
   "execution_count": 8,
   "metadata": {
    "id": "LSoJRRFQ2ApP"
   },
   "outputs": [],
   "source": [
    "# Example of filtering based on a condition, such as reviews that are too short/long might be outliers\n",
    "df = df.filter(col('reviewText_length') > 10)  # Example threshold\n",
    "\n",
    "df = df.filter(col('reviewText_length') < 1000)  # Example threshold"
   ]
  },
  {
   "cell_type": "code",
   "execution_count": 9,
   "metadata": {
    "id": "4yIjISgc1xjx"
   },
   "outputs": [],
   "source": [
    "# Text Processing - cleaning the review text, tokenizing, and removing stop words (simplified example)\n",
    "from pyspark.ml.feature import Tokenizer, StopWordsRemover\n",
    "tokenizer = Tokenizer(inputCol='reviewText', outputCol='reviewText_tokens')\n",
    "df = tokenizer.transform(df)\n",
    "remover = StopWordsRemover(inputCol='reviewText_tokens', outputCol='reviewText_clean')\n",
    "df = remover.transform(df)"
   ]
  },
  {
   "cell_type": "code",
   "execution_count": 11,
   "metadata": {
    "colab": {
     "base_uri": "https://localhost:8080/"
    },
    "id": "RRKiCOYH1Ysa",
    "outputId": "089447bd-7007-4edf-cf2d-ba89c00c8af4"
   },
   "outputs": [
    {
     "name": "stdout",
     "output_type": "stream",
     "text": [
      "+----------+-------+--------------------+-----------+--------------+-------------+--------------------+--------------------+--------------+--------+----+-----------------+--------------------+--------------------+\n",
      "|      asin|overall|          reviewText| reviewTime|    reviewerID| reviewerName|               style|             summary|unixReviewTime|verified|vote|reviewText_length|   reviewText_tokens|    reviewText_clean|\n",
      "+----------+-------+--------------------+-----------+--------------+-------------+--------------------+--------------------+--------------+--------+----+-----------------+--------------------+--------------------+\n",
      "|1587790637|    5.0|I love everything...| 08 3, 2014| ALORN8T3UJC88| Ji Sung Moon|{null, null, null...|Great studying ma...|    1407024000|    true|   6|              390|[i, love, everyth...|[love, everything...|\n",
      "|1587790637|    2.0|Disappointed with...| 06 9, 2014|A2DR04A9BINUE6|        Becky|{null, null, null...|             Creased|    1402272000|    true|   4|              157|[disappointed, wi...|[disappointed, pr...|\n",
      "|1587790637|    1.0|Very poor packagi...| 04 8, 2014|A39NP41GNG6DJT|  Nicole Ryan|{null, null, null...|Poster bent and w...|    1396915200|    true|   8|              286|[very, poor, pack...|[poor, packaging!...|\n",
      "|1587790637|    5.0|Clear font, easy ...| 04 1, 2017|A22L35OKSZBXE6|  Outdoorsy29|{null, null, null...|        easy to read|    1491004800|    true|   2|               81|[clear, font,, ea...|[clear, font,, ea...|\n",
      "|1587790637|    5.0|Great image quali...|10 15, 2016| A8QBLKY1N72GG|LovelyNutty31|{null, null, null...|           Recommend|    1476489600|    true|   3|              217|[great, image, qu...|[great, image, qu...|\n",
      "|1587790637|    5.0|This poster is aw...|03 27, 2016|A1NBP94KU536L6|  Esther Hong|{null, null, null...|Perfect for med/n...|    1459036800|    true|   2|              289|[this, poster, is...|[poster, awesome!...|\n",
      "|1587790637|    2.0|The product itsel...|09 30, 2015|A32AJ6YUG1FCQY|         Mary|{null, null, null...|The product itsel...|    1443571200|    true|   2|              179|[the, product, it...|[product, great.,...|\n",
      "|1587790637|    2.0|Came in poor cond...|03 23, 2015| AHX9VS31SMYWN|    Ronnie Yu|{null, null, null...|           Two Stars|    1427068800|    true|   4|              103|[came, in, poor, ...|[came, poor, cond...|\n",
      "|B0000223SK|    5.0|When working with...|01 15, 2012| AKPWF09K5F5OZ|Marge Wellman|{null, null, null...|       Lasts & Lasts|    1326585600|    true|   2|              128|[when, working, w...|[working, hard, w...|\n",
      "|B0000223SK|    5.0|Lasts for several...|12 14, 2011|A29ATM05PXSQY7|      Mr Phil|{null, null, null...|   Serious sandpaper|    1323820800|    true|   5|              246|[lasts, for, seve...|[lasts, several, ...|\n",
      "+----------+-------+--------------------+-----------+--------------+-------------+--------------------+--------------------+--------------+--------+----+-----------------+--------------------+--------------------+\n",
      "only showing top 10 rows\n",
      "\n"
     ]
    }
   ],
   "source": [
    "# Show the processed DataFrame\n",
    "df.show(10)"
   ]
  },
  {
   "cell_type": "code",
   "execution_count": 10,
   "metadata": {
    "id": "WqZcdGp-5cui"
   },
   "outputs": [],
   "source": [
    "from pyspark.sql.functions import when, col, length, split\n",
    "\n",
    "# Split reviewTime into day, month, and year\n",
    "split_col = split(df['reviewTime'], ' ')\n",
    "df = df.withColumn('Day', split_col.getItem(0))\n",
    "df = df.withColumn('Month', split_col.getItem(1).substr(0,2))\n",
    "df = df.withColumn('Year', split_col.getItem(2))\n",
    "df = df.drop('reviewTime')\n",
    "\n",
    "# Convert 'vote' to integer type\n",
    "df = df.withColumn('vote', df['vote'].cast('int'))"
   ]
  },
  {
   "cell_type": "code",
   "execution_count": 13,
   "metadata": {
    "colab": {
     "base_uri": "https://localhost:8080/"
    },
    "id": "jl6pleTn6xRy",
    "outputId": "66f4499d-d4f6-419a-ea62-39b8cd8ef432"
   },
   "outputs": [
    {
     "name": "stdout",
     "output_type": "stream",
     "text": [
      "+----------+-------+--------------------+--------------+-------------+--------------------+--------------------+--------------+--------+----+-----------------+--------------------+--------------------+---+-----+----+\n",
      "|      asin|overall|          reviewText|    reviewerID| reviewerName|               style|             summary|unixReviewTime|verified|vote|reviewText_length|   reviewText_tokens|    reviewText_clean|Day|Month|Year|\n",
      "+----------+-------+--------------------+--------------+-------------+--------------------+--------------------+--------------+--------+----+-----------------+--------------------+--------------------+---+-----+----+\n",
      "|1587790637|    5.0|I love everything...| ALORN8T3UJC88| Ji Sung Moon|{null, null, null...|Great studying ma...|    1407024000|    true|   6|              390|[i, love, everyth...|[love, everything...| 08|   3,|2014|\n",
      "|1587790637|    2.0|Disappointed with...|A2DR04A9BINUE6|        Becky|{null, null, null...|             Creased|    1402272000|    true|   4|              157|[disappointed, wi...|[disappointed, pr...| 06|   9,|2014|\n",
      "|1587790637|    1.0|Very poor packagi...|A39NP41GNG6DJT|  Nicole Ryan|{null, null, null...|Poster bent and w...|    1396915200|    true|   8|              286|[very, poor, pack...|[poor, packaging!...| 04|   8,|2014|\n",
      "|1587790637|    5.0|Clear font, easy ...|A22L35OKSZBXE6|  Outdoorsy29|{null, null, null...|        easy to read|    1491004800|    true|   2|               81|[clear, font,, ea...|[clear, font,, ea...| 04|   1,|2017|\n",
      "|1587790637|    5.0|Great image quali...| A8QBLKY1N72GG|LovelyNutty31|{null, null, null...|           Recommend|    1476489600|    true|   3|              217|[great, image, qu...|[great, image, qu...| 10|   15|2016|\n",
      "|1587790637|    5.0|This poster is aw...|A1NBP94KU536L6|  Esther Hong|{null, null, null...|Perfect for med/n...|    1459036800|    true|   2|              289|[this, poster, is...|[poster, awesome!...| 03|   27|2016|\n",
      "|1587790637|    2.0|The product itsel...|A32AJ6YUG1FCQY|         Mary|{null, null, null...|The product itsel...|    1443571200|    true|   2|              179|[the, product, it...|[product, great.,...| 09|   30|2015|\n",
      "|1587790637|    2.0|Came in poor cond...| AHX9VS31SMYWN|    Ronnie Yu|{null, null, null...|           Two Stars|    1427068800|    true|   4|              103|[came, in, poor, ...|[came, poor, cond...| 03|   23|2015|\n",
      "|B0000223SK|    5.0|When working with...| AKPWF09K5F5OZ|Marge Wellman|{null, null, null...|       Lasts & Lasts|    1326585600|    true|   2|              128|[when, working, w...|[working, hard, w...| 01|   15|2012|\n",
      "|B0000223SK|    5.0|Lasts for several...|A29ATM05PXSQY7|      Mr Phil|{null, null, null...|   Serious sandpaper|    1323820800|    true|   5|              246|[lasts, for, seve...|[lasts, several, ...| 12|   14|2011|\n",
      "+----------+-------+--------------------+--------------+-------------+--------------------+--------------------+--------------+--------+----+-----------------+--------------------+--------------------+---+-----+----+\n",
      "only showing top 10 rows\n",
      "\n"
     ]
    }
   ],
   "source": [
    "df.show(10)"
   ]
  },
  {
   "cell_type": "code",
   "execution_count": 14,
   "metadata": {
    "colab": {
     "base_uri": "https://localhost:8080/"
    },
    "id": "LCawwLrJ2wv5",
    "outputId": "20b71eeb-3473-4b41-83e3-731fa820acf6"
   },
   "outputs": [
    {
     "name": "stderr",
     "output_type": "stream",
     "text": [
      "                                                                                \r"
     ]
    },
    {
     "data": {
      "text/plain": [
       "44622"
      ]
     },
     "execution_count": 14,
     "metadata": {},
     "output_type": "execute_result"
    }
   ],
   "source": [
    "df.select('reviewerName').distinct().count()"
   ]
  },
  {
   "cell_type": "code",
   "execution_count": 15,
   "metadata": {
    "colab": {
     "base_uri": "https://localhost:8080/"
    },
    "id": "VdBoW7v721fO",
    "outputId": "a749bec3-f3f1-4a45-e62a-fd6600c8cb07"
   },
   "outputs": [
    {
     "name": "stderr",
     "output_type": "stream",
     "text": [
      "                                                                                \r"
     ]
    },
    {
     "data": {
      "text/plain": [
       "7425"
      ]
     },
     "execution_count": 15,
     "metadata": {},
     "output_type": "execute_result"
    }
   ],
   "source": [
    "df.select('asin').distinct().count()"
   ]
  },
  {
   "cell_type": "code",
   "execution_count": 16,
   "metadata": {
    "id": "IDu-xVsaDMh-"
   },
   "outputs": [
    {
     "name": "stderr",
     "output_type": "stream",
     "text": [
      "                                                                                \r"
     ]
    }
   ],
   "source": [
    "from pyspark.sql.functions import avg, count\n",
    "\n",
    "# Average rating\n",
    "average_rating = df.agg(avg(\"overall\")).first()[0]\n",
    "\n",
    "# Count of reviews for each asin\n",
    "reviews_per_asin = df.groupBy(\"asin\").agg(count(\"reviewerID\").alias(\"Number_of_Reviews\"))\n",
    "\n",
    "# Summary for vote column\n",
    "votes_summary = df.describe(['vote'])\n",
    "\n"
   ]
  },
  {
   "cell_type": "code",
   "execution_count": null,
   "metadata": {
    "id": "oseS27cytWcg"
   },
   "outputs": [],
   "source": [
    "# Count of reviews for each reviewer\n",
    "reviews_per_reviewers = df.groupBy(\"reviewerID\").agg(count(\"asin\").alias(\"Number_of_Reviews\"))"
   ]
  },
  {
   "cell_type": "code",
   "execution_count": null,
   "metadata": {
    "colab": {
     "base_uri": "https://localhost:8080/"
    },
    "id": "CceniMOxrS8o",
    "outputId": "4ede7154-8caf-403d-f2dc-c7e58b217ca6"
   },
   "outputs": [],
   "source": [
    "votes_summary"
   ]
  },
  {
   "cell_type": "code",
   "execution_count": null,
   "metadata": {
    "colab": {
     "base_uri": "https://localhost:8080/",
     "height": 1000
    },
    "id": "6OHclZxHDPTE",
    "outputId": "ede6e493-3c8d-4edb-82fd-46e8c22322fd"
   },
   "outputs": [],
   "source": [
    "\n",
    "\n",
    "# Convert Spark DataFrame to Pandas for Visualization\n",
    "pdf = df.toPandas()\n",
    "reviews_per_asin_pdf = reviews_per_asin.toPandas()\n",
    "\n",
    "# Histogram for overall ratings\n",
    "plt.figure(figsize=(10, 6))\n",
    "pdf['overall'].hist()\n",
    "plt.title('Distribution of Overall Ratings')\n",
    "plt.xlabel('Rating')\n",
    "plt.ylabel('Count')\n",
    "plt.grid(False)\n",
    "plt.show()\n",
    "\n",
    "# Plotting the pie chart for overall ratings\n",
    "rating_counts = pdf['overall'].value_counts().sort_index()\n",
    "plt.figure(figsize=(10, 6))\n",
    "plt.pie(rating_counts, labels=rating_counts.index, autopct='%1.1f%%', startangle=140)\n",
    "plt.title('Distribution of Overall Ratings')\n",
    "plt.axis('equal')  # Equal aspect ratio ensures that pie is drawn as a circle.\n",
    "plt.show()\n",
    "\n",
    "\n"
   ]
  },
  {
   "cell_type": "code",
   "execution_count": null,
   "metadata": {
    "colab": {
     "base_uri": "https://localhost:8080/",
     "height": 607
    },
    "id": "MGZpqoW9s-68",
    "outputId": "9f685d49-2ec7-4814-c40e-cea8ee0499ea"
   },
   "outputs": [],
   "source": [
    "\n",
    "# Bar chart for number of reviews for each asin\n",
    "top_reviews_per_asin_pdf = reviews_per_asin_pdf.sort_values(by='Number_of_Reviews', ascending=False).head(100)\n",
    "plt.figure(figsize=(10, 6))\n",
    "# Set the 'asin' as the index and plot the 'review_count' column\n",
    "top_reviews_per_asin_pdf.set_index('asin')['Number_of_Reviews'].plot(kind='bar', legend=False)\n",
    "plt.title('Number of Reviews for Top 100 ASINs')\n",
    "plt.ylabel('Count')\n",
    "plt.xlabel('ASIN')\n",
    "plt.grid(False)\n",
    "plt.tight_layout()\n",
    "plt.show()"
   ]
  },
  {
   "cell_type": "code",
   "execution_count": null,
   "metadata": {
    "colab": {
     "base_uri": "https://localhost:8080/",
     "height": 607
    },
    "id": "ZY61YbgAtiE8",
    "outputId": "00d7f9fc-b274-4a6e-b188-b563d6de82a2"
   },
   "outputs": [],
   "source": [
    "# Bar chart for number of reviews for each reviewers\n",
    "reviews_per_reviewers_pdf = reviews_per_reviewers.toPandas()\n",
    "\n",
    "top_reviews_per_reviewers_pdf = reviews_per_reviewers_pdf.sort_values(by='Number_of_Reviews', ascending=False).head(100)\n",
    "plt.figure(figsize=(10, 6))\n",
    "# Set the 'reviewers' as the index and plot the 'review_count' column\n",
    "top_reviews_per_reviewers_pdf.set_index('reviewerID')['Number_of_Reviews'].plot(kind='bar', legend=False)\n",
    "plt.title('Number of Reviews for Top 100 reviewers')\n",
    "plt.ylabel('Count')\n",
    "plt.xlabel('reviewers')\n",
    "plt.grid(False)\n",
    "plt.tight_layout()\n",
    "plt.show()"
   ]
  },
  {
   "cell_type": "code",
   "execution_count": null,
   "metadata": {
    "id": "q_QVtyi4Ewab"
   },
   "outputs": [],
   "source": [
    "# Convert reviewText and summary columns to a single string\n",
    "review_text_str = ' '.join(df.rdd.map(lambda row: row.reviewText).collect())\n",
    "summary_str = ' '.join(df.rdd.map(lambda row: row.summary).collect())"
   ]
  },
  {
   "cell_type": "code",
   "execution_count": null,
   "metadata": {
    "colab": {
     "base_uri": "https://localhost:8080/",
     "height": 871
    },
    "id": "0UBh50DFFI1l",
    "outputId": "b787afb4-42cb-4d8c-d022-ca1f1be3a438"
   },
   "outputs": [],
   "source": [
    "from wordcloud import WordCloud\n",
    "import matplotlib.pyplot as plt\n",
    "\n",
    "def generate_word_cloud(text, title):\n",
    "    wordcloud = WordCloud(width=800, height=400, background_color='white').generate(text)\n",
    "    plt.figure(figsize=(10, 5))\n",
    "    plt.imshow(wordcloud, interpolation='bilinear')\n",
    "    plt.axis('off')\n",
    "    plt.title(title)\n",
    "    plt.show()\n",
    "\n",
    "generate_word_cloud(review_text_str, \"Word Cloud for Review Text\")\n",
    "generate_word_cloud(summary_str, \"Word Cloud for Summary\")\n"
   ]
  },
  {
   "cell_type": "markdown",
   "metadata": {},
   "source": [
    "# Data Splitting"
   ]
  },
  {
   "cell_type": "code",
   "execution_count": null,
   "metadata": {},
   "outputs": [],
   "source": [
    "## Data Splitting\n",
    "from pyspark.ml.feature import StringIndexer\n",
    "\n",
    "# Indexing is required to convert string identifiers to numeric indices for the ALS algorithm\n",
    "indexer_user = StringIndexer(inputCol=\"reviewerID\", outputCol=\"userIndex\")\n",
    "df = indexer_user.fit(df).transform(df)\n",
    "\n",
    "indexer_item = StringIndexer(inputCol=\"asin\", outputCol=\"itemIndex\")\n",
    "df = indexer_item.fit(df).transform(df)\n",
    "# Add seed 1\n",
    "(train, test) = df.randomSplit([0.8, 0.2],1)"
   ]
  },
  {
   "cell_type": "markdown",
   "metadata": {
    "id": "Az7mi7WwkR5f",
    "jp-MarkdownHeadingCollapsed": true,
    "tags": []
   },
   "source": [
    "## ALS (collabortaive filtering) \n",
    "refer: https://www.kaggle.com/code/nadianizam/h-m-fashion-recommendation-with-pyspark"
   ]
  },
  {
   "cell_type": "code",
   "execution_count": null,
   "metadata": {
    "id": "xVGz5N03kT7T"
   },
   "outputs": [],
   "source": [
    "from pyspark.ml.recommendation import ALS\n",
    "from pyspark.ml.evaluation import RegressionEvaluator\n",
    "\n",
    "# Setting up the ALS model\n",
    "als = ALS(maxIter=5, regParam=0.01, userCol=\"userIndex\", itemCol=\"itemIndex\", ratingCol=\"overall\", coldStartStrategy=\"drop\")\n",
    "\n",
    "# Fitting the ALS model on the training data\n",
    "model = als.fit(train)\n",
    "\n",
    "# Predicting on the train and test sets\n",
    "predictions_train = model.transform(train)\n",
    "predictions_test = model.transform(test)\n",
    "\n",
    "# Create an RMSE evaluator using the label and predicted columns\n",
    "reg_evaluator = RegressionEvaluator(metricName=\"rmse\", labelCol=\"overall\", predictionCol=\"prediction\")\n",
    "\n",
    "# Evaluate the model on training data\n",
    "rmse_train = reg_evaluator.evaluate(predictions_train)\n",
    "\n",
    "# Evaluate the model on test data\n",
    "rmse_test = reg_evaluator.evaluate(predictions_test)\n"
   ]
  },
  {
   "cell_type": "code",
   "execution_count": null,
   "metadata": {
    "colab": {
     "base_uri": "https://localhost:8080/"
    },
    "id": "SIkh4pJbkT-_",
    "outputId": "c434f099-f5cd-4655-9d3f-7c34069be035"
   },
   "outputs": [],
   "source": [
    "rmse_train"
   ]
  },
  {
   "cell_type": "code",
   "execution_count": null,
   "metadata": {
    "colab": {
     "base_uri": "https://localhost:8080/"
    },
    "id": "h4t13CqrkUCj",
    "outputId": "fab8aa57-3366-45cb-ae43-9b67488e6db2"
   },
   "outputs": [],
   "source": [
    "rmse_test"
   ]
  },
  {
   "cell_type": "markdown",
   "metadata": {
    "id": "JeLO7apex1pt",
    "tags": []
   },
   "source": [
    "# GNN"
   ]
  },
  {
   "cell_type": "code",
   "execution_count": 12,
   "metadata": {
    "colab": {
     "base_uri": "https://localhost:8080/"
    },
    "id": "WrR_GanHyVEe",
    "outputId": "27552fb0-c701-4a17-e97d-2d783b1549fd"
   },
   "outputs": [
    {
     "name": "stdout",
     "output_type": "stream",
     "text": [
      "Defaulting to user installation because normal site-packages is not writeable\n",
      "Collecting torch\n",
      "  Obtaining dependency information for torch from https://files.pythonhosted.org/packages/65/1f/de6bc1b246531db81d9a6afc491356b17d70e6c898e16f564970849f69b6/torch-2.1.1-cp311-cp311-manylinux1_x86_64.whl.metadata\n",
      "  Downloading torch-2.1.1-cp311-cp311-manylinux1_x86_64.whl.metadata (25 kB)\n",
      "Collecting torchvision\n",
      "  Obtaining dependency information for torchvision from https://files.pythonhosted.org/packages/36/3b/a1d0a681ec3abb1bb8ff92c303ed73c0437050d9ac2b210273dc26f3fd8f/torchvision-0.16.1-cp311-cp311-manylinux1_x86_64.whl.metadata\n",
      "  Downloading torchvision-0.16.1-cp311-cp311-manylinux1_x86_64.whl.metadata (6.6 kB)\n",
      "Collecting filelock (from torch)\n",
      "  Obtaining dependency information for filelock from https://files.pythonhosted.org/packages/81/54/84d42a0bee35edba99dee7b59a8d4970eccdd44b99fe728ed912106fc781/filelock-3.13.1-py3-none-any.whl.metadata\n",
      "  Downloading filelock-3.13.1-py3-none-any.whl.metadata (2.8 kB)\n",
      "Requirement already satisfied: typing-extensions in /apps/software/standard/core/pyspark/3.4.1-py3.11/lib/python3.11/site-packages (from torch) (4.7.1)\n",
      "Collecting sympy (from torch)\n",
      "  Downloading sympy-1.12-py3-none-any.whl (5.7 MB)\n",
      "\u001b[2K     \u001b[90m━━━━━━━━━━━━━━━━━━━━━━━━━━━━━━━━━━━━━━━━\u001b[0m \u001b[32m5.7/5.7 MB\u001b[0m \u001b[31m24.7 MB/s\u001b[0m eta \u001b[36m0:00:00\u001b[0m00:01\u001b[0m00:01\u001b[0m\n",
      "\u001b[?25hCollecting networkx (from torch)\n",
      "  Obtaining dependency information for networkx from https://files.pythonhosted.org/packages/d5/f0/8fbc882ca80cf077f1b246c0e3c3465f7f415439bdea6b899f6b19f61f70/networkx-3.2.1-py3-none-any.whl.metadata\n",
      "  Downloading networkx-3.2.1-py3-none-any.whl.metadata (5.2 kB)\n",
      "Requirement already satisfied: jinja2 in /apps/software/standard/core/pyspark/3.4.1-py3.11/lib/python3.11/site-packages (from torch) (3.1.2)\n",
      "Collecting fsspec (from torch)\n",
      "  Obtaining dependency information for fsspec from https://files.pythonhosted.org/packages/e8/f6/3eccfb530aac90ad1301c582da228e4763f19e719ac8200752a4841b0b2d/fsspec-2023.10.0-py3-none-any.whl.metadata\n",
      "  Downloading fsspec-2023.10.0-py3-none-any.whl.metadata (6.8 kB)\n",
      "Collecting nvidia-cuda-nvrtc-cu12==12.1.105 (from torch)\n",
      "  Downloading nvidia_cuda_nvrtc_cu12-12.1.105-py3-none-manylinux1_x86_64.whl (23.7 MB)\n",
      "\u001b[2K     \u001b[90m━━━━━━━━━━━━━━━━━━━━━━━━━━━━━━━━━━━━━━━━\u001b[0m \u001b[32m23.7/23.7 MB\u001b[0m \u001b[31m55.6 MB/s\u001b[0m eta \u001b[36m0:00:00\u001b[0m00:01\u001b[0m00:01\u001b[0m\n",
      "\u001b[?25hCollecting nvidia-cuda-runtime-cu12==12.1.105 (from torch)\n",
      "  Downloading nvidia_cuda_runtime_cu12-12.1.105-py3-none-manylinux1_x86_64.whl (823 kB)\n",
      "\u001b[2K     \u001b[90m━━━━━━━━━━━━━━━━━━━━━━━━━━━━━━━━━━━━━━\u001b[0m \u001b[32m823.6/823.6 kB\u001b[0m \u001b[31m32.1 MB/s\u001b[0m eta \u001b[36m0:00:00\u001b[0m\n",
      "\u001b[?25hCollecting nvidia-cuda-cupti-cu12==12.1.105 (from torch)\n",
      "  Downloading nvidia_cuda_cupti_cu12-12.1.105-py3-none-manylinux1_x86_64.whl (14.1 MB)\n",
      "\u001b[2K     \u001b[90m━━━━━━━━━━━━━━━━━━━━━━━━━━━━━━━━━━━━━━━━\u001b[0m \u001b[32m14.1/14.1 MB\u001b[0m \u001b[31m79.5 MB/s\u001b[0m eta \u001b[36m0:00:00\u001b[0m00:01\u001b[0m00:01\u001b[0m\n",
      "\u001b[?25hCollecting nvidia-cudnn-cu12==8.9.2.26 (from torch)\n",
      "  Obtaining dependency information for nvidia-cudnn-cu12==8.9.2.26 from https://files.pythonhosted.org/packages/ff/74/a2e2be7fb83aaedec84f391f082cf765dfb635e7caa9b49065f73e4835d8/nvidia_cudnn_cu12-8.9.2.26-py3-none-manylinux1_x86_64.whl.metadata\n",
      "  Downloading nvidia_cudnn_cu12-8.9.2.26-py3-none-manylinux1_x86_64.whl.metadata (1.6 kB)\n",
      "Collecting nvidia-cublas-cu12==12.1.3.1 (from torch)\n",
      "  Downloading nvidia_cublas_cu12-12.1.3.1-py3-none-manylinux1_x86_64.whl (410.6 MB)\n",
      "\u001b[2K     \u001b[90m━━━━━━━━━━━━━━━━━━━━━━━━━━━━━━━━━━━━━━━\u001b[0m \u001b[32m410.6/410.6 MB\u001b[0m \u001b[31m5.8 MB/s\u001b[0m eta \u001b[36m0:00:00\u001b[0m00:01\u001b[0m00:01\u001b[0m\n",
      "\u001b[?25hCollecting nvidia-cufft-cu12==11.0.2.54 (from torch)\n",
      "  Downloading nvidia_cufft_cu12-11.0.2.54-py3-none-manylinux1_x86_64.whl (121.6 MB)\n",
      "\u001b[2K     \u001b[90m━━━━━━━━━━━━━━━━━━━━━━━━━━━━━━━━━━━━━━\u001b[0m \u001b[32m121.6/121.6 MB\u001b[0m \u001b[31m16.2 MB/s\u001b[0m eta \u001b[36m0:00:00\u001b[0m00:01\u001b[0m00:01\u001b[0m\n",
      "\u001b[?25hCollecting nvidia-curand-cu12==10.3.2.106 (from torch)\n",
      "  Downloading nvidia_curand_cu12-10.3.2.106-py3-none-manylinux1_x86_64.whl (56.5 MB)\n",
      "\u001b[2K     \u001b[90m━━━━━━━━━━━━━━━━━━━━━━━━━━━━━━━━━━━━━━━━\u001b[0m \u001b[32m56.5/56.5 MB\u001b[0m \u001b[31m34.6 MB/s\u001b[0m eta \u001b[36m0:00:00\u001b[0m00:01\u001b[0m00:01\u001b[0m\n",
      "\u001b[?25hCollecting nvidia-cusolver-cu12==11.4.5.107 (from torch)\n",
      "  Downloading nvidia_cusolver_cu12-11.4.5.107-py3-none-manylinux1_x86_64.whl (124.2 MB)\n",
      "\u001b[2K     \u001b[90m━━━━━━━━━━━━━━━━━━━━━━━━━━━━━━━━━━━━━━\u001b[0m \u001b[32m124.2/124.2 MB\u001b[0m \u001b[31m17.4 MB/s\u001b[0m eta \u001b[36m0:00:00\u001b[0m00:01\u001b[0m00:01\u001b[0m\n",
      "\u001b[?25hCollecting nvidia-cusparse-cu12==12.1.0.106 (from torch)\n",
      "  Downloading nvidia_cusparse_cu12-12.1.0.106-py3-none-manylinux1_x86_64.whl (196.0 MB)\n",
      "\u001b[2K     \u001b[90m━━━━━━━━━━━━━━━━━━━━━━━━━━━━━━━━━━━━━━\u001b[0m \u001b[32m196.0/196.0 MB\u001b[0m \u001b[31m11.6 MB/s\u001b[0m eta \u001b[36m0:00:00\u001b[0m00:01\u001b[0m00:01\u001b[0m\n",
      "\u001b[?25hCollecting nvidia-nccl-cu12==2.18.1 (from torch)\n",
      "  Downloading nvidia_nccl_cu12-2.18.1-py3-none-manylinux1_x86_64.whl (209.8 MB)\n",
      "\u001b[2K     \u001b[90m━━━━━━━━━━━━━━━━━━━━━━━━━━━━━━━━━━━━━━\u001b[0m \u001b[32m209.8/209.8 MB\u001b[0m \u001b[31m10.3 MB/s\u001b[0m eta \u001b[36m0:00:00\u001b[0m00:01\u001b[0m00:01\u001b[0m\n",
      "\u001b[?25hCollecting nvidia-nvtx-cu12==12.1.105 (from torch)\n",
      "  Downloading nvidia_nvtx_cu12-12.1.105-py3-none-manylinux1_x86_64.whl (99 kB)\n",
      "\u001b[2K     \u001b[90m━━━━━━━━━━━━━━━━━━━━━━━━━━━━━━━━━━━━━━━━\u001b[0m \u001b[32m99.1/99.1 kB\u001b[0m \u001b[31m5.4 MB/s\u001b[0m eta \u001b[36m0:00:00\u001b[0m\n",
      "\u001b[?25hCollecting triton==2.1.0 (from torch)\n",
      "  Obtaining dependency information for triton==2.1.0 from https://files.pythonhosted.org/packages/5c/c1/54fffb2eb13d293d9a429fead3646752ea190de0229bcf3d591ba2481263/triton-2.1.0-0-cp311-cp311-manylinux2014_x86_64.manylinux_2_17_x86_64.whl.metadata\n",
      "  Downloading triton-2.1.0-0-cp311-cp311-manylinux2014_x86_64.manylinux_2_17_x86_64.whl.metadata (1.3 kB)\n",
      "Collecting nvidia-nvjitlink-cu12 (from nvidia-cusolver-cu12==11.4.5.107->torch)\n",
      "  Obtaining dependency information for nvidia-nvjitlink-cu12 from https://files.pythonhosted.org/packages/1e/07/bf730d44c2fe1b676ad9cc2be5f5f861eb5d153fb6951987a2d6a96379a9/nvidia_nvjitlink_cu12-12.3.101-py3-none-manylinux1_x86_64.whl.metadata\n",
      "  Downloading nvidia_nvjitlink_cu12-12.3.101-py3-none-manylinux1_x86_64.whl.metadata (1.5 kB)\n",
      "Requirement already satisfied: numpy in /apps/software/standard/core/pyspark/3.4.1-py3.11/lib/python3.11/site-packages (from torchvision) (1.25.2)\n",
      "Requirement already satisfied: requests in /apps/software/standard/core/pyspark/3.4.1-py3.11/lib/python3.11/site-packages (from torchvision) (2.31.0)\n",
      "Requirement already satisfied: pillow!=8.3.*,>=5.3.0 in /apps/software/standard/core/pyspark/3.4.1-py3.11/lib/python3.11/site-packages (from torchvision) (10.0.0)\n",
      "Requirement already satisfied: MarkupSafe>=2.0 in /apps/software/standard/core/pyspark/3.4.1-py3.11/lib/python3.11/site-packages (from jinja2->torch) (2.1.3)\n",
      "Requirement already satisfied: charset-normalizer<4,>=2 in /apps/software/standard/core/pyspark/3.4.1-py3.11/lib/python3.11/site-packages (from requests->torchvision) (3.2.0)\n",
      "Requirement already satisfied: idna<4,>=2.5 in /apps/software/standard/core/pyspark/3.4.1-py3.11/lib/python3.11/site-packages (from requests->torchvision) (3.4)\n",
      "Requirement already satisfied: urllib3<3,>=1.21.1 in /apps/software/standard/core/pyspark/3.4.1-py3.11/lib/python3.11/site-packages (from requests->torchvision) (2.0.4)\n",
      "Requirement already satisfied: certifi>=2017.4.17 in /apps/software/standard/core/pyspark/3.4.1-py3.11/lib/python3.11/site-packages (from requests->torchvision) (2023.7.22)\n",
      "Collecting mpmath>=0.19 (from sympy->torch)\n",
      "  Downloading mpmath-1.3.0-py3-none-any.whl (536 kB)\n",
      "\u001b[2K     \u001b[90m━━━━━━━━━━━━━━━━━━━━━━━━━━━━━━━━━━━━━━\u001b[0m \u001b[32m536.2/536.2 kB\u001b[0m \u001b[31m25.2 MB/s\u001b[0m eta \u001b[36m0:00:00\u001b[0m\n",
      "\u001b[?25hDownloading torch-2.1.1-cp311-cp311-manylinux1_x86_64.whl (670.2 MB)\n",
      "\u001b[2K   \u001b[90m━━━━━━━━━━━━━━━━━━━━━━━━━━━━━━━━━━━━━━━━\u001b[0m \u001b[32m670.2/670.2 MB\u001b[0m \u001b[31m3.3 MB/s\u001b[0m eta \u001b[36m0:00:00\u001b[0m:00:01\u001b[0m00:01\u001b[0m\n",
      "\u001b[?25hDownloading nvidia_cudnn_cu12-8.9.2.26-py3-none-manylinux1_x86_64.whl (731.7 MB)\n",
      "\u001b[2K   \u001b[90m━━━━━━━━━━━━━━━━━━━━━━━━━━━━━━━━━━━━━━━━\u001b[0m \u001b[32m731.7/731.7 MB\u001b[0m \u001b[31m3.3 MB/s\u001b[0m eta \u001b[36m0:00:00\u001b[0m:00:01\u001b[0m00:01\u001b[0m\n",
      "\u001b[?25hDownloading triton-2.1.0-0-cp311-cp311-manylinux2014_x86_64.manylinux_2_17_x86_64.whl (89.2 MB)\n",
      "\u001b[2K   \u001b[90m━━━━━━━━━━━━━━━━━━━━━━━━━━━━━━━━━━━━━━━━\u001b[0m \u001b[32m89.2/89.2 MB\u001b[0m \u001b[31m23.9 MB/s\u001b[0m eta \u001b[36m0:00:00\u001b[0m:00:01\u001b[0m00:01\u001b[0m\n",
      "\u001b[?25hDownloading torchvision-0.16.1-cp311-cp311-manylinux1_x86_64.whl (6.8 MB)\n",
      "\u001b[2K   \u001b[90m━━━━━━━━━━━━━━━━━━━━━━━━━━━━━━━━━━━━━━━━\u001b[0m \u001b[32m6.8/6.8 MB\u001b[0m \u001b[31m102.6 MB/s\u001b[0m eta \u001b[36m0:00:00\u001b[0m00:01\u001b[0m\n",
      "\u001b[?25hDownloading filelock-3.13.1-py3-none-any.whl (11 kB)\n",
      "Downloading fsspec-2023.10.0-py3-none-any.whl (166 kB)\n",
      "\u001b[2K   \u001b[90m━━━━━━━━━━━━━━━━━━━━━━━━━━━━━━━━━━━━━━━━\u001b[0m \u001b[32m166.4/166.4 kB\u001b[0m \u001b[31m6.8 MB/s\u001b[0m eta \u001b[36m0:00:00\u001b[0m\n",
      "\u001b[?25hDownloading networkx-3.2.1-py3-none-any.whl (1.6 MB)\n",
      "\u001b[2K   \u001b[90m━━━━━━━━━━━━━━━━━━━━━━━━━━━━━━━━━━━━━━━━\u001b[0m \u001b[32m1.6/1.6 MB\u001b[0m \u001b[31m56.2 MB/s\u001b[0m eta \u001b[36m0:00:00\u001b[0m\n",
      "\u001b[?25hDownloading nvidia_nvjitlink_cu12-12.3.101-py3-none-manylinux1_x86_64.whl (20.5 MB)\n",
      "\u001b[2K   \u001b[90m━━━━━━━━━━━━━━━━━━━━━━━━━━━━━━━━━━━━━━━━\u001b[0m \u001b[32m20.5/20.5 MB\u001b[0m \u001b[31m70.8 MB/s\u001b[0m eta \u001b[36m0:00:00\u001b[0m:00:01\u001b[0m00:01\u001b[0m\n",
      "\u001b[?25hInstalling collected packages: mpmath, sympy, nvidia-nvtx-cu12, nvidia-nvjitlink-cu12, nvidia-nccl-cu12, nvidia-curand-cu12, nvidia-cufft-cu12, nvidia-cuda-runtime-cu12, nvidia-cuda-nvrtc-cu12, nvidia-cuda-cupti-cu12, nvidia-cublas-cu12, networkx, fsspec, filelock, triton, nvidia-cusparse-cu12, nvidia-cudnn-cu12, nvidia-cusolver-cu12, torch, torchvision\n",
      "\u001b[33m  WARNING: The script isympy is installed in '/home/wxr9et/.local/bin' which is not on PATH.\n",
      "  Consider adding this directory to PATH or, if you prefer to suppress this warning, use --no-warn-script-location.\u001b[0m\u001b[33m\n",
      "\u001b[0m\u001b[33m  WARNING: The scripts convert-caffe2-to-onnx, convert-onnx-to-caffe2 and torchrun are installed in '/home/wxr9et/.local/bin' which is not on PATH.\n",
      "  Consider adding this directory to PATH or, if you prefer to suppress this warning, use --no-warn-script-location.\u001b[0m\u001b[33m\n",
      "\u001b[0mSuccessfully installed filelock-3.13.1 fsspec-2023.10.0 mpmath-1.3.0 networkx-3.2.1 nvidia-cublas-cu12-12.1.3.1 nvidia-cuda-cupti-cu12-12.1.105 nvidia-cuda-nvrtc-cu12-12.1.105 nvidia-cuda-runtime-cu12-12.1.105 nvidia-cudnn-cu12-8.9.2.26 nvidia-cufft-cu12-11.0.2.54 nvidia-curand-cu12-10.3.2.106 nvidia-cusolver-cu12-11.4.5.107 nvidia-cusparse-cu12-12.1.0.106 nvidia-nccl-cu12-2.18.1 nvidia-nvjitlink-cu12-12.3.101 nvidia-nvtx-cu12-12.1.105 sympy-1.12 torch-2.1.1 torchvision-0.16.1 triton-2.1.0\n",
      "Defaulting to user installation because normal site-packages is not writeable\n",
      "Collecting torch-geometric\n",
      "  Obtaining dependency information for torch-geometric from https://files.pythonhosted.org/packages/65/4e/6f9a75548a93fedcd4514ae2de9bee1e91bade6b73252b4da32f0e42ac52/torch_geometric-2.4.0-py3-none-any.whl.metadata\n",
      "  Downloading torch_geometric-2.4.0-py3-none-any.whl.metadata (63 kB)\n",
      "\u001b[2K     \u001b[90m━━━━━━━━━━━━━━━━━━━━━━━━━━━━━━━━━━━━━━━━\u001b[0m \u001b[32m63.9/63.9 kB\u001b[0m \u001b[31m1.1 MB/s\u001b[0m eta \u001b[36m0:00:00\u001b[0ma \u001b[36m0:00:01\u001b[0m\n",
      "\u001b[?25hCollecting tqdm (from torch-geometric)\n",
      "  Obtaining dependency information for tqdm from https://files.pythonhosted.org/packages/00/e5/f12a80907d0884e6dff9c16d0c0114d81b8cd07dc3ae54c5e962cc83037e/tqdm-4.66.1-py3-none-any.whl.metadata\n",
      "  Downloading tqdm-4.66.1-py3-none-any.whl.metadata (57 kB)\n",
      "\u001b[2K     \u001b[90m━━━━━━━━━━━━━━━━━━━━━━━━━━━━━━━━━━━━━━━━\u001b[0m \u001b[32m57.6/57.6 kB\u001b[0m \u001b[31m2.3 MB/s\u001b[0m eta \u001b[36m0:00:00\u001b[0m\n",
      "\u001b[?25hRequirement already satisfied: numpy in /apps/software/standard/core/pyspark/3.4.1-py3.11/lib/python3.11/site-packages (from torch-geometric) (1.25.2)\n",
      "Requirement already satisfied: scipy in /apps/software/standard/core/pyspark/3.4.1-py3.11/lib/python3.11/site-packages (from torch-geometric) (1.11.2)\n",
      "Requirement already satisfied: jinja2 in /apps/software/standard/core/pyspark/3.4.1-py3.11/lib/python3.11/site-packages (from torch-geometric) (3.1.2)\n",
      "Requirement already satisfied: requests in /apps/software/standard/core/pyspark/3.4.1-py3.11/lib/python3.11/site-packages (from torch-geometric) (2.31.0)\n",
      "Requirement already satisfied: pyparsing in /apps/software/standard/core/pyspark/3.4.1-py3.11/lib/python3.11/site-packages (from torch-geometric) (3.0.9)\n",
      "Collecting scikit-learn (from torch-geometric)\n",
      "  Obtaining dependency information for scikit-learn from https://files.pythonhosted.org/packages/0c/2a/d3ff6091406bc2207e0adb832ebd15e40ac685811c7e2e3b432bfd969b71/scikit_learn-1.3.2-cp311-cp311-manylinux_2_17_x86_64.manylinux2014_x86_64.whl.metadata\n",
      "  Downloading scikit_learn-1.3.2-cp311-cp311-manylinux_2_17_x86_64.manylinux2014_x86_64.whl.metadata (11 kB)\n",
      "Requirement already satisfied: psutil>=5.8.0 in /apps/software/standard/core/pyspark/3.4.1-py3.11/lib/python3.11/site-packages (from torch-geometric) (5.9.5)\n",
      "Requirement already satisfied: MarkupSafe>=2.0 in /apps/software/standard/core/pyspark/3.4.1-py3.11/lib/python3.11/site-packages (from jinja2->torch-geometric) (2.1.3)\n",
      "Requirement already satisfied: charset-normalizer<4,>=2 in /apps/software/standard/core/pyspark/3.4.1-py3.11/lib/python3.11/site-packages (from requests->torch-geometric) (3.2.0)\n",
      "Requirement already satisfied: idna<4,>=2.5 in /apps/software/standard/core/pyspark/3.4.1-py3.11/lib/python3.11/site-packages (from requests->torch-geometric) (3.4)\n",
      "Requirement already satisfied: urllib3<3,>=1.21.1 in /apps/software/standard/core/pyspark/3.4.1-py3.11/lib/python3.11/site-packages (from requests->torch-geometric) (2.0.4)\n",
      "Requirement already satisfied: certifi>=2017.4.17 in /apps/software/standard/core/pyspark/3.4.1-py3.11/lib/python3.11/site-packages (from requests->torch-geometric) (2023.7.22)\n",
      "Collecting joblib>=1.1.1 (from scikit-learn->torch-geometric)\n",
      "  Obtaining dependency information for joblib>=1.1.1 from https://files.pythonhosted.org/packages/10/40/d551139c85db202f1f384ba8bcf96aca2f329440a844f924c8a0040b6d02/joblib-1.3.2-py3-none-any.whl.metadata\n",
      "  Downloading joblib-1.3.2-py3-none-any.whl.metadata (5.4 kB)\n",
      "Collecting threadpoolctl>=2.0.0 (from scikit-learn->torch-geometric)\n",
      "  Obtaining dependency information for threadpoolctl>=2.0.0 from https://files.pythonhosted.org/packages/81/12/fd4dea011af9d69e1cad05c75f3f7202cdcbeac9b712eea58ca779a72865/threadpoolctl-3.2.0-py3-none-any.whl.metadata\n",
      "  Downloading threadpoolctl-3.2.0-py3-none-any.whl.metadata (10.0 kB)\n",
      "Downloading torch_geometric-2.4.0-py3-none-any.whl (1.0 MB)\n",
      "\u001b[2K   \u001b[90m━━━━━━━━━━━━━━━━━━━━━━━━━━━━━━━━━━━━━━━━\u001b[0m \u001b[32m1.0/1.0 MB\u001b[0m \u001b[31m8.9 MB/s\u001b[0m eta \u001b[36m0:00:00\u001b[0m:00:01\u001b[0m0:01\u001b[0m\n",
      "\u001b[?25hDownloading scikit_learn-1.3.2-cp311-cp311-manylinux_2_17_x86_64.manylinux2014_x86_64.whl (10.9 MB)\n",
      "\u001b[2K   \u001b[90m━━━━━━━━━━━━━━━━━━━━━━━━━━━━━━━━━━━━━━━━\u001b[0m \u001b[32m10.9/10.9 MB\u001b[0m \u001b[31m65.7 MB/s\u001b[0m eta \u001b[36m0:00:00\u001b[0m:00:01\u001b[0m:01\u001b[0m\n",
      "\u001b[?25hDownloading tqdm-4.66.1-py3-none-any.whl (78 kB)\n",
      "\u001b[2K   \u001b[90m━━━━━━━━━━━━━━━━━━━━━━━━━━━━━━━━━━━━━━━━\u001b[0m \u001b[32m78.3/78.3 kB\u001b[0m \u001b[31m5.1 MB/s\u001b[0m eta \u001b[36m0:00:00\u001b[0m\n",
      "\u001b[?25hDownloading joblib-1.3.2-py3-none-any.whl (302 kB)\n",
      "\u001b[2K   \u001b[90m━━━━━━━━━━━━━━━━━━━━━━━━━━━━━━━━━━━━━━━━\u001b[0m \u001b[32m302.2/302.2 kB\u001b[0m \u001b[31m15.4 MB/s\u001b[0m eta \u001b[36m0:00:00\u001b[0m\n",
      "\u001b[?25hDownloading threadpoolctl-3.2.0-py3-none-any.whl (15 kB)\n",
      "Installing collected packages: tqdm, threadpoolctl, joblib, scikit-learn, torch-geometric\n",
      "\u001b[33m  WARNING: The script tqdm is installed in '/home/wxr9et/.local/bin' which is not on PATH.\n",
      "  Consider adding this directory to PATH or, if you prefer to suppress this warning, use --no-warn-script-location.\u001b[0m\u001b[33m\n",
      "\u001b[0mSuccessfully installed joblib-1.3.2 scikit-learn-1.3.2 threadpoolctl-3.2.0 torch-geometric-2.4.0 tqdm-4.66.1\n"
     ]
    }
   ],
   "source": [
    "!pip install torch torchvision\n",
    "!pip install torch-geometric"
   ]
  },
  {
   "cell_type": "code",
   "execution_count": 14,
   "metadata": {
    "tags": []
   },
   "outputs": [
    {
     "name": "stderr",
     "output_type": "stream",
     "text": [
      "23/11/17 21:34:09 WARN DAGScheduler: Broadcasting large task binary with size 2.7 MiB\n",
      "[Stage 9:>                                                          (0 + 1) / 1]\r"
     ]
    },
    {
     "name": "stdout",
     "output_type": "stream",
     "text": [
      "+----------+-------+--------------------+--------------+-----------------+--------------------+--------------------+--------------+--------+----+-----------------+--------------------+--------------------+---+-----+----+---------+---------+\n",
      "|      asin|overall|          reviewText|    reviewerID|     reviewerName|               style|             summary|unixReviewTime|verified|vote|reviewText_length|   reviewText_tokens|    reviewText_clean|Day|Month|Year|userIndex|itemIndex|\n",
      "+----------+-------+--------------------+--------------+-----------------+--------------------+--------------------+--------------+--------+----+-----------------+--------------------+--------------------+---+-----+----+---------+---------+\n",
      "|0894558358|    1.0|These books are v...|A3AZD6VA4RDVXE|Emily Truncellito|{null, null, null...|            One Star|    1478908800|    true|   2|              116|[these, books, ar...|[books, boring., ...| 11|   12|2016|  35818.0|   2403.0|\n",
      "|0894558358|    3.0|This is a good re...|A15W0ULZCKR6ZD|  Amazon Customer|{null, null, null...|This is a good re...|    1454716800|    true|   2|              243|[this, is, a, goo...|[good, reading, c...| 02|   6,|2016|   6038.0|   2403.0|\n",
      "|0894558358|    5.0|All the basics ar...|A3GZWVCJW2LV68|        Bethel999|{null, null, null...|            Love it!|    1460160000|    true|   2|              181|[all, the, basics...|[basics, one, pla...| 04|   9,|2016|  38089.0|   2403.0|\n",
      "|0894558358|    5.0|In a world that h...|A15G4VZ0J7841X|        K. Prigge|{null, null, null...|   Homeschooling Mom|    1303948800|    true|  18|              497|[in, a, world, th...|[world, many, ill...| 04|   28|2011|   5851.0|   2403.0|\n",
      "|0971007004|    5.0|A beautiful and h...|A3QJQ9FBUKL7E4|      Avid Reader|{null, null, null...|       Happy Shopper|    1349568000|    true|   2|              164|[a, beautiful, an...|[beautiful, highl...| 10|   7,|2012|  41685.0|   3847.0|\n",
      "|0971007004|    5.0|Large book and It...|A3NV2VOPG7PQNP|      David Saenz|{null, null, null...|Great Book just w...|    1371859200|    true|   2|              111|[large, book, and...|[large, book, fit...| 06|   22|2013|  40669.0|   3847.0|\n",
      "|1587790637|    1.0|Very poor packagi...|A39NP41GNG6DJT|      Nicole Ryan|{null, null, null...|Poster bent and w...|    1396915200|    true|   8|              286|[very, poor, pack...|[poor, packaging!...| 04|   8,|2014|  35316.0|   1699.0|\n",
      "|1587790637|    2.0|Came in poor cond...| AHX9VS31SMYWN|        Ronnie Yu|{null, null, null...|           Two Stars|    1427068800|    true|   4|              103|[came, in, poor, ...|[came, poor, cond...| 03|   23|2015|  49191.0|   1699.0|\n",
      "|1587790637|    2.0|Disappointed with...|A2DR04A9BINUE6|            Becky|{null, null, null...|             Creased|    1402272000|    true|   4|              157|[disappointed, wi...|[disappointed, pr...| 06|   9,|2014|  23043.0|   1699.0|\n",
      "|1587790637|    2.0|The product itsel...|A32AJ6YUG1FCQY|             Mary|{null, null, null...|The product itsel...|    1443571200|    true|   2|              179|[the, product, it...|[product, great.,...| 09|   30|2015|  32456.0|   1699.0|\n",
      "+----------+-------+--------------------+--------------+-----------------+--------------------+--------------------+--------------+--------+----+-----------------+--------------------+--------------------+---+-----+----+---------+---------+\n",
      "only showing top 10 rows\n",
      "\n"
     ]
    },
    {
     "name": "stderr",
     "output_type": "stream",
     "text": [
      "                                                                                \r"
     ]
    }
   ],
   "source": [
    "train.show(10)"
   ]
  },
  {
   "cell_type": "code",
   "execution_count": 19,
   "metadata": {
    "tags": []
   },
   "outputs": [],
   "source": [
    "# Standard library imports\n",
    "import random\n",
    "import time\n",
    "\n",
    "# Third-party imports\n",
    "import networkx as nx\n",
    "pd.set_option('display.max_colwidth', None)\n",
    "\n",
    "import torch\n",
    "import torch.nn as nn\n",
    "import torch.nn.functional as F\n",
    "import torch.optim as optim\n",
    "# from torch.utils.data import Dataset, DataLoader\n",
    "import torch_geometric\n",
    "from torch_geometric.nn.conv import MessagePassing\n",
    "from torch_geometric.utils import degree\n",
    "\n",
    "from tqdm.notebook import tqdm\n",
    "from sklearn import preprocessing as pp\n",
    "from sklearn.model_selection import train_test_split\n",
    "import scipy.sparse as sp"
   ]
  },
  {
   "cell_type": "code",
   "execution_count": 17,
   "metadata": {
    "tags": []
   },
   "outputs": [],
   "source": [
    "columns = [\"overall\",\"itemIndex\",\"userIndex\"]\n",
    "train = train.select(columns)\n",
    "test = test.select(columns)"
   ]
  },
  {
   "cell_type": "code",
   "execution_count": 20,
   "metadata": {
    "colab": {
     "base_uri": "https://localhost:8080/",
     "height": 689
    },
    "id": "uEIXzWg_wvOG",
    "outputId": "c8615bb2-5d47-4da5-a829-a4fccd18e2d4"
   },
   "outputs": [
    {
     "name": "stderr",
     "output_type": "stream",
     "text": [
      "23/11/17 21:54:29 WARN DAGScheduler: Broadcasting large task binary with size 2.6 MiB\n",
      "23/11/17 21:54:46 WARN DAGScheduler: Broadcasting large task binary with size 2.6 MiB\n",
      "                                                                                \r"
     ]
    }
   ],
   "source": [
    "train_df = train.toPandas()\n",
    "test_df = test.toPandas()"
   ]
  },
  {
   "cell_type": "code",
   "execution_count": 21,
   "metadata": {
    "id": "5euM0Dd21S6-"
   },
   "outputs": [
    {
     "data": {
      "text/plain": [
       "'2.4.0'"
      ]
     },
     "execution_count": 21,
     "metadata": {},
     "output_type": "execute_result"
    }
   ],
   "source": [
    "torch_geometric.__version__"
   ]
  },
  {
   "cell_type": "code",
   "execution_count": 22,
   "metadata": {
    "tags": []
   },
   "outputs": [
    {
     "data": {
      "text/plain": [
       "device(type='cpu')"
      ]
     },
     "execution_count": 22,
     "metadata": {},
     "output_type": "execute_result"
    }
   ],
   "source": [
    "device = torch.device(\"cuda:0\" if torch.cuda.is_available() else \"cpu\")\n",
    "device"
   ]
  },
  {
   "cell_type": "code",
   "execution_count": 26,
   "metadata": {
    "tags": []
   },
   "outputs": [
    {
     "data": {
      "text/html": [
       "<div>\n",
       "<style scoped>\n",
       "    .dataframe tbody tr th:only-of-type {\n",
       "        vertical-align: middle;\n",
       "    }\n",
       "\n",
       "    .dataframe tbody tr th {\n",
       "        vertical-align: top;\n",
       "    }\n",
       "\n",
       "    .dataframe thead th {\n",
       "        text-align: right;\n",
       "    }\n",
       "</style>\n",
       "<table border=\"1\" class=\"dataframe\">\n",
       "  <thead>\n",
       "    <tr style=\"text-align: right;\">\n",
       "      <th></th>\n",
       "      <th>overall</th>\n",
       "      <th>itemIndex</th>\n",
       "      <th>userIndex</th>\n",
       "    </tr>\n",
       "  </thead>\n",
       "  <tbody>\n",
       "    <tr>\n",
       "      <th>0</th>\n",
       "      <td>1.0</td>\n",
       "      <td>2403.0</td>\n",
       "      <td>35818.0</td>\n",
       "    </tr>\n",
       "    <tr>\n",
       "      <th>1</th>\n",
       "      <td>3.0</td>\n",
       "      <td>2403.0</td>\n",
       "      <td>6038.0</td>\n",
       "    </tr>\n",
       "    <tr>\n",
       "      <th>2</th>\n",
       "      <td>5.0</td>\n",
       "      <td>2403.0</td>\n",
       "      <td>38089.0</td>\n",
       "    </tr>\n",
       "    <tr>\n",
       "      <th>3</th>\n",
       "      <td>5.0</td>\n",
       "      <td>2403.0</td>\n",
       "      <td>5851.0</td>\n",
       "    </tr>\n",
       "    <tr>\n",
       "      <th>4</th>\n",
       "      <td>5.0</td>\n",
       "      <td>3847.0</td>\n",
       "      <td>41685.0</td>\n",
       "    </tr>\n",
       "    <tr>\n",
       "      <th>...</th>\n",
       "      <td>...</td>\n",
       "      <td>...</td>\n",
       "      <td>...</td>\n",
       "    </tr>\n",
       "    <tr>\n",
       "      <th>48490</th>\n",
       "      <td>5.0</td>\n",
       "      <td>3846.0</td>\n",
       "      <td>15955.0</td>\n",
       "    </tr>\n",
       "    <tr>\n",
       "      <th>48491</th>\n",
       "      <td>5.0</td>\n",
       "      <td>3846.0</td>\n",
       "      <td>2076.0</td>\n",
       "    </tr>\n",
       "    <tr>\n",
       "      <th>48492</th>\n",
       "      <td>2.0</td>\n",
       "      <td>4921.0</td>\n",
       "      <td>3000.0</td>\n",
       "    </tr>\n",
       "    <tr>\n",
       "      <th>48493</th>\n",
       "      <td>4.0</td>\n",
       "      <td>4921.0</td>\n",
       "      <td>2717.0</td>\n",
       "    </tr>\n",
       "    <tr>\n",
       "      <th>48494</th>\n",
       "      <td>3.0</td>\n",
       "      <td>7424.0</td>\n",
       "      <td>48668.0</td>\n",
       "    </tr>\n",
       "  </tbody>\n",
       "</table>\n",
       "<p>48495 rows × 3 columns</p>\n",
       "</div>"
      ],
      "text/plain": [
       "       overall  itemIndex  userIndex\n",
       "0          1.0     2403.0    35818.0\n",
       "1          3.0     2403.0     6038.0\n",
       "2          5.0     2403.0    38089.0\n",
       "3          5.0     2403.0     5851.0\n",
       "4          5.0     3847.0    41685.0\n",
       "...        ...        ...        ...\n",
       "48490      5.0     3846.0    15955.0\n",
       "48491      5.0     3846.0     2076.0\n",
       "48492      2.0     4921.0     3000.0\n",
       "48493      4.0     4921.0     2717.0\n",
       "48494      3.0     7424.0    48668.0\n",
       "\n",
       "[48495 rows x 3 columns]"
      ]
     },
     "execution_count": 26,
     "metadata": {},
     "output_type": "execute_result"
    },
    {
     "name": "stderr",
     "output_type": "stream",
     "text": [
      "Exception in thread \"serve-DataFrame\" java.net.SocketTimeoutException: Accept timed out\n",
      "\tat java.net.PlainSocketImpl.socketAccept(Native Method)\n",
      "\tat java.net.AbstractPlainSocketImpl.accept(AbstractPlainSocketImpl.java:409)\n",
      "\tat java.net.ServerSocket.implAccept(ServerSocket.java:560)\n",
      "\tat java.net.ServerSocket.accept(ServerSocket.java:528)\n",
      "\tat org.apache.spark.security.SocketAuthServer$$anon$1.run(SocketAuthServer.scala:65)\n"
     ]
    }
   ],
   "source": [
    "train_df"
   ]
  },
  {
   "cell_type": "code",
   "execution_count": 32,
   "metadata": {
    "tags": []
   },
   "outputs": [],
   "source": [
    "import pandas as pd\n",
    "import torch\n",
    "from torch_geometric.data import Data\n",
    "from sklearn.preprocessing import LabelEncoder\n",
    "\n",
    "def create_graph_data(df):\n",
    "    edge_index = torch.tensor([df['userIndex'], df['itemIndex']], dtype=torch.long)\n",
    "    edge_attr = torch.tensor(df['overall'], dtype=torch.float).unsqueeze(1)\n",
    "    return Data(edge_index=edge_index, edge_attr=edge_attr)\n",
    "\n",
    "train_data = create_graph_data(train_df)\n",
    "test_data = create_graph_data(test_df)"
   ]
  },
  {
   "cell_type": "code",
   "execution_count": 35,
   "metadata": {
    "tags": []
   },
   "outputs": [],
   "source": [
    "import torch.nn.functional as F\n",
    "from torch_geometric.nn import GCNConv\n",
    "\n",
    "class GNNRecommender(torch.nn.Module):\n",
    "    def __init__(self, num_users, num_items, embedding_dim=64):\n",
    "        super(GNNRecommender, self).__init__()\n",
    "        self.user_embedding = torch.nn.Embedding(num_users, embedding_dim)\n",
    "        self.item_embedding = torch.nn.Embedding(num_items, embedding_dim)\n",
    "        self.conv1 = GCNConv(embedding_dim, embedding_dim)\n",
    "        self.conv2 = GCNConv(embedding_dim, embedding_dim)\n",
    "\n",
    "    def forward(self, x, edge_index):\n",
    "        x = self.conv1(x, edge_index)\n",
    "        x = F.relu(x)\n",
    "        x = self.conv2(x, edge_index)\n",
    "        return x\n",
    "    \n",
    "num_users = train_df['userIndex'].nunique()\n",
    "num_items = train_df['itemIndex'].nunique()\n",
    "model = GNNRecommender(num_users, num_items)"
   ]
  },
  {
   "cell_type": "code",
   "execution_count": 36,
   "metadata": {
    "tags": []
   },
   "outputs": [
    {
     "ename": "AttributeError",
     "evalue": "'NoneType' object has no attribute 'size'",
     "output_type": "error",
     "traceback": [
      "\u001b[0;31m---------------------------------------------------------------------------\u001b[0m",
      "\u001b[0;31mAttributeError\u001b[0m                            Traceback (most recent call last)",
      "Cell \u001b[0;32mIn[36], line 7\u001b[0m\n\u001b[1;32m      5\u001b[0m model\u001b[38;5;241m.\u001b[39mtrain()\n\u001b[1;32m      6\u001b[0m optimizer\u001b[38;5;241m.\u001b[39mzero_grad()\n\u001b[0;32m----> 7\u001b[0m out \u001b[38;5;241m=\u001b[39m \u001b[43mmodel\u001b[49m\u001b[43m(\u001b[49m\u001b[43mtrain_data\u001b[49m\u001b[38;5;241;43m.\u001b[39;49m\u001b[43mx\u001b[49m\u001b[43m,\u001b[49m\u001b[43m \u001b[49m\u001b[43mtrain_data\u001b[49m\u001b[38;5;241;43m.\u001b[39;49m\u001b[43medge_index\u001b[49m\u001b[43m)\u001b[49m\n\u001b[1;32m      8\u001b[0m loss \u001b[38;5;241m=\u001b[39m criterion(out[train_data\u001b[38;5;241m.\u001b[39medge_index[\u001b[38;5;241m0\u001b[39m]], train_data\u001b[38;5;241m.\u001b[39medge_attr)\n\u001b[1;32m      9\u001b[0m loss\u001b[38;5;241m.\u001b[39mbackward()\n",
      "File \u001b[0;32m~/.local/lib/python3.11/site-packages/torch/nn/modules/module.py:1518\u001b[0m, in \u001b[0;36mModule._wrapped_call_impl\u001b[0;34m(self, *args, **kwargs)\u001b[0m\n\u001b[1;32m   1516\u001b[0m     \u001b[38;5;28;01mreturn\u001b[39;00m \u001b[38;5;28mself\u001b[39m\u001b[38;5;241m.\u001b[39m_compiled_call_impl(\u001b[38;5;241m*\u001b[39margs, \u001b[38;5;241m*\u001b[39m\u001b[38;5;241m*\u001b[39mkwargs)  \u001b[38;5;66;03m# type: ignore[misc]\u001b[39;00m\n\u001b[1;32m   1517\u001b[0m \u001b[38;5;28;01melse\u001b[39;00m:\n\u001b[0;32m-> 1518\u001b[0m     \u001b[38;5;28;01mreturn\u001b[39;00m \u001b[38;5;28;43mself\u001b[39;49m\u001b[38;5;241;43m.\u001b[39;49m\u001b[43m_call_impl\u001b[49m\u001b[43m(\u001b[49m\u001b[38;5;241;43m*\u001b[39;49m\u001b[43margs\u001b[49m\u001b[43m,\u001b[49m\u001b[43m \u001b[49m\u001b[38;5;241;43m*\u001b[39;49m\u001b[38;5;241;43m*\u001b[39;49m\u001b[43mkwargs\u001b[49m\u001b[43m)\u001b[49m\n",
      "File \u001b[0;32m~/.local/lib/python3.11/site-packages/torch/nn/modules/module.py:1527\u001b[0m, in \u001b[0;36mModule._call_impl\u001b[0;34m(self, *args, **kwargs)\u001b[0m\n\u001b[1;32m   1522\u001b[0m \u001b[38;5;66;03m# If we don't have any hooks, we want to skip the rest of the logic in\u001b[39;00m\n\u001b[1;32m   1523\u001b[0m \u001b[38;5;66;03m# this function, and just call forward.\u001b[39;00m\n\u001b[1;32m   1524\u001b[0m \u001b[38;5;28;01mif\u001b[39;00m \u001b[38;5;129;01mnot\u001b[39;00m (\u001b[38;5;28mself\u001b[39m\u001b[38;5;241m.\u001b[39m_backward_hooks \u001b[38;5;129;01mor\u001b[39;00m \u001b[38;5;28mself\u001b[39m\u001b[38;5;241m.\u001b[39m_backward_pre_hooks \u001b[38;5;129;01mor\u001b[39;00m \u001b[38;5;28mself\u001b[39m\u001b[38;5;241m.\u001b[39m_forward_hooks \u001b[38;5;129;01mor\u001b[39;00m \u001b[38;5;28mself\u001b[39m\u001b[38;5;241m.\u001b[39m_forward_pre_hooks\n\u001b[1;32m   1525\u001b[0m         \u001b[38;5;129;01mor\u001b[39;00m _global_backward_pre_hooks \u001b[38;5;129;01mor\u001b[39;00m _global_backward_hooks\n\u001b[1;32m   1526\u001b[0m         \u001b[38;5;129;01mor\u001b[39;00m _global_forward_hooks \u001b[38;5;129;01mor\u001b[39;00m _global_forward_pre_hooks):\n\u001b[0;32m-> 1527\u001b[0m     \u001b[38;5;28;01mreturn\u001b[39;00m \u001b[43mforward_call\u001b[49m\u001b[43m(\u001b[49m\u001b[38;5;241;43m*\u001b[39;49m\u001b[43margs\u001b[49m\u001b[43m,\u001b[49m\u001b[43m \u001b[49m\u001b[38;5;241;43m*\u001b[39;49m\u001b[38;5;241;43m*\u001b[39;49m\u001b[43mkwargs\u001b[49m\u001b[43m)\u001b[49m\n\u001b[1;32m   1529\u001b[0m \u001b[38;5;28;01mtry\u001b[39;00m:\n\u001b[1;32m   1530\u001b[0m     result \u001b[38;5;241m=\u001b[39m \u001b[38;5;28;01mNone\u001b[39;00m\n",
      "Cell \u001b[0;32mIn[35], line 13\u001b[0m, in \u001b[0;36mGNNRecommender.forward\u001b[0;34m(self, x, edge_index)\u001b[0m\n\u001b[1;32m     12\u001b[0m \u001b[38;5;28;01mdef\u001b[39;00m \u001b[38;5;21mforward\u001b[39m(\u001b[38;5;28mself\u001b[39m, x, edge_index):\n\u001b[0;32m---> 13\u001b[0m     x \u001b[38;5;241m=\u001b[39m \u001b[38;5;28;43mself\u001b[39;49m\u001b[38;5;241;43m.\u001b[39;49m\u001b[43mconv1\u001b[49m\u001b[43m(\u001b[49m\u001b[43mx\u001b[49m\u001b[43m,\u001b[49m\u001b[43m \u001b[49m\u001b[43medge_index\u001b[49m\u001b[43m)\u001b[49m\n\u001b[1;32m     14\u001b[0m     x \u001b[38;5;241m=\u001b[39m F\u001b[38;5;241m.\u001b[39mrelu(x)\n\u001b[1;32m     15\u001b[0m     x \u001b[38;5;241m=\u001b[39m \u001b[38;5;28mself\u001b[39m\u001b[38;5;241m.\u001b[39mconv2(x, edge_index)\n",
      "File \u001b[0;32m~/.local/lib/python3.11/site-packages/torch/nn/modules/module.py:1518\u001b[0m, in \u001b[0;36mModule._wrapped_call_impl\u001b[0;34m(self, *args, **kwargs)\u001b[0m\n\u001b[1;32m   1516\u001b[0m     \u001b[38;5;28;01mreturn\u001b[39;00m \u001b[38;5;28mself\u001b[39m\u001b[38;5;241m.\u001b[39m_compiled_call_impl(\u001b[38;5;241m*\u001b[39margs, \u001b[38;5;241m*\u001b[39m\u001b[38;5;241m*\u001b[39mkwargs)  \u001b[38;5;66;03m# type: ignore[misc]\u001b[39;00m\n\u001b[1;32m   1517\u001b[0m \u001b[38;5;28;01melse\u001b[39;00m:\n\u001b[0;32m-> 1518\u001b[0m     \u001b[38;5;28;01mreturn\u001b[39;00m \u001b[38;5;28;43mself\u001b[39;49m\u001b[38;5;241;43m.\u001b[39;49m\u001b[43m_call_impl\u001b[49m\u001b[43m(\u001b[49m\u001b[38;5;241;43m*\u001b[39;49m\u001b[43margs\u001b[49m\u001b[43m,\u001b[49m\u001b[43m \u001b[49m\u001b[38;5;241;43m*\u001b[39;49m\u001b[38;5;241;43m*\u001b[39;49m\u001b[43mkwargs\u001b[49m\u001b[43m)\u001b[49m\n",
      "File \u001b[0;32m~/.local/lib/python3.11/site-packages/torch/nn/modules/module.py:1527\u001b[0m, in \u001b[0;36mModule._call_impl\u001b[0;34m(self, *args, **kwargs)\u001b[0m\n\u001b[1;32m   1522\u001b[0m \u001b[38;5;66;03m# If we don't have any hooks, we want to skip the rest of the logic in\u001b[39;00m\n\u001b[1;32m   1523\u001b[0m \u001b[38;5;66;03m# this function, and just call forward.\u001b[39;00m\n\u001b[1;32m   1524\u001b[0m \u001b[38;5;28;01mif\u001b[39;00m \u001b[38;5;129;01mnot\u001b[39;00m (\u001b[38;5;28mself\u001b[39m\u001b[38;5;241m.\u001b[39m_backward_hooks \u001b[38;5;129;01mor\u001b[39;00m \u001b[38;5;28mself\u001b[39m\u001b[38;5;241m.\u001b[39m_backward_pre_hooks \u001b[38;5;129;01mor\u001b[39;00m \u001b[38;5;28mself\u001b[39m\u001b[38;5;241m.\u001b[39m_forward_hooks \u001b[38;5;129;01mor\u001b[39;00m \u001b[38;5;28mself\u001b[39m\u001b[38;5;241m.\u001b[39m_forward_pre_hooks\n\u001b[1;32m   1525\u001b[0m         \u001b[38;5;129;01mor\u001b[39;00m _global_backward_pre_hooks \u001b[38;5;129;01mor\u001b[39;00m _global_backward_hooks\n\u001b[1;32m   1526\u001b[0m         \u001b[38;5;129;01mor\u001b[39;00m _global_forward_hooks \u001b[38;5;129;01mor\u001b[39;00m _global_forward_pre_hooks):\n\u001b[0;32m-> 1527\u001b[0m     \u001b[38;5;28;01mreturn\u001b[39;00m \u001b[43mforward_call\u001b[49m\u001b[43m(\u001b[49m\u001b[38;5;241;43m*\u001b[39;49m\u001b[43margs\u001b[49m\u001b[43m,\u001b[49m\u001b[43m \u001b[49m\u001b[38;5;241;43m*\u001b[39;49m\u001b[38;5;241;43m*\u001b[39;49m\u001b[43mkwargs\u001b[49m\u001b[43m)\u001b[49m\n\u001b[1;32m   1529\u001b[0m \u001b[38;5;28;01mtry\u001b[39;00m:\n\u001b[1;32m   1530\u001b[0m     result \u001b[38;5;241m=\u001b[39m \u001b[38;5;28;01mNone\u001b[39;00m\n",
      "File \u001b[0;32m~/.local/lib/python3.11/site-packages/torch_geometric/nn/conv/gcn_conv.py:223\u001b[0m, in \u001b[0;36mGCNConv.forward\u001b[0;34m(self, x, edge_index, edge_weight)\u001b[0m\n\u001b[1;32m    220\u001b[0m cache \u001b[38;5;241m=\u001b[39m \u001b[38;5;28mself\u001b[39m\u001b[38;5;241m.\u001b[39m_cached_edge_index\n\u001b[1;32m    221\u001b[0m \u001b[38;5;28;01mif\u001b[39;00m cache \u001b[38;5;129;01mis\u001b[39;00m \u001b[38;5;28;01mNone\u001b[39;00m:\n\u001b[1;32m    222\u001b[0m     edge_index, edge_weight \u001b[38;5;241m=\u001b[39m gcn_norm(  \u001b[38;5;66;03m# yapf: disable\u001b[39;00m\n\u001b[0;32m--> 223\u001b[0m         edge_index, edge_weight, \u001b[43mx\u001b[49m\u001b[38;5;241;43m.\u001b[39;49m\u001b[43msize\u001b[49m(\u001b[38;5;28mself\u001b[39m\u001b[38;5;241m.\u001b[39mnode_dim),\n\u001b[1;32m    224\u001b[0m         \u001b[38;5;28mself\u001b[39m\u001b[38;5;241m.\u001b[39mimproved, \u001b[38;5;28mself\u001b[39m\u001b[38;5;241m.\u001b[39madd_self_loops, \u001b[38;5;28mself\u001b[39m\u001b[38;5;241m.\u001b[39mflow, x\u001b[38;5;241m.\u001b[39mdtype)\n\u001b[1;32m    225\u001b[0m     \u001b[38;5;28;01mif\u001b[39;00m \u001b[38;5;28mself\u001b[39m\u001b[38;5;241m.\u001b[39mcached:\n\u001b[1;32m    226\u001b[0m         \u001b[38;5;28mself\u001b[39m\u001b[38;5;241m.\u001b[39m_cached_edge_index \u001b[38;5;241m=\u001b[39m (edge_index, edge_weight)\n",
      "\u001b[0;31mAttributeError\u001b[0m: 'NoneType' object has no attribute 'size'"
     ]
    }
   ],
   "source": [
    "optimizer = torch.optim.Adam(model.parameters(), lr=0.01)\n",
    "criterion = torch.nn.MSELoss()\n",
    "\n",
    "for epoch in range(100):  # Number of epochs\n",
    "    model.train()\n",
    "    optimizer.zero_grad()\n",
    "    out = model(train_data.x, train_data.edge_index)\n",
    "    loss = criterion(out[train_data.edge_index[0]], train_data.edge_attr)\n",
    "    loss.backward()\n",
    "    optimizer.step()\n",
    "    print(f'Epoch {epoch}, Loss: {loss.item()}')"
   ]
  },
  {
   "cell_type": "markdown",
   "metadata": {
    "id": "KDhfmn8VUYCf",
    "tags": []
   },
   "source": [
    "# Content-based Filtering"
   ]
  },
  {
   "cell_type": "code",
   "execution_count": 18,
   "metadata": {
    "id": "J-O-tSCQMNFA"
   },
   "outputs": [
    {
     "name": "stderr",
     "output_type": "stream",
     "text": [
      "                                                                                \r"
     ]
    }
   ],
   "source": [
    "df_meta = spark.read.json(\"meta_Industrial_and_Scientific.json.gz\")"
   ]
  },
  {
   "cell_type": "code",
   "execution_count": 18,
   "metadata": {
    "colab": {
     "base_uri": "https://localhost:8080/"
    },
    "id": "U5XhsAxVMUFj",
    "outputId": "6d40483d-4524-433f-bbc3-54a3e211825a"
   },
   "outputs": [
    {
     "name": "stderr",
     "output_type": "stream",
     "text": [
      "[Stage 28:>                                                         (0 + 1) / 1]\r"
     ]
    },
    {
     "name": "stdout",
     "output_type": "stream",
     "text": [
      "+--------------------+-----+\n",
      "|               price|count|\n",
      "+--------------------+-----+\n",
      "|                    |42683|\n",
      "|.a-box-inner{back...| 1064|\n",
      "|               $9.99|  953|\n",
      "|               $7.99|  793|\n",
      "|               $8.99|  666|\n",
      "|               $6.99|  650|\n",
      "|              $14.99|  647|\n",
      "|              $19.99|  639|\n",
      "|              $12.99|  621|\n",
      "|              $15.99|  518|\n",
      "|              $11.99|  516|\n",
      "|               $5.99|  515|\n",
      "|               $1.41|  498|\n",
      "|              $13.99|  482|\n",
      "|               $9.95|  478|\n",
      "|               $4.99|  467|\n",
      "|              $10.99|  467|\n",
      "|              $29.99|  449|\n",
      "|              $16.99|  399|\n",
      "|              $12.95|  365|\n",
      "+--------------------+-----+\n",
      "only showing top 20 rows\n",
      "\n"
     ]
    },
    {
     "name": "stderr",
     "output_type": "stream",
     "text": [
      "                                                                                \r"
     ]
    }
   ],
   "source": [
    "df_meta.groupBy('price').count().orderBy(col('count').desc()).show()"
   ]
  },
  {
   "cell_type": "code",
   "execution_count": 19,
   "metadata": {
    "colab": {
     "base_uri": "https://localhost:8080/"
    },
    "id": "IniBwBFKMcib",
    "outputId": "99fef974-a062-4be4-e5c7-2f7d7e9c1ea3"
   },
   "outputs": [
    {
     "name": "stderr",
     "output_type": "stream",
     "text": [
      "[Stage 31:>                                                         (0 + 1) / 1]\r"
     ]
    },
    {
     "name": "stdout",
     "output_type": "stream",
     "text": [
      "+--------------------+-----+\n",
      "|               brand|count|\n",
      "+--------------------+-----+\n",
      "|              uxcell| 7147|\n",
      "|         Small Parts| 4252|\n",
      "|   The Hillman Group| 1868|\n",
      "|                    | 1302|\n",
      "|           SmartSign| 1164|\n",
      "|                  3M| 1021|\n",
      "|                 VXB| 1003|\n",
      "|               Brady|  866|\n",
      "|     ComplianceSigns|  793|\n",
      "|Hard-to-Find Fast...|  700|\n",
      "|                SEOH|  680|\n",
      "|   RAW PRODUCTS CORP|  660|\n",
      "|           Fastenere|  608|\n",
      "|             Generic|  582|\n",
      "|              Vestil|  573|\n",
      "|      D&D PowerDrive|  568|\n",
      "|             Medline|  560|\n",
      "|  Simpson Strong-Tie|  492|\n",
      "|               EISCO|  487|\n",
      "|             Hillman|  458|\n",
      "+--------------------+-----+\n",
      "only showing top 20 rows\n",
      "\n"
     ]
    },
    {
     "name": "stderr",
     "output_type": "stream",
     "text": [
      "                                                                                \r"
     ]
    }
   ],
   "source": [
    "df_meta.groupBy('brand').count().orderBy(col('count').desc()).show()"
   ]
  },
  {
   "cell_type": "code",
   "execution_count": 47,
   "metadata": {
    "tags": []
   },
   "outputs": [],
   "source": [
    "from pyspark.sql.functions import regexp_replace\n",
    "from pyspark.sql.functions import expr\n",
    "from pyspark.sql import functions as F\n",
    "from pyspark.sql.functions import mean\n",
    "from pyspark.ml.feature import VectorAssembler, MinMaxScaler\n",
    "from pyspark.ml import Pipeline\n",
    "from pyspark.ml.feature import StringIndexer, OneHotEncoder\n",
    "from pyspark.ml.linalg import Vectors\n",
    "from pyspark.ml.feature import Normalizer\n",
    "from pyspark.sql.functions import udf\n",
    "from pyspark.sql.types import FloatType\n",
    "import numpy as np"
   ]
  },
  {
   "cell_type": "code",
   "execution_count": 48,
   "metadata": {
    "id": "wh42k91Sg0rj"
   },
   "outputs": [
    {
     "name": "stderr",
     "output_type": "stream",
     "text": [
      "                                                                                \r"
     ]
    }
   ],
   "source": [
    "# Step 1: The item profiles are already in 'df_transformed' as 'features'\n",
    "\n",
    "from pyspark.sql.functions import avg, count, collect_list\n",
    "from pyspark.sql.window import Window\n",
    "\n",
    "# Replace null or empty strings with a placeholder\n",
    "df_meta = df_meta.na.fill({\"brand\": \"Unknown\"})\n",
    "df_meta = df_meta.withColumn(\"brand\", F.when(F.col(\"brand\") == \"\", \"Unknown\").otherwise(F.col(\"brand\")))\n",
    "\n",
    "# Step 1: Remove the dollar sign and try to convert the price to float\n",
    "df_meta = df_meta.withColumn(\"price\", regexp_replace(col(\"price\"), \"[\\$,]\", \"\").cast(\"float\"))\n",
    "\n",
    "# Step 2: Replace non-numeric (or negative) values with None, which Spark recognizes as null\n",
    "df_meta = df_meta.withColumn(\"price\", when(col(\"price\") < 0, None).otherwise(col(\"price\")))\n",
    "\n",
    "# Step 3: Calculate the average of the numeric prices\n",
    "average_price = df_meta.select(avg(col(\"price\")).alias(\"avg_price\")).collect()[0][\"avg_price\"]\n",
    "\n",
    "# Step 4: Fill null values with the average price\n",
    "df_meta = df_meta.na.fill({\"price\": average_price})\n",
    "\n",
    "\n",
    "# Ensure the 'brand' column exists and does not have empty strings or null values\n",
    "if 'brand' not in df_meta.columns:\n",
    "    raise ValueError(\"'brand' column is missing from the DataFrame.\")\n",
    "if df_meta.filter((col('brand') == \"\") | (col('brand').isNull())).count() > 0:\n",
    "    raise ValueError(\"'brand' column contains null or empty strings.\")\n",
    "\n",
    "# Ensure the 'price' column exists and has the correct data type\n",
    "if 'price' not in df_meta.columns:\n",
    "    raise ValueError(\"'price' column is missing from the DataFrame.\")\n",
    "if df_meta.filter(col('price').isNull()).count() > 0:\n",
    "    df_meta = df_meta.fillna({'price': 0})  # Replace nulls with 0 in 'price' column"
   ]
  },
  {
   "cell_type": "code",
   "execution_count": 21,
   "metadata": {
    "colab": {
     "base_uri": "https://localhost:8080/"
    },
    "id": "f4gAPnNgOnLf",
    "outputId": "df7606a3-8e72-4768-bb5c-e3dcf191d384"
   },
   "outputs": [
    {
     "name": "stderr",
     "output_type": "stream",
     "text": [
      "                                                                                \r"
     ]
    },
    {
     "data": {
      "text/plain": [
       "24124"
      ]
     },
     "execution_count": 21,
     "metadata": {},
     "output_type": "execute_result"
    }
   ],
   "source": [
    "df_meta.select('brand').distinct().count()"
   ]
  },
  {
   "cell_type": "code",
   "execution_count": 22,
   "metadata": {
    "colab": {
     "base_uri": "https://localhost:8080/"
    },
    "id": "9mKZCbZxOudr",
    "outputId": "f5859a34-6592-4a6e-8920-f093635c0f79"
   },
   "outputs": [
    {
     "name": "stderr",
     "output_type": "stream",
     "text": [
      "[Stage 48:>                                                         (0 + 1) / 1]\r"
     ]
    },
    {
     "name": "stdout",
     "output_type": "stream",
     "text": [
      "+--------------------+-----+\n",
      "|               brand|count|\n",
      "+--------------------+-----+\n",
      "|              uxcell| 7147|\n",
      "|         Small Parts| 4252|\n",
      "|   The Hillman Group| 1868|\n",
      "|             Unknown| 1742|\n",
      "|           SmartSign| 1164|\n",
      "|                  3M| 1021|\n",
      "|                 VXB| 1003|\n",
      "|               Brady|  866|\n",
      "|     ComplianceSigns|  793|\n",
      "|Hard-to-Find Fast...|  700|\n",
      "|                SEOH|  680|\n",
      "|   RAW PRODUCTS CORP|  660|\n",
      "|           Fastenere|  608|\n",
      "|             Generic|  582|\n",
      "|              Vestil|  573|\n",
      "|      D&D PowerDrive|  568|\n",
      "|             Medline|  560|\n",
      "|  Simpson Strong-Tie|  492|\n",
      "|               EISCO|  487|\n",
      "|             Hillman|  458|\n",
      "+--------------------+-----+\n",
      "only showing top 20 rows\n",
      "\n"
     ]
    },
    {
     "name": "stderr",
     "output_type": "stream",
     "text": [
      "                                                                                \r"
     ]
    }
   ],
   "source": [
    "df_meta.groupBy('brand').count().orderBy(col('count').desc()).show()"
   ]
  },
  {
   "cell_type": "code",
   "execution_count": 23,
   "metadata": {
    "tags": []
   },
   "outputs": [],
   "source": [
    "# Assuming 'train' and 'test' are the DataFrames resulting from splitting 'df',\n",
    "# and 'df_meta' is the DataFrame containing the metadata\n",
    "\n",
    "# Select the 'asin' from train and test DataFrames\n",
    "train_asin = train.select('asin').distinct()\n",
    "test_asin = test.select('asin').distinct()\n",
    "\n",
    "# Join the metadata with the asin DataFrames to filter the rows\n",
    "df_train = df_meta.join(train_asin, on='asin', how='inner')\n",
    "df_test = df_meta.join(test_asin, on='asin', how='inner')\n",
    "\n",
    "# Now df_train_meta and df_test_meta contain metadata for asins in the train and test sets respectively"
   ]
  },
  {
   "cell_type": "code",
   "execution_count": 24,
   "metadata": {
    "colab": {
     "base_uri": "https://localhost:8080/"
    },
    "id": "XBmk7HVGgAda",
    "outputId": "85647255-26b7-409d-ecf7-2cfd9a6d1df2"
   },
   "outputs": [
    {
     "name": "stderr",
     "output_type": "stream",
     "text": [
      "23/11/08 12:42:03 WARN DAGScheduler: Broadcasting large task binary with size 2.6 MiB\n",
      "23/11/08 12:42:17 WARN DAGScheduler: Broadcasting large task binary with size 2.6 MiB\n",
      "23/11/08 12:42:18 WARN DAGScheduler: Broadcasting large task binary with size 2.6 MiB\n",
      "23/11/08 12:42:18 WARN DAGScheduler: Broadcasting large task binary with size 2.6 MiB\n",
      "23/11/08 12:42:32 WARN DAGScheduler: Broadcasting large task binary with size 2.6 MiB\n",
      "                                                                                \r"
     ]
    },
    {
     "name": "stdout",
     "output_type": "stream",
     "text": [
      "+----------+--------------------+--------------------+--------------------+--------------------+------------------+--------------------+--------------------+--------------------+---+--------------------+--------------------+--------------------+--------+--------------------+--------------------+--------------------+-----+--------------------+--------------------+--------------------+\n",
      "|      asin|            also_buy|           also_view|               brand|            category|              date|         description|             details|             feature|fit|            imageURL|     imageURLHighRes|            main_cat|   price|                rank|        similar_item|               tech1|tech2|               title|        price_vector|        price_scaled|\n",
      "+----------+--------------------+--------------------+--------------------+--------------------+------------------+--------------------+--------------------+--------------------+---+--------------------+--------------------+--------------------+--------+--------------------+--------------------+--------------------+-----+--------------------+--------------------+--------------------+\n",
      "|0894558358|[089455767X, 0894...|                  []|   Critical Thinking|                  []|                  |[The mind-buildin...|                null|                  []|   |[https://images-n...|[https://images-n...|Industrial & Scie...|   21.99|91,253 in Industr...|                    |                    |     |Science Detective...|[21.989999771118164]|[0.00744930330323...|\n",
      "|0971007004|        [1572224975]|[0760724083, B078...|    Thomas McCracken|[Industrial & Sci...|                  |                  []|                null|                  []|   |                  []|                  []|               Books|   13.32|1,104,587 in Books (|                    |                    |     |Wall Chart of Hum...|[13.319999694824219]|[0.00445923567133...|\n",
      "|1587790637|[158779683X, B004...|[B07BCNHC3K, B078...|Anatomical Chart ...|[Industrial & Sci...|                  |[<DIV><DIV>This c...|                null|                  []|   |                  []|                  []|Industrial & Scie...|59.06999|58,273 in Industr...|                    |                    |     |The Skeletal Syst...| [59.06998825073242]|[0.02023727012773...|\n",
      "|1587791900|                  []|[B07F3MX5JS, B001...|Anatomical Chart ...|[Industrial & Sci...|September 14, 2006|[<div><div>, Our ...|                null|[Brand New. In or...|   |                  []|                  []|     Office Products|   25.35|[\">#102,804 in Of...|                    | class=\"a-keyvalu...|     |The Prostate Anat...|[25.350000381469727]|[0.00860808403907...|\n",
      "|1634061055|[1634061497, B071...|                  []|         Versa Tiles|                  []|                  |[The VersaTiles s...|                null|                  []|   |[https://images-n...|[https://images-n...|Industrial & Scie...|   69.95|123,525 in Indust...|                    |                    |     |VersaTiles Math S...| [69.94999694824219]|[0.02398951482841...|\n",
      "|B0000223SI|[B0000223SK, B000...|                  []|        PORTER-CABLE|[Industrial & Sci...|     April 1, 2004|[Amazon.com This ...|{null, null, null...|[Clog- and loadin...|   |                  []|                  []|Tools & Home Impr...|   15.99|[\">#19,857 in Too...| class=\"a-bordere...| class=\"a-keyvalu...|     |PORTER-CABLE 7400...|[15.989999771118164]|[0.00538005236511...|\n",
      "|B0000223SK|[B0000223SN, B000...|                  []|        PORTER-CABLE|[Industrial & Sci...|                  |[Amazon.com This ...|{null, null, 5.6 ...|[Clog- and loadin...|   |                  []|                  []|Tools & Home Impr...|   17.99|13,586 in Tools &...|                    |                    |     |PORTER-CABLE 7400...|[17.989999771118164]|[0.00606980267782...|\n",
      "|B0000223UV|[B000CSS8UE, B07G...|                  []|             Gorilla|[Industrial & Sci...|      July 7, 2004|[The product that...|{null, null, null...|[Incredibly stron...|   |[https://images-n...|[https://images-n...|Industrial & Scie...|   10.24|[\">#340 in Indust...|                    | class=\"a-keyvalu...|     |Gorilla Original ...|[10.239999771118164]|[0.00339702021608...|\n",
      "|B0000224J0|[B0000224J1, B00N...|                  []|              DEWALT|[Industrial & Sci...|     June 15, 2006|[High performance...|{null, null, null...|[High performance...|   |                  []|                  []|Tools & Home Impr...|    6.98|[\">#51,285 in Too...|                    | class=\"a-keyvalu...|     |DEWALT DW8001 Gen...| [6.980000019073486]|[0.00227272729188...|\n",
      "|B00002N5M6|[B001T4FGS2, B001...|                  []|     Apex Tool Group|                  []|     April 1, 2004|[American pattern...|{null, null, null...|[American pattern...|   |                  []|                  []|Industrial & Scie...|    6.34|[\">#120,776 in In...|                    |                    |     |Nicholson Round H...| [6.340000152587891]|[0.00205200723786...|\n",
      "|B00002N6FE|[B001449TPS, B00O...|                  []|                  3M|[Industrial & Sci...|     June 15, 2006|[3M Garnet Sandpa...|{null, null, null...|[Assorted Grits, ...|   |                  []|                  []|Tools & Home Impr...|    5.41|[\">#3,019 in Tool...|                    | class=\"a-keyvalu...|     |3M Garnet Sandpap...| [5.409999847412109]|[0.00173127323720...|\n",
      "|B00002N6G0|[B000UVP09A, B000...|                  []|                 DAP|[Industrial & Sci...|      July 3, 2006|[DAP traces its r...|{null, null, null...|[Does a better, l...|   |                  []|                  []|Tools & Home Impr...|    6.91|[\">#101,324 in To...|                    | class=\"a-keyvalu...|     |Dap 12121 33 Glaz...| [6.909999847412109]|[0.00224858597173...|\n",
      "|B00002N8T5|[B00004Z4BE, B000...|                  []|                  3M|[Industrial & Sci...|  October 29, 2008|[3M Wood Refinish...|{null, null, null...|[Removes dust, di...|   |                  []|                  []|Tools & Home Impr...|    4.25|[\">#20,302 in Too...|                    | class=\"a-keyvalu...|     | 3M 10132 Tack Cloth|              [4.25]|[0.00133121810845...|\n",
      "|B00002NAOH|                  []|[B00DFQSD5K, B001...|      Gardner Bender|[Industrial & Sci...| December 20, 2001|[Safety is the nu...|{null, null, null...|[Tough ABS constr...|   |[https://images-n...|[https://images-n...|Tools & Home Impr...|    7.41|[\">#182,308 in To...|                    | class=\"a-keyvalu...|     |Gardner Bender RT...| [7.409999847412109]|[0.00242102354991...|\n",
      "|B00002NCEP|[B000LNYD0Y, B000...|                  []|           Rain Bird|[Industrial & Sci...|                  |[Rain Bird SWGE07...|{null, null, null...|[Elbow fitting fo...|   |[https://images-n...|[https://images-n...|         Amazon Home|    6.26|[\">#64,474 in Pat...|                    |                    |     |Rain Bird SWGE075...| [6.260000228881836]|[0.00202441725166...|\n",
      "|B00002ND49|[B00F1BYJZ0, B075...|                  []|            Shop Vac|[Industrial & Sci...|   January 1, 2007|[For dirt, furnit...|{null, null, null...|[1-1/4, round vac...|   |                  []|                  []|Tools & Home Impr...|    6.83|[\">#23,775 in Too...|                    |                    |     |Shop Vac, 37987, ...| [6.829999923706055]|[0.00222099598553...|\n",
      "|B00002ND6L|[B000BQS5GO, B004...|[B0000CBJI6, B001...|                 DAP|[Industrial & Sci...|   January 1, 2008|[America's #1 sel...|{null, null, null...|[Sturdy and secur...|   |[https://images-n...|[https://images-n...|Tools & Home Impr...|59.06999|[\">#83,620 in Too...|                    | class=\"a-keyvalu...|     |DAP INC 18152 10....| [59.06998825073242]|[0.02023727012773...|\n",
      "|B00002ND4I|[B010CCMXH8, B000...|                  []|            Shop-Vac|[Industrial & Sci...|   August 17, 2005|[Drywall collecti...|{null, null, null...|[N/A, Imported, E...|   |[https://images-n...|[https://images-n...|Tools & Home Impr...|   10.85|[\">#2,338 in Tool...|                    | class=\"a-keyvalu...|     |Shop-Vac 9067200 ...|[10.850000381469727]|[0.00360739427195...|\n",
      "|B00004R9M1|                  []|                  []|         Porta-Nails|[Industrial & Sci...| February 14, 2000|[Accessory for 40...|{null, null, null...|[Pack of 1,000 2-...|   |                  []|                  []|Tools & Home Impr...|59.06999|[\">#3,843,129 in ...|                    | class=\"a-keyvalu...|     |Porta-Nails 1,000...| [59.06998825073242]|[0.02023727012773...|\n",
      "|B00004R9U1|[B0032JTDPO, B000...|                  []|           B&C Eagle|[Industrial & Sci...| February 14, 2000|[B&C Eagle collat...|{null, null, null...|[Compatible with ...|   |                  []|                  []|Tools & Home Impr...|   12.99|[\">#5,260 in Tool...|                    | class=\"a-keyvalu...|     |B&amp;C Eagle A3X...|[12.989999771118164]|[0.00434542689605...|\n",
      "+----------+--------------------+--------------------+--------------------+--------------------+------------------+--------------------+--------------------+--------------------+---+--------------------+--------------------+--------------------+--------+--------------------+--------------------+--------------------+-----+--------------------+--------------------+--------------------+\n",
      "only showing top 20 rows\n",
      "\n"
     ]
    }
   ],
   "source": [
    "# Convert the 'price' column into a vector column\n",
    "assembler_for_price = VectorAssembler(inputCols=[\"price\"], outputCol=\"price_vector\")\n",
    "\n",
    "# Normalize the price column\n",
    "price_scaler = MinMaxScaler(inputCol=\"price_vector\", outputCol=\"price_scaled\")\n",
    "\n",
    "# Define the pipeline with all the stages\n",
    "pipeline = Pipeline(stages=[\n",
    "    # brand_indexer,\n",
    "    # brand_encoder,\n",
    "    assembler_for_price,\n",
    "    price_scaler\n",
    "    # assembler_for_features\n",
    "])\n",
    "\n",
    "# After cleaning, try fitting the pipeline again\n",
    "pipeline_model = pipeline.fit(df_train)\n",
    "\n",
    "# Now transform the data\n",
    "df_transformed = pipeline_model.transform(df_train)\n",
    "\n",
    "# Show the result\n",
    "df_transformed.show()"
   ]
  },
  {
   "cell_type": "code",
   "execution_count": 69,
   "metadata": {
    "tags": []
   },
   "outputs": [
    {
     "name": "stderr",
     "output_type": "stream",
     "text": [
      "23/11/08 13:44:49 WARN DAGScheduler: Broadcasting large task binary with size 2.6 MiB\n",
      "[Stage 494:>                                                        (0 + 1) / 1]\r"
     ]
    },
    {
     "name": "stdout",
     "output_type": "stream",
     "text": [
      "+--------+--------------------+\n",
      "|   price|        price_scaled|\n",
      "+--------+--------------------+\n",
      "|59.06999|[0.02023727012773...|\n",
      "|59.06999|[0.02023727012773...|\n",
      "|   18.09|[0.00610429032501...|\n",
      "|   18.09|[0.00610429032501...|\n",
      "|    3.98|[0.00123810182282...|\n",
      "|    3.98|[0.00123810182282...|\n",
      "|  132.49|[0.04555801005370...|\n",
      "|  132.49|[0.04555801005370...|\n",
      "|    3.99|[0.00124155057109...|\n",
      "|    3.99|[0.00124155057109...|\n",
      "+--------+--------------------+\n",
      "only showing top 10 rows\n",
      "\n"
     ]
    },
    {
     "name": "stderr",
     "output_type": "stream",
     "text": [
      "23/11/08 13:45:04 WARN DAGScheduler: Broadcasting large task binary with size 2.6 MiB\n",
      "                                                                                \r"
     ]
    }
   ],
   "source": [
    "df_transformed.select('price','price_scaled').show(10)"
   ]
  },
  {
   "cell_type": "code",
   "execution_count": 74,
   "metadata": {
    "tags": []
   },
   "outputs": [
    {
     "name": "stderr",
     "output_type": "stream",
     "text": [
      "23/11/08 13:49:55 WARN DAGScheduler: Broadcasting large task binary with size 2.6 MiB\n",
      "23/11/08 13:50:09 WARN DAGScheduler: Broadcasting large task binary with size 2.6 MiB\n",
      "23/11/08 13:50:10 WARN DAGScheduler: Broadcasting large task binary with size 2.7 MiB\n"
     ]
    },
    {
     "name": "stdout",
     "output_type": "stream",
     "text": [
      "+----------+--------------------+--------------------+--------------------+--------------------+------------------+--------------------+--------------------+--------------------+---+--------------------+--------------------+--------------------+--------+--------------------+--------------------+--------------------+-----+--------------------+--------------------+--------------------+------------------+\n",
      "|      asin|            also_buy|           also_view|               brand|            category|              date|         description|             details|             feature|fit|            imageURL|     imageURLHighRes|            main_cat|   price|                rank|        similar_item|               tech1|tech2|               title|        price_vector|        price_scaled|price_scaled_float|\n",
      "+----------+--------------------+--------------------+--------------------+--------------------+------------------+--------------------+--------------------+--------------------+---+--------------------+--------------------+--------------------+--------+--------------------+--------------------+--------------------+-----+--------------------+--------------------+--------------------+------------------+\n",
      "|0894558358|[089455767X, 0894...|                  []|   Critical Thinking|                  []|                  |[The mind-buildin...|                null|                  []|   |[https://images-n...|[https://images-n...|Industrial & Scie...|   21.99|91,253 in Industr...|                    |                    |     |Science Detective...|[21.989999771118164]|[0.00744930330323...|      0.0074493033|\n",
      "|0971007004|        [1572224975]|[0760724083, B078...|    Thomas McCracken|[Industrial & Sci...|                  |                  []|                null|                  []|   |                  []|                  []|               Books|   13.32|1,104,587 in Books (|                    |                    |     |Wall Chart of Hum...|[13.319999694824219]|[0.00445923567133...|       0.004459236|\n",
      "|1587790637|[158779683X, B004...|[B07BCNHC3K, B078...|Anatomical Chart ...|[Industrial & Sci...|                  |[<DIV><DIV>This c...|                null|                  []|   |                  []|                  []|Industrial & Scie...|59.06999|58,273 in Industr...|                    |                    |     |The Skeletal Syst...| [59.06998825073242]|[0.02023727012773...|        0.02023727|\n",
      "|1587791900|                  []|[B07F3MX5JS, B001...|Anatomical Chart ...|[Industrial & Sci...|September 14, 2006|[<div><div>, Our ...|                null|[Brand New. In or...|   |                  []|                  []|     Office Products|   25.35|[\">#102,804 in Of...|                    | class=\"a-keyvalu...|     |The Prostate Anat...|[25.350000381469727]|[0.00860808403907...|       0.008608084|\n",
      "|1634061055|[1634061497, B071...|                  []|         Versa Tiles|                  []|                  |[The VersaTiles s...|                null|                  []|   |[https://images-n...|[https://images-n...|Industrial & Scie...|   69.95|123,525 in Indust...|                    |                    |     |VersaTiles Math S...| [69.94999694824219]|[0.02398951482841...|       0.023989515|\n",
      "|B0000223SI|[B0000223SK, B000...|                  []|        PORTER-CABLE|[Industrial & Sci...|     April 1, 2004|[Amazon.com This ...|{null, null, null...|[Clog- and loadin...|   |                  []|                  []|Tools & Home Impr...|   15.99|[\">#19,857 in Too...| class=\"a-bordere...| class=\"a-keyvalu...|     |PORTER-CABLE 7400...|[15.989999771118164]|[0.00538005236511...|       0.005380052|\n",
      "|B0000223SK|[B0000223SN, B000...|                  []|        PORTER-CABLE|[Industrial & Sci...|                  |[Amazon.com This ...|{null, null, 5.6 ...|[Clog- and loadin...|   |                  []|                  []|Tools & Home Impr...|   17.99|13,586 in Tools &...|                    |                    |     |PORTER-CABLE 7400...|[17.989999771118164]|[0.00606980267782...|      0.0060698027|\n",
      "|B0000223UV|[B000CSS8UE, B07G...|                  []|             Gorilla|[Industrial & Sci...|      July 7, 2004|[The product that...|{null, null, null...|[Incredibly stron...|   |[https://images-n...|[https://images-n...|Industrial & Scie...|   10.24|[\">#340 in Indust...|                    | class=\"a-keyvalu...|     |Gorilla Original ...|[10.239999771118164]|[0.00339702021608...|      0.0033970203|\n",
      "|B0000224J0|[B0000224J1, B00N...|                  []|              DEWALT|[Industrial & Sci...|     June 15, 2006|[High performance...|{null, null, null...|[High performance...|   |                  []|                  []|Tools & Home Impr...|    6.98|[\">#51,285 in Too...|                    | class=\"a-keyvalu...|     |DEWALT DW8001 Gen...| [6.980000019073486]|[0.00227272729188...|      0.0022727272|\n",
      "|B00002N5M6|[B001T4FGS2, B001...|                  []|     Apex Tool Group|                  []|     April 1, 2004|[American pattern...|{null, null, null...|[American pattern...|   |                  []|                  []|Industrial & Scie...|    6.34|[\">#120,776 in In...|                    |                    |     |Nicholson Round H...| [6.340000152587891]|[0.00205200723786...|      0.0020520072|\n",
      "|B00002N6FE|[B001449TPS, B00O...|                  []|                  3M|[Industrial & Sci...|     June 15, 2006|[3M Garnet Sandpa...|{null, null, null...|[Assorted Grits, ...|   |                  []|                  []|Tools & Home Impr...|    5.41|[\">#3,019 in Tool...|                    | class=\"a-keyvalu...|     |3M Garnet Sandpap...| [5.409999847412109]|[0.00173127323720...|      0.0017312733|\n",
      "|B00002N6G0|[B000UVP09A, B000...|                  []|                 DAP|[Industrial & Sci...|      July 3, 2006|[DAP traces its r...|{null, null, null...|[Does a better, l...|   |                  []|                  []|Tools & Home Impr...|    6.91|[\">#101,324 in To...|                    | class=\"a-keyvalu...|     |Dap 12121 33 Glaz...| [6.909999847412109]|[0.00224858597173...|       0.002248586|\n",
      "|B00002N8T5|[B00004Z4BE, B000...|                  []|                  3M|[Industrial & Sci...|  October 29, 2008|[3M Wood Refinish...|{null, null, null...|[Removes dust, di...|   |                  []|                  []|Tools & Home Impr...|    4.25|[\">#20,302 in Too...|                    | class=\"a-keyvalu...|     | 3M 10132 Tack Cloth|              [4.25]|[0.00133121810845...|       0.001331218|\n",
      "|B00002NAOH|                  []|[B00DFQSD5K, B001...|      Gardner Bender|[Industrial & Sci...| December 20, 2001|[Safety is the nu...|{null, null, null...|[Tough ABS constr...|   |[https://images-n...|[https://images-n...|Tools & Home Impr...|    7.41|[\">#182,308 in To...|                    | class=\"a-keyvalu...|     |Gardner Bender RT...| [7.409999847412109]|[0.00242102354991...|      0.0024210236|\n",
      "|B00002NCEP|[B000LNYD0Y, B000...|                  []|           Rain Bird|[Industrial & Sci...|                  |[Rain Bird SWGE07...|{null, null, null...|[Elbow fitting fo...|   |[https://images-n...|[https://images-n...|         Amazon Home|    6.26|[\">#64,474 in Pat...|                    |                    |     |Rain Bird SWGE075...| [6.260000228881836]|[0.00202441725166...|      0.0020244173|\n",
      "|B00002ND49|[B00F1BYJZ0, B075...|                  []|            Shop Vac|[Industrial & Sci...|   January 1, 2007|[For dirt, furnit...|{null, null, null...|[1-1/4, round vac...|   |                  []|                  []|Tools & Home Impr...|    6.83|[\">#23,775 in Too...|                    |                    |     |Shop Vac, 37987, ...| [6.829999923706055]|[0.00222099598553...|       0.002220996|\n",
      "|B00002ND6L|[B000BQS5GO, B004...|[B0000CBJI6, B001...|                 DAP|[Industrial & Sci...|   January 1, 2008|[America's #1 sel...|{null, null, null...|[Sturdy and secur...|   |[https://images-n...|[https://images-n...|Tools & Home Impr...|59.06999|[\">#83,620 in Too...|                    | class=\"a-keyvalu...|     |DAP INC 18152 10....| [59.06998825073242]|[0.02023727012773...|        0.02023727|\n",
      "|B00002ND4I|[B010CCMXH8, B000...|                  []|            Shop-Vac|[Industrial & Sci...|   August 17, 2005|[Drywall collecti...|{null, null, null...|[N/A, Imported, E...|   |[https://images-n...|[https://images-n...|Tools & Home Impr...|   10.85|[\">#2,338 in Tool...|                    | class=\"a-keyvalu...|     |Shop-Vac 9067200 ...|[10.850000381469727]|[0.00360739427195...|      0.0036073942|\n",
      "|B00004R9M1|                  []|                  []|         Porta-Nails|[Industrial & Sci...| February 14, 2000|[Accessory for 40...|{null, null, null...|[Pack of 1,000 2-...|   |                  []|                  []|Tools & Home Impr...|59.06999|[\">#3,843,129 in ...|                    | class=\"a-keyvalu...|     |Porta-Nails 1,000...| [59.06998825073242]|[0.02023727012773...|        0.02023727|\n",
      "|B00004R9U1|[B0032JTDPO, B000...|                  []|           B&C Eagle|[Industrial & Sci...| February 14, 2000|[B&C Eagle collat...|{null, null, null...|[Compatible with ...|   |                  []|                  []|Tools & Home Impr...|   12.99|[\">#5,260 in Tool...|                    | class=\"a-keyvalu...|     |B&amp;C Eagle A3X...|[12.989999771118164]|[0.00434542689605...|       0.004345427|\n",
      "+----------+--------------------+--------------------+--------------------+--------------------+------------------+--------------------+--------------------+--------------------+---+--------------------+--------------------+--------------------+--------+--------------------+--------------------+--------------------+-----+--------------------+--------------------+--------------------+------------------+\n",
      "only showing top 20 rows\n",
      "\n"
     ]
    },
    {
     "name": "stderr",
     "output_type": "stream",
     "text": [
      "                                                                                \r"
     ]
    }
   ],
   "source": [
    "from pyspark.sql.functions import udf\n",
    "from pyspark.sql.types import FloatType\n",
    "from pyspark.ml.linalg import Vectors, VectorUDT\n",
    "# UDF to extract the first element of a vector column\n",
    "first_element_udf = udf(lambda vector: float(vector[0]), FloatType())\n",
    "\n",
    "df_transformed = df_transformed.withColumn(\"price_scaled_float\", first_element_udf(\"price_scaled\"))"
   ]
  },
  {
   "cell_type": "code",
   "execution_count": 77,
   "metadata": {
    "tags": []
   },
   "outputs": [
    {
     "name": "stderr",
     "output_type": "stream",
     "text": [
      "23/11/08 13:51:01 WARN DAGScheduler: Broadcasting large task binary with size 2.6 MiB\n",
      "23/11/08 13:51:17 WARN DAGScheduler: Broadcasting large task binary with size 2.6 MiB\n"
     ]
    },
    {
     "name": "stdout",
     "output_type": "stream",
     "text": [
      "+--------+------------------+\n",
      "|   price|price_scaled_float|\n",
      "+--------+------------------+\n",
      "|59.06999|        0.02023727|\n",
      "|59.06999|        0.02023727|\n",
      "|   18.09|      0.0061042905|\n",
      "|   18.09|      0.0061042905|\n",
      "|    3.98|      0.0012381019|\n",
      "|    3.98|      0.0012381019|\n",
      "|  132.49|        0.04555801|\n",
      "|  132.49|        0.04555801|\n",
      "|    3.99|      0.0012415505|\n",
      "|    3.99|      0.0012415505|\n",
      "+--------+------------------+\n",
      "only showing top 10 rows\n",
      "\n"
     ]
    },
    {
     "name": "stderr",
     "output_type": "stream",
     "text": [
      "                                                                                \r"
     ]
    }
   ],
   "source": [
    "df_transformed.select('price','price_scaled_float').show(10)"
   ]
  },
  {
   "cell_type": "code",
   "execution_count": 78,
   "metadata": {
    "tags": []
   },
   "outputs": [
    {
     "name": "stderr",
     "output_type": "stream",
     "text": [
      "23/11/08 13:51:26 WARN DAGScheduler: Broadcasting large task binary with size 2.6 MiB\n",
      "23/11/08 13:51:30 WARN DAGScheduler: Broadcasting large task binary with size 2.6 MiB\n",
      "23/11/08 13:51:43 WARN DAGScheduler: Broadcasting large task binary with size 2.6 MiB\n",
      "23/11/08 13:51:47 WARN DAGScheduler: Broadcasting large task binary with size 5.2 MiB\n",
      "23/11/08 13:51:47 WARN DAGScheduler: Broadcasting large task binary with size 5.2 MiB\n",
      "23/11/08 13:51:50 WARN DAGScheduler: Broadcasting large task binary with size 5.2 MiB\n",
      "23/11/08 13:51:50 WARN DAGScheduler: Broadcasting large task binary with size 5.2 MiB\n",
      "                                                                                \r"
     ]
    },
    {
     "name": "stdout",
     "output_type": "stream",
     "text": [
      "+--------------+--------------------+--------------+\n",
      "|    reviewerID|           avg_price|         brand|\n",
      "+--------------+--------------------+--------------+\n",
      "|A3LS2HKRVRYK9Q|0.045558009296655655|           Jet|\n",
      "| A1M97ZR8OPE3I|0.032564262549082436|           Jet|\n",
      "| A5KBLLLHVL65K|0.001241550548002...|Hy-Ko Products|\n",
      "| AF3AZVK90T805|  0.0202372707426548|      J-B Weld|\n",
      "|A1XKVW78IIGXP0|  0.0202372707426548|      J-B Weld|\n",
      "|A3W4QHUMVXF8K1| 0.01973375678062439|      Shop-Vac|\n",
      "|A3QMTWC08MPA9V| 0.01973375678062439|      Shop-Vac|\n",
      "|A2FSU0FOYLVBU3| 0.01973375678062439|      Shop-Vac|\n",
      "|A3977OZLNA8LCB| 0.00705384664858381|ARROW FASTENER|\n",
      "|A3GJU3F1DAUFI8|0.002614153781905...|        Plymor|\n",
      "+--------------+--------------------+--------------+\n",
      "only showing top 10 rows\n",
      "\n"
     ]
    },
    {
     "name": "stderr",
     "output_type": "stream",
     "text": [
      "23/11/08 13:51:51 WARN DAGScheduler: Broadcasting large task binary with size 5.2 MiB\n"
     ]
    }
   ],
   "source": [
    "from pyspark.sql.window import Window\n",
    "from pyspark.sql.functions import avg, count, col, broadcast\n",
    "\n",
    "df_train = df_transformed\n",
    "\n",
    "# Use scaled priced instead\n",
    "\n",
    "# Prepare the item profiles from the training set\n",
    "item_profiles_train = df_train.select('asin', 'brand', 'price_scaled_float').distinct()\n",
    "\n",
    "# Calculate the average price for each user in the training set\n",
    "avg_price_train = train.join(df_train, 'asin').groupBy('reviewerID').agg(avg('price_scaled_float').alias('avg_price'))\n",
    "\n",
    "# Count the occurrences of each brand for each user in the training set and find the most frequent one\n",
    "brand_frequency_train = train.join(df_train, 'asin').groupBy('reviewerID', 'brand').agg(count('brand').alias('brand_count'))\n",
    "\n",
    "# Find the top brand for each user in the training set\n",
    "windowSpec = Window.partitionBy('reviewerID').orderBy(col('brand_count').desc(), col('brand'))\n",
    "top_brands_train = (brand_frequency_train.withColumn('rank', F.row_number().over(windowSpec))\n",
    "                    .where(col('rank') == 1)\n",
    "                    .select('reviewerID', 'brand'))\n",
    "\n",
    "# Create the user profiles using the training set\n",
    "user_profiles_train = avg_price_train.join(broadcast(top_brands_train), 'reviewerID')\n",
    "\n",
    "user_profiles_train.show(10)"
   ]
  },
  {
   "cell_type": "code",
   "execution_count": 79,
   "metadata": {
    "tags": []
   },
   "outputs": [
    {
     "name": "stderr",
     "output_type": "stream",
     "text": [
      "23/11/08 13:51:56 WARN DAGScheduler: Broadcasting large task binary with size 2.6 MiB\n",
      "23/11/08 13:52:13 WARN DAGScheduler: Broadcasting large task binary with size 2.6 MiB\n",
      "23/11/08 13:52:13 WARN DAGScheduler: Broadcasting large task binary with size 2.6 MiB\n",
      "[Stage 528:>                                                        (0 + 1) / 1]\r"
     ]
    },
    {
     "name": "stdout",
     "output_type": "stream",
     "text": [
      "+----------+-----------------+------------------+\n",
      "|      asin|            brand|price_scaled_float|\n",
      "+----------+-----------------+------------------+\n",
      "|0971007004| Thomas McCracken|       0.004459236|\n",
      "|B00004UDI2|           Dremel|      0.0024486135|\n",
      "|B00008IHTK|         Starrett|        0.09261277|\n",
      "|B0000DD1EE|          Steelex|        0.02023727|\n",
      "|B00023RVP2|           Extech|      0.0035177267|\n",
      "|B00024JE5Q|              TPI|        0.13449441|\n",
      "|B0002BBV28|               3M|       0.008511519|\n",
      "|B0002FU918|          Simonds|       0.008901228|\n",
      "|B0002SQT7S|Milton Industries|        0.02023727|\n",
      "|B0002ZPEX6|    Parts Express|      0.0025175887|\n",
      "+----------+-----------------+------------------+\n",
      "only showing top 10 rows\n",
      "\n"
     ]
    },
    {
     "name": "stderr",
     "output_type": "stream",
     "text": [
      "23/11/08 13:52:16 WARN DAGScheduler: Broadcasting large task binary with size 2.6 MiB\n",
      "                                                                                \r"
     ]
    }
   ],
   "source": [
    "item_profiles_train.show(10)"
   ]
  },
  {
   "cell_type": "code",
   "execution_count": 81,
   "metadata": {
    "tags": []
   },
   "outputs": [],
   "source": [
    "from pyspark.sql import Window\n",
    "from pyspark.sql.functions import rank, col\n",
    "\n",
    "# Assuming calculate_similarity can be replaced with a native Spark function or combination of functions\n",
    "def calculate_similarity(user_brand, user_avg_price, item_brand, item_price):\n",
    "    # Simple similarity based on brand matching and price difference\n",
    "    brand_similarity = 1 if user_brand == item_brand else 0\n",
    "    # Prevent division by zero if user_avg_price is 0\n",
    "    price_similarity = 1 - abs(item_price - user_avg_price) / user_avg_price if user_avg_price != 0 else 0\n",
    "    # Combine the two components of similarity\n",
    "    return brand_similarity * 0.5 + price_similarity * 0.5\n",
    "\n",
    "# Register the UDF\n",
    "similarity_udf = F.udf(calculate_similarity, FloatType())\n",
    "\n",
    "# Generate recommendations for users in the validation set\n",
    "# First, get the list of items each user has reviewed in the training set to exclude them from recommendations\n",
    "df_already_reviewed_train = train.select('reviewerID', 'asin').distinct().alias(\"ar_train\")\n",
    "\n",
    "# Calculate similarities between user profiles and item profiles, excluding already reviewed items\n",
    "user_profiles_val = test.select('reviewerID').distinct().alias(\"up_val\")\n",
    "item_profiles_alias = item_profiles_train.alias(\"ip\")\n",
    "\n",
    "user_profiles_val = user_profiles_val.join(broadcast(user_profiles_train), \"reviewerID\", \"inner\")\n",
    "user_profiles_val = user_profiles_val.alias(\"up_val\")\n",
    "user_item_similarity = (user_profiles_val\n",
    "                        .crossJoin(broadcast(item_profiles_alias))\n",
    "                        .withColumn('similarity', similarity_udf(\n",
    "                            col('up_val.brand'), col('up_val.avg_price'), col('ip.brand'), col('ip.price_scaled_float')))\n",
    "                        .select('up_val.reviewerID', 'ip.asin', 'similarity'))\n",
    "\n",
    "# Exclude already reviewed items\n",
    "recommendations = user_item_similarity.join(broadcast(df_already_reviewed_train),\n",
    "                                            (user_item_similarity.reviewerID == df_already_reviewed_train.reviewerID) &\n",
    "                                            (user_item_similarity.asin == df_already_reviewed_train.asin), \n",
    "                                            'left_anti')\n",
    "\n",
    "# Use window functions to rank by similarity\n",
    "windowSpec = Window.partitionBy(recommendations['reviewerID']).orderBy(recommendations['similarity'].desc())\n",
    "\n",
    "ranked_recommendations = recommendations.withColumn(\"rank\", rank().over(windowSpec))\n",
    "\n",
    "# Get top N recommendations\n",
    "top_recommendations = ranked_recommendations.filter(col(\"rank\") <= 10)  # Replace N with the number of recommendations you want\n"
   ]
  },
  {
   "cell_type": "code",
   "execution_count": 82,
   "metadata": {
    "tags": []
   },
   "outputs": [
    {
     "name": "stderr",
     "output_type": "stream",
     "text": [
      "23/11/08 13:52:50 WARN DAGScheduler: Broadcasting large task binary with size 2.6 MiB\n",
      "23/11/08 13:52:50 WARN DAGScheduler: Broadcasting large task binary with size 2.6 MiB\n",
      "23/11/08 13:52:50 WARN DAGScheduler: Broadcasting large task binary with size 2.6 MiB\n",
      "23/11/08 13:52:53 WARN DAGScheduler: Broadcasting large task binary with size 2.6 MiB\n",
      "23/11/08 13:53:05 WARN DAGScheduler: Broadcasting large task binary with size 2.6 MiB\n",
      "23/11/08 13:53:05 WARN DAGScheduler: Broadcasting large task binary with size 2.6 MiB\n",
      "23/11/08 13:53:05 WARN DAGScheduler: Broadcasting large task binary with size 2.6 MiB\n",
      "23/11/08 13:53:08 WARN DAGScheduler: Broadcasting large task binary with size 5.2 MiB\n",
      "23/11/08 13:53:08 WARN DAGScheduler: Broadcasting large task binary with size 5.2 MiB\n",
      "23/11/08 13:53:09 WARN DAGScheduler: Broadcasting large task binary with size 2.6 MiB\n",
      "23/11/08 13:53:11 WARN DAGScheduler: Broadcasting large task binary with size 5.2 MiB\n",
      "23/11/08 13:53:12 WARN DAGScheduler: Broadcasting large task binary with size 5.2 MiB\n",
      "23/11/08 13:53:12 WARN DAGScheduler: Broadcasting large task binary with size 5.2 MiB\n",
      "23/11/08 13:53:13 WARN DAGScheduler: Broadcasting large task binary with size 5.2 MiB\n",
      "23/11/08 13:53:25 WARN DAGScheduler: Broadcasting large task binary with size 5.3 MiB\n"
     ]
    },
    {
     "name": "stdout",
     "output_type": "stream",
     "text": [
      "+--------------+----------+----------+----+\n",
      "|    reviewerID|      asin|similarity|rank|\n",
      "+--------------+----------+----------+----+\n",
      "|A11JM4NHFH7PLY|B009PPEVTW|0.98698884|   1|\n",
      "|A11JM4NHFH7PLY|B00GT8ZHXW|0.98358124|   2|\n",
      "|A11JM4NHFH7PLY|B005LDG7HQ| 0.9814127|   3|\n",
      "|A11JM4NHFH7PLY|B00AWHS3D2| 0.9789343|   4|\n",
      "|A11JM4NHFH7PLY|B007XU5UAU| 0.9736679|   5|\n",
      "|A11JM4NHFH7PLY|B000PHGM14| 0.9677819|   6|\n",
      "|A11JM4NHFH7PLY|B0010AZT3W| 0.9640644|   7|\n",
      "|A11JM4NHFH7PLY|B017WO9TFI| 0.9615862|   8|\n",
      "|A11JM4NHFH7PLY|B0012IYOH4|0.95600986|   9|\n",
      "|A11JM4NHFH7PLY|B0070VF5P2| 0.9522924|  10|\n",
      "+--------------+----------+----------+----+\n",
      "only showing top 10 rows\n",
      "\n"
     ]
    },
    {
     "name": "stderr",
     "output_type": "stream",
     "text": [
      "                                                                                \r"
     ]
    }
   ],
   "source": [
    "top_recommendations.show(10)"
   ]
  },
  {
   "cell_type": "code",
   "execution_count": 83,
   "metadata": {
    "tags": []
   },
   "outputs": [],
   "source": [
    "from pyspark.sql.functions import collect_list\n",
    "\n",
    "# Assuming top_recommendations DataFrame has columns 'reviewerID' and 'asin'\n",
    "final_recommendations = (top_recommendations\n",
    "                         .groupBy('reviewerID')\n",
    "                         .agg(collect_list('asin').alias('recommendations')))\n"
   ]
  },
  {
   "cell_type": "code",
   "execution_count": 63,
   "metadata": {
    "tags": []
   },
   "outputs": [
    {
     "name": "stderr",
     "output_type": "stream",
     "text": [
      "23/11/08 13:37:56 WARN DAGScheduler: Broadcasting large task binary with size 2.6 MiB\n",
      "23/11/08 13:37:56 WARN DAGScheduler: Broadcasting large task binary with size 2.6 MiB\n",
      "23/11/08 13:37:56 WARN DAGScheduler: Broadcasting large task binary with size 2.6 MiB\n",
      "23/11/08 13:37:56 WARN DAGScheduler: Broadcasting large task binary with size 2.6 MiB\n",
      "23/11/08 13:37:56 WARN DAGScheduler: Broadcasting large task binary with size 2.6 MiB\n",
      "23/11/08 13:38:10 WARN DAGScheduler: Broadcasting large task binary with size 2.6 MiB\n",
      "23/11/08 13:38:10 WARN DAGScheduler: Broadcasting large task binary with size 2.6 MiB\n",
      "23/11/08 13:38:10 WARN DAGScheduler: Broadcasting large task binary with size 5.2 MiB\n",
      "23/11/08 13:38:10 WARN DAGScheduler: Broadcasting large task binary with size 5.2 MiB\n",
      "23/11/08 13:38:13 WARN DAGScheduler: Broadcasting large task binary with size 5.2 MiB\n",
      "23/11/08 13:38:14 WARN DAGScheduler: Broadcasting large task binary with size 5.2 MiB\n",
      "23/11/08 13:38:14 WARN DAGScheduler: Broadcasting large task binary with size 5.2 MiB\n",
      "23/11/08 13:38:15 WARN DAGScheduler: Broadcasting large task binary with size 5.3 MiB\n",
      "23/11/08 13:38:27 WARN DAGScheduler: Broadcasting large task binary with size 5.3 MiB\n"
     ]
    },
    {
     "name": "stdout",
     "output_type": "stream",
     "text": [
      "+--------------+------------------------------------------------------------------------------------------------------------------------+\n",
      "|reviewerID    |recommendations                                                                                                         |\n",
      "+--------------+------------------------------------------------------------------------------------------------------------------------+\n",
      "|A11JM4NHFH7PLY|[B009PPEVTW, B00GT8ZHXW, B005LDG7HQ, B00AWHS3D2, B007XU5UAU, B000PHGM14, B0010AZT3W, B017WO9TFI, B0012IYOH4, B0070VF5P2]|\n",
      "+--------------+------------------------------------------------------------------------------------------------------------------------+\n",
      "only showing top 1 row\n",
      "\n"
     ]
    },
    {
     "name": "stderr",
     "output_type": "stream",
     "text": [
      "                                                                                \r"
     ]
    }
   ],
   "source": [
    "final_recommendations.show(1,truncate = False)"
   ]
  },
  {
   "cell_type": "code",
   "execution_count": 86,
   "metadata": {
    "tags": []
   },
   "outputs": [
    {
     "name": "stderr",
     "output_type": "stream",
     "text": [
      "23/11/08 13:56:38 WARN DAGScheduler: Broadcasting large task binary with size 2.6 MiB\n",
      "[Stage 625:>                                                        (0 + 1) / 1]\r"
     ]
    },
    {
     "name": "stdout",
     "output_type": "stream",
     "text": [
      "+--------------------+--------------------+\n",
      "|          reviewerID|         actual_asin|\n",
      "+--------------------+--------------------+\n",
      "|A0575344WFZ4F94SHX4P|        [B00U3KF55C]|\n",
      "|      A100X1V4Q37JW4|        [B012APXT96]|\n",
      "|      A101NT6MFU94QU|        [B01DF31DQS]|\n",
      "|      A1029V9OX0GBCT|        [B00AOVH60M]|\n",
      "|      A102UVDIWPBMYM|        [B00OCSPCN6]|\n",
      "|      A102XRGI4UFG99|[B0013TVEYS, B001...|\n",
      "|      A102ZELP840AUD|        [B005Z4QWIK]|\n",
      "|      A1032U0WM7J9GA|        [B00AXE5B3O]|\n",
      "|      A1047EDJ84IMAS|        [B000S99LEO]|\n",
      "|      A104EHYQV3IE1G|        [B0075E9T2Y]|\n",
      "+--------------------+--------------------+\n",
      "only showing top 10 rows\n",
      "\n"
     ]
    },
    {
     "name": "stderr",
     "output_type": "stream",
     "text": [
      "23/11/08 13:56:52 WARN DAGScheduler: Broadcasting large task binary with size 2.6 MiB\n",
      "                                                                                \r"
     ]
    }
   ],
   "source": [
    "actual_items.show(10)"
   ]
  },
  {
   "cell_type": "code",
   "execution_count": 84,
   "metadata": {
    "tags": []
   },
   "outputs": [
    {
     "name": "stderr",
     "output_type": "stream",
     "text": [
      "23/11/08 13:53:41 WARN DAGScheduler: Broadcasting large task binary with size 2.6 MiB\n",
      "23/11/08 13:53:41 WARN DAGScheduler: Broadcasting large task binary with size 2.6 MiB\n",
      "23/11/08 13:53:41 WARN DAGScheduler: Broadcasting large task binary with size 2.6 MiB\n",
      "23/11/08 13:53:41 WARN DAGScheduler: Broadcasting large task binary with size 2.6 MiB\n",
      "23/11/08 13:53:44 WARN DAGScheduler: Broadcasting large task binary with size 2.6 MiB\n",
      "23/11/08 13:53:55 WARN DAGScheduler: Broadcasting large task binary with size 2.6 MiB\n",
      "23/11/08 13:53:55 WARN DAGScheduler: Broadcasting large task binary with size 2.6 MiB\n",
      "23/11/08 13:53:55 WARN DAGScheduler: Broadcasting large task binary with size 2.6 MiB\n",
      "23/11/08 13:53:55 WARN DAGScheduler: Broadcasting large task binary with size 2.6 MiB\n",
      "23/11/08 13:53:58 WARN DAGScheduler: Broadcasting large task binary with size 5.2 MiB\n",
      "23/11/08 13:53:58 WARN DAGScheduler: Broadcasting large task binary with size 5.2 MiB\n",
      "23/11/08 13:53:58 WARN DAGScheduler: Broadcasting large task binary with size 2.6 MiB\n",
      "23/11/08 13:54:01 WARN DAGScheduler: Broadcasting large task binary with size 5.2 MiB\n",
      "23/11/08 13:54:02 WARN DAGScheduler: Broadcasting large task binary with size 5.2 MiB\n",
      "23/11/08 13:54:02 WARN DAGScheduler: Broadcasting large task binary with size 5.2 MiB\n",
      "23/11/08 13:54:02 WARN DAGScheduler: Broadcasting large task binary with size 5.2 MiB\n",
      "23/11/08 13:54:14 WARN DAGScheduler: Broadcasting large task binary with size 5.3 MiB\n"
     ]
    },
    {
     "name": "stdout",
     "output_type": "stream",
     "text": [
      "+--------------+-------------------+------+-------------------+\n",
      "|    reviewerID|          precision|recall|                 F1|\n",
      "+--------------+-------------------+------+-------------------+\n",
      "|A11JM4NHFH7PLY|                0.0|   0.0|                0.0|\n",
      "|A17MOXNUG5ZQTS|                0.0|   0.0|                0.0|\n",
      "|A1AGCZQPZ9PZNR|                0.0|   0.0|                0.0|\n",
      "|A1C5TCCR2IGKBU|                0.0|   0.0|                0.0|\n",
      "|A1NKBMUSE0FK9O|                0.0|   0.0|                0.0|\n",
      "|A1REI9L7HVFLD3|                0.0|   0.0|                0.0|\n",
      "|A1S1RAEP3AUCTM|                0.0|   0.0|                0.0|\n",
      "|A1UZ4KONK58IF1|                0.0|   0.0|                0.0|\n",
      "|A1W415JP5WEAJK|                0.0|   0.0|                0.0|\n",
      "|A1YIFPM15ZHNIV|                0.0|   0.0|                0.0|\n",
      "|A20YQUOOUKMEYM|                0.0|   0.0|                0.0|\n",
      "|A22CFBCRX195CD|                0.0|   0.0|                0.0|\n",
      "|A24LLOOJ0YRR1Q|                0.0|   0.0|                0.0|\n",
      "|A27IYRA843Q5EJ|                0.0|   0.0|                0.0|\n",
      "|A2ESD2LOYPU2DL|                0.0|   0.0|                0.0|\n",
      "|A2G2SETWEYG2Z0|                0.0|   0.0|                0.0|\n",
      "|A2KCIIQ3K5SO4F|                0.0|   0.0|                0.0|\n",
      "|A2L1HE5OSNKOW7|                0.0|   0.0|                0.0|\n",
      "|A2O2Q726NXQSRD|0.08333333333333333|   1.0|0.15384615384615385|\n",
      "|A2O91U8YTA45I4|                0.0|   0.0|                0.0|\n",
      "+--------------+-------------------+------+-------------------+\n",
      "only showing top 20 rows\n",
      "\n"
     ]
    },
    {
     "name": "stderr",
     "output_type": "stream",
     "text": [
      "                                                                                \r"
     ]
    }
   ],
   "source": [
    "from pyspark.sql.functions import col, size, array_intersect\n",
    "\n",
    "# Step 1: For each `reviewerID` in `test`, collect all `asin` values into a list.\n",
    "actual_items = test.groupBy('reviewerID').agg(collect_list('asin').alias('actual_asin'))\n",
    "\n",
    "# Join the actual items with the recommended items on `reviewerID`\n",
    "results = final_recommendations.join(actual_items, 'reviewerID')\n",
    "\n",
    "# Step 3: Calculate true positives, precision, recall, and F1 score.\n",
    "metrics = results.withColumn('true_positives', size(array_intersect(col('recommendations'), col('actual_asin')))) \\\n",
    "                 .withColumn('precision', col('true_positives') / size(col('recommendations'))) \\\n",
    "                 .withColumn('recall', col('true_positives') / size(col('actual_asin'))) \\\n",
    "                 .withColumn('F1', when((col('precision') + col('recall')) > 0, \n",
    "                                         2 * (col('precision') * col('recall')) / (col('precision') + col('recall')))\n",
    "                             .otherwise(0))\n",
    "\n",
    "# Show the results\n",
    "metrics.select('reviewerID', 'precision', 'recall', 'F1').show()\n"
   ]
  },
  {
   "cell_type": "code",
   "execution_count": 89,
   "metadata": {
    "tags": []
   },
   "outputs": [
    {
     "name": "stderr",
     "output_type": "stream",
     "text": [
      "23/11/08 15:45:32 WARN DAGScheduler: Broadcasting large task binary with size 2.6 MiB\n",
      "23/11/08 15:45:32 WARN DAGScheduler: Broadcasting large task binary with size 2.6 MiB\n",
      "23/11/08 15:45:32 WARN DAGScheduler: Broadcasting large task binary with size 2.6 MiB\n",
      "23/11/08 15:45:32 WARN DAGScheduler: Broadcasting large task binary with size 2.6 MiB\n",
      "23/11/08 15:45:36 WARN DAGScheduler: Broadcasting large task binary with size 2.6 MiB\n",
      "23/11/08 15:45:47 WARN DAGScheduler: Broadcasting large task binary with size 2.6 MiB\n",
      "23/11/08 15:45:47 WARN DAGScheduler: Broadcasting large task binary with size 2.6 MiB\n",
      "23/11/08 15:45:47 WARN DAGScheduler: Broadcasting large task binary with size 2.6 MiB\n",
      "23/11/08 15:45:47 WARN DAGScheduler: Broadcasting large task binary with size 2.6 MiB\n",
      "23/11/08 15:45:50 WARN DAGScheduler: Broadcasting large task binary with size 5.2 MiB\n",
      "23/11/08 15:45:50 WARN DAGScheduler: Broadcasting large task binary with size 5.2 MiB\n",
      "23/11/08 15:45:50 WARN DAGScheduler: Broadcasting large task binary with size 2.6 MiB\n",
      "23/11/08 15:45:53 WARN DAGScheduler: Broadcasting large task binary with size 5.2 MiB\n",
      "23/11/08 15:45:54 WARN DAGScheduler: Broadcasting large task binary with size 5.2 MiB\n",
      "23/11/08 15:45:54 WARN DAGScheduler: Broadcasting large task binary with size 5.2 MiB\n",
      "23/11/08 15:45:54 WARN DAGScheduler: Broadcasting large task binary with size 5.2 MiB\n",
      "23/11/08 15:46:07 WARN DAGScheduler: Broadcasting large task binary with size 5.3 MiB\n",
      "[Stage 658:===========================================>           (19 + 5) / 24]\r"
     ]
    },
    {
     "name": "stdout",
     "output_type": "stream",
     "text": [
      "+-------------+----------+-------------------+\n",
      "|avg_precision|avg_recall|             avg_F1|\n",
      "+-------------+----------+-------------------+\n",
      "|          0.2|       1.0|0.33333333333333337|\n",
      "+-------------+----------+-------------------+\n",
      "\n"
     ]
    },
    {
     "name": "stderr",
     "output_type": "stream",
     "text": [
      "                                                                                \r"
     ]
    }
   ],
   "source": [
    "from pyspark.sql.functions import max as ma\n",
    "average_metrics = metrics.agg(\n",
    "    ma(col('precision')).alias('avg_precision'),\n",
    "    ma(col('recall')).alias('avg_recall'),\n",
    "    ma(col('F1')).alias('avg_F1')\n",
    ")\n",
    "average_metrics.show()"
   ]
  }
 ],
 "metadata": {
  "colab": {
   "provenance": []
  },
  "kernelspec": {
   "display_name": "Python 3 (ipykernel)",
   "language": "python",
   "name": "python3"
  },
  "language_info": {
   "codemirror_mode": {
    "name": "ipython",
    "version": 3
   },
   "file_extension": ".py",
   "mimetype": "text/x-python",
   "name": "python",
   "nbconvert_exporter": "python",
   "pygments_lexer": "ipython3",
   "version": "3.11.4"
  }
 },
 "nbformat": 4,
 "nbformat_minor": 4
}
