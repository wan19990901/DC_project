{
 "cells": [
  {
   "cell_type": "code",
   "execution_count": 1,
   "metadata": {
    "id": "f5NDXrN2CtH7"
   },
   "outputs": [],
   "source": [
    "import os\n",
    "import json\n",
    "import gzip\n",
    "import pandas as pd\n",
    "from urllib.request import urlopen"
   ]
  },
  {
   "cell_type": "code",
   "execution_count": null,
   "metadata": {
    "id": "NIpCl4lKHY8D"
   },
   "outputs": [],
   "source": [
    "!wget https://datarepo.eng.ucsd.edu/mcauley_group/data/amazon_v2/categoryFiles/Industrial_and_Scientific.json.gz"
   ]
  },
  {
   "cell_type": "code",
   "execution_count": null,
   "metadata": {
    "id": "bb5fGi2wJpXI"
   },
   "outputs": [],
   "source": [
    "!wget https://datarepo.eng.ucsd.edu/mcauley_group/data/amazon_v2/metaFiles2/meta_Industrial_and_Scientific.json.gz"
   ]
  },
  {
   "cell_type": "code",
   "execution_count": null,
   "metadata": {
    "colab": {
     "base_uri": "https://localhost:8080/"
    },
    "id": "vBfzThdejDSJ",
    "outputId": "91a779c0-1601-49f8-9d1d-c711117a776e"
   },
   "outputs": [
    {
     "name": "stdout",
     "output_type": "stream",
     "text": [
      "Defaulting to user installation because normal site-packages is not writeable\n",
      "Requirement already satisfied: pyspark in /opt/conda/lib/python3.7/site-packages (3.3.1)\n",
      "Requirement already satisfied: py4j==0.10.9.5 in /opt/conda/lib/python3.7/site-packages (from pyspark) (0.10.9.5)\n"
     ]
    }
   ],
   "source": [
    "!pip install pyspark"
   ]
  },
  {
   "cell_type": "markdown",
   "metadata": {
    "id": "ddVjvBQ5BnXq",
    "tags": []
   },
   "source": [
    "# Data Reading"
   ]
  },
  {
   "cell_type": "code",
   "execution_count": null,
   "metadata": {
    "id": "G8Qexuq_3Rx0",
    "outputId": "c5b5c8bb-80dd-4cc5-dd26-52790746fd3f"
   },
   "outputs": [
    {
     "name": "stderr",
     "output_type": "stream",
     "text": [
      "/opt/conda/lib/python3.7/site-packages/pyspark/bin/load-spark-env.sh: line 68: ps: command not found\n",
      "Setting default log level to \"WARN\".\n",
      "To adjust logging level use sc.setLogLevel(newLevel). For SparkR, use setLogLevel(newLevel).\n"
     ]
    },
    {
     "name": "stdout",
     "output_type": "stream",
     "text": [
      "23/11/22 20:53:48 WARN NativeCodeLoader: Unable to load native-hadoop library for your platform... using builtin-java classes where applicable\n"
     ]
    }
   ],
   "source": [
    "from pyspark.sql import SparkSession\n",
    "\n",
    "# Create a Spark session\n",
    "spark = SparkSession.builder \\\n",
    "    .appName(\"readGZ\") \\\n",
    "    .master(\"local[*]\") \\\n",
    "    .config(\"spark.default.parallelism\", 24) \\\n",
    "    .config(\"spark.sql.shuffle.partitions\", 24) \\\n",
    "    .config(\"spark.driver.memory\", \"16g\") \\\n",
    "    .config(\"spark.executor.memory\", \"16g\") \\\n",
    "    .getOrCreate()\n",
    "\n",
    "# Read the gzipped JSON file directly into a DataFrame\n",
    "df = spark.read.json(\"Industrial_and_Scientific.json.gz\")"
   ]
  },
  {
   "cell_type": "code",
   "execution_count": null,
   "metadata": {
    "colab": {
     "base_uri": "https://localhost:8080/"
    },
    "id": "SSkWP10AtaKv",
    "outputId": "219a8d98-5f89-41f8-eb8e-3b053f11ca9a"
   },
   "outputs": [
    {
     "name": "stdout",
     "output_type": "stream",
     "text": [
      "+----------+-----+-------+--------------------+-----------+--------------+----------------+-----+--------------------+--------------+--------+----+\n",
      "|      asin|image|overall|          reviewText| reviewTime|    reviewerID|    reviewerName|style|             summary|unixReviewTime|verified|vote|\n",
      "+----------+-----+-------+--------------------+-----------+--------------+----------------+-----+--------------------+--------------+--------+----+\n",
      "|0176496920| null|    5.0|Arrived on time, ...|01 23, 2013|A3FANY5GOT5X0W|    Kelly Keyser| null|  Just as described!|    1358899200|    true|null|\n",
      "|0176496920| null|    5.0|This device was h...| 11 5, 2012| AT6HRPPYOPHMB|       Michael C| null|        Great device|    1352073600|    true|null|\n",
      "|0176496920| null|    4.0|Just a clicker no...|10 17, 2012| A4IX7B38LIN1E|              BH| null|         Pretty Good|    1350432000|    true|null|\n",
      "|0176496920| null|    5.0|Great response ca...|03 29, 2017|A12Q4LR8N17AOZ|   Waterfall3500| null|Thank you for the...|    1490745600|    true|null|\n",
      "|0176496920| null|    1.0|It only lasted fo...|03 21, 2017|A1GJXZZPOZ3OD9| Amazon Customer| null|            One Star|    1490054400|    true|null|\n",
      "|0176496920| null|    1.0|There is no licen...|02 22, 2017| AAHQWAS1NA6AX|Kimberly Alvarez| null|             License|    1487721600|    true|null|\n",
      "|0176496920| null|    5.0|Arrived perfectly...|02 14, 2017|A1IFO0SYT4VYHQ| Amazon Customer| null|     Would recommend|    1487030400|    true|null|\n",
      "|0176496920| null|    5.0|        Works great!|02 13, 2017|A2EYTYCKW20APK| Amazon Customer| null|          Five Stars|    1486944000|    true|null|\n",
      "|0176496920| null|    5.0|I got this in les...|02 10, 2017|A3JSW99QMYGZNL|          Yadira| null|       In good shape|    1486684800|    true|null|\n",
      "|0176496920| null|    3.0|Came in quickly a...|01 24, 2017| A71I4604KUANI|  Kirsten Draper| null|Came in quick but...|    1485216000|    true|null|\n",
      "+----------+-----+-------+--------------------+-----------+--------------+----------------+-----+--------------------+--------------+--------+----+\n",
      "only showing top 10 rows\n",
      "\n"
     ]
    }
   ],
   "source": [
    "# Show the DataFrame to check if it's loaded correctly\n",
    "df.show(10)"
   ]
  },
  {
   "cell_type": "code",
   "execution_count": null,
   "metadata": {
    "id": "_vZu2587GZNw",
    "outputId": "4c8cfe91-5e5b-4606-9626-48156ff6ed5b",
    "tags": []
   },
   "outputs": [
    {
     "name": "stderr",
     "output_type": "stream",
     "text": [
      "[Stage 14:>                                                         (0 + 1) / 1]\r"
     ]
    },
    {
     "name": "stdout",
     "output_type": "stream",
     "text": [
      "+-------+-------+\n",
      "|summary|overall|\n",
      "+-------+-------+\n",
      "|  count|  60676|\n",
      "+-------+-------+\n",
      "\n"
     ]
    },
    {
     "name": "stderr",
     "output_type": "stream",
     "text": [
      "                                                                                \r"
     ]
    }
   ],
   "source": [
    "df.select(\"overall\").summary(\"count\").show()"
   ]
  },
  {
   "cell_type": "code",
   "execution_count": null,
   "metadata": {
    "id": "_wOIkJkNGZNw",
    "outputId": "57689a97-0cb5-485d-82b0-4ca7d6a133f2",
    "tags": []
   },
   "outputs": [
    {
     "name": "stderr",
     "output_type": "stream",
     "text": [
      "[Stage 18:>                                                         (0 + 1) / 1]\r"
     ]
    },
    {
     "name": "stdout",
     "output_type": "stream",
     "text": [
      "+-------+------+\n",
      "|summary|  asin|\n",
      "+-------+------+\n",
      "|  count|167442|\n",
      "+-------+------+\n",
      "\n"
     ]
    },
    {
     "name": "stderr",
     "output_type": "stream",
     "text": [
      "                                                                                \r"
     ]
    }
   ],
   "source": [
    "df_meta.select(\"asin\").summary(\"count\").show()"
   ]
  },
  {
   "cell_type": "code",
   "execution_count": null,
   "metadata": {
    "id": "7igYuRaV4bF7",
    "outputId": "9a8a00e1-e192-4b08-fcd6-2164cb9b059a"
   },
   "outputs": [
    {
     "name": "stderr",
     "output_type": "stream",
     "text": [
      "                                                                                \r"
     ]
    }
   ],
   "source": [
    "### load the meta data\n",
    "\n",
    "df_meta = spark.read.json(\"meta_Industrial_and_Scientific.json.gz\")"
   ]
  },
  {
   "cell_type": "code",
   "execution_count": null,
   "metadata": {
    "colab": {
     "base_uri": "https://localhost:8080/"
    },
    "id": "vv5iGqYNiq9L",
    "outputId": "39501445-92da-4e37-9eec-3dee6c081402"
   },
   "outputs": [
    {
     "name": "stdout",
     "output_type": "stream",
     "text": [
      "+--------------------+--------------------+----------+--------------------+--------------------+-----------------+--------------------+-------+--------------------+---+--------------------+--------------------+--------------------+------+--------------------+------------+--------------------+-----+--------------------+\n",
      "|            also_buy|           also_view|      asin|               brand|            category|             date|         description|details|             feature|fit|            imageURL|     imageURLHighRes|            main_cat| price|                rank|similar_item|               tech1|tech2|               title|\n",
      "+--------------------+--------------------+----------+--------------------+--------------------+-----------------+--------------------+-------+--------------------+---+--------------------+--------------------+--------------------+------+--------------------+------------+--------------------+-----+--------------------+\n",
      "|[1454894547, 0133...|                  []|0176496920|Turning Technolog...|[Industrial & Sci...|                 |[RCRF-03 - Works ...|   null|                  []|   |[https://images-n...|[https://images-n...|Industrial & Scie...|$23.61|12,329 in Industr...|            |                    |     |Turning Technolog...|\n",
      "|[B01NBCNTJ9, B01I...|                  []|0692782109|               R-Cat|                  []|                 |[The only laminat...|   null|                  []|   |[https://images-n...|[https://images-n...|Industrial & Scie...|$20.00|20,174 in Industr...|            |                    |     |R-Cat 692782109 E...|\n",
      "|[0781776821, 0781...|                  []|0781776848|Anatomical Chart ...|[Industrial & Sci...|   August 7, 2007|[<div>, Now in it...|   null|[MPN: 97807817768...|   |                  []|                  []|     Office Products|$10.37|[\">#351,522 in Of...|            | class=\"a-keyvalu...|     |Anatomical Chart ...|\n",
      "|[0781786630, 1587...|[B07BCNHC3K, B07D...|0781786606|Anatomical Chart ...|[Industrial & Sci...|February 26, 2009|[<div>, Developed...|   null|[MPN: 97807817866...|   |                  []|                  []|     Office Products|      |[\">#459,493 in Of...|            | class=\"a-keyvalu...|     |Joints of the Low...|\n",
      "|[0077402286, 1455...|                  []|0840026080|Responsive Innova...|[Industrial & Sci...|                 |[Advanced digital...|   null|                  []|   |[https://images-n...|[https://images-n...|Industrial & Scie...|$32.00|172,566 in Indust...|            |                    |     |Turning Technolog...|\n",
      "|[089455767X, 0894...|                  []|0894558358|   Critical Thinking|                  []|                 |[The mind-buildin...|   null|                  []|   |[https://images-n...|[https://images-n...|Industrial & Scie...|$21.99|91,253 in Industr...|            |                    |     |Science Detective...|\n",
      "|        [1572224975]|[0760724083, B078...|0971007004|    Thomas McCracken|[Industrial & Sci...|                 |                  []|   null|                  []|   |                  []|                  []|               Books|$13.32|1,104,587 in Books (|            |                    |     |Wall Chart of Hum...|\n",
      "|[1587790211, 1587...|                  []|1587790319|Anatomical Chart ...|[Industrial & Sci...|September 6, 2006|[<div>&#160;The <...|   null|[Provides anterio...|   |                  []|                  []|     Office Products|$14.82|[\">#90,545 in Off...|            | class=\"a-keyvalu...|     |The Male Reproduc...|\n",
      "|[B004MAJHLW, 1587...|                  []|1587792052|             Unknown|[Industrial & Sci...|                 |[Illustrates spin...|   null|                  []|   |                  []|                  []|Industrial & Scie...|$23.84|17,125 in Industr...|            |                    |     |The Spinal Nerves...|\n",
      "|[1587798085, 1587...|                  []|1587791420|  Physician Supplies|[Industrial & Sci...|   August 4, 2005|[<DIV>Shows muscl...|   null|[Shows muscle and...|   |                  []|                  []|     Office Products|$24.45|[\">#318,099 in Of...|            | class=\"a-keyvalu...|     |Hand and Wrist An...|\n",
      "+--------------------+--------------------+----------+--------------------+--------------------+-----------------+--------------------+-------+--------------------+---+--------------------+--------------------+--------------------+------+--------------------+------------+--------------------+-----+--------------------+\n",
      "only showing top 10 rows\n",
      "\n"
     ]
    }
   ],
   "source": [
    "df_meta.show(10)"
   ]
  },
  {
   "cell_type": "markdown",
   "metadata": {
    "id": "hfMHyp_wCLIj"
   },
   "source": [
    "## Discussion\n",
    "\n",
    "\n",
    "\n",
    "1.   We can not read some categories (especially those with large data, in this case, the sofrware category) directly in Spark; Need to figure out why and how to solve this. (Tried reading by in raw and use pandas and then spark, but this also failed.)\n",
    "(I skipped this question by choosing another category which is fine to read directly)\n",
    "\n",
    "\n",
    "\n"
   ]
  },
  {
   "cell_type": "markdown",
   "metadata": {
    "id": "0lporcTWBqQq",
    "tags": []
   },
   "source": [
    "# Data Pre-Processing and visulization"
   ]
  },
  {
   "cell_type": "code",
   "execution_count": null,
   "metadata": {
    "id": "LgWrDtZ94w89"
   },
   "outputs": [],
   "source": [
    "# Drop the image column because I don't think we need it\n",
    "df = df.drop('image')"
   ]
  },
  {
   "cell_type": "code",
   "execution_count": null,
   "metadata": {
    "id": "HoBwuSpS0a_A"
   },
   "outputs": [],
   "source": [
    "from pyspark.sql.functions import col, when, length, unix_timestamp, to_date\n",
    "\n",
    "# Handling missing values: For simplicity, we'll drop rows with any NULLs\n",
    "df = df.na.drop()\n",
    "\n",
    "# Filtering out unverified reviews\n",
    "df = df.filter(col('verified') == True)\n",
    "\n",
    "# Feature Engineering - creating a new feature for the length of the reviewText\n",
    "df = df.withColumn('reviewText_length', length(col('reviewText')))\n"
   ]
  },
  {
   "cell_type": "code",
   "execution_count": null,
   "metadata": {
    "colab": {
     "base_uri": "https://localhost:8080/"
    },
    "id": "7K4J7Ww92DLo",
    "outputId": "7810957f-2851-4b36-9834-31bb22726bb6"
   },
   "outputs": [
    {
     "name": "stdout",
     "output_type": "stream",
     "text": [
      "+----------+-------+--------------------+-----------+--------------+-------------+--------------------+--------------------+--------------+--------+----+-----------------+\n",
      "|      asin|overall|          reviewText| reviewTime|    reviewerID| reviewerName|               style|             summary|unixReviewTime|verified|vote|reviewText_length|\n",
      "+----------+-------+--------------------+-----------+--------------+-------------+--------------------+--------------------+--------------+--------+----+-----------------+\n",
      "|1587790637|    5.0|I love everything...| 08 3, 2014| ALORN8T3UJC88| Ji Sung Moon|{null, null, null...|Great studying ma...|    1407024000|    true|   6|              390|\n",
      "|1587790637|    2.0|Disappointed with...| 06 9, 2014|A2DR04A9BINUE6|        Becky|{null, null, null...|             Creased|    1402272000|    true|   4|              157|\n",
      "|1587790637|    1.0|Very poor packagi...| 04 8, 2014|A39NP41GNG6DJT|  Nicole Ryan|{null, null, null...|Poster bent and w...|    1396915200|    true|   8|              286|\n",
      "|1587790637|    5.0|Clear font, easy ...| 04 1, 2017|A22L35OKSZBXE6|  Outdoorsy29|{null, null, null...|        easy to read|    1491004800|    true|   2|               81|\n",
      "|1587790637|    5.0|Great image quali...|10 15, 2016| A8QBLKY1N72GG|LovelyNutty31|{null, null, null...|           Recommend|    1476489600|    true|   3|              217|\n",
      "|1587790637|    5.0|This poster is aw...|03 27, 2016|A1NBP94KU536L6|  Esther Hong|{null, null, null...|Perfect for med/n...|    1459036800|    true|   2|              289|\n",
      "|1587790637|    2.0|The product itsel...|09 30, 2015|A32AJ6YUG1FCQY|         Mary|{null, null, null...|The product itsel...|    1443571200|    true|   2|              179|\n",
      "|1587790637|    2.0|Came in poor cond...|03 23, 2015| AHX9VS31SMYWN|    Ronnie Yu|{null, null, null...|           Two Stars|    1427068800|    true|   4|              103|\n",
      "|B0000223SK|    5.0|When working with...|01 15, 2012| AKPWF09K5F5OZ|Marge Wellman|{null, null, null...|       Lasts & Lasts|    1326585600|    true|   2|              128|\n",
      "|B0000223SK|    5.0|Lasts for several...|12 14, 2011|A29ATM05PXSQY7|      Mr Phil|{null, null, null...|   Serious sandpaper|    1323820800|    true|   5|              246|\n",
      "+----------+-------+--------------------+-----------+--------------+-------------+--------------------+--------------------+--------------+--------+----+-----------------+\n",
      "only showing top 10 rows\n",
      "\n"
     ]
    }
   ],
   "source": [
    "# Show the processed DataFrame\n",
    "df.show(10)"
   ]
  },
  {
   "cell_type": "code",
   "execution_count": null,
   "metadata": {
    "colab": {
     "base_uri": "https://localhost:8080/",
     "height": 564
    },
    "id": "AH_C-uRAu5G-",
    "outputId": "32bb7fa5-58e4-4940-e1cc-aca61a0789c7"
   },
   "outputs": [
    {
     "name": "stderr",
     "output_type": "stream",
     "text": [
      "                                                                                \r"
     ]
    },
    {
     "data": {
      "image/png": "[encoded data removed]",
      "text/plain": [
       "<Figure size 1000x600 with 1 Axes>"
      ]
     },
     "metadata": {},
     "output_type": "display_data"
    }
   ],
   "source": [
    "import matplotlib.pyplot as plt\n",
    "\n",
    "review_lengths = df.select('reviewText_length').rdd.flatMap(lambda x: x).collect()\n",
    "\n",
    "# Now convert this list to a Pandas Series\n",
    "pd_series = pd.Series(review_lengths)\n",
    "\n",
    "# Plotting the distribution of reviewText_length using Pandas/Matplotlib\n",
    "plt.figure(figsize=(10, 6))\n",
    "pd_series.hist(bins=50)  # Adjust the number of bins for your specific dataset\n",
    "plt.title('Distribution of Review Text Lengths')\n",
    "plt.xlabel('Review Text Length')\n",
    "plt.ylabel('Count')\n",
    "plt.grid(False)\n",
    "plt.show()"
   ]
  },
  {
   "cell_type": "code",
   "execution_count": null,
   "metadata": {
    "id": "LSoJRRFQ2ApP"
   },
   "outputs": [],
   "source": [
    "# Example of filtering based on a condition, such as reviews that are too short/long might be outliers\n",
    "df = df.filter(col('reviewText_length') > 10)  # Example threshold\n",
    "\n",
    "df = df.filter(col('reviewText_length') < 1000)  # Example threshold"
   ]
  },
  {
   "cell_type": "code",
   "execution_count": null,
   "metadata": {
    "id": "4yIjISgc1xjx"
   },
   "outputs": [],
   "source": [
    "# Text Processing - cleaning the review text, tokenizing, and removing stop words (simplified example)\n",
    "from pyspark.ml.feature import Tokenizer, StopWordsRemover\n",
    "tokenizer = Tokenizer(inputCol='reviewText', outputCol='reviewText_tokens')\n",
    "df = tokenizer.transform(df)\n",
    "remover = StopWordsRemover(inputCol='reviewText_tokens', outputCol='reviewText_clean')\n",
    "df = remover.transform(df)"
   ]
  },
  {
   "cell_type": "code",
   "execution_count": null,
   "metadata": {
    "colab": {
     "base_uri": "https://localhost:8080/"
    },
    "id": "RRKiCOYH1Ysa",
    "outputId": "089447bd-7007-4edf-cf2d-ba89c00c8af4"
   },
   "outputs": [
    {
     "name": "stdout",
     "output_type": "stream",
     "text": [
      "+----------+-------+--------------------+-----------+--------------+-------------+--------------------+--------------------+--------------+--------+----+-----------------+--------------------+--------------------+\n",
      "|      asin|overall|          reviewText| reviewTime|    reviewerID| reviewerName|               style|             summary|unixReviewTime|verified|vote|reviewText_length|   reviewText_tokens|    reviewText_clean|\n",
      "+----------+-------+--------------------+-----------+--------------+-------------+--------------------+--------------------+--------------+--------+----+-----------------+--------------------+--------------------+\n",
      "|1587790637|    5.0|I love everything...| 08 3, 2014| ALORN8T3UJC88| Ji Sung Moon|{null, null, null...|Great studying ma...|    1407024000|    true|   6|              390|[i, love, everyth...|[love, everything...|\n",
      "|1587790637|    2.0|Disappointed with...| 06 9, 2014|A2DR04A9BINUE6|        Becky|{null, null, null...|             Creased|    1402272000|    true|   4|              157|[disappointed, wi...|[disappointed, pr...|\n",
      "|1587790637|    1.0|Very poor packagi...| 04 8, 2014|A39NP41GNG6DJT|  Nicole Ryan|{null, null, null...|Poster bent and w...|    1396915200|    true|   8|              286|[very, poor, pack...|[poor, packaging!...|\n",
      "|1587790637|    5.0|Clear font, easy ...| 04 1, 2017|A22L35OKSZBXE6|  Outdoorsy29|{null, null, null...|        easy to read|    1491004800|    true|   2|               81|[clear, font,, ea...|[clear, font,, ea...|\n",
      "|1587790637|    5.0|Great image quali...|10 15, 2016| A8QBLKY1N72GG|LovelyNutty31|{null, null, null...|           Recommend|    1476489600|    true|   3|              217|[great, image, qu...|[great, image, qu...|\n",
      "|1587790637|    5.0|This poster is aw...|03 27, 2016|A1NBP94KU536L6|  Esther Hong|{null, null, null...|Perfect for med/n...|    1459036800|    true|   2|              289|[this, poster, is...|[poster, awesome!...|\n",
      "|1587790637|    2.0|The product itsel...|09 30, 2015|A32AJ6YUG1FCQY|         Mary|{null, null, null...|The product itsel...|    1443571200|    true|   2|              179|[the, product, it...|[product, great.,...|\n",
      "|1587790637|    2.0|Came in poor cond...|03 23, 2015| AHX9VS31SMYWN|    Ronnie Yu|{null, null, null...|           Two Stars|    1427068800|    true|   4|              103|[came, in, poor, ...|[came, poor, cond...|\n",
      "|B0000223SK|    5.0|When working with...|01 15, 2012| AKPWF09K5F5OZ|Marge Wellman|{null, null, null...|       Lasts & Lasts|    1326585600|    true|   2|              128|[when, working, w...|[working, hard, w...|\n",
      "|B0000223SK|    5.0|Lasts for several...|12 14, 2011|A29ATM05PXSQY7|      Mr Phil|{null, null, null...|   Serious sandpaper|    1323820800|    true|   5|              246|[lasts, for, seve...|[lasts, several, ...|\n",
      "+----------+-------+--------------------+-----------+--------------+-------------+--------------------+--------------------+--------------+--------+----+-----------------+--------------------+--------------------+\n",
      "only showing top 10 rows\n",
      "\n"
     ]
    }
   ],
   "source": [
    "# Show the processed DataFrame\n",
    "df.show(10)"
   ]
  },
  {
   "cell_type": "code",
   "execution_count": null,
   "metadata": {
    "id": "WqZcdGp-5cui"
   },
   "outputs": [],
   "source": [
    "from pyspark.sql.functions import when, col, length, split\n",
    "\n",
    "# Split reviewTime into day, month, and year\n",
    "split_col = split(df['reviewTime'], ' ')\n",
    "df = df.withColumn('Day', split_col.getItem(0))\n",
    "df = df.withColumn('Month', split_col.getItem(1).substr(0,2))\n",
    "df = df.withColumn('Year', split_col.getItem(2))\n",
    "df = df.drop('reviewTime')\n",
    "\n",
    "# Convert 'vote' to integer type\n",
    "df = df.withColumn('vote', df['vote'].cast('int'))"
   ]
  },
  {
   "cell_type": "code",
   "execution_count": null,
   "metadata": {
    "colab": {
     "base_uri": "https://localhost:8080/"
    },
    "id": "jl6pleTn6xRy",
    "outputId": "66f4499d-d4f6-419a-ea62-39b8cd8ef432"
   },
   "outputs": [
    {
     "name": "stdout",
     "output_type": "stream",
     "text": [
      "+----------+-------+--------------------+--------------+-------------+--------------------+--------------------+--------------+--------+----+-----------------+--------------------+--------------------+---+-----+----+\n",
      "|      asin|overall|          reviewText|    reviewerID| reviewerName|               style|             summary|unixReviewTime|verified|vote|reviewText_length|   reviewText_tokens|    reviewText_clean|Day|Month|Year|\n",
      "+----------+-------+--------------------+--------------+-------------+--------------------+--------------------+--------------+--------+----+-----------------+--------------------+--------------------+---+-----+----+\n",
      "|1587790637|    5.0|I love everything...| ALORN8T3UJC88| Ji Sung Moon|{null, null, null...|Great studying ma...|    1407024000|    true|   6|              390|[i, love, everyth...|[love, everything...| 08|   3,|2014|\n",
      "|1587790637|    2.0|Disappointed with...|A2DR04A9BINUE6|        Becky|{null, null, null...|             Creased|    1402272000|    true|   4|              157|[disappointed, wi...|[disappointed, pr...| 06|   9,|2014|\n",
      "|1587790637|    1.0|Very poor packagi...|A39NP41GNG6DJT|  Nicole Ryan|{null, null, null...|Poster bent and w...|    1396915200|    true|   8|              286|[very, poor, pack...|[poor, packaging!...| 04|   8,|2014|\n",
      "|1587790637|    5.0|Clear font, easy ...|A22L35OKSZBXE6|  Outdoorsy29|{null, null, null...|        easy to read|    1491004800|    true|   2|               81|[clear, font,, ea...|[clear, font,, ea...| 04|   1,|2017|\n",
      "|1587790637|    5.0|Great image quali...| A8QBLKY1N72GG|LovelyNutty31|{null, null, null...|           Recommend|    1476489600|    true|   3|              217|[great, image, qu...|[great, image, qu...| 10|   15|2016|\n",
      "|1587790637|    5.0|This poster is aw...|A1NBP94KU536L6|  Esther Hong|{null, null, null...|Perfect for med/n...|    1459036800|    true|   2|              289|[this, poster, is...|[poster, awesome!...| 03|   27|2016|\n",
      "|1587790637|    2.0|The product itsel...|A32AJ6YUG1FCQY|         Mary|{null, null, null...|The product itsel...|    1443571200|    true|   2|              179|[the, product, it...|[product, great.,...| 09|   30|2015|\n",
      "|1587790637|    2.0|Came in poor cond...| AHX9VS31SMYWN|    Ronnie Yu|{null, null, null...|           Two Stars|    1427068800|    true|   4|              103|[came, in, poor, ...|[came, poor, cond...| 03|   23|2015|\n",
      "|B0000223SK|    5.0|When working with...| AKPWF09K5F5OZ|Marge Wellman|{null, null, null...|       Lasts & Lasts|    1326585600|    true|   2|              128|[when, working, w...|[working, hard, w...| 01|   15|2012|\n",
      "|B0000223SK|    5.0|Lasts for several...|A29ATM05PXSQY7|      Mr Phil|{null, null, null...|   Serious sandpaper|    1323820800|    true|   5|              246|[lasts, for, seve...|[lasts, several, ...| 12|   14|2011|\n",
      "+----------+-------+--------------------+--------------+-------------+--------------------+--------------------+--------------+--------+----+-----------------+--------------------+--------------------+---+-----+----+\n",
      "only showing top 10 rows\n",
      "\n"
     ]
    }
   ],
   "source": [
    "df.show(10)"
   ]
  },
  {
   "cell_type": "code",
   "execution_count": null,
   "metadata": {
    "colab": {
     "base_uri": "https://localhost:8080/"
    },
    "id": "LCawwLrJ2wv5",
    "outputId": "20b71eeb-3473-4b41-83e3-731fa820acf6"
   },
   "outputs": [
    {
     "name": "stderr",
     "output_type": "stream",
     "text": [
      "                                                                                \r"
     ]
    },
    {
     "data": {
      "text/plain": [
       "44622"
      ]
     },
     "execution_count": 14,
     "metadata": {},
     "output_type": "execute_result"
    }
   ],
   "source": [
    "df.select('reviewerName').distinct().count()"
   ]
  },
  {
   "cell_type": "code",
   "execution_count": null,
   "metadata": {
    "colab": {
     "base_uri": "https://localhost:8080/"
    },
    "id": "VdBoW7v721fO",
    "outputId": "a749bec3-f3f1-4a45-e62a-fd6600c8cb07"
   },
   "outputs": [
    {
     "name": "stderr",
     "output_type": "stream",
     "text": [
      "                                                                                \r"
     ]
    },
    {
     "data": {
      "text/plain": [
       "7425"
      ]
     },
     "execution_count": 15,
     "metadata": {},
     "output_type": "execute_result"
    }
   ],
   "source": [
    "df.select('asin').distinct().count()"
   ]
  },
  {
   "cell_type": "code",
   "execution_count": null,
   "metadata": {
    "id": "IDu-xVsaDMh-",
    "outputId": "c4eb4166-82e2-490e-8c4b-1a9eed163305"
   },
   "outputs": [
    {
     "name": "stderr",
     "output_type": "stream",
     "text": [
      "                                                                                \r"
     ]
    }
   ],
   "source": [
    "from pyspark.sql.functions import avg, count\n",
    "\n",
    "# Average rating\n",
    "average_rating = df.agg(avg(\"overall\")).first()[0]\n",
    "\n",
    "# Count of reviews for each asin\n",
    "reviews_per_asin = df.groupBy(\"asin\").agg(count(\"reviewerID\").alias(\"Number_of_Reviews\"))\n",
    "\n",
    "# Summary for vote column\n",
    "votes_summary = df.describe(['vote'])\n",
    "\n"
   ]
  },
  {
   "cell_type": "code",
   "execution_count": null,
   "metadata": {
    "id": "oseS27cytWcg"
   },
   "outputs": [],
   "source": [
    "# Count of reviews for each reviewer\n",
    "reviews_per_reviewers = df.groupBy(\"reviewerID\").agg(count(\"asin\").alias(\"Number_of_Reviews\"))"
   ]
  },
  {
   "cell_type": "code",
   "execution_count": null,
   "metadata": {
    "id": "CceniMOxrS8o"
   },
   "outputs": [],
   "source": [
    "votes_summary"
   ]
  },
  {
   "cell_type": "code",
   "execution_count": null,
   "metadata": {
    "id": "6OHclZxHDPTE"
   },
   "outputs": [],
   "source": [
    "\n",
    "\n",
    "# Convert Spark DataFrame to Pandas for Visualization\n",
    "pdf = df.toPandas()\n",
    "reviews_per_asin_pdf = reviews_per_asin.toPandas()\n",
    "\n",
    "# Histogram for overall ratings\n",
    "plt.figure(figsize=(10, 6))\n",
    "pdf['overall'].hist()\n",
    "plt.title('Distribution of Overall Ratings')\n",
    "plt.xlabel('Rating')\n",
    "plt.ylabel('Count')\n",
    "plt.grid(False)\n",
    "plt.show()\n",
    "\n",
    "# Plotting the pie chart for overall ratings\n",
    "rating_counts = pdf['overall'].value_counts().sort_index()\n",
    "plt.figure(figsize=(10, 6))\n",
    "plt.pie(rating_counts, labels=rating_counts.index, autopct='%1.1f%%', startangle=140)\n",
    "plt.title('Distribution of Overall Ratings')\n",
    "plt.axis('equal')  # Equal aspect ratio ensures that pie is drawn as a circle.\n",
    "plt.show()\n",
    "\n",
    "\n"
   ]
  },
  {
   "cell_type": "code",
   "execution_count": null,
   "metadata": {
    "id": "MGZpqoW9s-68"
   },
   "outputs": [],
   "source": [
    "\n",
    "# Bar chart for number of reviews for each asin\n",
    "top_reviews_per_asin_pdf = reviews_per_asin_pdf.sort_values(by='Number_of_Reviews', ascending=False).head(100)\n",
    "plt.figure(figsize=(10, 6))\n",
    "# Set the 'asin' as the index and plot the 'review_count' column\n",
    "top_reviews_per_asin_pdf.set_index('asin')['Number_of_Reviews'].plot(kind='bar', legend=False)\n",
    "plt.title('Number of Reviews for Top 100 ASINs')\n",
    "plt.ylabel('Count')\n",
    "plt.xlabel('ASIN')\n",
    "plt.grid(False)\n",
    "plt.tight_layout()\n",
    "plt.show()"
   ]
  },
  {
   "cell_type": "code",
   "execution_count": null,
   "metadata": {
    "id": "ZY61YbgAtiE8"
   },
   "outputs": [],
   "source": [
    "# Bar chart for number of reviews for each reviewers\n",
    "reviews_per_reviewers_pdf = reviews_per_reviewers.toPandas()\n",
    "\n",
    "top_reviews_per_reviewers_pdf = reviews_per_reviewers_pdf.sort_values(by='Number_of_Reviews', ascending=False).head(100)\n",
    "plt.figure(figsize=(10, 6))\n",
    "# Set the 'reviewers' as the index and plot the 'review_count' column\n",
    "top_reviews_per_reviewers_pdf.set_index('reviewerID')['Number_of_Reviews'].plot(kind='bar', legend=False)\n",
    "plt.title('Number of Reviews for Top 100 reviewers')\n",
    "plt.ylabel('Count')\n",
    "plt.xlabel('reviewers')\n",
    "plt.grid(False)\n",
    "plt.tight_layout()\n",
    "plt.show()"
   ]
  },
  {
   "cell_type": "code",
   "execution_count": null,
   "metadata": {
    "id": "q_QVtyi4Ewab"
   },
   "outputs": [],
   "source": [
    "# Convert reviewText and summary columns to a single string\n",
    "review_text_str = ' '.join(df.rdd.map(lambda row: row.reviewText).collect())\n",
    "summary_str = ' '.join(df.rdd.map(lambda row: row.summary).collect())"
   ]
  },
  {
   "cell_type": "code",
   "execution_count": null,
   "metadata": {
    "id": "0UBh50DFFI1l"
   },
   "outputs": [],
   "source": [
    "from wordcloud import WordCloud\n",
    "import matplotlib.pyplot as plt\n",
    "\n",
    "def generate_word_cloud(text, title):\n",
    "    wordcloud = WordCloud(width=800, height=400, background_color='white').generate(text)\n",
    "    plt.figure(figsize=(10, 5))\n",
    "    plt.imshow(wordcloud, interpolation='bilinear')\n",
    "    plt.axis('off')\n",
    "    plt.title(title)\n",
    "    plt.show()\n",
    "\n",
    "generate_word_cloud(review_text_str, \"Word Cloud for Review Text\")\n",
    "generate_word_cloud(summary_str, \"Word Cloud for Summary\")\n"
   ]
  },
  {
   "cell_type": "markdown",
   "metadata": {
    "id": "PUuVywIXGZNy"
   },
   "source": [
    "# Data Splitting"
   ]
  },
  {
   "cell_type": "code",
   "execution_count": null,
   "metadata": {
    "id": "ykMVDl2rGZNz",
    "outputId": "2b2264dd-68b8-4946-e56c-15554cc3ae25"
   },
   "outputs": [
    {
     "name": "stderr",
     "output_type": "stream",
     "text": [
      "                                                                                \r"
     ]
    }
   ],
   "source": [
    "## Data Splitting\n",
    "from pyspark.ml.feature import StringIndexer\n",
    "\n",
    "# Indexing is required to convert string identifiers to numeric indices for the ALS algorithm\n",
    "indexer_user = StringIndexer(inputCol=\"reviewerID\", outputCol=\"userIndex\")\n",
    "df = indexer_user.fit(df).transform(df)\n",
    "\n",
    "indexer_item = StringIndexer(inputCol=\"asin\", outputCol=\"itemIndex\")\n",
    "df = indexer_item.fit(df).transform(df)\n",
    "# Add seed 1\n",
    "(train, test) = df.randomSplit([0.8, 0.2],1)"
   ]
  },
  {
   "cell_type": "markdown",
   "metadata": {
    "id": "Az7mi7WwkR5f",
    "jp-MarkdownHeadingCollapsed": true,
    "tags": []
   },
   "source": [
    "## ALS (collabortaive filtering)\n",
    "refer: https://www.kaggle.com/code/nadianizam/h-m-fashion-recommendation-with-pyspark"
   ]
  },
  {
   "cell_type": "code",
   "execution_count": null,
   "metadata": {
    "id": "xVGz5N03kT7T"
   },
   "outputs": [],
   "source": [
    "from pyspark.ml.recommendation import ALS\n",
    "from pyspark.ml.evaluation import RegressionEvaluator\n",
    "\n",
    "# Setting up the ALS model\n",
    "als = ALS(maxIter=5, regParam=0.01, userCol=\"userIndex\", itemCol=\"itemIndex\", ratingCol=\"overall\", coldStartStrategy=\"drop\")\n",
    "\n",
    "# Fitting the ALS model on the training data\n",
    "model = als.fit(train)\n",
    "\n",
    "# Predicting on the train and test sets\n",
    "predictions_train = model.transform(train)\n",
    "predictions_test = model.transform(test)\n",
    "\n",
    "# Create an RMSE evaluator using the label and predicted columns\n",
    "reg_evaluator = RegressionEvaluator(metricName=\"rmse\", labelCol=\"overall\", predictionCol=\"prediction\")\n",
    "\n",
    "# Evaluate the model on training data\n",
    "rmse_train = reg_evaluator.evaluate(predictions_train)\n",
    "\n",
    "# Evaluate the model on test data\n",
    "rmse_test = reg_evaluator.evaluate(predictions_test)\n"
   ]
  },
  {
   "cell_type": "code",
   "execution_count": null,
   "metadata": {
    "id": "SIkh4pJbkT-_"
   },
   "outputs": [],
   "source": [
    "rmse_train"
   ]
  },
  {
   "cell_type": "code",
   "execution_count": null,
   "metadata": {
    "id": "h4t13CqrkUCj"
   },
   "outputs": [],
   "source": [
    "rmse_test"
   ]
  },
  {
   "cell_type": "markdown",
   "metadata": {
    "id": "JeLO7apex1pt",
    "tags": []
   },
   "source": [
    "# GNN"
   ]
  },
  {
   "cell_type": "code",
   "execution_count": 1,
   "metadata": {
    "colab": {
     "base_uri": "https://localhost:8080/"
    },
    "id": "WrR_GanHyVEe",
    "outputId": "aea8a160-ac09-4be3-c8cc-9a2c8ce016df"
   },
   "outputs": [
    {
     "name": "stdout",
     "output_type": "stream",
     "text": [
      "Defaulting to user installation because normal site-packages is not writeable\n",
      "Looking in indexes: https://pypi.org/simple, https://pypi.ngc.nvidia.com\n",
      "Requirement already satisfied: torch in /usr/local/lib/python3.10/dist-packages (2.1.0a0+29c30b1)\n",
      "Requirement already satisfied: torchvision in /usr/local/lib/python3.10/dist-packages (0.16.0a0)\n",
      "Requirement already satisfied: filelock in /usr/local/lib/python3.10/dist-packages (from torch) (3.12.2)\n",
      "Requirement already satisfied: typing-extensions in /usr/local/lib/python3.10/dist-packages (from torch) (4.7.1)\n",
      "Requirement already satisfied: sympy in /usr/local/lib/python3.10/dist-packages (from torch) (1.12)\n",
      "Requirement already satisfied: networkx in /usr/local/lib/python3.10/dist-packages (from torch) (3.1)\n",
      "Requirement already satisfied: jinja2 in /usr/local/lib/python3.10/dist-packages (from torch) (3.1.2)\n",
      "Requirement already satisfied: fsspec in /usr/local/lib/python3.10/dist-packages (from torch) (2023.6.0)\n",
      "Requirement already satisfied: numpy in /usr/local/lib/python3.10/dist-packages (from torchvision) (1.22.2)\n",
      "Requirement already satisfied: requests in /usr/local/lib/python3.10/dist-packages (from torchvision) (2.31.0)\n",
      "Requirement already satisfied: pillow!=8.3.*,>=5.3.0 in /usr/local/lib/python3.10/dist-packages (from torchvision) (9.2.0)\n",
      "Requirement already satisfied: MarkupSafe>=2.0 in /usr/local/lib/python3.10/dist-packages (from jinja2->torch) (2.1.3)\n",
      "Requirement already satisfied: charset-normalizer<4,>=2 in /usr/local/lib/python3.10/dist-packages (from requests->torchvision) (3.2.0)\n",
      "Requirement already satisfied: idna<4,>=2.5 in /usr/local/lib/python3.10/dist-packages (from requests->torchvision) (3.4)\n",
      "Requirement already satisfied: urllib3<3,>=1.21.1 in /usr/local/lib/python3.10/dist-packages (from requests->torchvision) (1.26.16)\n",
      "Requirement already satisfied: certifi>=2017.4.17 in /usr/local/lib/python3.10/dist-packages (from requests->torchvision) (2023.7.22)\n",
      "Requirement already satisfied: mpmath>=0.19 in /usr/local/lib/python3.10/dist-packages (from sympy->torch) (1.3.0)\n",
      "\n",
      "\u001b[1m[\u001b[0m\u001b[34;49mnotice\u001b[0m\u001b[1;39;49m]\u001b[0m\u001b[39;49m A new release of pip is available: \u001b[0m\u001b[31;49m23.2.1\u001b[0m\u001b[39;49m -> \u001b[0m\u001b[32;49m23.3.1\u001b[0m\n",
      "\u001b[1m[\u001b[0m\u001b[34;49mnotice\u001b[0m\u001b[1;39;49m]\u001b[0m\u001b[39;49m To update, run: \u001b[0m\u001b[32;49mpython -m pip install --upgrade pip\u001b[0m\n",
      "Defaulting to user installation because normal site-packages is not writeable\n",
      "Looking in indexes: https://pypi.org/simple, https://pypi.ngc.nvidia.com\n",
      "Requirement already satisfied: torch-geometric in /usr/local/lib/python3.10/dist-packages (2.3.1)\n",
      "Requirement already satisfied: tqdm in /usr/local/lib/python3.10/dist-packages (from torch-geometric) (4.65.0)\n",
      "Requirement already satisfied: numpy in /usr/local/lib/python3.10/dist-packages (from torch-geometric) (1.22.2)\n",
      "Requirement already satisfied: scipy in /usr/local/lib/python3.10/dist-packages (from torch-geometric) (1.11.1)\n",
      "Requirement already satisfied: jinja2 in /usr/local/lib/python3.10/dist-packages (from torch-geometric) (3.1.2)\n",
      "Requirement already satisfied: requests in /usr/local/lib/python3.10/dist-packages (from torch-geometric) (2.31.0)\n",
      "Requirement already satisfied: pyparsing in /usr/local/lib/python3.10/dist-packages (from torch-geometric) (3.0.9)\n",
      "Requirement already satisfied: scikit-learn in /usr/local/lib/python3.10/dist-packages (from torch-geometric) (1.2.0)\n",
      "Requirement already satisfied: psutil>=5.8.0 in /usr/local/lib/python3.10/dist-packages (from torch-geometric) (5.9.4)\n",
      "Requirement already satisfied: MarkupSafe>=2.0 in /usr/local/lib/python3.10/dist-packages (from jinja2->torch-geometric) (2.1.3)\n",
      "Requirement already satisfied: charset-normalizer<4,>=2 in /usr/local/lib/python3.10/dist-packages (from requests->torch-geometric) (3.2.0)\n",
      "Requirement already satisfied: idna<4,>=2.5 in /usr/local/lib/python3.10/dist-packages (from requests->torch-geometric) (3.4)\n",
      "Requirement already satisfied: urllib3<3,>=1.21.1 in /usr/local/lib/python3.10/dist-packages (from requests->torch-geometric) (1.26.16)\n",
      "Requirement already satisfied: certifi>=2017.4.17 in /usr/local/lib/python3.10/dist-packages (from requests->torch-geometric) (2023.7.22)\n",
      "Requirement already satisfied: joblib>=1.1.1 in /usr/local/lib/python3.10/dist-packages (from scikit-learn->torch-geometric) (1.3.1)\n",
      "Requirement already satisfied: threadpoolctl>=2.0.0 in /usr/local/lib/python3.10/dist-packages (from scikit-learn->torch-geometric) (3.2.0)\n",
      "\n",
      "\u001b[1m[\u001b[0m\u001b[34;49mnotice\u001b[0m\u001b[1;39;49m]\u001b[0m\u001b[39;49m A new release of pip is available: \u001b[0m\u001b[31;49m23.2.1\u001b[0m\u001b[39;49m -> \u001b[0m\u001b[32;49m23.3.1\u001b[0m\n",
      "\u001b[1m[\u001b[0m\u001b[34;49mnotice\u001b[0m\u001b[1;39;49m]\u001b[0m\u001b[39;49m To update, run: \u001b[0m\u001b[32;49mpython -m pip install --upgrade pip\u001b[0m\n"
     ]
    }
   ],
   "source": [
    "!pip install torch torchvision\n",
    "!pip install torch-geometric"
   ]
  },
  {
   "cell_type": "code",
   "execution_count": null,
   "metadata": {
    "colab": {
     "base_uri": "https://localhost:8080/"
    },
    "id": "kJjbMhwkGZN6",
    "outputId": "eaef0ab5-8130-4865-b0c5-c91496e8c954",
    "tags": []
   },
   "outputs": [
    {
     "name": "stdout",
     "output_type": "stream",
     "text": [
      "\u001b[2K     \u001b[90m━━━━━━━━━━━━━━━━━━━━━━━━━━━━━━━━━━━━━━━━\u001b[0m \u001b[32m1.2/1.2 MB\u001b[0m \u001b[31m10.3 MB/s\u001b[0m eta \u001b[36m0:00:00\u001b[0m\n",
      "\u001b[2K     \u001b[90m━━━━━━━━━━━━━━━━━━━━━━━━━━━━━━━━━━━━━━━━\u001b[0m \u001b[32m494.1/494.1 kB\u001b[0m \u001b[31m13.7 MB/s\u001b[0m eta \u001b[36m0:00:00\u001b[0m\n",
      "\u001b[2K     \u001b[90m━━━━━━━━━━━━━━━━━━━━━━━━━━━━━━━━━━━━━━━━\u001b[0m \u001b[32m1.2/1.2 MB\u001b[0m \u001b[31m61.6 MB/s\u001b[0m eta \u001b[36m0:00:00\u001b[0m\n",
      "\u001b[2K     \u001b[90m━━━━━━━━━━━━━━━━━━━━━━━━━━━━━━━━━━━━━━━━\u001b[0m \u001b[32m751.3/751.3 kB\u001b[0m \u001b[31m46.0 MB/s\u001b[0m eta \u001b[36m0:00:00\u001b[0m\n",
      "\u001b[2K     \u001b[90m━━━━━━━━━━━━━━━━━━━━━━━━━━━━━━━━━━━━━━━━\u001b[0m \u001b[32m208.1/208.1 kB\u001b[0m \u001b[31m23.7 MB/s\u001b[0m eta \u001b[36m0:00:00\u001b[0m\n",
      "\u001b[?25h"
     ]
    }
   ],
   "source": [
    "!pip install -q pyg_lib torch_scatter torch_sparse torch_cluster torch_spline_conv -f https://data.pyg.org/whl/torch-2.0.0+cpu.html"
   ]
  },
  {
   "cell_type": "code",
   "execution_count": 1,
   "metadata": {
    "id": "YikBytXdGZN6",
    "tags": []
   },
   "outputs": [],
   "source": [
    "# Standard library imports\n",
    "import random\n",
    "import time\n",
    "\n",
    "# Third-party imports\n",
    "# import networkx as nx\n",
    "# pd.set_option('display.max_colwidth', None)\n",
    "\n",
    "import torch\n",
    "import torch.nn as nn\n",
    "import torch.nn.functional as F\n",
    "import torch.optim as optim\n",
    "# from torch.utils.data import Dataset, DataLoader\n",
    "import torch_geometric\n",
    "from torch_geometric.nn.conv import MessagePassing\n",
    "from torch_geometric.utils import degree\n",
    "\n",
    "from tqdm.notebook import tqdm\n",
    "from sklearn import preprocessing as pp\n",
    "from sklearn.model_selection import train_test_split\n",
    "import scipy.sparse as sp\n",
    "import pandas as pd"
   ]
  },
  {
   "cell_type": "code",
   "execution_count": 2,
   "metadata": {
    "id": "uEIXzWg_wvOG"
   },
   "outputs": [],
   "source": [
    "# columns = [\"overall\",\"itemIndex\",\"userIndex\"]\n",
    "# train = train.select(columns)\n",
    "# test = test.select(columns)\n",
    "# train_df = train.toPandas()\n",
    "# test_df = test.toPandas()\n",
    "train_df = pd.read_csv('gnn_train.csv')\n",
    "test_df = pd.read_csv('gnn_test.csv')"
   ]
  },
  {
   "cell_type": "code",
   "execution_count": 36,
   "metadata": {
    "id": "g-TNPDqCGZN7",
    "tags": []
   },
   "outputs": [],
   "source": [
    "# train_df.to_csv('gnn_train.csv',index = False)\n",
    "test_df.to_csv('gnn_test.csv',index = False)"
   ]
  },
  {
   "cell_type": "code",
   "execution_count": 4,
   "metadata": {
    "colab": {
     "base_uri": "https://localhost:8080/",
     "height": 35
    },
    "id": "5euM0Dd21S6-",
    "outputId": "ac787e42-86b2-4587-acb5-9a9d966180ed"
   },
   "outputs": [
    {
     "data": {
      "text/plain": [
       "'2.3.1'"
      ]
     },
     "execution_count": 4,
     "metadata": {},
     "output_type": "execute_result"
    }
   ],
   "source": [
    "torch_geometric.__version__"
   ]
  },
  {
   "cell_type": "code",
   "execution_count": 5,
   "metadata": {
    "colab": {
     "base_uri": "https://localhost:8080/"
    },
    "id": "AU-206xHGZN7",
    "outputId": "4808517c-4ae6-42fb-fc0c-f991a67a0671",
    "tags": []
   },
   "outputs": [
    {
     "data": {
      "text/plain": [
       "device(type='cuda', index=0)"
      ]
     },
     "execution_count": 5,
     "metadata": {},
     "output_type": "execute_result"
    }
   ],
   "source": [
    "device = torch.device(\"cuda:0\" if torch.cuda.is_available() else \"cpu\")\n",
    "device"
   ]
  },
  {
   "cell_type": "code",
   "execution_count": 6,
   "metadata": {
    "colab": {
     "base_uri": "https://localhost:8080/"
    },
    "id": "Vvwi2yhrGZN7",
    "outputId": "97f633a6-9566-4a52-b05a-fa4021166026",
    "tags": []
   },
   "outputs": [
    {
     "name": "stdout",
     "output_type": "stream",
     "text": [
      "Train Size  :  48495\n",
      "Test Size :  12181\n"
     ]
    }
   ],
   "source": [
    "print(\"Train Size  : \", len(train_df))\n",
    "print(\"Test Size : \", len (test_df))"
   ]
  },
  {
   "cell_type": "code",
   "execution_count": 7,
   "metadata": {
    "id": "lweBvSafGZN7",
    "tags": []
   },
   "outputs": [],
   "source": [
    "# Since we performed the train/test randomly on the interactions, not all users and items may be present in the training set. We will relabel all of users and items to ensure the highest label is the number of users and items, respectively."
   ]
  },
  {
   "cell_type": "code",
   "execution_count": 9,
   "metadata": {
    "id": "bMpG-aAxGZN7",
    "tags": []
   },
   "outputs": [],
   "source": [
    "le_user = pp.LabelEncoder()\n",
    "le_item = pp.LabelEncoder()\n",
    "train_df['user_id_idx'] = le_user.fit_transform(train_df['userIndex'].values)\n",
    "train_df['item_id_idx'] = le_item.fit_transform(train_df['itemIndex'].values)"
   ]
  },
  {
   "cell_type": "code",
   "execution_count": 10,
   "metadata": {
    "colab": {
     "base_uri": "https://localhost:8080/"
    },
    "id": "kCWsb8HjGZN7",
    "outputId": "fecbe519-c877-4725-f88d-477872f6d418",
    "tags": []
   },
   "outputs": [
    {
     "name": "stdout",
     "output_type": "stream",
     "text": [
      "45634 6867\n",
      "1305\n"
     ]
    }
   ],
   "source": [
    "train_user_ids = train_df['userIndex'].unique()\n",
    "train_item_ids = train_df['itemIndex'].unique()\n",
    "\n",
    "print(len(train_user_ids), len(train_item_ids))\n",
    "\n",
    "test_df = test_df[\n",
    "  (test_df['userIndex'].isin(train_user_ids)) & \\\n",
    "  (test_df['itemIndex'].isin(train_item_ids))\n",
    "]\n",
    "# test_df['user_known'] = test_df['userIndex'].isin(train_user_ids)\n",
    "# test_df['item_known'] = test_df['itemIndex'].isin(train_item_ids)\n",
    "\n",
    "print(len(test_df))"
   ]
  },
  {
   "cell_type": "code",
   "execution_count": 11,
   "metadata": {
    "id": "BvZtGpcfGZN7",
    "tags": []
   },
   "outputs": [],
   "source": [
    "test_df['user_id_idx'] = le_user.transform(test_df['userIndex'].values)\n",
    "test_df['item_id_idx'] = le_item.transform(test_df['itemIndex'].values)"
   ]
  },
  {
   "cell_type": "code",
   "execution_count": 12,
   "metadata": {
    "colab": {
     "base_uri": "https://localhost:8080/"
    },
    "id": "R5RE0pdUGZN7",
    "outputId": "69ce46ce-4079-479e-84d2-2b0747bc124c",
    "tags": []
   },
   "outputs": [
    {
     "name": "stdout",
     "output_type": "stream",
     "text": [
      "Number of Unique Users :  45634\n",
      "Number of unique Items :  6867\n"
     ]
    }
   ],
   "source": [
    "n_users = train_df['user_id_idx'].nunique()\n",
    "n_items = train_df['item_id_idx'].nunique()\n",
    "print(\"Number of Unique Users : \", n_users)\n",
    "print(\"Number of unique Items : \", n_items)"
   ]
  },
  {
   "cell_type": "code",
   "execution_count": 14,
   "metadata": {
    "colab": {
     "base_uri": "https://localhost:8080/"
    },
    "id": "EKGCYvtrGZN7",
    "outputId": "4452ba9d-15fa-4b4e-f321-f9d7e338d55f",
    "tags": []
   },
   "outputs": [
    {
     "data": {
      "text/plain": [
       "(tensor([  514,  1263,  1764,  2275,  5739,  8809,  8841,  9254,  9620, 22817,\n",
       "         23449, 23920, 28405, 40588, 44523, 45463], device='cuda:0'),\n",
       " tensor([45708, 45689, 47015, 45768, 46440, 46305, 45814, 48971, 46925, 45766,\n",
       "         45849, 45669, 45800, 45936, 46123, 46177], device='cuda:0'),\n",
       " tensor([48731, 46207, 47642, 51806, 45872, 47513, 51969, 50882, 51525, 46055,\n",
       "         52251, 49534, 48523, 50174, 45712, 50729], device='cuda:0'))"
      ]
     },
     "execution_count": 14,
     "metadata": {},
     "output_type": "execute_result"
    }
   ],
   "source": [
    "def data_loader(data, batch_size, n_usr, n_itm):\n",
    "\n",
    "    def sample_neg(x):\n",
    "        while True:\n",
    "            neg_id = random.randint(0, n_itm - 1)\n",
    "            if neg_id not in x:\n",
    "                return neg_id\n",
    "\n",
    "    interected_items_df = data.groupby('user_id_idx')['item_id_idx'].apply(list).reset_index()\n",
    "    indices = [x for x in range(n_usr)]\n",
    "\n",
    "    if n_usr < batch_size:\n",
    "        users = [random.choice(indices) for _ in range(batch_size)]\n",
    "    else:\n",
    "        users = random.sample(indices, batch_size)\n",
    "    users.sort()\n",
    "    users_df = pd.DataFrame(users,columns = ['users'])\n",
    "\n",
    "    interected_items_df = pd.merge(interected_items_df, users_df, how = 'right', left_on = 'user_id_idx', right_on = 'users')\n",
    "    pos_items = interected_items_df['item_id_idx'].apply(lambda x : random.choice(x)).values\n",
    "    neg_items = interected_items_df['item_id_idx'].apply(lambda x: sample_neg(x)).values\n",
    "\n",
    "    return (\n",
    "        torch.LongTensor(list(users)).to(device), \n",
    "        torch.LongTensor(list(pos_items)).to(device) + n_usr, \n",
    "        torch.LongTensor(list(neg_items)).to(device) + n_usr\n",
    "    )\n",
    "data_loader(train_df, 16, n_users, n_items)"
   ]
  },
  {
   "cell_type": "code",
   "execution_count": 15,
   "metadata": {
    "colab": {
     "base_uri": "https://localhost:8080/",
     "height": 423
    },
    "id": "pp7A9LN5JJ6x",
    "outputId": "9fc0003e-9d04-413e-acb9-197d04a734eb"
   },
   "outputs": [
    {
     "data": {
      "text/html": [
       "<div>\n",
       "<style scoped>\n",
       "    .dataframe tbody tr th:only-of-type {\n",
       "        vertical-align: middle;\n",
       "    }\n",
       "\n",
       "    .dataframe tbody tr th {\n",
       "        vertical-align: top;\n",
       "    }\n",
       "\n",
       "    .dataframe thead th {\n",
       "        text-align: right;\n",
       "    }\n",
       "</style>\n",
       "<table border=\"1\" class=\"dataframe\">\n",
       "  <thead>\n",
       "    <tr style=\"text-align: right;\">\n",
       "      <th></th>\n",
       "      <th>user_id_idx</th>\n",
       "      <th>item_id_idx</th>\n",
       "    </tr>\n",
       "  </thead>\n",
       "  <tbody>\n",
       "    <tr>\n",
       "      <th>0</th>\n",
       "      <td>0</td>\n",
       "      <td>[2426, 1079, 573, 458, 458, 170, 3428, 2928]</td>\n",
       "    </tr>\n",
       "    <tr>\n",
       "      <th>1</th>\n",
       "      <td>1</td>\n",
       "      <td>[248, 480, 5017, 36, 36, 1737, 1737]</td>\n",
       "    </tr>\n",
       "    <tr>\n",
       "      <th>2</th>\n",
       "      <td>2</td>\n",
       "      <td>[50, 1903, 1903, 1184, 1184, 285, 4291, 5774]</td>\n",
       "    </tr>\n",
       "    <tr>\n",
       "      <th>3</th>\n",
       "      <td>3</td>\n",
       "      <td>[1172, 1905, 459, 459, 859, 1942, 5453]</td>\n",
       "    </tr>\n",
       "    <tr>\n",
       "      <th>4</th>\n",
       "      <td>4</td>\n",
       "      <td>[97, 99, 188, 849, 849, 1576, 282]</td>\n",
       "    </tr>\n",
       "    <tr>\n",
       "      <th>...</th>\n",
       "      <td>...</td>\n",
       "      <td>...</td>\n",
       "    </tr>\n",
       "    <tr>\n",
       "      <th>45629</th>\n",
       "      <td>45629</td>\n",
       "      <td>[160]</td>\n",
       "    </tr>\n",
       "    <tr>\n",
       "      <th>45630</th>\n",
       "      <td>45630</td>\n",
       "      <td>[97]</td>\n",
       "    </tr>\n",
       "    <tr>\n",
       "      <th>45631</th>\n",
       "      <td>45631</td>\n",
       "      <td>[2636]</td>\n",
       "    </tr>\n",
       "    <tr>\n",
       "      <th>45632</th>\n",
       "      <td>45632</td>\n",
       "      <td>[1472]</td>\n",
       "    </tr>\n",
       "    <tr>\n",
       "      <th>45633</th>\n",
       "      <td>45633</td>\n",
       "      <td>[1823]</td>\n",
       "    </tr>\n",
       "  </tbody>\n",
       "</table>\n",
       "<p>45634 rows × 2 columns</p>\n",
       "</div>"
      ],
      "text/plain": [
       "       user_id_idx                                    item_id_idx\n",
       "0                0   [2426, 1079, 573, 458, 458, 170, 3428, 2928]\n",
       "1                1           [248, 480, 5017, 36, 36, 1737, 1737]\n",
       "2                2  [50, 1903, 1903, 1184, 1184, 285, 4291, 5774]\n",
       "3                3        [1172, 1905, 459, 459, 859, 1942, 5453]\n",
       "4                4             [97, 99, 188, 849, 849, 1576, 282]\n",
       "...            ...                                            ...\n",
       "45629        45629                                          [160]\n",
       "45630        45630                                           [97]\n",
       "45631        45631                                         [2636]\n",
       "45632        45632                                         [1472]\n",
       "45633        45633                                         [1823]\n",
       "\n",
       "[45634 rows x 2 columns]"
      ]
     },
     "execution_count": 15,
     "metadata": {},
     "output_type": "execute_result"
    }
   ],
   "source": [
    "train_df.groupby('user_id_idx')['item_id_idx'].apply(list).reset_index()"
   ]
  },
  {
   "cell_type": "code",
   "execution_count": 26,
   "metadata": {
    "colab": {
     "base_uri": "https://localhost:8080/"
    },
    "id": "q2qR61kzGZN7",
    "outputId": "832398ad-43d1-4c1e-e556-b3dff2ccae9e",
    "tags": []
   },
   "outputs": [
    {
     "data": {
      "text/plain": [
       "tensor([[29277,  5483, 31115,  ..., 50510, 50510, 52500],\n",
       "        [48037, 48037, 48037,  ...,  2894,  2621, 39532]], device='cuda:0')"
      ]
     },
     "execution_count": 26,
     "metadata": {},
     "output_type": "execute_result"
    }
   ],
   "source": [
    "u_t = torch.LongTensor(train_df.user_id_idx)\n",
    "i_t = torch.LongTensor(train_df.item_id_idx) + n_users\n",
    "\n",
    "train_edge_index = torch.stack((\n",
    "  torch.cat([u_t, i_t]),\n",
    "  torch.cat([i_t, u_t])\n",
    ")).to(device)\n",
    "train_edge_index"
   ]
  },
  {
   "cell_type": "code",
   "execution_count": 19,
   "metadata": {
    "id": "PqEw2t0RGZN7",
    "tags": []
   },
   "outputs": [],
   "source": [
    "class LightGCNConv(MessagePassing):\n",
    "    def __init__(self, **kwargs):\n",
    "        super().__init__(aggr='add')\n",
    "\n",
    "    def forward(self, x, edge_index):\n",
    "    # Compute normalization\n",
    "        from_, to_ = edge_index\n",
    "        deg = degree(to_, x.size(0), dtype=x.dtype)\n",
    "        deg_inv_sqrt = deg.pow(-0.5)\n",
    "        deg_inv_sqrt[deg_inv_sqrt == float('inf')] = 0\n",
    "        norm = deg_inv_sqrt[from_] * deg_inv_sqrt[to_]\n",
    "\n",
    "        # Start propagating messages (no update after aggregation)\n",
    "        return self.propagate(edge_index, x=x, norm=norm)\n",
    "\n",
    "    def message(self, x_j, norm):\n",
    "        return norm.view(-1, 1) * x_j"
   ]
  },
  {
   "cell_type": "code",
   "execution_count": 20,
   "metadata": {
    "colab": {
     "base_uri": "https://localhost:8080/"
    },
    "id": "aBNPX_bQGZN7",
    "outputId": "d908b482-3a66-468f-d783-9da585c98eb3",
    "tags": []
   },
   "outputs": [
    {
     "data": {
      "text/plain": [
       "tensor([[0.0000, 0.0000, 0.7071, 0.5000, 0.0000],\n",
       "        [0.0000, 0.0000, 0.0000, 0.5000, 0.7071],\n",
       "        [0.7071, 0.0000, 0.0000, 0.0000, 0.0000],\n",
       "        [0.5000, 0.5000, 0.0000, 0.0000, 0.0000],\n",
       "        [0.0000, 0.7071, 0.0000, 0.0000, 0.0000]])"
      ]
     },
     "execution_count": 20,
     "metadata": {},
     "output_type": "execute_result"
    }
   ],
   "source": [
    "import numpy as np\n",
    "test_x = torch.Tensor(np.eye(5))\n",
    "test_edge_index = torch.LongTensor(np.array([\n",
    "  [0, 0, 1, 1, 2, 3, 3, 4],\n",
    "  [2, 3, 3, 4, 0, 0, 1, 1]\n",
    "]))\n",
    "\n",
    "LightGCNConv()(test_x, test_edge_index)"
   ]
  },
  {
   "cell_type": "code",
   "execution_count": 17,
   "metadata": {
    "id": "1OHDkRtRGZN8",
    "tags": []
   },
   "outputs": [],
   "source": [
    "class RecSysGNN(nn.Module):\n",
    "  def __init__(\n",
    "      self,\n",
    "      latent_dim,\n",
    "      num_layers,\n",
    "      num_users,\n",
    "      num_items,\n",
    "      model, # 'NGCF' or 'LightGCN'\n",
    "      dropout=0.1 # Only used in NGCF\n",
    "  ):\n",
    "    super(RecSysGNN, self).__init__()\n",
    "\n",
    "    assert (model == 'NGCF' or model == 'LightGCN'), \\\n",
    "        'Model must be NGCF or LightGCN'\n",
    "    self.model = model\n",
    "    self.embedding = nn.Embedding(num_users + num_items, latent_dim)\n",
    "\n",
    "    self.convs = nn.ModuleList(LightGCNConv() for _ in range(num_layers))\n",
    "\n",
    "    self.init_parameters()\n",
    "\n",
    "\n",
    "  def init_parameters(self):\n",
    "    if self.model == 'NGCF':\n",
    "      nn.init.xavier_uniform_(self.embedding.weight, gain=1)\n",
    "    else:\n",
    "      # Authors of LightGCN report higher results with normal initialization\n",
    "      nn.init.normal_(self.embedding.weight, std=0.1)\n",
    "\n",
    "\n",
    "  def forward(self, edge_index):\n",
    "    emb0 = self.embedding.weight\n",
    "    embs = [emb0]\n",
    "\n",
    "    emb = emb0\n",
    "    for conv in self.convs:\n",
    "      emb = conv(x=emb, edge_index=edge_index)\n",
    "      embs.append(emb)\n",
    "\n",
    "    out = (\n",
    "      torch.cat(embs, dim=-1) if self.model == 'NGCF'\n",
    "      else torch.mean(torch.stack(embs, dim=0), dim=0)\n",
    "    )\n",
    "\n",
    "    return emb0, out\n",
    "\n",
    "\n",
    "  def encode_minibatch(self, users, pos_items, neg_items, edge_index):\n",
    "    emb0, out = self(edge_index)\n",
    "    return (\n",
    "        out[users],\n",
    "        out[pos_items],\n",
    "        out[neg_items],\n",
    "        emb0[users],\n",
    "        emb0[pos_items],\n",
    "        emb0[neg_items]\n",
    "    )"
   ]
  },
  {
   "cell_type": "code",
   "execution_count": 16,
   "metadata": {
    "id": "I0IUuR-BGZN8",
    "tags": []
   },
   "outputs": [],
   "source": [
    "def compute_bpr_loss(users, users_emb, pos_emb, neg_emb, user_emb0,  pos_emb0, neg_emb0):\n",
    "  # compute loss from initial embeddings, used for regulization\n",
    "  reg_loss = (1 / 2) * (\n",
    "    user_emb0.norm().pow(2) +\n",
    "    pos_emb0.norm().pow(2)  +\n",
    "    neg_emb0.norm().pow(2)\n",
    "  ) / float(len(users))\n",
    "\n",
    "  # compute BPR loss from user, positive item, and negative item embeddings\n",
    "  pos_scores = torch.mul(users_emb, pos_emb).sum(dim=1)\n",
    "  neg_scores = torch.mul(users_emb, neg_emb).sum(dim=1)\n",
    "\n",
    "  bpr_loss = torch.mean(F.softplus(neg_scores - pos_scores))\n",
    "\n",
    "  return bpr_loss, reg_loss"
   ]
  },
  {
   "cell_type": "code",
   "execution_count": 21,
   "metadata": {
    "id": "MTrqp1sfGZN8",
    "tags": []
   },
   "outputs": [],
   "source": [
    "def get_metrics(user_Embed_wts, item_Embed_wts, n_users, n_items, train_data, test_data, K = 10):\n",
    "  test_user_ids = torch.LongTensor(test_data['user_id_idx'].unique())\n",
    "  # compute the score of all user-item pairs\n",
    "  relevance_score = torch.matmul(user_Embed_wts, torch.transpose(item_Embed_wts,0, 1))\n",
    "\n",
    "  # create dense tensor of all user-item interactions\n",
    "  i = torch.stack((\n",
    "    torch.LongTensor(train_df['user_id_idx'].values),\n",
    "    torch.LongTensor(train_df['item_id_idx'].values)\n",
    "  ))\n",
    "  v = torch.ones((len(train_df)), dtype=torch.float64)\n",
    "  interactions_t = torch.sparse.FloatTensor(i, v, (n_users, n_items))\\\n",
    "      .to_dense().to(device)\n",
    "\n",
    "  # mask out training user-item interactions from metric computation\n",
    "  relevance_score = torch.mul(relevance_score, (1 - interactions_t))\n",
    "\n",
    "  # compute top scoring items for each user\n",
    "  topk_relevance_indices = torch.topk(relevance_score, K).indices\n",
    "  topk_relevance_indices_df = pd.DataFrame(topk_relevance_indices.cpu().numpy(),columns =['top_indx_'+str(x+1) for x in range(K)])\n",
    "  topk_relevance_indices_df['user_ID'] = topk_relevance_indices_df.index\n",
    "  topk_relevance_indices_df['top_rlvnt_itm'] = topk_relevance_indices_df[['top_indx_'+str(x+1) for x in range(K)]].values.tolist()\n",
    "  topk_relevance_indices_df = topk_relevance_indices_df[['user_ID','top_rlvnt_itm']]\n",
    "\n",
    "  # measure overlap between recommended (top-scoring) and held-out user-item\n",
    "  # interactions\n",
    "  test_interacted_items = test_data.groupby('user_id_idx')['item_id_idx'].apply(list).reset_index()\n",
    "  metrics_df = pd.merge(test_interacted_items,topk_relevance_indices_df, how= 'left', left_on = 'user_id_idx',right_on = ['user_ID'])\n",
    "  metrics_df['intrsctn_itm'] = [list(set(a).intersection(b)) for a, b in zip(metrics_df.item_id_idx, metrics_df.top_rlvnt_itm)]\n",
    "\n",
    "  metrics_df['recall'] = metrics_df.apply(lambda x : len(x['intrsctn_itm'])/len(x['item_id_idx']), axis = 1)\n",
    "  metrics_df['precision'] = metrics_df.apply(lambda x : len(x['intrsctn_itm'])/K, axis = 1)\n",
    "  # Compute F1-score\n",
    "  metrics_df['f1_score'] = 2 * (metrics_df['precision'] * metrics_df['recall']) / (metrics_df['precision'] + metrics_df['recall'])\n",
    "  metrics_df['f1_score'] = metrics_df['f1_score'].fillna(0)  # Handling undefined F1-score when precision and recall are both 0\n",
    "\n",
    "\n",
    "  return metrics_df['recall'].mean(), metrics_df['precision'].mean(), metrics_df['f1_score'].mean()"
   ]
  },
  {
   "cell_type": "code",
   "execution_count": 22,
   "metadata": {
    "id": "_-oPnbP_GZN8",
    "tags": []
   },
   "outputs": [],
   "source": [
    "latent_dim = 64\n",
    "n_layers = 3\n",
    "\n",
    "EPOCHS = 20\n",
    "BATCH_SIZE = 1024\n",
    "DECAY = 0.0001\n",
    "LR = 0.005\n",
    "K = 10"
   ]
  },
  {
   "cell_type": "code",
   "execution_count": 28,
   "metadata": {
    "id": "I6bWB5gKGZN8",
    "tags": []
   },
   "outputs": [],
   "source": [
    "def train_and_eval(model, optimizer, train_df):\n",
    "  loss_list_epoch = []\n",
    "  bpr_loss_list_epoch = []\n",
    "  reg_loss_list_epoch = []\n",
    "\n",
    "  recall_list = []\n",
    "  precision_list = []\n",
    "  f1_list = []\n",
    "\n",
    "  for epoch in tqdm(range(EPOCHS)):\n",
    "      n_batch = int(len(train_df)/BATCH_SIZE)\n",
    "\n",
    "      final_loss_list = []\n",
    "      bpr_loss_list = []\n",
    "      reg_loss_list = []\n",
    "\n",
    "      model.train()\n",
    "      for batch_idx in range(n_batch):\n",
    "\n",
    "          optimizer.zero_grad()\n",
    "\n",
    "          users, pos_items, neg_items = data_loader(train_df, BATCH_SIZE, n_users, n_items)\n",
    "          users_emb, pos_emb, neg_emb, userEmb0,  posEmb0, negEmb0 = model.encode_minibatch(users, pos_items, neg_items, train_edge_index)\n",
    "\n",
    "          bpr_loss, reg_loss = compute_bpr_loss(\n",
    "            users, users_emb, pos_emb, neg_emb, userEmb0,  posEmb0, negEmb0\n",
    "          )\n",
    "          reg_loss = DECAY * reg_loss\n",
    "          final_loss = bpr_loss + reg_loss\n",
    "\n",
    "          final_loss.backward()\n",
    "          optimizer.step()\n",
    "\n",
    "          final_loss_list.append(final_loss.item())\n",
    "          bpr_loss_list.append(bpr_loss.item())\n",
    "          reg_loss_list.append(reg_loss.item())\n",
    "\n",
    "      model.eval()\n",
    "      with torch.no_grad():\n",
    "          _, out = model(train_edge_index)\n",
    "          final_user_Embed, final_item_Embed = torch.split(out, (n_users, n_items))\n",
    "          test_topK_recall,  test_topK_precision,test_topK_f1 = get_metrics(\n",
    "            final_user_Embed, final_item_Embed, n_users, n_items, train_df, test_df, K\n",
    "          )\n",
    "\n",
    "      loss_list_epoch.append(round(np.mean(final_loss_list),4))\n",
    "      bpr_loss_list_epoch.append(round(np.mean(bpr_loss_list),4))\n",
    "      reg_loss_list_epoch.append(round(np.mean(reg_loss_list),4))\n",
    "\n",
    "      recall_list.append(round(test_topK_recall,4))\n",
    "      precision_list.append(round(test_topK_precision,4))\n",
    "      f1_list.append(round(test_topK_f1,4))\n",
    "\n",
    "  return (\n",
    "    loss_list_epoch,\n",
    "    bpr_loss_list_epoch,\n",
    "    reg_loss_list_epoch,\n",
    "    recall_list,\n",
    "    precision_list,\n",
    "    f1_list\n",
    "  )"
   ]
  },
  {
   "cell_type": "code",
   "execution_count": 29,
   "metadata": {
    "colab": {
     "base_uri": "https://localhost:8080/"
    },
    "id": "FjCaI_7BGZN8",
    "outputId": "4fff94b4-7ccb-4218-9b35-a86cae88ad07",
    "tags": []
   },
   "outputs": [
    {
     "name": "stdout",
     "output_type": "stream",
     "text": [
      "Size of Learnable Embedding :  [torch.Size([52501, 64])]\n"
     ]
    }
   ],
   "source": [
    "lightgcn = RecSysGNN(\n",
    "  latent_dim=latent_dim,\n",
    "  num_layers=n_layers,\n",
    "  num_users=n_users,\n",
    "  num_items=n_items,\n",
    "  model='LightGCN'\n",
    ")\n",
    "lightgcn.to(device)\n",
    "\n",
    "optimizer = torch.optim.Adam(lightgcn.parameters(), lr=LR)\n",
    "print(\"Size of Learnable Embedding : \", [x.shape for x in list(lightgcn.parameters())])"
   ]
  },
  {
   "cell_type": "code",
   "execution_count": 30,
   "metadata": {
    "colab": {
     "base_uri": "https://localhost:8080/",
     "height": 406,
     "referenced_widgets": [
      "1ec8f538e2c340569c8f56ec590e8b5b",
      "783e04205f3e421987fcb3733f9d14f5",
      "db4a6c3e04f7440894f662c490b75db6",
      "5c8ceb0bd2cb443897d5b9650f26a348",
      "ee18df5c64fd463db648a83281010e9a",
      "fe743840550f4166878123b2b96e5560",
      "38317fc35c314b428eb0b9535e0475ac",
      "1ff556ad209f42d088546cc1e1c574cc",
      "b68660959b3b4be48609eda55afd0e86",
      "249e1d44117f43bb8f63859d82cf22f8",
      "3f3dba2148694883b52b79cb884df6f4"
     ]
    },
    "id": "i0yjHq3MGZN8",
    "outputId": "be0e4017-2211-40c8-acae-e2c2f57b3b14",
    "tags": []
   },
   "outputs": [
    {
     "data": {
      "application/vnd.jupyter.widget-view+json": {
       "model_id": "58833e10faec470c830ca6757041dc13",
       "version_major": 2,
       "version_minor": 0
      },
      "text/plain": [
       "  0%|          | 0/20 [00:00<?, ?it/s]"
      ]
     },
     "metadata": {},
     "output_type": "display_data"
    }
   ],
   "source": [
    "light_loss, light_bpr, light_reg, light_recall, light_precision,light_f1 = train_and_eval(lightgcn, optimizer, train_df)"
   ]
  },
  {
   "cell_type": "code",
   "execution_count": 32,
   "metadata": {
    "colab": {
     "base_uri": "https://localhost:8080/",
     "height": 466
    },
    "id": "5nY2_ELlGZN8",
    "outputId": "5608d5c3-7022-4b1d-8de6-b2359fca0306"
   },
   "outputs": [
    {
     "data": {
      "text/plain": [
       "<matplotlib.legend.Legend at 0x7f7791e97c70>"
      ]
     },
     "execution_count": 32,
     "metadata": {},
     "output_type": "execute_result"
    },
    {
     "data": {
      "image/png": "[encoded data removed]",
      "text/plain": [
       "<Figure size 640x480 with 1 Axes>"
      ]
     },
     "metadata": {},
     "output_type": "display_data"
    }
   ],
   "source": [
    "from matplotlib import pyplot as plt\n",
    "epoch_list = [(i+1) for i in range(EPOCHS)]\n",
    "plt.plot(epoch_list, light_loss, label='Total Training Loss')\n",
    "plt.plot(epoch_list, light_bpr, label='BPR Training Loss')\n",
    "plt.plot(epoch_list, light_reg, label='Reg Training Loss')\n",
    "\n",
    "plt.xlabel('Epoch')\n",
    "plt.ylabel('Loss')\n",
    "plt.legend()\n",
    "\n",
    "plt.plot(epoch_list, light_recall, label='Recall')\n",
    "plt.plot(epoch_list, light_precision, label='Precision')\n",
    "plt.plot(epoch_list, light_f1, label='F1-score')\n",
    "plt.xlabel('Epoch')\n",
    "plt.ylabel('Metrics')\n",
    "plt.legend()"
   ]
  },
  {
   "cell_type": "code",
   "execution_count": 33,
   "metadata": {
    "colab": {
     "base_uri": "https://localhost:8080/"
    },
    "id": "2XgYL76TGZN8",
    "outputId": "38a70c84-6874-4b33-a6fd-67b7dc29039e"
   },
   "outputs": [
    {
     "data": {
      "text/plain": [
       "(0.0127, 0.1203, 0.0228)"
      ]
     },
     "execution_count": 33,
     "metadata": {},
     "output_type": "execute_result"
    }
   ],
   "source": [
    "max(light_precision), max(light_recall),max(light_f1)"
   ]
  },
  {
   "cell_type": "markdown",
   "metadata": {
    "id": "KDhfmn8VUYCf",
    "jp-MarkdownHeadingCollapsed": true,
    "tags": []
   },
   "source": [
    "# Content-based Filtering"
   ]
  },
  {
   "cell_type": "code",
   "execution_count": null,
   "metadata": {
    "id": "J-O-tSCQMNFA",
    "outputId": "7e63f341-e261-4ef7-a596-e4d93f5e33a0"
   },
   "outputs": [
    {
     "name": "stderr",
     "output_type": "stream",
     "text": [
      "                                                                                \r"
     ]
    }
   ],
   "source": [
    "df_meta = spark.read.json(\"meta_Industrial_and_Scientific.json.gz\")"
   ]
  },
  {
   "cell_type": "code",
   "execution_count": null,
   "metadata": {
    "colab": {
     "base_uri": "https://localhost:8080/"
    },
    "id": "U5XhsAxVMUFj",
    "outputId": "6d40483d-4524-433f-bbc3-54a3e211825a"
   },
   "outputs": [
    {
     "name": "stderr",
     "output_type": "stream",
     "text": [
      "[Stage 28:>                                                         (0 + 1) / 1]\r"
     ]
    },
    {
     "name": "stdout",
     "output_type": "stream",
     "text": [
      "+--------------------+-----+\n",
      "|               price|count|\n",
      "+--------------------+-----+\n",
      "|                    |42683|\n",
      "|.a-box-inner{back...| 1064|\n",
      "|               $9.99|  953|\n",
      "|               $7.99|  793|\n",
      "|               $8.99|  666|\n",
      "|               $6.99|  650|\n",
      "|              $14.99|  647|\n",
      "|              $19.99|  639|\n",
      "|              $12.99|  621|\n",
      "|              $15.99|  518|\n",
      "|              $11.99|  516|\n",
      "|               $5.99|  515|\n",
      "|               $1.41|  498|\n",
      "|              $13.99|  482|\n",
      "|               $9.95|  478|\n",
      "|               $4.99|  467|\n",
      "|              $10.99|  467|\n",
      "|              $29.99|  449|\n",
      "|              $16.99|  399|\n",
      "|              $12.95|  365|\n",
      "+--------------------+-----+\n",
      "only showing top 20 rows\n",
      "\n"
     ]
    },
    {
     "name": "stderr",
     "output_type": "stream",
     "text": [
      "                                                                                \r"
     ]
    }
   ],
   "source": [
    "df_meta.groupBy('price').count().orderBy(col('count').desc()).show()"
   ]
  },
  {
   "cell_type": "code",
   "execution_count": null,
   "metadata": {
    "colab": {
     "base_uri": "https://localhost:8080/"
    },
    "id": "IniBwBFKMcib",
    "outputId": "99fef974-a062-4be4-e5c7-2f7d7e9c1ea3"
   },
   "outputs": [
    {
     "name": "stderr",
     "output_type": "stream",
     "text": [
      "[Stage 31:>                                                         (0 + 1) / 1]\r"
     ]
    },
    {
     "name": "stdout",
     "output_type": "stream",
     "text": [
      "+--------------------+-----+\n",
      "|               brand|count|\n",
      "+--------------------+-----+\n",
      "|              uxcell| 7147|\n",
      "|         Small Parts| 4252|\n",
      "|   The Hillman Group| 1868|\n",
      "|                    | 1302|\n",
      "|           SmartSign| 1164|\n",
      "|                  3M| 1021|\n",
      "|                 VXB| 1003|\n",
      "|               Brady|  866|\n",
      "|     ComplianceSigns|  793|\n",
      "|Hard-to-Find Fast...|  700|\n",
      "|                SEOH|  680|\n",
      "|   RAW PRODUCTS CORP|  660|\n",
      "|           Fastenere|  608|\n",
      "|             Generic|  582|\n",
      "|              Vestil|  573|\n",
      "|      D&D PowerDrive|  568|\n",
      "|             Medline|  560|\n",
      "|  Simpson Strong-Tie|  492|\n",
      "|               EISCO|  487|\n",
      "|             Hillman|  458|\n",
      "+--------------------+-----+\n",
      "only showing top 20 rows\n",
      "\n"
     ]
    },
    {
     "name": "stderr",
     "output_type": "stream",
     "text": [
      "                                                                                \r"
     ]
    }
   ],
   "source": [
    "df_meta.groupBy('brand').count().orderBy(col('count').desc()).show()"
   ]
  },
  {
   "cell_type": "code",
   "execution_count": null,
   "metadata": {
    "id": "36mEiaDOGZN8",
    "tags": []
   },
   "outputs": [],
   "source": [
    "from pyspark.sql.functions import regexp_replace\n",
    "from pyspark.sql.functions import expr\n",
    "from pyspark.sql import functions as F\n",
    "from pyspark.sql.functions import mean\n",
    "from pyspark.ml.feature import VectorAssembler, MinMaxScaler\n",
    "from pyspark.ml import Pipeline\n",
    "from pyspark.ml.feature import StringIndexer, OneHotEncoder\n",
    "from pyspark.ml.linalg import Vectors\n",
    "from pyspark.ml.feature import Normalizer\n",
    "from pyspark.sql.functions import udf\n",
    "from pyspark.sql.types import FloatType\n",
    "import numpy as np"
   ]
  },
  {
   "cell_type": "code",
   "execution_count": null,
   "metadata": {
    "id": "wh42k91Sg0rj",
    "outputId": "70697f72-55cc-4ea2-8e11-7f50a66cfe3d"
   },
   "outputs": [
    {
     "name": "stderr",
     "output_type": "stream",
     "text": [
      "                                                                                \r"
     ]
    }
   ],
   "source": [
    "# Step 1: The item profiles are already in 'df_transformed' as 'features'\n",
    "\n",
    "from pyspark.sql.functions import avg, count, collect_list\n",
    "from pyspark.sql.window import Window\n",
    "\n",
    "# Replace null or empty strings with a placeholder\n",
    "df_meta = df_meta.na.fill({\"brand\": \"Unknown\"})\n",
    "df_meta = df_meta.withColumn(\"brand\", F.when(F.col(\"brand\") == \"\", \"Unknown\").otherwise(F.col(\"brand\")))\n",
    "\n",
    "# Step 1: Remove the dollar sign and try to convert the price to float\n",
    "df_meta = df_meta.withColumn(\"price\", regexp_replace(col(\"price\"), \"[\\$,]\", \"\").cast(\"float\"))\n",
    "\n",
    "# Step 2: Replace non-numeric (or negative) values with None, which Spark recognizes as null\n",
    "df_meta = df_meta.withColumn(\"price\", when(col(\"price\") < 0, None).otherwise(col(\"price\")))\n",
    "\n",
    "# Step 3: Calculate the average of the numeric prices\n",
    "average_price = df_meta.select(avg(col(\"price\")).alias(\"avg_price\")).collect()[0][\"avg_price\"]\n",
    "\n",
    "# Step 4: Fill null values with the average price\n",
    "df_meta = df_meta.na.fill({\"price\": average_price})\n",
    "\n",
    "\n",
    "# Ensure the 'brand' column exists and does not have empty strings or null values\n",
    "if 'brand' not in df_meta.columns:\n",
    "    raise ValueError(\"'brand' column is missing from the DataFrame.\")\n",
    "if df_meta.filter((col('brand') == \"\") | (col('brand').isNull())).count() > 0:\n",
    "    raise ValueError(\"'brand' column contains null or empty strings.\")\n",
    "\n",
    "# Ensure the 'price' column exists and has the correct data type\n",
    "if 'price' not in df_meta.columns:\n",
    "    raise ValueError(\"'price' column is missing from the DataFrame.\")\n",
    "if df_meta.filter(col('price').isNull()).count() > 0:\n",
    "    df_meta = df_meta.fillna({'price': 0})  # Replace nulls with 0 in 'price' column"
   ]
  },
  {
   "cell_type": "code",
   "execution_count": null,
   "metadata": {
    "colab": {
     "base_uri": "https://localhost:8080/"
    },
    "id": "f4gAPnNgOnLf",
    "outputId": "df7606a3-8e72-4768-bb5c-e3dcf191d384"
   },
   "outputs": [
    {
     "name": "stderr",
     "output_type": "stream",
     "text": [
      "                                                                                \r"
     ]
    },
    {
     "data": {
      "text/plain": [
       "24124"
      ]
     },
     "execution_count": 21,
     "metadata": {},
     "output_type": "execute_result"
    }
   ],
   "source": [
    "df_meta.select('brand').distinct().count()"
   ]
  },
  {
   "cell_type": "code",
   "execution_count": null,
   "metadata": {
    "colab": {
     "base_uri": "https://localhost:8080/"
    },
    "id": "9mKZCbZxOudr",
    "outputId": "f5859a34-6592-4a6e-8920-f093635c0f79"
   },
   "outputs": [
    {
     "name": "stderr",
     "output_type": "stream",
     "text": [
      "[Stage 48:>                                                         (0 + 1) / 1]\r"
     ]
    },
    {
     "name": "stdout",
     "output_type": "stream",
     "text": [
      "+--------------------+-----+\n",
      "|               brand|count|\n",
      "+--------------------+-----+\n",
      "|              uxcell| 7147|\n",
      "|         Small Parts| 4252|\n",
      "|   The Hillman Group| 1868|\n",
      "|             Unknown| 1742|\n",
      "|           SmartSign| 1164|\n",
      "|                  3M| 1021|\n",
      "|                 VXB| 1003|\n",
      "|               Brady|  866|\n",
      "|     ComplianceSigns|  793|\n",
      "|Hard-to-Find Fast...|  700|\n",
      "|                SEOH|  680|\n",
      "|   RAW PRODUCTS CORP|  660|\n",
      "|           Fastenere|  608|\n",
      "|             Generic|  582|\n",
      "|              Vestil|  573|\n",
      "|      D&D PowerDrive|  568|\n",
      "|             Medline|  560|\n",
      "|  Simpson Strong-Tie|  492|\n",
      "|               EISCO|  487|\n",
      "|             Hillman|  458|\n",
      "+--------------------+-----+\n",
      "only showing top 20 rows\n",
      "\n"
     ]
    },
    {
     "name": "stderr",
     "output_type": "stream",
     "text": [
      "                                                                                \r"
     ]
    }
   ],
   "source": [
    "df_meta.groupBy('brand').count().orderBy(col('count').desc()).show()"
   ]
  },
  {
   "cell_type": "code",
   "execution_count": null,
   "metadata": {
    "id": "SOdgUWiUGZN9",
    "tags": []
   },
   "outputs": [],
   "source": [
    "# Assuming 'train' and 'test' are the DataFrames resulting from splitting 'df',\n",
    "# and 'df_meta' is the DataFrame containing the metadata\n",
    "\n",
    "# Select the 'asin' from train and test DataFrames\n",
    "train_asin = train.select('asin').distinct()\n",
    "test_asin = test.select('asin').distinct()\n",
    "\n",
    "# Join the metadata with the asin DataFrames to filter the rows\n",
    "df_train = df_meta.join(train_asin, on='asin', how='inner')\n",
    "df_test = df_meta.join(test_asin, on='asin', how='inner')\n",
    "\n",
    "# Now df_train_meta and df_test_meta contain metadata for asins in the train and test sets respectively"
   ]
  },
  {
   "cell_type": "code",
   "execution_count": null,
   "metadata": {
    "colab": {
     "base_uri": "https://localhost:8080/"
    },
    "id": "XBmk7HVGgAda",
    "outputId": "85647255-26b7-409d-ecf7-2cfd9a6d1df2"
   },
   "outputs": [
    {
     "name": "stderr",
     "output_type": "stream",
     "text": [
      "23/11/08 12:42:03 WARN DAGScheduler: Broadcasting large task binary with size 2.6 MiB\n",
      "23/11/08 12:42:17 WARN DAGScheduler: Broadcasting large task binary with size 2.6 MiB\n",
      "23/11/08 12:42:18 WARN DAGScheduler: Broadcasting large task binary with size 2.6 MiB\n",
      "23/11/08 12:42:18 WARN DAGScheduler: Broadcasting large task binary with size 2.6 MiB\n",
      "23/11/08 12:42:32 WARN DAGScheduler: Broadcasting large task binary with size 2.6 MiB\n",
      "                                                                                \r"
     ]
    },
    {
     "name": "stdout",
     "output_type": "stream",
     "text": [
      "+----------+--------------------+--------------------+--------------------+--------------------+------------------+--------------------+--------------------+--------------------+---+--------------------+--------------------+--------------------+--------+--------------------+--------------------+--------------------+-----+--------------------+--------------------+--------------------+\n",
      "|      asin|            also_buy|           also_view|               brand|            category|              date|         description|             details|             feature|fit|            imageURL|     imageURLHighRes|            main_cat|   price|                rank|        similar_item|               tech1|tech2|               title|        price_vector|        price_scaled|\n",
      "+----------+--------------------+--------------------+--------------------+--------------------+------------------+--------------------+--------------------+--------------------+---+--------------------+--------------------+--------------------+--------+--------------------+--------------------+--------------------+-----+--------------------+--------------------+--------------------+\n",
      "|0894558358|[089455767X, 0894...|                  []|   Critical Thinking|                  []|                  |[The mind-buildin...|                null|                  []|   |[https://images-n...|[https://images-n...|Industrial & Scie...|   21.99|91,253 in Industr...|                    |                    |     |Science Detective...|[21.989999771118164]|[0.00744930330323...|\n",
      "|0971007004|        [1572224975]|[0760724083, B078...|    Thomas McCracken|[Industrial & Sci...|                  |                  []|                null|                  []|   |                  []|                  []|               Books|   13.32|1,104,587 in Books (|                    |                    |     |Wall Chart of Hum...|[13.319999694824219]|[0.00445923567133...|\n",
      "|1587790637|[158779683X, B004...|[B07BCNHC3K, B078...|Anatomical Chart ...|[Industrial & Sci...|                  |[<DIV><DIV>This c...|                null|                  []|   |                  []|                  []|Industrial & Scie...|59.06999|58,273 in Industr...|                    |                    |     |The Skeletal Syst...| [59.06998825073242]|[0.02023727012773...|\n",
      "|1587791900|                  []|[B07F3MX5JS, B001...|Anatomical Chart ...|[Industrial & Sci...|September 14, 2006|[<div><div>, Our ...|                null|[Brand New. In or...|   |                  []|                  []|     Office Products|   25.35|[\">#102,804 in Of...|                    | class=\"a-keyvalu...|     |The Prostate Anat...|[25.350000381469727]|[0.00860808403907...|\n",
      "|1634061055|[1634061497, B071...|                  []|         Versa Tiles|                  []|                  |[The VersaTiles s...|                null|                  []|   |[https://images-n...|[https://images-n...|Industrial & Scie...|   69.95|123,525 in Indust...|                    |                    |     |VersaTiles Math S...| [69.94999694824219]|[0.02398951482841...|\n",
      "|B0000223SI|[B0000223SK, B000...|                  []|        PORTER-CABLE|[Industrial & Sci...|     April 1, 2004|[Amazon.com This ...|{null, null, null...|[Clog- and loadin...|   |                  []|                  []|Tools & Home Impr...|   15.99|[\">#19,857 in Too...| class=\"a-bordere...| class=\"a-keyvalu...|     |PORTER-CABLE 7400...|[15.989999771118164]|[0.00538005236511...|\n",
      "|B0000223SK|[B0000223SN, B000...|                  []|        PORTER-CABLE|[Industrial & Sci...|                  |[Amazon.com This ...|{null, null, 5.6 ...|[Clog- and loadin...|   |                  []|                  []|Tools & Home Impr...|   17.99|13,586 in Tools &...|                    |                    |     |PORTER-CABLE 7400...|[17.989999771118164]|[0.00606980267782...|\n",
      "|B0000223UV|[B000CSS8UE, B07G...|                  []|             Gorilla|[Industrial & Sci...|      July 7, 2004|[The product that...|{null, null, null...|[Incredibly stron...|   |[https://images-n...|[https://images-n...|Industrial & Scie...|   10.24|[\">#340 in Indust...|                    | class=\"a-keyvalu...|     |Gorilla Original ...|[10.239999771118164]|[0.00339702021608...|\n",
      "|B0000224J0|[B0000224J1, B00N...|                  []|              DEWALT|[Industrial & Sci...|     June 15, 2006|[High performance...|{null, null, null...|[High performance...|   |                  []|                  []|Tools & Home Impr...|    6.98|[\">#51,285 in Too...|                    | class=\"a-keyvalu...|     |DEWALT DW8001 Gen...| [6.980000019073486]|[0.00227272729188...|\n",
      "|B00002N5M6|[B001T4FGS2, B001...|                  []|     Apex Tool Group|                  []|     April 1, 2004|[American pattern...|{null, null, null...|[American pattern...|   |                  []|                  []|Industrial & Scie...|    6.34|[\">#120,776 in In...|                    |                    |     |Nicholson Round H...| [6.340000152587891]|[0.00205200723786...|\n",
      "|B00002N6FE|[B001449TPS, B00O...|                  []|                  3M|[Industrial & Sci...|     June 15, 2006|[3M Garnet Sandpa...|{null, null, null...|[Assorted Grits, ...|   |                  []|                  []|Tools & Home Impr...|    5.41|[\">#3,019 in Tool...|                    | class=\"a-keyvalu...|     |3M Garnet Sandpap...| [5.409999847412109]|[0.00173127323720...|\n",
      "|B00002N6G0|[B000UVP09A, B000...|                  []|                 DAP|[Industrial & Sci...|      July 3, 2006|[DAP traces its r...|{null, null, null...|[Does a better, l...|   |                  []|                  []|Tools & Home Impr...|    6.91|[\">#101,324 in To...|                    | class=\"a-keyvalu...|     |Dap 12121 33 Glaz...| [6.909999847412109]|[0.00224858597173...|\n",
      "|B00002N8T5|[B00004Z4BE, B000...|                  []|                  3M|[Industrial & Sci...|  October 29, 2008|[3M Wood Refinish...|{null, null, null...|[Removes dust, di...|   |                  []|                  []|Tools & Home Impr...|    4.25|[\">#20,302 in Too...|                    | class=\"a-keyvalu...|     | 3M 10132 Tack Cloth|              [4.25]|[0.00133121810845...|\n",
      "|B00002NAOH|                  []|[B00DFQSD5K, B001...|      Gardner Bender|[Industrial & Sci...| December 20, 2001|[Safety is the nu...|{null, null, null...|[Tough ABS constr...|   |[https://images-n...|[https://images-n...|Tools & Home Impr...|    7.41|[\">#182,308 in To...|                    | class=\"a-keyvalu...|     |Gardner Bender RT...| [7.409999847412109]|[0.00242102354991...|\n",
      "|B00002NCEP|[B000LNYD0Y, B000...|                  []|           Rain Bird|[Industrial & Sci...|                  |[Rain Bird SWGE07...|{null, null, null...|[Elbow fitting fo...|   |[https://images-n...|[https://images-n...|         Amazon Home|    6.26|[\">#64,474 in Pat...|                    |                    |     |Rain Bird SWGE075...| [6.260000228881836]|[0.00202441725166...|\n",
      "|B00002ND49|[B00F1BYJZ0, B075...|                  []|            Shop Vac|[Industrial & Sci...|   January 1, 2007|[For dirt, furnit...|{null, null, null...|[1-1/4, round vac...|   |                  []|                  []|Tools & Home Impr...|    6.83|[\">#23,775 in Too...|                    |                    |     |Shop Vac, 37987, ...| [6.829999923706055]|[0.00222099598553...|\n",
      "|B00002ND6L|[B000BQS5GO, B004...|[B0000CBJI6, B001...|                 DAP|[Industrial & Sci...|   January 1, 2008|[America's #1 sel...|{null, null, null...|[Sturdy and secur...|   |[https://images-n...|[https://images-n...|Tools & Home Impr...|59.06999|[\">#83,620 in Too...|                    | class=\"a-keyvalu...|     |DAP INC 18152 10....| [59.06998825073242]|[0.02023727012773...|\n",
      "|B00002ND4I|[B010CCMXH8, B000...|                  []|            Shop-Vac|[Industrial & Sci...|   August 17, 2005|[Drywall collecti...|{null, null, null...|[N/A, Imported, E...|   |[https://images-n...|[https://images-n...|Tools & Home Impr...|   10.85|[\">#2,338 in Tool...|                    | class=\"a-keyvalu...|     |Shop-Vac 9067200 ...|[10.850000381469727]|[0.00360739427195...|\n",
      "|B00004R9M1|                  []|                  []|         Porta-Nails|[Industrial & Sci...| February 14, 2000|[Accessory for 40...|{null, null, null...|[Pack of 1,000 2-...|   |                  []|                  []|Tools & Home Impr...|59.06999|[\">#3,843,129 in ...|                    | class=\"a-keyvalu...|     |Porta-Nails 1,000...| [59.06998825073242]|[0.02023727012773...|\n",
      "|B00004R9U1|[B0032JTDPO, B000...|                  []|           B&C Eagle|[Industrial & Sci...| February 14, 2000|[B&C Eagle collat...|{null, null, null...|[Compatible with ...|   |                  []|                  []|Tools & Home Impr...|   12.99|[\">#5,260 in Tool...|                    | class=\"a-keyvalu...|     |B&amp;C Eagle A3X...|[12.989999771118164]|[0.00434542689605...|\n",
      "+----------+--------------------+--------------------+--------------------+--------------------+------------------+--------------------+--------------------+--------------------+---+--------------------+--------------------+--------------------+--------+--------------------+--------------------+--------------------+-----+--------------------+--------------------+--------------------+\n",
      "only showing top 20 rows\n",
      "\n"
     ]
    }
   ],
   "source": [
    "# Convert the 'price' column into a vector column\n",
    "assembler_for_price = VectorAssembler(inputCols=[\"price\"], outputCol=\"price_vector\")\n",
    "\n",
    "# Normalize the price column\n",
    "price_scaler = MinMaxScaler(inputCol=\"price_vector\", outputCol=\"price_scaled\")\n",
    "\n",
    "# Define the pipeline with all the stages\n",
    "pipeline = Pipeline(stages=[\n",
    "    # brand_indexer,\n",
    "    # brand_encoder,\n",
    "    assembler_for_price,\n",
    "    price_scaler\n",
    "    # assembler_for_features\n",
    "])\n",
    "\n",
    "# After cleaning, try fitting the pipeline again\n",
    "pipeline_model = pipeline.fit(df_train)\n",
    "\n",
    "# Now transform the data\n",
    "df_transformed = pipeline_model.transform(df_train)\n",
    "\n",
    "# Show the result\n",
    "df_transformed.show()"
   ]
  },
  {
   "cell_type": "code",
   "execution_count": null,
   "metadata": {
    "id": "mfU2FUvoGZN9",
    "outputId": "db74da6e-56ef-4381-dafa-789098eb3dba",
    "tags": []
   },
   "outputs": [
    {
     "name": "stderr",
     "output_type": "stream",
     "text": [
      "23/11/08 13:44:49 WARN DAGScheduler: Broadcasting large task binary with size 2.6 MiB\n",
      "[Stage 494:>                                                        (0 + 1) / 1]\r"
     ]
    },
    {
     "name": "stdout",
     "output_type": "stream",
     "text": [
      "+--------+--------------------+\n",
      "|   price|        price_scaled|\n",
      "+--------+--------------------+\n",
      "|59.06999|[0.02023727012773...|\n",
      "|59.06999|[0.02023727012773...|\n",
      "|   18.09|[0.00610429032501...|\n",
      "|   18.09|[0.00610429032501...|\n",
      "|    3.98|[0.00123810182282...|\n",
      "|    3.98|[0.00123810182282...|\n",
      "|  132.49|[0.04555801005370...|\n",
      "|  132.49|[0.04555801005370...|\n",
      "|    3.99|[0.00124155057109...|\n",
      "|    3.99|[0.00124155057109...|\n",
      "+--------+--------------------+\n",
      "only showing top 10 rows\n",
      "\n"
     ]
    },
    {
     "name": "stderr",
     "output_type": "stream",
     "text": [
      "23/11/08 13:45:04 WARN DAGScheduler: Broadcasting large task binary with size 2.6 MiB\n",
      "                                                                                \r"
     ]
    }
   ],
   "source": [
    "df_transformed.select('price','price_scaled').show(10)"
   ]
  },
  {
   "cell_type": "code",
   "execution_count": null,
   "metadata": {
    "id": "ijbSExupGZN9",
    "outputId": "f56816ba-17b6-4bce-f9d5-ac3d8b73a49e",
    "tags": []
   },
   "outputs": [
    {
     "name": "stderr",
     "output_type": "stream",
     "text": [
      "23/11/08 13:49:55 WARN DAGScheduler: Broadcasting large task binary with size 2.6 MiB\n",
      "23/11/08 13:50:09 WARN DAGScheduler: Broadcasting large task binary with size 2.6 MiB\n",
      "23/11/08 13:50:10 WARN DAGScheduler: Broadcasting large task binary with size 2.7 MiB\n"
     ]
    },
    {
     "name": "stdout",
     "output_type": "stream",
     "text": [
      "+----------+--------------------+--------------------+--------------------+--------------------+------------------+--------------------+--------------------+--------------------+---+--------------------+--------------------+--------------------+--------+--------------------+--------------------+--------------------+-----+--------------------+--------------------+--------------------+------------------+\n",
      "|      asin|            also_buy|           also_view|               brand|            category|              date|         description|             details|             feature|fit|            imageURL|     imageURLHighRes|            main_cat|   price|                rank|        similar_item|               tech1|tech2|               title|        price_vector|        price_scaled|price_scaled_float|\n",
      "+----------+--------------------+--------------------+--------------------+--------------------+------------------+--------------------+--------------------+--------------------+---+--------------------+--------------------+--------------------+--------+--------------------+--------------------+--------------------+-----+--------------------+--------------------+--------------------+------------------+\n",
      "|0894558358|[089455767X, 0894...|                  []|   Critical Thinking|                  []|                  |[The mind-buildin...|                null|                  []|   |[https://images-n...|[https://images-n...|Industrial & Scie...|   21.99|91,253 in Industr...|                    |                    |     |Science Detective...|[21.989999771118164]|[0.00744930330323...|      0.0074493033|\n",
      "|0971007004|        [1572224975]|[0760724083, B078...|    Thomas McCracken|[Industrial & Sci...|                  |                  []|                null|                  []|   |                  []|                  []|               Books|   13.32|1,104,587 in Books (|                    |                    |     |Wall Chart of Hum...|[13.319999694824219]|[0.00445923567133...|       0.004459236|\n",
      "|1587790637|[158779683X, B004...|[B07BCNHC3K, B078...|Anatomical Chart ...|[Industrial & Sci...|                  |[<DIV><DIV>This c...|                null|                  []|   |                  []|                  []|Industrial & Scie...|59.06999|58,273 in Industr...|                    |                    |     |The Skeletal Syst...| [59.06998825073242]|[0.02023727012773...|        0.02023727|\n",
      "|1587791900|                  []|[B07F3MX5JS, B001...|Anatomical Chart ...|[Industrial & Sci...|September 14, 2006|[<div><div>, Our ...|                null|[Brand New. In or...|   |                  []|                  []|     Office Products|   25.35|[\">#102,804 in Of...|                    | class=\"a-keyvalu...|     |The Prostate Anat...|[25.350000381469727]|[0.00860808403907...|       0.008608084|\n",
      "|1634061055|[1634061497, B071...|                  []|         Versa Tiles|                  []|                  |[The VersaTiles s...|                null|                  []|   |[https://images-n...|[https://images-n...|Industrial & Scie...|   69.95|123,525 in Indust...|                    |                    |     |VersaTiles Math S...| [69.94999694824219]|[0.02398951482841...|       0.023989515|\n",
      "|B0000223SI|[B0000223SK, B000...|                  []|        PORTER-CABLE|[Industrial & Sci...|     April 1, 2004|[Amazon.com This ...|{null, null, null...|[Clog- and loadin...|   |                  []|                  []|Tools & Home Impr...|   15.99|[\">#19,857 in Too...| class=\"a-bordere...| class=\"a-keyvalu...|     |PORTER-CABLE 7400...|[15.989999771118164]|[0.00538005236511...|       0.005380052|\n",
      "|B0000223SK|[B0000223SN, B000...|                  []|        PORTER-CABLE|[Industrial & Sci...|                  |[Amazon.com This ...|{null, null, 5.6 ...|[Clog- and loadin...|   |                  []|                  []|Tools & Home Impr...|   17.99|13,586 in Tools &...|                    |                    |     |PORTER-CABLE 7400...|[17.989999771118164]|[0.00606980267782...|      0.0060698027|\n",
      "|B0000223UV|[B000CSS8UE, B07G...|                  []|             Gorilla|[Industrial & Sci...|      July 7, 2004|[The product that...|{null, null, null...|[Incredibly stron...|   |[https://images-n...|[https://images-n...|Industrial & Scie...|   10.24|[\">#340 in Indust...|                    | class=\"a-keyvalu...|     |Gorilla Original ...|[10.239999771118164]|[0.00339702021608...|      0.0033970203|\n",
      "|B0000224J0|[B0000224J1, B00N...|                  []|              DEWALT|[Industrial & Sci...|     June 15, 2006|[High performance...|{null, null, null...|[High performance...|   |                  []|                  []|Tools & Home Impr...|    6.98|[\">#51,285 in Too...|                    | class=\"a-keyvalu...|     |DEWALT DW8001 Gen...| [6.980000019073486]|[0.00227272729188...|      0.0022727272|\n",
      "|B00002N5M6|[B001T4FGS2, B001...|                  []|     Apex Tool Group|                  []|     April 1, 2004|[American pattern...|{null, null, null...|[American pattern...|   |                  []|                  []|Industrial & Scie...|    6.34|[\">#120,776 in In...|                    |                    |     |Nicholson Round H...| [6.340000152587891]|[0.00205200723786...|      0.0020520072|\n",
      "|B00002N6FE|[B001449TPS, B00O...|                  []|                  3M|[Industrial & Sci...|     June 15, 2006|[3M Garnet Sandpa...|{null, null, null...|[Assorted Grits, ...|   |                  []|                  []|Tools & Home Impr...|    5.41|[\">#3,019 in Tool...|                    | class=\"a-keyvalu...|     |3M Garnet Sandpap...| [5.409999847412109]|[0.00173127323720...|      0.0017312733|\n",
      "|B00002N6G0|[B000UVP09A, B000...|                  []|                 DAP|[Industrial & Sci...|      July 3, 2006|[DAP traces its r...|{null, null, null...|[Does a better, l...|   |                  []|                  []|Tools & Home Impr...|    6.91|[\">#101,324 in To...|                    | class=\"a-keyvalu...|     |Dap 12121 33 Glaz...| [6.909999847412109]|[0.00224858597173...|       0.002248586|\n",
      "|B00002N8T5|[B00004Z4BE, B000...|                  []|                  3M|[Industrial & Sci...|  October 29, 2008|[3M Wood Refinish...|{null, null, null...|[Removes dust, di...|   |                  []|                  []|Tools & Home Impr...|    4.25|[\">#20,302 in Too...|                    | class=\"a-keyvalu...|     | 3M 10132 Tack Cloth|              [4.25]|[0.00133121810845...|       0.001331218|\n",
      "|B00002NAOH|                  []|[B00DFQSD5K, B001...|      Gardner Bender|[Industrial & Sci...| December 20, 2001|[Safety is the nu...|{null, null, null...|[Tough ABS constr...|   |[https://images-n...|[https://images-n...|Tools & Home Impr...|    7.41|[\">#182,308 in To...|                    | class=\"a-keyvalu...|     |Gardner Bender RT...| [7.409999847412109]|[0.00242102354991...|      0.0024210236|\n",
      "|B00002NCEP|[B000LNYD0Y, B000...|                  []|           Rain Bird|[Industrial & Sci...|                  |[Rain Bird SWGE07...|{null, null, null...|[Elbow fitting fo...|   |[https://images-n...|[https://images-n...|         Amazon Home|    6.26|[\">#64,474 in Pat...|                    |                    |     |Rain Bird SWGE075...| [6.260000228881836]|[0.00202441725166...|      0.0020244173|\n",
      "|B00002ND49|[B00F1BYJZ0, B075...|                  []|            Shop Vac|[Industrial & Sci...|   January 1, 2007|[For dirt, furnit...|{null, null, null...|[1-1/4, round vac...|   |                  []|                  []|Tools & Home Impr...|    6.83|[\">#23,775 in Too...|                    |                    |     |Shop Vac, 37987, ...| [6.829999923706055]|[0.00222099598553...|       0.002220996|\n",
      "|B00002ND6L|[B000BQS5GO, B004...|[B0000CBJI6, B001...|                 DAP|[Industrial & Sci...|   January 1, 2008|[America's #1 sel...|{null, null, null...|[Sturdy and secur...|   |[https://images-n...|[https://images-n...|Tools & Home Impr...|59.06999|[\">#83,620 in Too...|                    | class=\"a-keyvalu...|     |DAP INC 18152 10....| [59.06998825073242]|[0.02023727012773...|        0.02023727|\n",
      "|B00002ND4I|[B010CCMXH8, B000...|                  []|            Shop-Vac|[Industrial & Sci...|   August 17, 2005|[Drywall collecti...|{null, null, null...|[N/A, Imported, E...|   |[https://images-n...|[https://images-n...|Tools & Home Impr...|   10.85|[\">#2,338 in Tool...|                    | class=\"a-keyvalu...|     |Shop-Vac 9067200 ...|[10.850000381469727]|[0.00360739427195...|      0.0036073942|\n",
      "|B00004R9M1|                  []|                  []|         Porta-Nails|[Industrial & Sci...| February 14, 2000|[Accessory for 40...|{null, null, null...|[Pack of 1,000 2-...|   |                  []|                  []|Tools & Home Impr...|59.06999|[\">#3,843,129 in ...|                    | class=\"a-keyvalu...|     |Porta-Nails 1,000...| [59.06998825073242]|[0.02023727012773...|        0.02023727|\n",
      "|B00004R9U1|[B0032JTDPO, B000...|                  []|           B&C Eagle|[Industrial & Sci...| February 14, 2000|[B&C Eagle collat...|{null, null, null...|[Compatible with ...|   |                  []|                  []|Tools & Home Impr...|   12.99|[\">#5,260 in Tool...|                    | class=\"a-keyvalu...|     |B&amp;C Eagle A3X...|[12.989999771118164]|[0.00434542689605...|       0.004345427|\n",
      "+----------+--------------------+--------------------+--------------------+--------------------+------------------+--------------------+--------------------+--------------------+---+--------------------+--------------------+--------------------+--------+--------------------+--------------------+--------------------+-----+--------------------+--------------------+--------------------+------------------+\n",
      "only showing top 20 rows\n",
      "\n"
     ]
    },
    {
     "name": "stderr",
     "output_type": "stream",
     "text": [
      "                                                                                \r"
     ]
    }
   ],
   "source": [
    "from pyspark.sql.functions import udf\n",
    "from pyspark.sql.types import FloatType\n",
    "from pyspark.ml.linalg import Vectors, VectorUDT\n",
    "# UDF to extract the first element of a vector column\n",
    "first_element_udf = udf(lambda vector: float(vector[0]), FloatType())\n",
    "\n",
    "df_transformed = df_transformed.withColumn(\"price_scaled_float\", first_element_udf(\"price_scaled\"))"
   ]
  },
  {
   "cell_type": "code",
   "execution_count": null,
   "metadata": {
    "id": "_-jeVkUKGZN9",
    "outputId": "25326d6f-2210-4c94-fe0f-05186b9844cc",
    "tags": []
   },
   "outputs": [
    {
     "name": "stderr",
     "output_type": "stream",
     "text": [
      "23/11/08 13:51:01 WARN DAGScheduler: Broadcasting large task binary with size 2.6 MiB\n",
      "23/11/08 13:51:17 WARN DAGScheduler: Broadcasting large task binary with size 2.6 MiB\n"
     ]
    },
    {
     "name": "stdout",
     "output_type": "stream",
     "text": [
      "+--------+------------------+\n",
      "|   price|price_scaled_float|\n",
      "+--------+------------------+\n",
      "|59.06999|        0.02023727|\n",
      "|59.06999|        0.02023727|\n",
      "|   18.09|      0.0061042905|\n",
      "|   18.09|      0.0061042905|\n",
      "|    3.98|      0.0012381019|\n",
      "|    3.98|      0.0012381019|\n",
      "|  132.49|        0.04555801|\n",
      "|  132.49|        0.04555801|\n",
      "|    3.99|      0.0012415505|\n",
      "|    3.99|      0.0012415505|\n",
      "+--------+------------------+\n",
      "only showing top 10 rows\n",
      "\n"
     ]
    },
    {
     "name": "stderr",
     "output_type": "stream",
     "text": [
      "                                                                                \r"
     ]
    }
   ],
   "source": [
    "df_transformed.select('price','price_scaled_float').show(10)"
   ]
  },
  {
   "cell_type": "code",
   "execution_count": null,
   "metadata": {
    "id": "Y46xDySiGZN9",
    "outputId": "ebe3e4f4-e610-42dd-ba67-8a0298fa7d10",
    "tags": []
   },
   "outputs": [
    {
     "name": "stderr",
     "output_type": "stream",
     "text": [
      "23/11/08 13:51:26 WARN DAGScheduler: Broadcasting large task binary with size 2.6 MiB\n",
      "23/11/08 13:51:30 WARN DAGScheduler: Broadcasting large task binary with size 2.6 MiB\n",
      "23/11/08 13:51:43 WARN DAGScheduler: Broadcasting large task binary with size 2.6 MiB\n",
      "23/11/08 13:51:47 WARN DAGScheduler: Broadcasting large task binary with size 5.2 MiB\n",
      "23/11/08 13:51:47 WARN DAGScheduler: Broadcasting large task binary with size 5.2 MiB\n",
      "23/11/08 13:51:50 WARN DAGScheduler: Broadcasting large task binary with size 5.2 MiB\n",
      "23/11/08 13:51:50 WARN DAGScheduler: Broadcasting large task binary with size 5.2 MiB\n",
      "                                                                                \r"
     ]
    },
    {
     "name": "stdout",
     "output_type": "stream",
     "text": [
      "+--------------+--------------------+--------------+\n",
      "|    reviewerID|           avg_price|         brand|\n",
      "+--------------+--------------------+--------------+\n",
      "|A3LS2HKRVRYK9Q|0.045558009296655655|           Jet|\n",
      "| A1M97ZR8OPE3I|0.032564262549082436|           Jet|\n",
      "| A5KBLLLHVL65K|0.001241550548002...|Hy-Ko Products|\n",
      "| AF3AZVK90T805|  0.0202372707426548|      J-B Weld|\n",
      "|A1XKVW78IIGXP0|  0.0202372707426548|      J-B Weld|\n",
      "|A3W4QHUMVXF8K1| 0.01973375678062439|      Shop-Vac|\n",
      "|A3QMTWC08MPA9V| 0.01973375678062439|      Shop-Vac|\n",
      "|A2FSU0FOYLVBU3| 0.01973375678062439|      Shop-Vac|\n",
      "|A3977OZLNA8LCB| 0.00705384664858381|ARROW FASTENER|\n",
      "|A3GJU3F1DAUFI8|0.002614153781905...|        Plymor|\n",
      "+--------------+--------------------+--------------+\n",
      "only showing top 10 rows\n",
      "\n"
     ]
    },
    {
     "name": "stderr",
     "output_type": "stream",
     "text": [
      "23/11/08 13:51:51 WARN DAGScheduler: Broadcasting large task binary with size 5.2 MiB\n"
     ]
    }
   ],
   "source": [
    "from pyspark.sql.window import Window\n",
    "from pyspark.sql.functions import avg, count, col, broadcast\n",
    "\n",
    "df_train = df_transformed\n",
    "\n",
    "# Use scaled priced instead\n",
    "\n",
    "# Prepare the item profiles from the training set\n",
    "item_profiles_train = df_train.select('asin', 'brand', 'price_scaled_float').distinct()\n",
    "\n",
    "# Calculate the average price for each user in the training set\n",
    "avg_price_train = train.join(df_train, 'asin').groupBy('reviewerID').agg(avg('price_scaled_float').alias('avg_price'))\n",
    "\n",
    "# Count the occurrences of each brand for each user in the training set and find the most frequent one\n",
    "brand_frequency_train = train.join(df_train, 'asin').groupBy('reviewerID', 'brand').agg(count('brand').alias('brand_count'))\n",
    "\n",
    "# Find the top brand for each user in the training set\n",
    "windowSpec = Window.partitionBy('reviewerID').orderBy(col('brand_count').desc(), col('brand'))\n",
    "top_brands_train = (brand_frequency_train.withColumn('rank', F.row_number().over(windowSpec))\n",
    "                    .where(col('rank') == 1)\n",
    "                    .select('reviewerID', 'brand'))\n",
    "\n",
    "# Create the user profiles using the training set\n",
    "user_profiles_train = avg_price_train.join(broadcast(top_brands_train), 'reviewerID')\n",
    "\n",
    "user_profiles_train.show(10)"
   ]
  },
  {
   "cell_type": "code",
   "execution_count": null,
   "metadata": {
    "id": "1FxJwEOGGZN9",
    "outputId": "7d2c9d47-77ce-42d3-976c-908b5de52c1b",
    "tags": []
   },
   "outputs": [
    {
     "name": "stderr",
     "output_type": "stream",
     "text": [
      "23/11/08 13:51:56 WARN DAGScheduler: Broadcasting large task binary with size 2.6 MiB\n",
      "23/11/08 13:52:13 WARN DAGScheduler: Broadcasting large task binary with size 2.6 MiB\n",
      "23/11/08 13:52:13 WARN DAGScheduler: Broadcasting large task binary with size 2.6 MiB\n",
      "[Stage 528:>                                                        (0 + 1) / 1]\r"
     ]
    },
    {
     "name": "stdout",
     "output_type": "stream",
     "text": [
      "+----------+-----------------+------------------+\n",
      "|      asin|            brand|price_scaled_float|\n",
      "+----------+-----------------+------------------+\n",
      "|0971007004| Thomas McCracken|       0.004459236|\n",
      "|B00004UDI2|           Dremel|      0.0024486135|\n",
      "|B00008IHTK|         Starrett|        0.09261277|\n",
      "|B0000DD1EE|          Steelex|        0.02023727|\n",
      "|B00023RVP2|           Extech|      0.0035177267|\n",
      "|B00024JE5Q|              TPI|        0.13449441|\n",
      "|B0002BBV28|               3M|       0.008511519|\n",
      "|B0002FU918|          Simonds|       0.008901228|\n",
      "|B0002SQT7S|Milton Industries|        0.02023727|\n",
      "|B0002ZPEX6|    Parts Express|      0.0025175887|\n",
      "+----------+-----------------+------------------+\n",
      "only showing top 10 rows\n",
      "\n"
     ]
    },
    {
     "name": "stderr",
     "output_type": "stream",
     "text": [
      "23/11/08 13:52:16 WARN DAGScheduler: Broadcasting large task binary with size 2.6 MiB\n",
      "                                                                                \r"
     ]
    }
   ],
   "source": [
    "item_profiles_train.show(10)"
   ]
  },
  {
   "cell_type": "code",
   "execution_count": null,
   "metadata": {
    "id": "4Gz_jP7KGZN9",
    "tags": []
   },
   "outputs": [],
   "source": [
    "from pyspark.sql import Window\n",
    "from pyspark.sql.functions import rank, col\n",
    "\n",
    "# Assuming calculate_similarity can be replaced with a native Spark function or combination of functions\n",
    "def calculate_similarity(user_brand, user_avg_price, item_brand, item_price):\n",
    "    # Simple similarity based on brand matching and price difference\n",
    "    brand_similarity = 1 if user_brand == item_brand else 0\n",
    "    # Prevent division by zero if user_avg_price is 0\n",
    "    price_similarity = 1 - abs(item_price - user_avg_price) / user_avg_price if user_avg_price != 0 else 0\n",
    "    # Combine the two components of similarity\n",
    "    return brand_similarity * 0.5 + price_similarity * 0.5\n",
    "\n",
    "# Register the UDF\n",
    "similarity_udf = F.udf(calculate_similarity, FloatType())\n",
    "\n",
    "# Generate recommendations for users in the validation set\n",
    "# First, get the list of items each user has reviewed in the training set to exclude them from recommendations\n",
    "df_already_reviewed_train = train.select('reviewerID', 'asin').distinct().alias(\"ar_train\")\n",
    "\n",
    "# Calculate similarities between user profiles and item profiles, excluding already reviewed items\n",
    "user_profiles_val = test.select('reviewerID').distinct().alias(\"up_val\")\n",
    "item_profiles_alias = item_profiles_train.alias(\"ip\")\n",
    "\n",
    "user_profiles_val = user_profiles_val.join(broadcast(user_profiles_train), \"reviewerID\", \"inner\")\n",
    "user_profiles_val = user_profiles_val.alias(\"up_val\")\n",
    "user_item_similarity = (user_profiles_val\n",
    "                        .crossJoin(broadcast(item_profiles_alias))\n",
    "                        .withColumn('similarity', similarity_udf(\n",
    "                            col('up_val.brand'), col('up_val.avg_price'), col('ip.brand'), col('ip.price_scaled_float')))\n",
    "                        .select('up_val.reviewerID', 'ip.asin', 'similarity'))\n",
    "\n",
    "# Exclude already reviewed items\n",
    "recommendations = user_item_similarity.join(broadcast(df_already_reviewed_train),\n",
    "                                            (user_item_similarity.reviewerID == df_already_reviewed_train.reviewerID) &\n",
    "                                            (user_item_similarity.asin == df_already_reviewed_train.asin),\n",
    "                                            'left_anti')\n",
    "\n",
    "# Use window functions to rank by similarity\n",
    "windowSpec = Window.partitionBy(recommendations['reviewerID']).orderBy(recommendations['similarity'].desc())\n",
    "\n",
    "ranked_recommendations = recommendations.withColumn(\"rank\", rank().over(windowSpec))\n",
    "\n",
    "# Get top N recommendations\n",
    "top_recommendations = ranked_recommendations.filter(col(\"rank\") <= 10)  # Replace N with the number of recommendations you want\n"
   ]
  },
  {
   "cell_type": "code",
   "execution_count": null,
   "metadata": {
    "id": "tTpNTkddGZN9",
    "outputId": "ac8da3da-eec5-4aba-f5d6-daaa3360777b",
    "tags": []
   },
   "outputs": [
    {
     "name": "stderr",
     "output_type": "stream",
     "text": [
      "23/11/08 13:52:50 WARN DAGScheduler: Broadcasting large task binary with size 2.6 MiB\n",
      "23/11/08 13:52:50 WARN DAGScheduler: Broadcasting large task binary with size 2.6 MiB\n",
      "23/11/08 13:52:50 WARN DAGScheduler: Broadcasting large task binary with size 2.6 MiB\n",
      "23/11/08 13:52:53 WARN DAGScheduler: Broadcasting large task binary with size 2.6 MiB\n",
      "23/11/08 13:53:05 WARN DAGScheduler: Broadcasting large task binary with size 2.6 MiB\n",
      "23/11/08 13:53:05 WARN DAGScheduler: Broadcasting large task binary with size 2.6 MiB\n",
      "23/11/08 13:53:05 WARN DAGScheduler: Broadcasting large task binary with size 2.6 MiB\n",
      "23/11/08 13:53:08 WARN DAGScheduler: Broadcasting large task binary with size 5.2 MiB\n",
      "23/11/08 13:53:08 WARN DAGScheduler: Broadcasting large task binary with size 5.2 MiB\n",
      "23/11/08 13:53:09 WARN DAGScheduler: Broadcasting large task binary with size 2.6 MiB\n",
      "23/11/08 13:53:11 WARN DAGScheduler: Broadcasting large task binary with size 5.2 MiB\n",
      "23/11/08 13:53:12 WARN DAGScheduler: Broadcasting large task binary with size 5.2 MiB\n",
      "23/11/08 13:53:12 WARN DAGScheduler: Broadcasting large task binary with size 5.2 MiB\n",
      "23/11/08 13:53:13 WARN DAGScheduler: Broadcasting large task binary with size 5.2 MiB\n",
      "23/11/08 13:53:25 WARN DAGScheduler: Broadcasting large task binary with size 5.3 MiB\n"
     ]
    },
    {
     "name": "stdout",
     "output_type": "stream",
     "text": [
      "+--------------+----------+----------+----+\n",
      "|    reviewerID|      asin|similarity|rank|\n",
      "+--------------+----------+----------+----+\n",
      "|A11JM4NHFH7PLY|B009PPEVTW|0.98698884|   1|\n",
      "|A11JM4NHFH7PLY|B00GT8ZHXW|0.98358124|   2|\n",
      "|A11JM4NHFH7PLY|B005LDG7HQ| 0.9814127|   3|\n",
      "|A11JM4NHFH7PLY|B00AWHS3D2| 0.9789343|   4|\n",
      "|A11JM4NHFH7PLY|B007XU5UAU| 0.9736679|   5|\n",
      "|A11JM4NHFH7PLY|B000PHGM14| 0.9677819|   6|\n",
      "|A11JM4NHFH7PLY|B0010AZT3W| 0.9640644|   7|\n",
      "|A11JM4NHFH7PLY|B017WO9TFI| 0.9615862|   8|\n",
      "|A11JM4NHFH7PLY|B0012IYOH4|0.95600986|   9|\n",
      "|A11JM4NHFH7PLY|B0070VF5P2| 0.9522924|  10|\n",
      "+--------------+----------+----------+----+\n",
      "only showing top 10 rows\n",
      "\n"
     ]
    },
    {
     "name": "stderr",
     "output_type": "stream",
     "text": [
      "                                                                                \r"
     ]
    }
   ],
   "source": [
    "top_recommendations.show(10)"
   ]
  },
  {
   "cell_type": "code",
   "execution_count": null,
   "metadata": {
    "id": "543weynPGZN9",
    "tags": []
   },
   "outputs": [],
   "source": [
    "from pyspark.sql.functions import collect_list\n",
    "\n",
    "# Assuming top_recommendations DataFrame has columns 'reviewerID' and 'asin'\n",
    "final_recommendations = (top_recommendations\n",
    "                         .groupBy('reviewerID')\n",
    "                         .agg(collect_list('asin').alias('recommendations')))\n"
   ]
  },
  {
   "cell_type": "code",
   "execution_count": null,
   "metadata": {
    "id": "g_kD1BTAGZN9",
    "outputId": "8891648e-aa6d-4af0-9821-d5f1f81c2089",
    "tags": []
   },
   "outputs": [
    {
     "name": "stderr",
     "output_type": "stream",
     "text": [
      "23/11/08 13:37:56 WARN DAGScheduler: Broadcasting large task binary with size 2.6 MiB\n",
      "23/11/08 13:37:56 WARN DAGScheduler: Broadcasting large task binary with size 2.6 MiB\n",
      "23/11/08 13:37:56 WARN DAGScheduler: Broadcasting large task binary with size 2.6 MiB\n",
      "23/11/08 13:37:56 WARN DAGScheduler: Broadcasting large task binary with size 2.6 MiB\n",
      "23/11/08 13:37:56 WARN DAGScheduler: Broadcasting large task binary with size 2.6 MiB\n",
      "23/11/08 13:38:10 WARN DAGScheduler: Broadcasting large task binary with size 2.6 MiB\n",
      "23/11/08 13:38:10 WARN DAGScheduler: Broadcasting large task binary with size 2.6 MiB\n",
      "23/11/08 13:38:10 WARN DAGScheduler: Broadcasting large task binary with size 5.2 MiB\n",
      "23/11/08 13:38:10 WARN DAGScheduler: Broadcasting large task binary with size 5.2 MiB\n",
      "23/11/08 13:38:13 WARN DAGScheduler: Broadcasting large task binary with size 5.2 MiB\n",
      "23/11/08 13:38:14 WARN DAGScheduler: Broadcasting large task binary with size 5.2 MiB\n",
      "23/11/08 13:38:14 WARN DAGScheduler: Broadcasting large task binary with size 5.2 MiB\n",
      "23/11/08 13:38:15 WARN DAGScheduler: Broadcasting large task binary with size 5.3 MiB\n",
      "23/11/08 13:38:27 WARN DAGScheduler: Broadcasting large task binary with size 5.3 MiB\n"
     ]
    },
    {
     "name": "stdout",
     "output_type": "stream",
     "text": [
      "+--------------+------------------------------------------------------------------------------------------------------------------------+\n",
      "|reviewerID    |recommendations                                                                                                         |\n",
      "+--------------+------------------------------------------------------------------------------------------------------------------------+\n",
      "|A11JM4NHFH7PLY|[B009PPEVTW, B00GT8ZHXW, B005LDG7HQ, B00AWHS3D2, B007XU5UAU, B000PHGM14, B0010AZT3W, B017WO9TFI, B0012IYOH4, B0070VF5P2]|\n",
      "+--------------+------------------------------------------------------------------------------------------------------------------------+\n",
      "only showing top 1 row\n",
      "\n"
     ]
    },
    {
     "name": "stderr",
     "output_type": "stream",
     "text": [
      "                                                                                \r"
     ]
    }
   ],
   "source": [
    "final_recommendations.show(1,truncate = False)"
   ]
  },
  {
   "cell_type": "code",
   "execution_count": null,
   "metadata": {
    "id": "WBscjVZjGZN9",
    "outputId": "79314c6d-6aac-4dcc-f279-eeb130fb8083",
    "tags": []
   },
   "outputs": [
    {
     "name": "stderr",
     "output_type": "stream",
     "text": [
      "23/11/08 13:56:38 WARN DAGScheduler: Broadcasting large task binary with size 2.6 MiB\n",
      "[Stage 625:>                                                        (0 + 1) / 1]\r"
     ]
    },
    {
     "name": "stdout",
     "output_type": "stream",
     "text": [
      "+--------------------+--------------------+\n",
      "|          reviewerID|         actual_asin|\n",
      "+--------------------+--------------------+\n",
      "|A0575344WFZ4F94SHX4P|        [B00U3KF55C]|\n",
      "|      A100X1V4Q37JW4|        [B012APXT96]|\n",
      "|      A101NT6MFU94QU|        [B01DF31DQS]|\n",
      "|      A1029V9OX0GBCT|        [B00AOVH60M]|\n",
      "|      A102UVDIWPBMYM|        [B00OCSPCN6]|\n",
      "|      A102XRGI4UFG99|[B0013TVEYS, B001...|\n",
      "|      A102ZELP840AUD|        [B005Z4QWIK]|\n",
      "|      A1032U0WM7J9GA|        [B00AXE5B3O]|\n",
      "|      A1047EDJ84IMAS|        [B000S99LEO]|\n",
      "|      A104EHYQV3IE1G|        [B0075E9T2Y]|\n",
      "+--------------------+--------------------+\n",
      "only showing top 10 rows\n",
      "\n"
     ]
    },
    {
     "name": "stderr",
     "output_type": "stream",
     "text": [
      "23/11/08 13:56:52 WARN DAGScheduler: Broadcasting large task binary with size 2.6 MiB\n",
      "                                                                                \r"
     ]
    }
   ],
   "source": [
    "actual_items.show(10)"
   ]
  },
  {
   "cell_type": "code",
   "execution_count": null,
   "metadata": {
    "id": "moJd9t-1GZN-",
    "outputId": "593a4785-664d-4df2-ed20-06a262d7e1de",
    "tags": []
   },
   "outputs": [
    {
     "name": "stderr",
     "output_type": "stream",
     "text": [
      "23/11/08 13:53:41 WARN DAGScheduler: Broadcasting large task binary with size 2.6 MiB\n",
      "23/11/08 13:53:41 WARN DAGScheduler: Broadcasting large task binary with size 2.6 MiB\n",
      "23/11/08 13:53:41 WARN DAGScheduler: Broadcasting large task binary with size 2.6 MiB\n",
      "23/11/08 13:53:41 WARN DAGScheduler: Broadcasting large task binary with size 2.6 MiB\n",
      "23/11/08 13:53:44 WARN DAGScheduler: Broadcasting large task binary with size 2.6 MiB\n",
      "23/11/08 13:53:55 WARN DAGScheduler: Broadcasting large task binary with size 2.6 MiB\n",
      "23/11/08 13:53:55 WARN DAGScheduler: Broadcasting large task binary with size 2.6 MiB\n",
      "23/11/08 13:53:55 WARN DAGScheduler: Broadcasting large task binary with size 2.6 MiB\n",
      "23/11/08 13:53:55 WARN DAGScheduler: Broadcasting large task binary with size 2.6 MiB\n",
      "23/11/08 13:53:58 WARN DAGScheduler: Broadcasting large task binary with size 5.2 MiB\n",
      "23/11/08 13:53:58 WARN DAGScheduler: Broadcasting large task binary with size 5.2 MiB\n",
      "23/11/08 13:53:58 WARN DAGScheduler: Broadcasting large task binary with size 2.6 MiB\n",
      "23/11/08 13:54:01 WARN DAGScheduler: Broadcasting large task binary with size 5.2 MiB\n",
      "23/11/08 13:54:02 WARN DAGScheduler: Broadcasting large task binary with size 5.2 MiB\n",
      "23/11/08 13:54:02 WARN DAGScheduler: Broadcasting large task binary with size 5.2 MiB\n",
      "23/11/08 13:54:02 WARN DAGScheduler: Broadcasting large task binary with size 5.2 MiB\n",
      "23/11/08 13:54:14 WARN DAGScheduler: Broadcasting large task binary with size 5.3 MiB\n"
     ]
    },
    {
     "name": "stdout",
     "output_type": "stream",
     "text": [
      "+--------------+-------------------+------+-------------------+\n",
      "|    reviewerID|          precision|recall|                 F1|\n",
      "+--------------+-------------------+------+-------------------+\n",
      "|A11JM4NHFH7PLY|                0.0|   0.0|                0.0|\n",
      "|A17MOXNUG5ZQTS|                0.0|   0.0|                0.0|\n",
      "|A1AGCZQPZ9PZNR|                0.0|   0.0|                0.0|\n",
      "|A1C5TCCR2IGKBU|                0.0|   0.0|                0.0|\n",
      "|A1NKBMUSE0FK9O|                0.0|   0.0|                0.0|\n",
      "|A1REI9L7HVFLD3|                0.0|   0.0|                0.0|\n",
      "|A1S1RAEP3AUCTM|                0.0|   0.0|                0.0|\n",
      "|A1UZ4KONK58IF1|                0.0|   0.0|                0.0|\n",
      "|A1W415JP5WEAJK|                0.0|   0.0|                0.0|\n",
      "|A1YIFPM15ZHNIV|                0.0|   0.0|                0.0|\n",
      "|A20YQUOOUKMEYM|                0.0|   0.0|                0.0|\n",
      "|A22CFBCRX195CD|                0.0|   0.0|                0.0|\n",
      "|A24LLOOJ0YRR1Q|                0.0|   0.0|                0.0|\n",
      "|A27IYRA843Q5EJ|                0.0|   0.0|                0.0|\n",
      "|A2ESD2LOYPU2DL|                0.0|   0.0|                0.0|\n",
      "|A2G2SETWEYG2Z0|                0.0|   0.0|                0.0|\n",
      "|A2KCIIQ3K5SO4F|                0.0|   0.0|                0.0|\n",
      "|A2L1HE5OSNKOW7|                0.0|   0.0|                0.0|\n",
      "|A2O2Q726NXQSRD|0.08333333333333333|   1.0|0.15384615384615385|\n",
      "|A2O91U8YTA45I4|                0.0|   0.0|                0.0|\n",
      "+--------------+-------------------+------+-------------------+\n",
      "only showing top 20 rows\n",
      "\n"
     ]
    },
    {
     "name": "stderr",
     "output_type": "stream",
     "text": [
      "                                                                                \r"
     ]
    }
   ],
   "source": [
    "from pyspark.sql.functions import col, size, array_intersect\n",
    "\n",
    "# Step 1: For each `reviewerID` in `test`, collect all `asin` values into a list.\n",
    "actual_items = test.groupBy('reviewerID').agg(collect_list('asin').alias('actual_asin'))\n",
    "\n",
    "# Join the actual items with the recommended items on `reviewerID`\n",
    "results = final_recommendations.join(actual_items, 'reviewerID')\n",
    "\n",
    "# Step 3: Calculate true positives, precision, recall, and F1 score.\n",
    "metrics = results.withColumn('true_positives', size(array_intersect(col('recommendations'), col('actual_asin')))) \\\n",
    "                 .withColumn('precision', col('true_positives') / size(col('recommendations'))) \\\n",
    "                 .withColumn('recall', col('true_positives') / size(col('actual_asin'))) \\\n",
    "                 .withColumn('F1', when((col('precision') + col('recall')) > 0,\n",
    "                                         2 * (col('precision') * col('recall')) / (col('precision') + col('recall')))\n",
    "                             .otherwise(0))\n",
    "\n",
    "# Show the results\n",
    "metrics.select('reviewerID', 'precision', 'recall', 'F1').show()\n"
   ]
  },
  {
   "cell_type": "code",
   "execution_count": null,
   "metadata": {
    "id": "tlhotbTrGZN-",
    "outputId": "f048d8c9-dcf9-4a17-87f6-940062ca1678",
    "tags": []
   },
   "outputs": [
    {
     "name": "stderr",
     "output_type": "stream",
     "text": [
      "23/11/08 15:45:32 WARN DAGScheduler: Broadcasting large task binary with size 2.6 MiB\n",
      "23/11/08 15:45:32 WARN DAGScheduler: Broadcasting large task binary with size 2.6 MiB\n",
      "23/11/08 15:45:32 WARN DAGScheduler: Broadcasting large task binary with size 2.6 MiB\n",
      "23/11/08 15:45:32 WARN DAGScheduler: Broadcasting large task binary with size 2.6 MiB\n",
      "23/11/08 15:45:36 WARN DAGScheduler: Broadcasting large task binary with size 2.6 MiB\n",
      "23/11/08 15:45:47 WARN DAGScheduler: Broadcasting large task binary with size 2.6 MiB\n",
      "23/11/08 15:45:47 WARN DAGScheduler: Broadcasting large task binary with size 2.6 MiB\n",
      "23/11/08 15:45:47 WARN DAGScheduler: Broadcasting large task binary with size 2.6 MiB\n",
      "23/11/08 15:45:47 WARN DAGScheduler: Broadcasting large task binary with size 2.6 MiB\n",
      "23/11/08 15:45:50 WARN DAGScheduler: Broadcasting large task binary with size 5.2 MiB\n",
      "23/11/08 15:45:50 WARN DAGScheduler: Broadcasting large task binary with size 5.2 MiB\n",
      "23/11/08 15:45:50 WARN DAGScheduler: Broadcasting large task binary with size 2.6 MiB\n",
      "23/11/08 15:45:53 WARN DAGScheduler: Broadcasting large task binary with size 5.2 MiB\n",
      "23/11/08 15:45:54 WARN DAGScheduler: Broadcasting large task binary with size 5.2 MiB\n",
      "23/11/08 15:45:54 WARN DAGScheduler: Broadcasting large task binary with size 5.2 MiB\n",
      "23/11/08 15:45:54 WARN DAGScheduler: Broadcasting large task binary with size 5.2 MiB\n",
      "23/11/08 15:46:07 WARN DAGScheduler: Broadcasting large task binary with size 5.3 MiB\n",
      "[Stage 658:===========================================>           (19 + 5) / 24]\r"
     ]
    },
    {
     "name": "stdout",
     "output_type": "stream",
     "text": [
      "+-------------+----------+-------------------+\n",
      "|avg_precision|avg_recall|             avg_F1|\n",
      "+-------------+----------+-------------------+\n",
      "|          0.2|       1.0|0.33333333333333337|\n",
      "+-------------+----------+-------------------+\n",
      "\n"
     ]
    },
    {
     "name": "stderr",
     "output_type": "stream",
     "text": [
      "                                                                                \r"
     ]
    }
   ],
   "source": [
    "from pyspark.sql.functions import max as ma\n",
    "average_metrics = metrics.agg(\n",
    "    ma(col('precision')).alias('avg_precision'),\n",
    "    ma(col('recall')).alias('avg_recall'),\n",
    "    ma(col('F1')).alias('avg_F1')\n",
    ")\n",
    "average_metrics.show()"
   ]
  }
 ],
 "metadata": {
  "accelerator": "GPU",
  "colab": {
   "collapsed_sections": [
    "ddVjvBQ5BnXq",
    "0lporcTWBqQq",
    "KDhfmn8VUYCf"
   ],
   "gpuType": "T4",
   "provenance": []
  },
  "kernelspec": {
   "display_name": "DS5110 Spark 3.3",
   "language": "python",
   "name": "ds5110_spark3.3"
  },
  "language_info": {
   "codemirror_mode": {
    "name": "ipython",
    "version": 3
   },
   "file_extension": ".py",
   "mimetype": "text/x-python",
   "name": "python",
   "nbconvert_exporter": "python",
   "pygments_lexer": "ipython3",
   "version": "3.7.12"
  },
  "widgets": {
   "application/vnd.jupyter.widget-state+json": {
    "1ec8f538e2c340569c8f56ec590e8b5b": {
     "model_module": "@jupyter-widgets/controls",
     "model_module_version": "1.5.0",
     "model_name": "HBoxModel",
     "state": {
      "_dom_classes": [],
      "_model_module": "@jupyter-widgets/controls",
      "_model_module_version": "1.5.0",
      "_model_name": "HBoxModel",
      "_view_count": null,
      "_view_module": "@jupyter-widgets/controls",
      "_view_module_version": "1.5.0",
      "_view_name": "HBoxView",
      "box_style": "",
      "children": [
       "IPY_MODEL_783e04205f3e421987fcb3733f9d14f5",
       "IPY_MODEL_db4a6c3e04f7440894f662c490b75db6",
       "IPY_MODEL_5c8ceb0bd2cb443897d5b9650f26a348"
      ],
      "layout": "IPY_MODEL_ee18df5c64fd463db648a83281010e9a"
     }
    },
    "1ff556ad209f42d088546cc1e1c574cc": {
     "model_module": "@jupyter-widgets/base",
     "model_module_version": "1.2.0",
     "model_name": "LayoutModel",
     "state": {
      "_model_module": "@jupyter-widgets/base",
      "_model_module_version": "1.2.0",
      "_model_name": "LayoutModel",
      "_view_count": null,
      "_view_module": "@jupyter-widgets/base",
      "_view_module_version": "1.2.0",
      "_view_name": "LayoutView",
      "align_content": null,
      "align_items": null,
      "align_self": null,
      "border": null,
      "bottom": null,
      "display": null,
      "flex": null,
      "flex_flow": null,
      "grid_area": null,
      "grid_auto_columns": null,
      "grid_auto_flow": null,
      "grid_auto_rows": null,
      "grid_column": null,
      "grid_gap": null,
      "grid_row": null,
      "grid_template_areas": null,
      "grid_template_columns": null,
      "grid_template_rows": null,
      "height": null,
      "justify_content": null,
      "justify_items": null,
      "left": null,
      "margin": null,
      "max_height": null,
      "max_width": null,
      "min_height": null,
      "min_width": null,
      "object_fit": null,
      "object_position": null,
      "order": null,
      "overflow": null,
      "overflow_x": null,
      "overflow_y": null,
      "padding": null,
      "right": null,
      "top": null,
      "visibility": null,
      "width": null
     }
    },
    "249e1d44117f43bb8f63859d82cf22f8": {
     "model_module": "@jupyter-widgets/base",
     "model_module_version": "1.2.0",
     "model_name": "LayoutModel",
     "state": {
      "_model_module": "@jupyter-widgets/base",
      "_model_module_version": "1.2.0",
      "_model_name": "LayoutModel",
      "_view_count": null,
      "_view_module": "@jupyter-widgets/base",
      "_view_module_version": "1.2.0",
      "_view_name": "LayoutView",
      "align_content": null,
      "align_items": null,
      "align_self": null,
      "border": null,
      "bottom": null,
      "display": null,
      "flex": null,
      "flex_flow": null,
      "grid_area": null,
      "grid_auto_columns": null,
      "grid_auto_flow": null,
      "grid_auto_rows": null,
      "grid_column": null,
      "grid_gap": null,
      "grid_row": null,
      "grid_template_areas": null,
      "grid_template_columns": null,
      "grid_template_rows": null,
      "height": null,
      "justify_content": null,
      "justify_items": null,
      "left": null,
      "margin": null,
      "max_height": null,
      "max_width": null,
      "min_height": null,
      "min_width": null,
      "object_fit": null,
      "object_position": null,
      "order": null,
      "overflow": null,
      "overflow_x": null,
      "overflow_y": null,
      "padding": null,
      "right": null,
      "top": null,
      "visibility": null,
      "width": null
     }
    },
    "38317fc35c314b428eb0b9535e0475ac": {
     "model_module": "@jupyter-widgets/controls",
     "model_module_version": "1.5.0",
     "model_name": "DescriptionStyleModel",
     "state": {
      "_model_module": "@jupyter-widgets/controls",
      "_model_module_version": "1.5.0",
      "_model_name": "DescriptionStyleModel",
      "_view_count": null,
      "_view_module": "@jupyter-widgets/base",
      "_view_module_version": "1.2.0",
      "_view_name": "StyleView",
      "description_width": ""
     }
    },
    "3f3dba2148694883b52b79cb884df6f4": {
     "model_module": "@jupyter-widgets/controls",
     "model_module_version": "1.5.0",
     "model_name": "DescriptionStyleModel",
     "state": {
      "_model_module": "@jupyter-widgets/controls",
      "_model_module_version": "1.5.0",
      "_model_name": "DescriptionStyleModel",
      "_view_count": null,
      "_view_module": "@jupyter-widgets/base",
      "_view_module_version": "1.2.0",
      "_view_name": "StyleView",
      "description_width": ""
     }
    },
    "5c8ceb0bd2cb443897d5b9650f26a348": {
     "model_module": "@jupyter-widgets/controls",
     "model_module_version": "1.5.0",
     "model_name": "HTMLModel",
     "state": {
      "_dom_classes": [],
      "_model_module": "@jupyter-widgets/controls",
      "_model_module_version": "1.5.0",
      "_model_name": "HTMLModel",
      "_view_count": null,
      "_view_module": "@jupyter-widgets/controls",
      "_view_module_version": "1.5.0",
      "_view_name": "HTMLView",
      "description": "",
      "description_tooltip": null,
      "layout": "IPY_MODEL_249e1d44117f43bb8f63859d82cf22f8",
      "placeholder": "​",
      "style": "IPY_MODEL_3f3dba2148694883b52b79cb884df6f4",
      "value": " 0/20 [00:00&lt;?, ?it/s]"
     }
    },
    "783e04205f3e421987fcb3733f9d14f5": {
     "model_module": "@jupyter-widgets/controls",
     "model_module_version": "1.5.0",
     "model_name": "HTMLModel",
     "state": {
      "_dom_classes": [],
      "_model_module": "@jupyter-widgets/controls",
      "_model_module_version": "1.5.0",
      "_model_name": "HTMLModel",
      "_view_count": null,
      "_view_module": "@jupyter-widgets/controls",
      "_view_module_version": "1.5.0",
      "_view_name": "HTMLView",
      "description": "",
      "description_tooltip": null,
      "layout": "IPY_MODEL_fe743840550f4166878123b2b96e5560",
      "placeholder": "​",
      "style": "IPY_MODEL_38317fc35c314b428eb0b9535e0475ac",
      "value": "  0%"
     }
    },
    "b68660959b3b4be48609eda55afd0e86": {
     "model_module": "@jupyter-widgets/controls",
     "model_module_version": "1.5.0",
     "model_name": "ProgressStyleModel",
     "state": {
      "_model_module": "@jupyter-widgets/controls",
      "_model_module_version": "1.5.0",
      "_model_name": "ProgressStyleModel",
      "_view_count": null,
      "_view_module": "@jupyter-widgets/base",
      "_view_module_version": "1.2.0",
      "_view_name": "StyleView",
      "bar_color": null,
      "description_width": ""
     }
    },
    "db4a6c3e04f7440894f662c490b75db6": {
     "model_module": "@jupyter-widgets/controls",
     "model_module_version": "1.5.0",
     "model_name": "FloatProgressModel",
     "state": {
      "_dom_classes": [],
      "_model_module": "@jupyter-widgets/controls",
      "_model_module_version": "1.5.0",
      "_model_name": "FloatProgressModel",
      "_view_count": null,
      "_view_module": "@jupyter-widgets/controls",
      "_view_module_version": "1.5.0",
      "_view_name": "ProgressView",
      "bar_style": "danger",
      "description": "",
      "description_tooltip": null,
      "layout": "IPY_MODEL_1ff556ad209f42d088546cc1e1c574cc",
      "max": 20,
      "min": 0,
      "orientation": "horizontal",
      "style": "IPY_MODEL_b68660959b3b4be48609eda55afd0e86",
      "value": 0
     }
    },
    "ee18df5c64fd463db648a83281010e9a": {
     "model_module": "@jupyter-widgets/base",
     "model_module_version": "1.2.0",
     "model_name": "LayoutModel",
     "state": {
      "_model_module": "@jupyter-widgets/base",
      "_model_module_version": "1.2.0",
      "_model_name": "LayoutModel",
      "_view_count": null,
      "_view_module": "@jupyter-widgets/base",
      "_view_module_version": "1.2.0",
      "_view_name": "LayoutView",
      "align_content": null,
      "align_items": null,
      "align_self": null,
      "border": null,
      "bottom": null,
      "display": null,
      "flex": null,
      "flex_flow": null,
      "grid_area": null,
      "grid_auto_columns": null,
      "grid_auto_flow": null,
      "grid_auto_rows": null,
      "grid_column": null,
      "grid_gap": null,
      "grid_row": null,
      "grid_template_areas": null,
      "grid_template_columns": null,
      "grid_template_rows": null,
      "height": null,
      "justify_content": null,
      "justify_items": null,
      "left": null,
      "margin": null,
      "max_height": null,
      "max_width": null,
      "min_height": null,
      "min_width": null,
      "object_fit": null,
      "object_position": null,
      "order": null,
      "overflow": null,
      "overflow_x": null,
      "overflow_y": null,
      "padding": null,
      "right": null,
      "top": null,
      "visibility": null,
      "width": null
     }
    },
    "fe743840550f4166878123b2b96e5560": {
     "model_module": "@jupyter-widgets/base",
     "model_module_version": "1.2.0",
     "model_name": "LayoutModel",
     "state": {
      "_model_module": "@jupyter-widgets/base",
      "_model_module_version": "1.2.0",
      "_model_name": "LayoutModel",
      "_view_count": null,
      "_view_module": "@jupyter-widgets/base",
      "_view_module_version": "1.2.0",
      "_view_name": "LayoutView",
      "align_content": null,
      "align_items": null,
      "align_self": null,
      "border": null,
      "bottom": null,
      "display": null,
      "flex": null,
      "flex_flow": null,
      "grid_area": null,
      "grid_auto_columns": null,
      "grid_auto_flow": null,
      "grid_auto_rows": null,
      "grid_column": null,
      "grid_gap": null,
      "grid_row": null,
      "grid_template_areas": null,
      "grid_template_columns": null,
      "grid_template_rows": null,
      "height": null,
      "justify_content": null,
      "justify_items": null,
      "left": null,
      "margin": null,
      "max_height": null,
      "max_width": null,
      "min_height": null,
      "min_width": null,
      "object_fit": null,
      "object_position": null,
      "order": null,
      "overflow": null,
      "overflow_x": null,
      "overflow_y": null,
      "padding": null,
      "right": null,
      "top": null,
      "visibility": null,
      "width": null
     }
    }
   }
  }
 },
 "nbformat": 4,
 "nbformat_minor": 4
}
