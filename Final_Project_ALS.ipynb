{
 "cells": [
  {
   "cell_type": "code",
   "execution_count": 1,
   "metadata": {
    "id": "f5NDXrN2CtH7",
    "tags": []
   },
   "outputs": [],
   "source": [
    "import os\n",
    "import json\n",
    "import gzip\n",
    "import pandas as pd\n",
    "from urllib.request import urlopen\n",
    "import matplotlib.pyplot as plt\n",
    "from pyspark.sql import SparkSession\n",
    "from pyspark.sql.functions import col, length, lower, split, when,count, when, lit, unix_timestamp, to_date\n",
    "from pyspark.ml.feature import StringIndexer, OneHotEncoder, VectorAssembler\n",
    "from pyspark.ml import Pipeline\n",
    "from pyspark.ml.feature import StandardScaler\n",
    "from pyspark.sql.functions import avg"
   ]
  },
  {
   "cell_type": "code",
   "execution_count": 40,
   "metadata": {
    "colab": {
     "base_uri": "https://localhost:8080/"
    },
    "id": "NIpCl4lKHY8D",
    "outputId": "e0d2c868-376c-446b-e0c2-674c0f4fb0fb"
   },
   "outputs": [],
   "source": [
    "# !wget https://datarepo.eng.ucsd.edu/mcauley_group/data/amazon_v2/categoryFiles/Industrial_and_Scientific.json.gz"
   ]
  },
  {
   "cell_type": "code",
   "execution_count": null,
   "metadata": {
    "colab": {
     "base_uri": "https://localhost:8080/"
    },
    "id": "bb5fGi2wJpXI",
    "outputId": "8942d902-3d6b-4a33-b775-fab14abf6754"
   },
   "outputs": [],
   "source": [
    "# !wget https://datarepo.eng.ucsd.edu/mcauley_group/data/amazon_v2/metaFiles2/meta_Industrial_and_Scientific.json.gz"
   ]
  },
  {
   "cell_type": "code",
   "execution_count": 2,
   "metadata": {
    "tags": []
   },
   "outputs": [
    {
     "name": "stdout",
     "output_type": "stream",
     "text": [
      "Defaulting to user installation because normal site-packages is not writeable\n",
      "Requirement already satisfied: textblob in /sfs/qumulo/qhome/ynx9zm/.local/lib/python3.8/site-packages (0.17.1)\n",
      "Requirement already satisfied: nltk>=3.1; python_version >= \"3\" in /sfs/applications/202307/software/standard/core/anaconda/2020.11-py3.8/lib/python3.8/site-packages (from textblob) (3.5)\n",
      "Requirement already satisfied: regex in /sfs/applications/202307/software/standard/core/anaconda/2020.11-py3.8/lib/python3.8/site-packages (from nltk>=3.1; python_version >= \"3\"->textblob) (2020.10.15)\n",
      "Requirement already satisfied: click in /sfs/applications/202307/software/standard/core/anaconda/2020.11-py3.8/lib/python3.8/site-packages (from nltk>=3.1; python_version >= \"3\"->textblob) (7.1.2)\n",
      "Requirement already satisfied: joblib in /sfs/applications/202307/software/standard/core/anaconda/2020.11-py3.8/lib/python3.8/site-packages (from nltk>=3.1; python_version >= \"3\"->textblob) (0.17.0)\n",
      "Requirement already satisfied: tqdm in /sfs/applications/202307/software/standard/core/anaconda/2020.11-py3.8/lib/python3.8/site-packages (from nltk>=3.1; python_version >= \"3\"->textblob) (4.50.2)\n",
      "Defaulting to user installation because normal site-packages is not writeable\n",
      "Requirement already satisfied: pyspark in /sfs/qumulo/qhome/ynx9zm/.local/lib/python3.8/site-packages (3.5.0)\n",
      "Requirement already satisfied: nltk in /sfs/applications/202307/software/standard/core/anaconda/2020.11-py3.8/lib/python3.8/site-packages (3.5)\n",
      "Requirement already satisfied: py4j==0.10.9.7 in /sfs/qumulo/qhome/ynx9zm/.local/lib/python3.8/site-packages (from pyspark) (0.10.9.7)\n",
      "Requirement already satisfied: regex in /sfs/applications/202307/software/standard/core/anaconda/2020.11-py3.8/lib/python3.8/site-packages (from nltk) (2020.10.15)\n",
      "Requirement already satisfied: joblib in /sfs/applications/202307/software/standard/core/anaconda/2020.11-py3.8/lib/python3.8/site-packages (from nltk) (0.17.0)\n",
      "Requirement already satisfied: click in /sfs/applications/202307/software/standard/core/anaconda/2020.11-py3.8/lib/python3.8/site-packages (from nltk) (7.1.2)\n",
      "Requirement already satisfied: tqdm in /sfs/applications/202307/software/standard/core/anaconda/2020.11-py3.8/lib/python3.8/site-packages (from nltk) (4.50.2)\n",
      "Defaulting to user installation because normal site-packages is not writeable\n",
      "Requirement already satisfied: tqdm in /sfs/applications/202307/software/standard/core/anaconda/2020.11-py3.8/lib/python3.8/site-packages (4.50.2)\n"
     ]
    }
   ],
   "source": [
    "!pip install textblob\n",
    "!pip install pyspark nltk\n",
    "!pip install tqdm"
   ]
  },
  {
   "cell_type": "markdown",
   "metadata": {
    "id": "ddVjvBQ5BnXq"
   },
   "source": [
    "# Data Reading"
   ]
  },
  {
   "cell_type": "code",
   "execution_count": 2,
   "metadata": {
    "id": "G8Qexuq_3Rx0",
    "tags": []
   },
   "outputs": [
    {
     "name": "stderr",
     "output_type": "stream",
     "text": [
      "/opt/conda/lib/python3.7/site-packages/pyspark/bin/load-spark-env.sh: line 68: ps: command not found\n",
      "Setting default log level to \"WARN\".\n",
      "To adjust logging level use sc.setLogLevel(newLevel). For SparkR, use setLogLevel(newLevel).\n"
     ]
    },
    {
     "name": "stdout",
     "output_type": "stream",
     "text": [
      "23/12/03 13:23:32 WARN NativeCodeLoader: Unable to load native-hadoop library for your platform... using builtin-java classes where applicable\n"
     ]
    }
   ],
   "source": [
    "# Create a Spark session\n",
    "spark = SparkSession.builder \\\n",
    "    .appName(\"readGZ\") \\\n",
    "    .master(\"local[*]\") \\\n",
    "    .config(\"spark.default.parallelism\", 24) \\\n",
    "    .config(\"spark.sql.shuffle.partitions\", 24) \\\n",
    "    .getOrCreate()"
   ]
  },
  {
   "cell_type": "code",
   "execution_count": 3,
   "metadata": {
    "colab": {
     "base_uri": "https://localhost:8080/"
    },
    "id": "SSkWP10AtaKv",
    "outputId": "dcdcffe3-6145-4b91-e530-f0b0eafbffff",
    "tags": []
   },
   "outputs": [
    {
     "name": "stderr",
     "output_type": "stream",
     "text": [
      "[Stage 0:>                                                          (0 + 1) / 1]\r"
     ]
    },
    {
     "name": "stdout",
     "output_type": "stream",
     "text": [
      "23/12/03 13:23:45 WARN package: Truncated the string representation of a plan since it was too large. This behavior can be adjusted by setting 'spark.sql.debug.maxToStringFields'.\n"
     ]
    },
    {
     "name": "stderr",
     "output_type": "stream",
     "text": [
      "                                                                                \r"
     ]
    }
   ],
   "source": [
    "\n",
    "# Read the gzipped JSON file directly into a DataFrame\n",
    "df = spark.read.json(\"Industrial_and_Scientific.json.gz\")\n",
    "\n",
    "# Show the DataFrame to check if it's loaded correctly\n",
    "#df.show(10)"
   ]
  },
  {
   "cell_type": "code",
   "execution_count": 7,
   "metadata": {
    "id": "7igYuRaV4bF7",
    "tags": []
   },
   "outputs": [],
   "source": [
    "### load the meta data\n",
    "\n",
    "df_meta = spark.read.json(\"meta_Industrial_and_Scientific.json.gz\")\n",
    "#df_meta.show(10)"
   ]
  },
  {
   "cell_type": "markdown",
   "metadata": {
    "id": "0lporcTWBqQq"
   },
   "source": [
    "# EDA and Data Pre-Processing"
   ]
  },
  {
   "cell_type": "code",
   "execution_count": 8,
   "metadata": {
    "tags": []
   },
   "outputs": [
    {
     "name": "stdout",
     "output_type": "stream",
     "text": [
      "Number of Nulls in asin: 0, Percentage: 0.00%\n",
      "Number of Nulls in image: 1725623, Percentage: 98.14%\n",
      "Number of Nulls in overall: 0, Percentage: 0.00%\n",
      "Number of Nulls in reviewText: 984, Percentage: 0.06%\n",
      "Number of Nulls in reviewTime: 0, Percentage: 0.00%\n",
      "Number of Nulls in reviewerID: 0, Percentage: 0.00%\n",
      "Number of Nulls in reviewerName: 110, Percentage: 0.01%\n",
      "Number of Nulls in style: 1066819, Percentage: 60.67%\n",
      "Number of Nulls in summary: 403, Percentage: 0.02%\n",
      "Number of Nulls in unixReviewTime: 0, Percentage: 0.00%\n",
      "Number of Nulls in verified: 0, Percentage: 0.00%\n",
      "Number of Nulls in vote: 1552025, Percentage: 88.27%\n"
     ]
    }
   ],
   "source": [
    "# summarize the nulls in dataframe\n",
    "# Create an expression for each column that counts its nulls\n",
    "exprs = [count(when(col(c).isNull(), c)).alias(c) for c in df.columns]\n",
    "\n",
    "# Compute all null counts in a single pass\n",
    "null_counts = df.agg(*exprs).first().asDict()\n",
    "\n",
    "# Get the total count of rows for percentage calculation\n",
    "total_count = df.count()\n",
    "\n",
    "# Iterate through the results and calculate percentages\n",
    "for column, null_count in null_counts.items():\n",
    "    null_percentage = (null_count / total_count) * 100\n",
    "    print(f\"Number of Nulls in {column}: {null_count}, Percentage: {null_percentage:.2f}%\")\n"
   ]
  },
  {
   "cell_type": "code",
   "execution_count": 9,
   "metadata": {
    "tags": []
   },
   "outputs": [
    {
     "data": {
      "text/plain": [
       "1758333"
      ]
     },
     "execution_count": 9,
     "metadata": {},
     "output_type": "execute_result"
    }
   ],
   "source": [
    "total_count"
   ]
  },
  {
   "cell_type": "code",
   "execution_count": 4,
   "metadata": {
    "id": "LgWrDtZ94w89",
    "tags": []
   },
   "outputs": [],
   "source": [
    "# Drop the image, style, vote columns\n",
    "df = df.drop('image', 'style', 'vote')"
   ]
  },
  {
   "cell_type": "code",
   "execution_count": 5,
   "metadata": {
    "id": "HoBwuSpS0a_A",
    "tags": []
   },
   "outputs": [],
   "source": [
    "# Handling missing values: For simplicity, we'll drop rows with any NULLs\n",
    "df = df.na.drop()\n",
    "\n",
    "# Filtering out unverified reviews\n",
    "df = df.filter(col('verified') == True)\n",
    "\n",
    "# Feature Engineering - creating a new feature for the length of the reviewText\n",
    "df = df.withColumn('reviewText_length', length(col('reviewText')))\n"
   ]
  },
  {
   "cell_type": "code",
   "execution_count": 6,
   "metadata": {
    "tags": []
   },
   "outputs": [],
   "source": [
    "# Sample a fraction of the data (5%)\n",
    "fraction = 0.05\n",
    "seed = 42  # You can choose any number for the seed\n",
    "df = df.sample(False, fraction, seed)"
   ]
  },
  {
   "cell_type": "code",
   "execution_count": 13,
   "metadata": {
    "tags": []
   },
   "outputs": [
    {
     "data": {
      "text/plain": [
       "81986"
      ]
     },
     "execution_count": 13,
     "metadata": {},
     "output_type": "execute_result"
    }
   ],
   "source": [
    "min_length, max_length = df.selectExpr(\"min(reviewText_length)\", \"max(reviewText_length)\").first()\n",
    "\n",
    "df.count()"
   ]
  },
  {
   "cell_type": "code",
   "execution_count": 14,
   "metadata": {
    "tags": []
   },
   "outputs": [
    {
     "data": {
      "text/plain": [
       "(1, 12541)"
      ]
     },
     "execution_count": 14,
     "metadata": {},
     "output_type": "execute_result"
    }
   ],
   "source": [
    "min_length,max_length"
   ]
  },
  {
   "cell_type": "code",
   "execution_count": 7,
   "metadata": {
    "tags": []
   },
   "outputs": [],
   "source": [
    "# Example of filtering based on a condition, such as reviews that are too short/long might be outliers\n",
    "df = df.filter(col('reviewText_length') > 10)  # Example threshold\n",
    "df = df.filter(col('reviewText_length') < 1000)  # Example threshold"
   ]
  },
  {
   "cell_type": "code",
   "execution_count": 16,
   "metadata": {
    "tags": []
   },
   "outputs": [
    {
     "data": {
      "text/plain": [
       "75582"
      ]
     },
     "execution_count": 16,
     "metadata": {},
     "output_type": "execute_result"
    }
   ],
   "source": [
    "df.count()"
   ]
  },
  {
   "cell_type": "code",
   "execution_count": 17,
   "metadata": {
    "tags": []
   },
   "outputs": [
    {
     "data": {
      "text/plain": [
       "(11, 999)"
      ]
     },
     "execution_count": 17,
     "metadata": {},
     "output_type": "execute_result"
    }
   ],
   "source": [
    "# Find the range for 'reviewText_length'\n",
    "min_length, max_length = df.selectExpr(\"min(reviewText_length)\", \"max(reviewText_length)\").first()\n",
    "\n",
    "min_length,max_length"
   ]
  },
  {
   "cell_type": "code",
   "execution_count": 18,
   "metadata": {
    "colab": {
     "base_uri": "https://localhost:8080/",
     "height": 564
    },
    "id": "AH_C-uRAu5G-",
    "outputId": "90a23133-a2fc-4bb8-83ae-9c0d25fb384a",
    "tags": []
   },
   "outputs": [
    {
     "data": {
      "image/png": "[encoded data removed]",
      "text/plain": [
       "<Figure size 720x432 with 1 Axes>"
      ]
     },
     "metadata": {
      "needs_background": "light"
     },
     "output_type": "display_data"
    }
   ],
   "source": [
    "# Number of bins for the histogram\n",
    "num_bins = 50\n",
    "\n",
    "# Compute the bin size\n",
    "bin_size = (max_length - min_length) / num_bins\n",
    "\n",
    "# Create bins and count the number of records in each bin\n",
    "bins_expr = [\n",
    "    ((col('reviewText_length') - min_length) / bin_size).cast('integer').alias('bin')\n",
    "]\n",
    "histogram_df = df.select(*bins_expr).groupBy('bin').count()\n",
    "\n",
    "# Collect the histogram data\n",
    "histogram_data = histogram_df.sort('bin').collect()\n",
    "\n",
    "# Prepare data for plotting\n",
    "bins = [min_length + bin_size * i for i in range(num_bins + 1)]\n",
    "counts = [0] * num_bins\n",
    "for row in histogram_data:\n",
    "    counts[row['bin']] = row['count']\n",
    "\n",
    "plt.figure(figsize=(10, 6))\n",
    "plt.hist(bins[:-1], bins=bins, weights=counts)\n",
    "plt.title('Distribution of Review Text Lengths')\n",
    "plt.xlabel('Review Text Length')\n",
    "plt.ylabel('Count')\n",
    "plt.grid(False)\n",
    "plt.show()\n"
   ]
  },
  {
   "cell_type": "markdown",
   "metadata": {},
   "source": [
    "## Text Processing"
   ]
  },
  {
   "cell_type": "code",
   "execution_count": 19,
   "metadata": {
    "id": "4yIjISgc1xjx",
    "tags": []
   },
   "outputs": [],
   "source": [
    "# # Text Processing - cleaning the review text, undercase the words, tokenizing, and removing stop words (simplified example)\n",
    "# from pyspark.ml.feature import Tokenizer, StopWordsRemover\n",
    "# from pyspark.sql.functions import udf\n",
    "# from pyspark.sql.types import StringType, FloatType\n",
    "# from nltk.sentiment.vader import SentimentIntensityAnalyzer\n",
    "# from textblob import TextBlob\n",
    "# import nltk\n",
    "# nltk.download('vader_lexicon')\n",
    "\n",
    "# # Define a UDF for sentiment analysis\n",
    "# def get_sentiment(text):\n",
    "#     analysis = TextBlob(str(text))\n",
    "#     # Classify the polarity of the text\n",
    "#     # You can customize this based on your needs\n",
    "#     if analysis.sentiment.polarity > 0:\n",
    "#         return \"positive\"\n",
    "#     elif analysis.sentiment.polarity == 0:\n",
    "#         return \"neutral\"\n",
    "#     else:\n",
    "#         return \"negative\"\n",
    "    \n",
    "# def analyze_sentiment(review_text):\n",
    "#     sid = SentimentIntensityAnalyzer()\n",
    "#     sentiment_score = sid.polarity_scores(review_text)['compound']\n",
    "#     return sentiment_score\n",
    "\n",
    "# sentiment_analysis_udf = udf(analyze_sentiment, FloatType())\n",
    "# df = df.withColumn(\"sentiment_score\", sentiment_analysis_udf(df[\"reviewText\"]))\n",
    "\n",
    "# # Register the UDF\n",
    "# sentiment_udf = udf(get_sentiment, StringType())\n",
    "\n",
    "# # Apply sentiment analysis to the 'reviewText' column\n",
    "# df = df.withColumn(\"sentiment\", sentiment_udf(\"reviewText\"))\n",
    "\n",
    "\n",
    "# df = df.withColumn('reviewText', lower(col('reviewText'))) \n",
    "# tokenizer = Tokenizer(inputCol='reviewText', outputCol='reviewText_tokens')\n",
    "# df = tokenizer.transform(df)\n",
    "# remover = StopWordsRemover(inputCol='reviewText_tokens', outputCol='reviewText_clean')\n",
    "# df = remover.transform(df)"
   ]
  },
  {
   "cell_type": "code",
   "execution_count": 20,
   "metadata": {
    "tags": []
   },
   "outputs": [
    {
     "name": "stderr",
     "output_type": "stream",
     "text": [
      "[nltk_data] Downloading package vader_lexicon to\n",
      "[nltk_data]     /home/ynx9zm/nltk_data...\n",
      "[nltk_data]   Package vader_lexicon is already up-to-date!\n"
     ]
    }
   ],
   "source": [
    "from pyspark.ml.feature import Tokenizer, StopWordsRemover\n",
    "from pyspark.ml import Pipeline\n",
    "from pyspark.sql.functions import lower, col\n",
    "import nltk\n",
    "\n",
    "# Ensure required NLTK resources are downloaded\n",
    "nltk.download('vader_lexicon')\n",
    "\n",
    "# Text Preprocessing Pipeline\n",
    "tokenizer = Tokenizer(inputCol='reviewText', outputCol='reviewText_tokens')\n",
    "remover = StopWordsRemover(inputCol='reviewText_tokens', outputCol='reviewText_clean')\n",
    "preprocessing_pipeline = Pipeline(stages=[tokenizer, remover])\n",
    "\n",
    "# Transform DataFrame\n",
    "df = df.withColumn('reviewText', lower(col('reviewText')))\n",
    "df = preprocessing_pipeline.fit(df).transform(df)\n",
    "\n",
    "# Define and register UDF for sentiment analysis (batch processing not shown here)\n",
    "# Batch processing would require a more complex setup, possibly using Pandas UDFs\n",
    "from pyspark.sql.functions import udf\n",
    "from pyspark.sql.types import StringType, FloatType\n",
    "from nltk.sentiment.vader import SentimentIntensityAnalyzer\n",
    "\n",
    "def analyze_sentiment(review_text):\n",
    "    sid = SentimentIntensityAnalyzer()\n",
    "    return sid.polarity_scores(review_text)['compound']\n",
    "\n",
    "sentiment_analysis_udf = udf(analyze_sentiment, FloatType())\n",
    "df = df.withColumn(\"sentiment_score\", sentiment_analysis_udf(df[\"reviewText\"]))\n"
   ]
  },
  {
   "cell_type": "code",
   "execution_count": 21,
   "metadata": {
    "id": "WqZcdGp-5cui",
    "tags": []
   },
   "outputs": [],
   "source": [
    "# Split reviewTime into day, month, and year\n",
    "split_col = split(df['reviewTime'], ' ')\n",
    "df = df.withColumn('Day', split_col.getItem(0))\n",
    "df = df.withColumn('Month', split_col.getItem(1).substr(0,2))\n",
    "df = df.withColumn('Year', split_col.getItem(2))\n",
    "df = df.drop('reviewTime')"
   ]
  },
  {
   "cell_type": "markdown",
   "metadata": {},
   "source": [
    "# Data Visulization"
   ]
  },
  {
   "cell_type": "code",
   "execution_count": 22,
   "metadata": {
    "id": "IDu-xVsaDMh-",
    "tags": []
   },
   "outputs": [
    {
     "data": {
      "image/png": "[encoded data removed]",
      "text/plain": [
       "<Figure size 720x432 with 1 Axes>"
      ]
     },
     "metadata": {
      "needs_background": "light"
     },
     "output_type": "display_data"
    },
    {
     "data": {
      "image/png": "[encoded data removed]",
      "text/plain": [
       "<Figure size 720x432 with 1 Axes>"
      ]
     },
     "metadata": {},
     "output_type": "display_data"
    }
   ],
   "source": [
    "\n",
    "\n",
    "# Average rating (no change needed here)\n",
    "average_rating = df.agg(avg(\"overall\")).first()[0]\n",
    "\n",
    "# Count of reviews for each asin (no change needed here)\n",
    "reviews_per_asin = df.groupBy(\"asin\").agg(count(\"reviewerID\").alias(\"Number_of_Reviews\"))\n",
    "\n",
    "# Count of reviews for each reviewer (no change needed here)\n",
    "reviews_per_reviewers = df.groupBy(\"reviewerID\").agg(count(\"asin\").alias(\"Number_of_Reviews\"))\n",
    "\n",
    "# Histogram for overall ratings - Compute in PySpark\n",
    "overall_rating_distribution = df.groupBy(\"overall\").count().orderBy(\"overall\").collect()\n",
    "\n",
    "# Convert histogram data to Pandas DataFrame for plotting\n",
    "pdf_histogram = pd.DataFrame(overall_rating_distribution, columns=['Rating', 'Count'])\n",
    "\n",
    "# Plot histogram\n",
    "plt.figure(figsize=(10, 6))\n",
    "plt.bar(pdf_histogram['Rating'], pdf_histogram['Count'])\n",
    "plt.title('Distribution of Overall Ratings')\n",
    "plt.xlabel('Rating')\n",
    "plt.ylabel('Count')\n",
    "plt.grid(False)\n",
    "plt.show()\n",
    "\n",
    "# Pie chart for overall ratings - Compute in PySpark\n",
    "rating_counts = df.groupBy(\"overall\").count().orderBy(\"overall\").collect()\n",
    "\n",
    "# Convert pie chart data to Pandas Series for plotting\n",
    "pdf_pie = pd.Series({row['overall']: row['count'] for row in rating_counts})\n",
    "\n",
    "# Plot pie chart\n",
    "plt.figure(figsize=(10, 6))\n",
    "plt.pie(pdf_pie, labels=pdf_pie.index, autopct='%1.1f%%', startangle=140)\n",
    "plt.title('Distribution of Overall Ratings')\n",
    "plt.axis('equal')\n",
    "plt.show()"
   ]
  },
  {
   "cell_type": "code",
   "execution_count": 23,
   "metadata": {
    "colab": {
     "base_uri": "https://localhost:8080/",
     "height": 607
    },
    "id": "MGZpqoW9s-68",
    "outputId": "78848733-cf9f-4212-b896-e66bc0f68c9e",
    "tags": []
   },
   "outputs": [
    {
     "data": {
      "image/png": "[encoded data removed]",
      "text/plain": [
       "<Figure size 720x432 with 1 Axes>"
      ]
     },
     "metadata": {
      "needs_background": "light"
     },
     "output_type": "display_data"
    }
   ],
   "source": [
    "# Bar chart for number of reviews for each asin\n",
    "# Sort and get top 100 ASINs in PySpark\n",
    "top_reviews_per_asin = reviews_per_asin.orderBy(col(\"Number_of_Reviews\").desc()).limit(100)\n",
    "\n",
    "# Convert to Pandas DataFrame for plotting\n",
    "top_reviews_per_asin_pdf = top_reviews_per_asin.toPandas()\n",
    "\n",
    "# Plot bar chart using Pandas\n",
    "plt.figure(figsize=(10, 6))\n",
    "top_reviews_per_asin_pdf.set_index('asin')['Number_of_Reviews'].plot(kind='bar', legend=False)\n",
    "plt.title('Number of Reviews for Top 100 ASINs')\n",
    "plt.ylabel('Count')\n",
    "plt.xlabel('ASIN')\n",
    "plt.grid(False)\n",
    "plt.tight_layout()\n",
    "plt.show()"
   ]
  },
  {
   "cell_type": "code",
   "execution_count": 8,
   "metadata": {
    "tags": []
   },
   "outputs": [
    {
     "name": "stdout",
     "output_type": "stream",
     "text": [
      "Defaulting to user installation because normal site-packages is not writeable\n",
      "Requirement already satisfied: wordcloud in /home/wxr9et/.local/lib/python3.7/site-packages (1.9.2)\n",
      "Requirement already satisfied: numpy>=1.6.1 in /opt/conda/lib/python3.7/site-packages (from wordcloud) (1.21.6)\n",
      "Requirement already satisfied: pillow in /opt/conda/lib/python3.7/site-packages (from wordcloud) (9.2.0)\n",
      "Requirement already satisfied: matplotlib in /opt/conda/lib/python3.7/site-packages (from wordcloud) (3.5.3)\n",
      "Requirement already satisfied: cycler>=0.10 in /opt/conda/lib/python3.7/site-packages (from matplotlib->wordcloud) (0.11.0)\n",
      "Requirement already satisfied: fonttools>=4.22.0 in /opt/conda/lib/python3.7/site-packages (from matplotlib->wordcloud) (4.38.0)\n",
      "Requirement already satisfied: kiwisolver>=1.0.1 in /opt/conda/lib/python3.7/site-packages (from matplotlib->wordcloud) (1.4.4)\n",
      "Requirement already satisfied: packaging>=20.0 in /opt/conda/lib/python3.7/site-packages (from matplotlib->wordcloud) (23.1)\n",
      "Requirement already satisfied: pyparsing>=2.2.1 in /opt/conda/lib/python3.7/site-packages (from matplotlib->wordcloud) (3.1.1)\n",
      "Requirement already satisfied: python-dateutil>=2.7 in /opt/conda/lib/python3.7/site-packages (from matplotlib->wordcloud) (2.8.2)\n",
      "Requirement already satisfied: typing-extensions in /opt/conda/lib/python3.7/site-packages (from kiwisolver>=1.0.1->matplotlib->wordcloud) (4.7.1)\n",
      "Requirement already satisfied: six>=1.5 in /opt/conda/lib/python3.7/site-packages (from python-dateutil>=2.7->matplotlib->wordcloud) (1.16.0)\n"
     ]
    }
   ],
   "source": [
    "!pip install wordcloud"
   ]
  },
  {
   "cell_type": "code",
   "execution_count": 25,
   "metadata": {
    "colab": {
     "base_uri": "https://localhost:8080/",
     "height": 871
    },
    "id": "0UBh50DFFI1l",
    "outputId": "f5c3b337-fa19-423e-cc2f-b8dffafb8c09",
    "tags": []
   },
   "outputs": [
    {
     "ename": "ModuleNotFoundError",
     "evalue": "No module named 'wordcloud'",
     "output_type": "error",
     "traceback": [
      "\u001b[0;31m---------------------------------------------------------------------------\u001b[0m",
      "\u001b[0;31mModuleNotFoundError\u001b[0m                       Traceback (most recent call last)",
      "\u001b[0;32m<ipython-input-25-af73b06eb953>\u001b[0m in \u001b[0;36m<module>\u001b[0;34m\u001b[0m\n\u001b[1;32m      1\u001b[0m \u001b[0;32mfrom\u001b[0m \u001b[0mpyspark\u001b[0m\u001b[0;34m.\u001b[0m\u001b[0msql\u001b[0m\u001b[0;34m.\u001b[0m\u001b[0mfunctions\u001b[0m \u001b[0;32mimport\u001b[0m \u001b[0mconcat_ws\u001b[0m\u001b[0;34m,\u001b[0m \u001b[0mcollect_list\u001b[0m\u001b[0;34m\u001b[0m\u001b[0;34m\u001b[0m\u001b[0m\n\u001b[0;32m----> 2\u001b[0;31m \u001b[0;32mfrom\u001b[0m \u001b[0mwordcloud\u001b[0m \u001b[0;32mimport\u001b[0m \u001b[0mWordCloud\u001b[0m\u001b[0;34m\u001b[0m\u001b[0;34m\u001b[0m\u001b[0m\n\u001b[0m\u001b[1;32m      3\u001b[0m \u001b[0;32mimport\u001b[0m \u001b[0mmatplotlib\u001b[0m\u001b[0;34m.\u001b[0m\u001b[0mpyplot\u001b[0m \u001b[0;32mas\u001b[0m \u001b[0mplt\u001b[0m\u001b[0;34m\u001b[0m\u001b[0;34m\u001b[0m\u001b[0m\n\u001b[1;32m      4\u001b[0m \u001b[0;34m\u001b[0m\u001b[0m\n\u001b[1;32m      5\u001b[0m \u001b[0;32mdef\u001b[0m \u001b[0mgenerate_word_cloud\u001b[0m\u001b[0;34m(\u001b[0m\u001b[0mtext\u001b[0m\u001b[0;34m,\u001b[0m \u001b[0mtitle\u001b[0m\u001b[0;34m)\u001b[0m\u001b[0;34m:\u001b[0m\u001b[0;34m\u001b[0m\u001b[0;34m\u001b[0m\u001b[0m\n",
      "\u001b[0;31mModuleNotFoundError\u001b[0m: No module named 'wordcloud'"
     ]
    }
   ],
   "source": [
    "from pyspark.sql.functions import concat_ws, collect_list\n",
    "from wordcloud import WordCloud\n",
    "import matplotlib.pyplot as plt\n",
    "\n",
    "def generate_word_cloud(text, title):\n",
    "    wordcloud = WordCloud(width=800, height=400, background_color='white').generate(text)\n",
    "    plt.figure(figsize=(10, 5))\n",
    "    plt.imshow(wordcloud, interpolation='bilinear')\n",
    "    plt.axis('off')\n",
    "    plt.title(title)\n",
    "    plt.show()\n",
    "\n",
    "# # Sample a fraction of the data (5%)\n",
    "# fraction = 0.01\n",
    "# seed = 42  # You can choose any number for the seed\n",
    "# sampled_df = df.sample(False, fraction, seed)\n",
    "\n",
    "# Concatenate reviewText from all rows in the sampled PySpark DataFrame\n",
    "review_text_str = df.select(concat_ws(\" \", collect_list(\"reviewText\"))).first()[0]\n",
    "\n",
    "# Concatenate summary from all rows in the sampled PySpark DataFrame\n",
    "summary_str = df.select(concat_ws(\" \", collect_list(\"summary\"))).first()[0]\n",
    "\n",
    "# Generate word clouds\n",
    "generate_word_cloud(review_text_str, \"Word Cloud for Review Text\")\n",
    "generate_word_cloud(summary_str, \"Word Cloud for Summary\")"
   ]
  },
  {
   "cell_type": "code",
   "execution_count": null,
   "metadata": {
    "tags": []
   },
   "outputs": [],
   "source": [
    "plot = False"
   ]
  },
  {
   "cell_type": "code",
   "execution_count": null,
   "metadata": {
    "tags": []
   },
   "outputs": [],
   "source": [
    "from pyspark.sql.functions import col\n",
    "import matplotlib.pyplot as plt\n",
    "import pandas as pd\n",
    "if plot:\n",
    "    # Define the number of bins for the histogram\n",
    "    num_bins = 20\n",
    "\n",
    "    # Calculate the range for sentiment scores\n",
    "    min_score, max_score = df.selectExpr(\"min(sentiment_score)\", \"max(sentiment_score)\").first()\n",
    "\n",
    "    # Compute the bin size\n",
    "    bin_size = (max_score - min_score) / num_bins\n",
    "\n",
    "    # Create bins and count the number of records in each bin\n",
    "    bins_expr = [\n",
    "        ((col('sentiment_score') - min_score) / bin_size).cast('integer').alias('bin')\n",
    "    ]\n",
    "    histogram_df = df.select(*bins_expr).groupBy('bin').count()\n",
    "\n",
    "    # Collect the histogram data\n",
    "    histogram_data = histogram_df.sort('bin').collect()\n",
    "\n",
    "    # Prepare data for plotting\n",
    "    bins = [min_score + bin_size * i for i in range(num_bins + 1)]\n",
    "    counts = [0] * num_bins\n",
    "    for row in histogram_data:\n",
    "        if 0 <= row['bin'] < num_bins:\n",
    "            counts[row['bin']] = row['count']\n",
    "\n",
    "    # Plotting using Matplotlib\n",
    "    plt.figure(figsize=(10, 6))\n",
    "    plt.hist(bins[:-1], bins=bins, weights=counts)\n",
    "    plt.title('Distribution of Sentiment Scores')\n",
    "    plt.xlabel('Sentiment Score')\n",
    "    plt.ylabel('Count')\n",
    "    plt.grid(False)\n",
    "    plt.show()"
   ]
  },
  {
   "cell_type": "markdown",
   "metadata": {
    "id": "Az7mi7WwkR5f"
   },
   "source": [
    "# Modelling"
   ]
  },
  {
   "cell_type": "markdown",
   "metadata": {
    "id": "KIVXnBAuuVf5"
   },
   "source": [
    "## Data Splitting"
   ]
  },
  {
   "cell_type": "code",
   "execution_count": null,
   "metadata": {
    "tags": []
   },
   "outputs": [],
   "source": [
    "###sampling\n",
    "# sampled_df = df.sample(fraction=0.01, seed=42)\n",
    "# sampled_df.count()"
   ]
  },
  {
   "cell_type": "code",
   "execution_count": 9,
   "metadata": {
    "id": "mnzc-mTpuYuj",
    "tags": []
   },
   "outputs": [
    {
     "name": "stderr",
     "output_type": "stream",
     "text": [
      "                                                                                \r"
     ]
    }
   ],
   "source": [
    "from pyspark.ml.feature import StringIndexer\n",
    "\n",
    "# Indexing is required to convert string identifiers to numeric indices for the ALS algorithm\n",
    "indexer_user = StringIndexer(inputCol=\"reviewerID\", outputCol=\"userIndex\")\n",
    "df = indexer_user.fit(df).transform(df)\n",
    "\n",
    "indexer_item = StringIndexer(inputCol=\"asin\", outputCol=\"itemIndex\")\n",
    "df = indexer_item.fit(df).transform(df)"
   ]
  },
  {
   "cell_type": "code",
   "execution_count": 10,
   "metadata": {
    "id": "mnzc-mTpuYuj",
    "tags": []
   },
   "outputs": [],
   "source": [
    "(train, test) = df.randomSplit([0.8, 0.2],seed = 42)"
   ]
  },
  {
   "cell_type": "code",
   "execution_count": 11,
   "metadata": {
    "tags": []
   },
   "outputs": [],
   "source": [
    "train = train.select(\"userIndex\",\"itemIndex\",\"overall\")\n",
    "test = test.select(\"userIndex\",\"itemIndex\",\"overall\")"
   ]
  },
  {
   "cell_type": "markdown",
   "metadata": {
    "id": "csuWnWesuTGB"
   },
   "source": [
    "\n",
    "## ALS\n",
    "\n",
    "refer: https://www.kaggle.com/code/nadianizam/h-m-fashion-recommendation-with-pyspark\n",
    "\n"
   ]
  },
  {
   "cell_type": "code",
   "execution_count": 12,
   "metadata": {
    "id": "xVGz5N03kT7T",
    "tags": []
   },
   "outputs": [],
   "source": [
    "from pyspark.ml.recommendation import ALS\n",
    "from pyspark.ml.evaluation import RegressionEvaluator\n",
    "\n",
    "# Setting up the ALS model; In this model set the cold start as drop\n",
    "als = ALS(maxIter=5, regParam=0.01, userCol=\"userIndex\", itemCol=\"itemIndex\", ratingCol=\"overall\", coldStartStrategy=\"drop\")"
   ]
  },
  {
   "cell_type": "code",
   "execution_count": 20,
   "metadata": {
    "tags": []
   },
   "outputs": [
    {
     "name": "stdout",
     "output_type": "stream",
     "text": [
      "23/12/03 13:27:15 WARN DAGScheduler: Broadcasting large task binary with size 3.7 MiB\n"
     ]
    },
    {
     "name": "stderr",
     "output_type": "stream",
     "text": [
      "                                                                                \r"
     ]
    },
    {
     "name": "stdout",
     "output_type": "stream",
     "text": [
      "23/12/03 13:27:23 WARN DAGScheduler: Broadcasting large task binary with size 3.7 MiB\n"
     ]
    },
    {
     "name": "stderr",
     "output_type": "stream",
     "text": [
      "[Stage 28:>                                                         (0 + 1) / 1]\r"
     ]
    },
    {
     "name": "stdout",
     "output_type": "stream",
     "text": [
      "23/12/03 13:27:31 WARN DAGScheduler: Broadcasting large task binary with size 3.7 MiB\n"
     ]
    },
    {
     "name": "stderr",
     "output_type": "stream",
     "text": [
      "[Stage 29:===================================>                    (15 + 9) / 24]\r"
     ]
    },
    {
     "name": "stdout",
     "output_type": "stream",
     "text": [
      "23/12/03 13:27:32 WARN DAGScheduler: Broadcasting large task binary with size 3.7 MiB\n"
     ]
    },
    {
     "name": "stderr",
     "output_type": "stream",
     "text": [
      "                                                                                \r"
     ]
    },
    {
     "name": "stdout",
     "output_type": "stream",
     "text": [
      "23/12/03 13:27:33 WARN DAGScheduler: Broadcasting large task binary with size 3.7 MiB\n",
      "23/12/03 13:27:33 WARN DAGScheduler: Broadcasting large task binary with size 3.7 MiB\n",
      "23/12/03 13:27:34 WARN DAGScheduler: Broadcasting large task binary with size 3.7 MiB\n",
      "23/12/03 13:27:34 WARN DAGScheduler: Broadcasting large task binary with size 3.7 MiB\n",
      "23/12/03 13:27:35 WARN DAGScheduler: Broadcasting large task binary with size 3.7 MiB\n"
     ]
    },
    {
     "name": "stderr",
     "output_type": "stream",
     "text": [
      "[Stage 39:>                                                       (0 + 10) / 10]\r"
     ]
    },
    {
     "name": "stdout",
     "output_type": "stream",
     "text": [
      "23/12/03 13:27:36 WARN DAGScheduler: Broadcasting large task binary with size 3.7 MiB\n",
      "23/12/03 13:27:36 WARN DAGScheduler: Broadcasting large task binary with size 3.7 MiB\n"
     ]
    },
    {
     "name": "stderr",
     "output_type": "stream",
     "text": [
      "[Stage 41:>                                                       (0 + 10) / 10]\r"
     ]
    },
    {
     "name": "stdout",
     "output_type": "stream",
     "text": [
      "23/12/03 13:27:37 WARN DAGScheduler: Broadcasting large task binary with size 3.7 MiB\n",
      "23/12/03 13:27:38 WARN DAGScheduler: Broadcasting large task binary with size 3.7 MiB\n"
     ]
    },
    {
     "name": "stderr",
     "output_type": "stream",
     "text": [
      "[Stage 43:>                                                       (0 + 10) / 10]\r"
     ]
    },
    {
     "name": "stdout",
     "output_type": "stream",
     "text": [
      "23/12/03 13:27:39 WARN DAGScheduler: Broadcasting large task binary with size 3.7 MiB\n",
      "23/12/03 13:27:39 WARN DAGScheduler: Broadcasting large task binary with size 3.7 MiB\n"
     ]
    },
    {
     "name": "stderr",
     "output_type": "stream",
     "text": [
      "[Stage 45:>                                                       (0 + 10) / 10]\r"
     ]
    },
    {
     "name": "stdout",
     "output_type": "stream",
     "text": [
      "23/12/03 13:27:40 WARN DAGScheduler: Broadcasting large task binary with size 3.7 MiB\n",
      "23/12/03 13:27:40 WARN DAGScheduler: Broadcasting large task binary with size 3.7 MiB\n"
     ]
    },
    {
     "name": "stderr",
     "output_type": "stream",
     "text": [
      "                                                                                \r"
     ]
    },
    {
     "name": "stdout",
     "output_type": "stream",
     "text": [
      "23/12/03 13:27:41 WARN DAGScheduler: Broadcasting large task binary with size 3.7 MiB\n"
     ]
    }
   ],
   "source": [
    "# Fit the ALS model to the training data\n",
    "model = als.fit(train)"
   ]
  },
  {
   "cell_type": "code",
   "execution_count": 21,
   "metadata": {
    "id": "xVGz5N03kT7T",
    "tags": []
   },
   "outputs": [
    {
     "name": "stdout",
     "output_type": "stream",
     "text": [
      "23/12/03 13:27:42 WARN DAGScheduler: Broadcasting large task binary with size 3.7 MiB\n",
      "23/12/03 13:27:42 WARN DAGScheduler: Broadcasting large task binary with size 3.7 MiB\n",
      "23/12/03 13:27:42 WARN DAGScheduler: Broadcasting large task binary with size 3.7 MiB\n"
     ]
    },
    {
     "name": "stderr",
     "output_type": "stream",
     "text": [
      "[Stage 61:>                                                         (0 + 1) / 1]\r"
     ]
    },
    {
     "name": "stdout",
     "output_type": "stream",
     "text": [
      "23/12/03 13:27:51 WARN DAGScheduler: Broadcasting large task binary with size 3.7 MiB\n"
     ]
    },
    {
     "name": "stderr",
     "output_type": "stream",
     "text": [
      "                                                                                \r"
     ]
    },
    {
     "name": "stdout",
     "output_type": "stream",
     "text": [
      "23/12/03 13:27:52 WARN DAGScheduler: Broadcasting large task binary with size 3.7 MiB\n",
      "23/12/03 13:27:52 WARN DAGScheduler: Broadcasting large task binary with size 3.7 MiB\n",
      "23/12/03 13:27:52 WARN DAGScheduler: Broadcasting large task binary with size 3.7 MiB\n"
     ]
    },
    {
     "name": "stderr",
     "output_type": "stream",
     "text": [
      "[Stage 96:>                                                         (0 + 1) / 1]\r"
     ]
    },
    {
     "name": "stdout",
     "output_type": "stream",
     "text": [
      "23/12/03 13:28:01 WARN DAGScheduler: Broadcasting large task binary with size 3.7 MiB\n"
     ]
    },
    {
     "name": "stderr",
     "output_type": "stream",
     "text": [
      "                                                                                \r"
     ]
    }
   ],
   "source": [
    "# # Fitting the ALS model on the training data\n",
    "# model = als.fit(train)\n",
    "\n",
    "# Predicting on the train and test sets\n",
    "predictions_train = model.transform(train)\n",
    "predictions_test = model.transform(test)\n",
    "\n",
    "# Create an RMSE evaluator using the label and predicted columns\n",
    "reg_evaluator = RegressionEvaluator(metricName=\"rmse\", labelCol=\"overall\", predictionCol=\"prediction\")\n",
    "\n",
    "# Evaluate the model on training data\n",
    "rmse_train = reg_evaluator.evaluate(predictions_train)\n",
    "\n",
    "# Evaluate the model on test data\n",
    "rmse_test = reg_evaluator.evaluate(predictions_test)"
   ]
  },
  {
   "cell_type": "code",
   "execution_count": 22,
   "metadata": {
    "tags": []
   },
   "outputs": [
    {
     "name": "stdout",
     "output_type": "stream",
     "text": [
      "23/12/03 13:28:01 WARN DAGScheduler: Broadcasting large task binary with size 3.9 MiB\n",
      "23/12/03 13:28:02 WARN MemoryManager: Total allocation exceeds 95.00% (1,020,054,720 bytes) of heap memory\n",
      "Scaling row group sizes to 95.00% for 8 writers\n",
      "23/12/03 13:28:02 WARN MemoryManager: Total allocation exceeds 95.00% (1,020,054,720 bytes) of heap memory\n",
      "Scaling row group sizes to 84.44% for 9 writers\n",
      "23/12/03 13:28:02 WARN MemoryManager: Total allocation exceeds 95.00% (1,020,054,720 bytes) of heap memory\n",
      "Scaling row group sizes to 76.00% for 10 writers\n"
     ]
    },
    {
     "name": "stderr",
     "output_type": "stream",
     "text": [
      "                                                                                \r"
     ]
    },
    {
     "name": "stdout",
     "output_type": "stream",
     "text": [
      "23/12/03 13:28:02 WARN MemoryManager: Total allocation exceeds 95.00% (1,020,054,720 bytes) of heap memory\n",
      "Scaling row group sizes to 84.44% for 9 writers\n",
      "23/12/03 13:28:02 WARN MemoryManager: Total allocation exceeds 95.00% (1,020,054,720 bytes) of heap memory\n",
      "Scaling row group sizes to 95.00% for 8 writers\n",
      "23/12/03 13:28:02 WARN DAGScheduler: Broadcasting large task binary with size 3.9 MiB\n",
      "23/12/03 13:28:03 WARN MemoryManager: Total allocation exceeds 95.00% (1,020,054,720 bytes) of heap memory\n",
      "Scaling row group sizes to 95.00% for 8 writers\n",
      "23/12/03 13:28:03 WARN MemoryManager: Total allocation exceeds 95.00% (1,020,054,720 bytes) of heap memory\n",
      "Scaling row group sizes to 84.44% for 9 writers\n",
      "23/12/03 13:28:03 WARN MemoryManager: Total allocation exceeds 95.00% (1,020,054,720 bytes) of heap memory\n",
      "Scaling row group sizes to 76.00% for 10 writers\n",
      "23/12/03 13:28:03 WARN MemoryManager: Total allocation exceeds 95.00% (1,020,054,720 bytes) of heap memory\n",
      "Scaling row group sizes to 84.44% for 9 writers\n",
      "23/12/03 13:28:03 WARN MemoryManager: Total allocation exceeds 95.00% (1,020,054,720 bytes) of heap memory\n",
      "Scaling row group sizes to 95.00% for 8 writers\n"
     ]
    }
   ],
   "source": [
    "model_path = \"models/RatingALSModel_1.obj\"\n",
    "# Save the model, overwriting any existing model at the specified path\n",
    "model.write().overwrite().save(model_path)"
   ]
  },
  {
   "cell_type": "markdown",
   "metadata": {
    "tags": []
   },
   "source": [
    "## For user who first appear in test set, recommend the most popular stuff to them."
   ]
  },
  {
   "cell_type": "code",
   "execution_count": 51,
   "metadata": {
    "tags": []
   },
   "outputs": [],
   "source": [
    "from pyspark.sql import SparkSession\n",
    "from pyspark.sql import functions as F\n",
    "\n",
    "# Create a Spark session\n",
    "spark = SparkSession.builder.appName(\"PopularItemsRecommendation\").getOrCreate()\n",
    "\n",
    "# Find users in the test set that do not appear in the train set\n",
    "newUsers = test.select(\"userIndex\").subtract(train.select(\"userIndex\")).distinct()\n",
    "\n",
    "# Calculate item popularity based on the train set\n",
    "itemPopularity = train.groupBy(\"itemIndex\").agg(F.count(\"overall\").alias(\"popularity\"))\n",
    "\n",
    "# Rank items based on popularity in descending order\n",
    "rankedItems = itemPopularity.orderBy(F.desc(\"popularity\"))\n",
    "\n",
    "# Join the new users with the ranked items to recommend the most popular items\n",
    "recommendations = newUsers.crossJoin(rankedItems.limit(10))  # Replace k with the number of items to recommend\n",
    "\n",
    "# Select relevant columns for further processing or output\n",
    "newRecommendations = recommendations.groupBy(\"userIndex\").agg(F.collect_list(\"itemIndex\").alias(\"name\"))"
   ]
  },
  {
   "cell_type": "code",
   "execution_count": 14,
   "metadata": {
    "tags": []
   },
   "outputs": [
    {
     "name": "stdout",
     "output_type": "stream",
     "text": [
      "23/12/03 13:25:50 WARN DAGScheduler: Broadcasting large task binary with size 3.7 MiB\n",
      "23/12/03 13:25:50 WARN DAGScheduler: Broadcasting large task binary with size 3.7 MiB\n"
     ]
    },
    {
     "name": "stderr",
     "output_type": "stream",
     "text": [
      "                                                                                \r"
     ]
    },
    {
     "name": "stdout",
     "output_type": "stream",
     "text": [
      "23/12/03 13:25:59 WARN DAGScheduler: Broadcasting large task binary with size 3.7 MiB\n",
      "23/12/03 13:25:59 WARN DAGScheduler: Broadcasting large task binary with size 3.7 MiB\n"
     ]
    },
    {
     "name": "stderr",
     "output_type": "stream",
     "text": [
      "[Stage 9:>                                                          (0 + 1) / 1]\r"
     ]
    },
    {
     "name": "stdout",
     "output_type": "stream",
     "text": [
      "23/12/03 13:26:07 WARN DAGScheduler: Broadcasting large task binary with size 3.7 MiB\n"
     ]
    },
    {
     "name": "stderr",
     "output_type": "stream",
     "text": [
      "                                                                                \r"
     ]
    },
    {
     "data": {
      "text/plain": [
       "14457"
      ]
     },
     "execution_count": 14,
     "metadata": {},
     "output_type": "execute_result"
    }
   ],
   "source": [
    "newRecommendations.count()"
   ]
  },
  {
   "cell_type": "code",
   "execution_count": 15,
   "metadata": {
    "tags": []
   },
   "outputs": [
    {
     "name": "stdout",
     "output_type": "stream",
     "text": [
      "23/12/03 13:26:07 WARN DAGScheduler: Broadcasting large task binary with size 3.7 MiB\n"
     ]
    },
    {
     "name": "stderr",
     "output_type": "stream",
     "text": [
      "                                                                                \r"
     ]
    },
    {
     "data": {
      "text/plain": [
       "15311"
      ]
     },
     "execution_count": 15,
     "metadata": {},
     "output_type": "execute_result"
    }
   ],
   "source": [
    "test.count()"
   ]
  },
  {
   "cell_type": "markdown",
   "metadata": {
    "id": "xVGz5N03kT7T",
    "tags": []
   },
   "source": [
    "# grid search for ALS model"
   ]
  },
  {
   "cell_type": "code",
   "execution_count": 43,
   "metadata": {
    "id": "xVGz5N03kT7T",
    "tags": []
   },
   "outputs": [],
   "source": [
    "from pyspark.ml.tuning import ParamGridBuilder, CrossValidator\n",
    "\n",
    "param_grid = ParamGridBuilder() \\\n",
    "    .addGrid(als.rank, [10,30]) \\\n",
    "    .addGrid(als.maxIter, [5, 15]) \\\n",
    "    .addGrid(als.regParam, [0.01, 1.0]) \\\n",
    "    .build()\n",
    "\n",
    "\n",
    "##cross validation\n",
    "cross_val = CrossValidator(\n",
    "    estimator=als,\n",
    "    estimatorParamMaps=param_grid,\n",
    "    evaluator=reg_evaluator,\n",
    "    numFolds=5)"
   ]
  },
  {
   "cell_type": "code",
   "execution_count": 17,
   "metadata": {
    "tags": []
   },
   "outputs": [],
   "source": [
    "retrain = False\n",
    "if retrain:\n",
    "    cv_model = cross_val.fit(train)\n",
    "# best_model = cv_model.bestModel\n",
    "\n",
    "# # Specify the path where you want to save the model\n",
    "# model_path = \"models/Best_RatingALSModel.obj\"\n",
    "\n",
    "# # Save the model, overwriting any existing model at the specified path\n",
    "# best_model.write().overwrite().save(model_path)"
   ]
  },
  {
   "cell_type": "code",
   "execution_count": 49,
   "metadata": {
    "colab": {
     "base_uri": "https://localhost:8080/"
    },
    "id": "SIkh4pJbkT-_",
    "outputId": "89a85da8-d6a6-42b0-ef0d-56e42861934e",
    "tags": []
   },
   "outputs": [
    {
     "data": {
      "text/plain": [
       "0.003260037985302759"
      ]
     },
     "execution_count": 49,
     "metadata": {},
     "output_type": "execute_result"
    }
   ],
   "source": [
    "rmse_train"
   ]
  },
  {
   "cell_type": "code",
   "execution_count": 50,
   "metadata": {
    "colab": {
     "base_uri": "https://localhost:8080/"
    },
    "id": "h4t13CqrkUCj",
    "outputId": "2443eee2-ea8b-4fc4-bb72-18ff59e75711",
    "tags": []
   },
   "outputs": [
    {
     "data": {
      "text/plain": [
       "4.940007887749806"
      ]
     },
     "execution_count": 50,
     "metadata": {},
     "output_type": "execute_result"
    }
   ],
   "source": [
    "rmse_test"
   ]
  },
  {
   "cell_type": "code",
   "execution_count": 51,
   "metadata": {
    "tags": []
   },
   "outputs": [
    {
     "data": {
      "text/plain": [
       "[4.950013332730643,\n",
       " 4.603276629442055,\n",
       " 4.806474429015735,\n",
       " 4.582132936875243,\n",
       " 4.610608182697979,\n",
       " 4.522620926823878,\n",
       " 4.565218829699182,\n",
       " 4.505357481791878]"
      ]
     },
     "execution_count": 51,
     "metadata": {},
     "output_type": "execute_result"
    }
   ],
   "source": [
    "cv_model.avgMetrics"
   ]
  },
  {
   "cell_type": "markdown",
   "metadata": {},
   "source": [
    "## Recall"
   ]
  },
  {
   "cell_type": "code",
   "execution_count": 18,
   "metadata": {
    "tags": []
   },
   "outputs": [
    {
     "name": "stderr",
     "output_type": "stream",
     "text": [
      "[Stage 24:>                                                       (0 + 10) / 10]\r"
     ]
    },
    {
     "name": "stdout",
     "output_type": "stream",
     "text": [
      "+---------+--------------------+\n",
      "|userIndex|     recommendations|\n",
      "+---------+--------------------+\n",
      "|        3|[{3017, 4.086563}...|\n",
      "+---------+--------------------+\n",
      "only showing top 1 row\n",
      "\n"
     ]
    },
    {
     "name": "stderr",
     "output_type": "stream",
     "text": [
      "                                                                                \r"
     ]
    }
   ],
   "source": [
    "from pyspark.ml.recommendation import ALSModel\n",
    "recommendnum = 10\n",
    "als_model = ALSModel.load(\"models/Best_RatingALSModel.obj\")\n",
    "als_model.recommendForAllUsers(recommendnum).show(1)"
   ]
  },
  {
   "cell_type": "code",
   "execution_count": 23,
   "metadata": {
    "tags": []
   },
   "outputs": [
    {
     "name": "stderr",
     "output_type": "stream",
     "text": [
      "[Stage 163:=====>                                                  (1 + 9) / 10]\r"
     ]
    },
    {
     "name": "stdout",
     "output_type": "stream",
     "text": [
      "+---------+--------------------+\n",
      "|userIndex|     recommendations|\n",
      "+---------+--------------------+\n",
      "|        3|[{1610, 20.023806...|\n",
      "+---------+--------------------+\n",
      "only showing top 1 row\n",
      "\n"
     ]
    },
    {
     "name": "stderr",
     "output_type": "stream",
     "text": [
      "                                                                                \r"
     ]
    }
   ],
   "source": [
    "als_model0 = ALSModel.load(\"models/RatingALSModel_1.obj\")\n",
    "als_model0.recommendForAllUsers(recommendnum).show(1)"
   ]
  },
  {
   "cell_type": "code",
   "execution_count": 24,
   "metadata": {
    "tags": []
   },
   "outputs": [],
   "source": [
    "df_temp = als_model.recommendForAllUsers(10) # Only on training set"
   ]
  },
  {
   "cell_type": "code",
   "execution_count": 25,
   "metadata": {
    "tags": []
   },
   "outputs": [],
   "source": [
    "df_temp0 = als_model0.recommendForAllUsers(10) # Only on training set"
   ]
  },
  {
   "cell_type": "code",
   "execution_count": 24,
   "metadata": {
    "tags": []
   },
   "outputs": [
    {
     "name": "stderr",
     "output_type": "stream",
     "text": [
      "                                                                                \r"
     ]
    }
   ],
   "source": [
    "# x = df_temp.select('recommendations').collect()\n",
    "# x0 = df_temp0.select('recommendations').collect()"
   ]
  },
  {
   "cell_type": "code",
   "execution_count": 26,
   "metadata": {
    "tags": []
   },
   "outputs": [
    {
     "name": "stderr",
     "output_type": "stream",
     "text": [
      "                                                                                \r"
     ]
    },
    {
     "data": {
      "text/plain": [
       "58708"
      ]
     },
     "execution_count": 26,
     "metadata": {},
     "output_type": "execute_result"
    }
   ],
   "source": [
    "df_temp.groupBy(col(\"userIndex\")).count().count()"
   ]
  },
  {
   "cell_type": "code",
   "execution_count": 92,
   "metadata": {
    "tags": []
   },
   "outputs": [
    {
     "data": {
      "text/plain": [
       "587220"
      ]
     },
     "execution_count": 92,
     "metadata": {},
     "output_type": "execute_result"
    }
   ],
   "source": [
    "df_temp0.orderBy(col(\"userIndex\"))"
   ]
  },
  {
   "cell_type": "code",
   "execution_count": 27,
   "metadata": {
    "tags": []
   },
   "outputs": [],
   "source": [
    "from pyspark.sql.functions import col,explode\n",
    "df_temp = df_temp.withColumn(\"name\", explode(col('recommendations')))"
   ]
  },
  {
   "cell_type": "code",
   "execution_count": 28,
   "metadata": {
    "tags": []
   },
   "outputs": [],
   "source": [
    "df_temp0 = df_temp0.withColumn(\"name\", explode(col('recommendations')))"
   ]
  },
  {
   "cell_type": "code",
   "execution_count": 29,
   "metadata": {
    "tags": []
   },
   "outputs": [
    {
     "name": "stderr",
     "output_type": "stream",
     "text": [
      "[Stage 174:>                                                      (0 + 10) / 10]\r"
     ]
    },
    {
     "name": "stdout",
     "output_type": "stream",
     "text": [
      "+---------+--------------------+------------------+\n",
      "|userIndex|     recommendations|              name|\n",
      "+---------+--------------------+------------------+\n",
      "|        3|[{3017, 4.086563}...|  {3017, 4.086563}|\n",
      "|        3|[{3017, 4.086563}...| {10471, 4.073551}|\n",
      "|        3|[{3017, 4.086563}...|{19573, 4.0489764}|\n",
      "|        3|[{3017, 4.086563}...|{22730, 3.8789766}|\n",
      "|        3|[{3017, 4.086563}...|  {448, 3.8419113}|\n",
      "|        3|[{3017, 4.086563}...|  {655, 3.7570543}|\n",
      "|        3|[{3017, 4.086563}...|  {296, 3.7474897}|\n",
      "|        3|[{3017, 4.086563}...|{26095, 3.4820004}|\n",
      "|        3|[{3017, 4.086563}...| {2915, 3.3522973}|\n",
      "|        3|[{3017, 4.086563}...|{15945, 3.1983292}|\n",
      "+---------+--------------------+------------------+\n",
      "only showing top 10 rows\n",
      "\n"
     ]
    },
    {
     "name": "stderr",
     "output_type": "stream",
     "text": [
      "                                                                                \r"
     ]
    }
   ],
   "source": [
    "df_temp.show(10)"
   ]
  },
  {
   "cell_type": "code",
   "execution_count": 31,
   "metadata": {
    "tags": []
   },
   "outputs": [],
   "source": [
    "from pyspark.sql.functions import col,expr\n",
    "df_temp = df_temp.withColumn(\"name\", expr(\"transform(recommendations, r -> r.itemIndex)\"))\n",
    "df_temp = df_temp.drop_duplicates()\n",
    "df_temp0 = df_temp0.withColumn(\"name\", expr(\"transform(recommendations, r -> r.itemIndex)\"))\n",
    "df_temp0 = df_temp0.drop_duplicates()"
   ]
  },
  {
   "cell_type": "code",
   "execution_count": 52,
   "metadata": {},
   "outputs": [],
   "source": [
    "# Ensure the column order is the same in both DataFrames\n",
    "df_temp = df_temp.select(\"userIndex\", \"name\")\n",
    "df_temp0 = df_temp0.select(\"userIndex\", \"name\")\n",
    "\n",
    "# Union the DataFrames\n",
    "best_pred = df_temp.unionByName(newRecommendations)\n",
    "base_pred = df_temp0.unionByName(newRecommendations)"
   ]
  },
  {
   "cell_type": "code",
   "execution_count": 33,
   "metadata": {
    "tags": []
   },
   "outputs": [],
   "source": [
    "from pyspark.sql.functions import collect_list\n",
    "actualitem = test.groupby('userIndex').agg(collect_list('itemIndex').alias('indexlist')) # This should be test"
   ]
  },
  {
   "cell_type": "code",
   "execution_count": 34,
   "metadata": {
    "tags": []
   },
   "outputs": [
    {
     "name": "stdout",
     "output_type": "stream",
     "text": [
      "23/12/03 13:30:15 WARN DAGScheduler: Broadcasting large task binary with size 3.7 MiB\n"
     ]
    },
    {
     "name": "stderr",
     "output_type": "stream",
     "text": [
      "[Stage 184:>                                                        (0 + 1) / 1]\r"
     ]
    },
    {
     "name": "stdout",
     "output_type": "stream",
     "text": [
      "23/12/03 13:30:23 WARN DAGScheduler: Broadcasting large task binary with size 3.7 MiB\n",
      "+---------+--------------------+\n",
      "|userIndex|           indexlist|\n",
      "+---------+--------------------+\n",
      "|      0.0|   [7992.0, 19998.0]|\n",
      "|      2.0|[4351.0, 17086.0,...|\n",
      "|      3.0|      [296.0, 276.0]|\n",
      "|      4.0|    [11723.0, 493.0]|\n",
      "|      5.0|     [101.0, 1871.0]|\n",
      "|      6.0|     [5001.0, 722.0]|\n",
      "|      8.0|           [13923.0]|\n",
      "|      9.0|           [14645.0]|\n",
      "|     10.0|            [5159.0]|\n",
      "|     12.0|            [7699.0]|\n",
      "+---------+--------------------+\n",
      "only showing top 10 rows\n",
      "\n"
     ]
    },
    {
     "name": "stderr",
     "output_type": "stream",
     "text": [
      "                                                                                \r"
     ]
    }
   ],
   "source": [
    "actualitem.orderBy(col(\"userIndex\")).show(10)"
   ]
  },
  {
   "cell_type": "code",
   "execution_count": 35,
   "metadata": {
    "tags": []
   },
   "outputs": [
    {
     "name": "stdout",
     "output_type": "stream",
     "text": [
      "23/12/03 13:30:57 WARN DAGScheduler: Broadcasting large task binary with size 3.7 MiB\n"
     ]
    },
    {
     "name": "stderr",
     "output_type": "stream",
     "text": [
      "[Stage 187:>                                                        (0 + 1) / 1]\r"
     ]
    },
    {
     "name": "stdout",
     "output_type": "stream",
     "text": [
      "23/12/03 13:31:06 WARN DAGScheduler: Broadcasting large task binary with size 3.7 MiB\n"
     ]
    },
    {
     "name": "stderr",
     "output_type": "stream",
     "text": [
      "                                                                                \r"
     ]
    },
    {
     "name": "stdout",
     "output_type": "stream",
     "text": [
      "23/12/03 13:31:06 WARN DAGScheduler: Broadcasting large task binary with size 3.7 MiB\n",
      "23/12/03 13:31:06 WARN DAGScheduler: Broadcasting large task binary with size 3.7 MiB\n"
     ]
    },
    {
     "name": "stderr",
     "output_type": "stream",
     "text": [
      "                                                                                \r"
     ]
    },
    {
     "name": "stdout",
     "output_type": "stream",
     "text": [
      "23/12/03 13:31:15 WARN DAGScheduler: Broadcasting large task binary with size 3.7 MiB\n",
      "23/12/03 13:31:15 WARN DAGScheduler: Broadcasting large task binary with size 3.7 MiB\n"
     ]
    },
    {
     "name": "stderr",
     "output_type": "stream",
     "text": [
      "[Stage 197:>                                                        (0 + 1) / 1]\r"
     ]
    },
    {
     "name": "stdout",
     "output_type": "stream",
     "text": [
      "23/12/03 13:31:24 WARN DAGScheduler: Broadcasting large task binary with size 3.7 MiB\n"
     ]
    },
    {
     "name": "stderr",
     "output_type": "stream",
     "text": [
      "                                                                                \r"
     ]
    },
    {
     "data": {
      "text/plain": [
       "734"
      ]
     },
     "execution_count": 35,
     "metadata": {},
     "output_type": "execute_result"
    }
   ],
   "source": [
    "actualitem.count()-newRecommendations.count()"
   ]
  },
  {
   "cell_type": "code",
   "execution_count": 36,
   "metadata": {
    "tags": []
   },
   "outputs": [],
   "source": [
    "result = df_temp.join(actualitem, 'userIndex')"
   ]
  },
  {
   "cell_type": "code",
   "execution_count": 37,
   "metadata": {
    "tags": []
   },
   "outputs": [
    {
     "name": "stdout",
     "output_type": "stream",
     "text": [
      "23/12/03 13:31:24 WARN DAGScheduler: Broadcasting large task binary with size 3.7 MiB\n"
     ]
    },
    {
     "name": "stderr",
     "output_type": "stream",
     "text": [
      "[Stage 204:>                                                        (0 + 1) / 1]\r"
     ]
    },
    {
     "name": "stdout",
     "output_type": "stream",
     "text": [
      "23/12/03 13:31:33 WARN DAGScheduler: Broadcasting large task binary with size 3.7 MiB\n",
      "23/12/03 13:31:34 WARN DAGScheduler: Broadcasting large task binary with size 3.7 MiB\n"
     ]
    },
    {
     "name": "stderr",
     "output_type": "stream",
     "text": [
      "                                                                                \r"
     ]
    },
    {
     "data": {
      "text/plain": [
       "734"
      ]
     },
     "execution_count": 37,
     "metadata": {},
     "output_type": "execute_result"
    }
   ],
   "source": [
    "result.count()"
   ]
  },
  {
   "cell_type": "code",
   "execution_count": 38,
   "metadata": {
    "tags": []
   },
   "outputs": [],
   "source": [
    "result0 = df_temp0.join(actualitem, 'userIndex')"
   ]
  },
  {
   "cell_type": "code",
   "execution_count": 39,
   "metadata": {},
   "outputs": [
    {
     "name": "stdout",
     "output_type": "stream",
     "text": [
      "23/12/03 13:31:35 WARN DAGScheduler: Broadcasting large task binary with size 3.7 MiB\n"
     ]
    },
    {
     "name": "stderr",
     "output_type": "stream",
     "text": [
      "[Stage 214:>                                                        (0 + 1) / 1]\r"
     ]
    },
    {
     "name": "stdout",
     "output_type": "stream",
     "text": [
      "23/12/03 13:31:44 WARN DAGScheduler: Broadcasting large task binary with size 3.7 MiB\n",
      "23/12/03 13:31:44 WARN DAGScheduler: Broadcasting large task binary with size 3.7 MiB\n"
     ]
    },
    {
     "name": "stderr",
     "output_type": "stream",
     "text": [
      "                                                                                \r"
     ]
    },
    {
     "data": {
      "text/plain": [
       "734"
      ]
     },
     "execution_count": 39,
     "metadata": {},
     "output_type": "execute_result"
    }
   ],
   "source": [
    "result0.count()"
   ]
  },
  {
   "cell_type": "code",
   "execution_count": 53,
   "metadata": {},
   "outputs": [],
   "source": [
    "result_best = best_pred.join(actualitem, 'userIndex')"
   ]
  },
  {
   "cell_type": "code",
   "execution_count": 54,
   "metadata": {},
   "outputs": [],
   "source": [
    "result_base = base_pred.join(actualitem, 'userIndex')"
   ]
  },
  {
   "cell_type": "code",
   "execution_count": 40,
   "metadata": {
    "tags": []
   },
   "outputs": [],
   "source": [
    "from pyspark.sql.functions import array_intersect, size, avg\n",
    "metrics = result.withColumn('TP', size(array_intersect(col('name'),col('indexlist')))) \\\n",
    "                .withColumn('precision', col('TP')/recommendnum) \\\n",
    "                .withColumn('recall', col('TP')/size(col('indexlist'))) \\\n",
    "                .withColumn('F1', when((col('precision') + col('recall')) >0,\n",
    "                                        2* (col('precision') *col('recall'))/(col('precision') +col('recall')))\n",
    "                             .otherwise(0))"
   ]
  },
  {
   "cell_type": "code",
   "execution_count": 41,
   "metadata": {
    "tags": []
   },
   "outputs": [],
   "source": [
    "metrics0 = result0.withColumn('TP', size(array_intersect(col('name'),col('indexlist')))) \\\n",
    "                .withColumn('precision', col('TP')/recommendnum) \\\n",
    "                .withColumn('recall', col('TP')/size(col('indexlist'))) \\\n",
    "                .withColumn('F1', when((col('precision') + col('recall')) >0,\n",
    "                                        2* (col('precision') *col('recall'))/(col('precision') +col('recall')))\n",
    "                             .otherwise(0))"
   ]
  },
  {
   "cell_type": "code",
   "execution_count": 55,
   "metadata": {},
   "outputs": [],
   "source": [
    "metrics_best = result_best.withColumn('TP', size(array_intersect(col('name'),col('indexlist')))) \\\n",
    "                .withColumn('precision', col('TP')/recommendnum) \\\n",
    "                .withColumn('recall', col('TP')/size(col('indexlist'))) \\\n",
    "                .withColumn('F1', when((col('precision') + col('recall')) >0,\n",
    "                                        2* (col('precision') *col('recall'))/(col('precision') +col('recall')))\n",
    "                             .otherwise(0))"
   ]
  },
  {
   "cell_type": "code",
   "execution_count": 56,
   "metadata": {},
   "outputs": [],
   "source": [
    "metrics_base = result_base.withColumn('TP', size(array_intersect(col('name'),col('indexlist')))) \\\n",
    "                .withColumn('precision', col('TP')/recommendnum) \\\n",
    "                .withColumn('recall', col('TP')/size(col('indexlist'))) \\\n",
    "                .withColumn('F1', when((col('precision') + col('recall')) >0,\n",
    "                                        2* (col('precision') *col('recall'))/(col('precision') +col('recall')))\n",
    "                             .otherwise(0))"
   ]
  },
  {
   "cell_type": "code",
   "execution_count": 42,
   "metadata": {
    "tags": []
   },
   "outputs": [
    {
     "name": "stdout",
     "output_type": "stream",
     "text": [
      "23/12/03 13:31:59 WARN DAGScheduler: Broadcasting large task binary with size 3.7 MiB\n"
     ]
    },
    {
     "name": "stderr",
     "output_type": "stream",
     "text": [
      "[Stage 224:>                                                        (0 + 1) / 1]\r"
     ]
    },
    {
     "name": "stdout",
     "output_type": "stream",
     "text": [
      "23/12/03 13:32:10 WARN DAGScheduler: Broadcasting large task binary with size 3.7 MiB\n"
     ]
    },
    {
     "name": "stderr",
     "output_type": "stream",
     "text": [
      "                                                                                \r"
     ]
    },
    {
     "name": "stdout",
     "output_type": "stream",
     "text": [
      "23/12/03 13:32:10 WARN DAGScheduler: Broadcasting large task binary with size 3.7 MiB\n"
     ]
    },
    {
     "name": "stderr",
     "output_type": "stream",
     "text": [
      "[Stage 229:>                                                        (0 + 6) / 6]\r"
     ]
    },
    {
     "name": "stdout",
     "output_type": "stream",
     "text": [
      "+--------------------+--------------------+-------------------+\n",
      "|      avg(precision)|         avg(recall)|            avg(F1)|\n",
      "+--------------------+--------------------+-------------------+\n",
      "|0.005449591280653951|0.052452316076294275|0.00984642060936339|\n",
      "+--------------------+--------------------+-------------------+\n",
      "\n"
     ]
    },
    {
     "name": "stderr",
     "output_type": "stream",
     "text": [
      "                                                                                \r"
     ]
    }
   ],
   "source": [
    "from pyspark.sql.functions import max as ma\n",
    "from pyspark.sql.functions import avg\n",
    "# Result of the grid searched ALS model\n",
    "average_metrics = metrics.agg(\n",
    "    avg(col('precision')),\n",
    "    avg(col('recall')),\n",
    "    avg(col('F1'))\n",
    ")\n",
    "average_metrics.show()"
   ]
  },
  {
   "cell_type": "code",
   "execution_count": 43,
   "metadata": {
    "tags": []
   },
   "outputs": [
    {
     "name": "stdout",
     "output_type": "stream",
     "text": [
      "23/12/03 13:32:11 WARN DAGScheduler: Broadcasting large task binary with size 3.7 MiB\n"
     ]
    },
    {
     "name": "stderr",
     "output_type": "stream",
     "text": [
      "[Stage 234:>                                                        (0 + 1) / 1]\r"
     ]
    },
    {
     "name": "stdout",
     "output_type": "stream",
     "text": [
      "23/12/03 13:32:21 WARN DAGScheduler: Broadcasting large task binary with size 3.7 MiB\n"
     ]
    },
    {
     "name": "stderr",
     "output_type": "stream",
     "text": [
      "                                                                                \r"
     ]
    },
    {
     "name": "stdout",
     "output_type": "stream",
     "text": [
      "23/12/03 13:32:21 WARN DAGScheduler: Broadcasting large task binary with size 3.7 MiB\n"
     ]
    },
    {
     "name": "stderr",
     "output_type": "stream",
     "text": [
      "[Stage 239:===================>                                     (2 + 4) / 6]\r"
     ]
    },
    {
     "name": "stdout",
     "output_type": "stream",
     "text": [
      "+--------------------+--------------------+--------------------+\n",
      "|      avg(precision)|         avg(recall)|             avg(F1)|\n",
      "+--------------------+--------------------+--------------------+\n",
      "|0.001362397820163...|0.013623978201634877|0.002477086945751...|\n",
      "+--------------------+--------------------+--------------------+\n",
      "\n"
     ]
    },
    {
     "name": "stderr",
     "output_type": "stream",
     "text": [
      "                                                                                \r"
     ]
    }
   ],
   "source": [
    "# result of an original ALS model\n",
    "average_metrics0 = metrics0.agg(\n",
    "    avg(col('precision')),\n",
    "    avg(col('recall')),\n",
    "    avg(col('F1'))\n",
    ")\n",
    "average_metrics0.show()"
   ]
  },
  {
   "cell_type": "code",
   "execution_count": 57,
   "metadata": {},
   "outputs": [
    {
     "name": "stdout",
     "output_type": "stream",
     "text": [
      "23/12/03 13:39:51 WARN DAGScheduler: Broadcasting large task binary with size 3.7 MiB\n"
     ]
    },
    {
     "name": "stderr",
     "output_type": "stream",
     "text": [
      "[Stage 268:>                                                        (0 + 1) / 1]\r"
     ]
    },
    {
     "name": "stdout",
     "output_type": "stream",
     "text": [
      "23/12/03 13:40:01 WARN DAGScheduler: Broadcasting large task binary with size 3.7 MiB\n"
     ]
    },
    {
     "name": "stderr",
     "output_type": "stream",
     "text": [
      "                                                                                \r"
     ]
    },
    {
     "name": "stdout",
     "output_type": "stream",
     "text": [
      "23/12/03 13:40:01 WARN DAGScheduler: Broadcasting large task binary with size 3.7 MiB\n",
      "+--------------------+--------------------+-------------------+\n",
      "|      avg(precision)|         avg(recall)|            avg(F1)|\n",
      "+--------------------+--------------------+-------------------+\n",
      "|0.005449591280653951|0.052452316076294275|0.00984642060936339|\n",
      "+--------------------+--------------------+-------------------+\n",
      "\n"
     ]
    },
    {
     "name": "stderr",
     "output_type": "stream",
     "text": [
      "                                                                                \r"
     ]
    }
   ],
   "source": [
    "average_metrics_best = metrics_best.agg(\n",
    "    avg(col('precision')),\n",
    "    avg(col('recall')),\n",
    "    avg(col('F1'))\n",
    ")"
   ]
  },
  {
   "cell_type": "code",
   "execution_count": 58,
   "metadata": {},
   "outputs": [
    {
     "name": "stdout",
     "output_type": "stream",
     "text": [
      "23/12/03 13:40:09 WARN DAGScheduler: Broadcasting large task binary with size 3.7 MiB\n",
      "23/12/03 13:40:09 WARN DAGScheduler: Broadcasting large task binary with size 3.7 MiB\n",
      "23/12/03 13:40:09 WARN DAGScheduler: Broadcasting large task binary with size 3.7 MiB\n"
     ]
    },
    {
     "name": "stderr",
     "output_type": "stream",
     "text": [
      "                                                                                \r"
     ]
    },
    {
     "name": "stdout",
     "output_type": "stream",
     "text": [
      "23/12/03 13:40:20 WARN DAGScheduler: Broadcasting large task binary with size 3.7 MiB\n",
      "23/12/03 13:40:20 WARN DAGScheduler: Broadcasting large task binary with size 3.7 MiB\n",
      "23/12/03 13:40:20 WARN DAGScheduler: Broadcasting large task binary with size 3.7 MiB\n"
     ]
    },
    {
     "name": "stderr",
     "output_type": "stream",
     "text": [
      "[Stage 282:>                                                        (0 + 1) / 1]\r"
     ]
    },
    {
     "name": "stdout",
     "output_type": "stream",
     "text": [
      "23/12/03 13:40:28 WARN DAGScheduler: Broadcasting large task binary with size 3.8 MiB\n"
     ]
    },
    {
     "name": "stderr",
     "output_type": "stream",
     "text": [
      "[Stage 289:============================>                           (6 + 6) / 12]\r"
     ]
    },
    {
     "name": "stdout",
     "output_type": "stream",
     "text": [
      "+--------------------+------------------+--------------------+\n",
      "|      avg(precision)|       avg(recall)|             avg(F1)|\n",
      "+--------------------+------------------+--------------------+\n",
      "|0.004482917516950...|0.0444890615057161|0.008139941159492216|\n",
      "+--------------------+------------------+--------------------+\n",
      "\n"
     ]
    },
    {
     "name": "stderr",
     "output_type": "stream",
     "text": [
      "                                                                                \r"
     ]
    }
   ],
   "source": [
    "average_metrics_best.show()"
   ]
  },
  {
   "cell_type": "code",
   "execution_count": 59,
   "metadata": {},
   "outputs": [
    {
     "name": "stdout",
     "output_type": "stream",
     "text": [
      "23/12/03 13:40:30 WARN DAGScheduler: Broadcasting large task binary with size 3.7 MiB\n",
      "23/12/03 13:40:30 WARN DAGScheduler: Broadcasting large task binary with size 3.7 MiB\n",
      "23/12/03 13:40:30 WARN DAGScheduler: Broadcasting large task binary with size 3.7 MiB\n"
     ]
    },
    {
     "name": "stderr",
     "output_type": "stream",
     "text": [
      "                                                                                \r"
     ]
    },
    {
     "name": "stdout",
     "output_type": "stream",
     "text": [
      "23/12/03 13:40:40 WARN DAGScheduler: Broadcasting large task binary with size 3.7 MiB\n",
      "23/12/03 13:40:40 WARN DAGScheduler: Broadcasting large task binary with size 3.7 MiB\n",
      "23/12/03 13:40:40 WARN DAGScheduler: Broadcasting large task binary with size 3.7 MiB\n"
     ]
    },
    {
     "name": "stderr",
     "output_type": "stream",
     "text": [
      "[Stage 301:>                                                        (0 + 1) / 1]\r"
     ]
    },
    {
     "name": "stdout",
     "output_type": "stream",
     "text": [
      "23/12/03 13:40:49 WARN DAGScheduler: Broadcasting large task binary with size 3.8 MiB\n",
      "+--------------------+-------------------+--------------------+\n",
      "|      avg(precision)|        avg(recall)|             avg(F1)|\n",
      "+--------------------+-------------------+--------------------+\n",
      "|0.004285432163781...|0.04261295065060452|0.007783869083322715|\n",
      "+--------------------+-------------------+--------------------+\n",
      "\n"
     ]
    },
    {
     "name": "stderr",
     "output_type": "stream",
     "text": [
      "                                                                                \r"
     ]
    }
   ],
   "source": [
    "average_metrics_base = metrics_base.agg(\n",
    "    avg(col('precision')),\n",
    "    avg(col('recall')),\n",
    "    avg(col('F1'))\n",
    ")\n",
    "average_metrics_base.show()"
   ]
  },
  {
   "cell_type": "markdown",
   "metadata": {
    "id": "JeLO7apex1pt"
   },
   "source": [
    "## GraphFrame"
   ]
  },
  {
   "cell_type": "code",
   "execution_count": null,
   "metadata": {
    "colab": {
     "base_uri": "https://localhost:8080/"
    },
    "id": "WrR_GanHyVEe",
    "outputId": "5d8a705f-e9c2-417b-f96f-9819e55a8c76"
   },
   "outputs": [],
   "source": [
    "!pip install graphframes"
   ]
  },
  {
   "cell_type": "code",
   "execution_count": null,
   "metadata": {
    "colab": {
     "base_uri": "https://localhost:8080/",
     "height": 1000
    },
    "id": "uEIXzWg_wvOG",
    "outputId": "a924f54d-81f5-4b0c-acb4-03769b48bc40"
   },
   "outputs": [],
   "source": [
    "from graphframes import GraphFrame\n",
    "\n",
    "# Assuming 'df' is your original PySpark DataFrame and it has been indexed\n",
    "# Create vertices DataFrame\n",
    "vertices = df.selectExpr(\"userIndex as id\").distinct().union(df.selectExpr(\"itemIndex as id\").distinct()) # check if those two index overlap\n",
    "\n",
    "# Create edges DataFrame\n",
    "edges = df.selectExpr(\"userIndex as src\", \"itemIndex as dst\", \"overall as rating\")\n",
    "\n",
    "# Create a GraphFrame\n",
    "graph = GraphFrame(vertices, edges)"
   ]
  },
  {
   "cell_type": "code",
   "execution_count": null,
   "metadata": {
    "id": "QzjaV0l0yTCw"
   },
   "outputs": [],
   "source": [
    "# TO DO\n",
    "# 1: Hyperparameter tuning\n",
    "# 2: How to make use of the graph functions?"
   ]
  },
  {
   "cell_type": "markdown",
   "metadata": {
    "id": "5euM0Dd21S6-"
   },
   "source": [
    "# Meta Data"
   ]
  },
  {
   "cell_type": "code",
   "execution_count": null,
   "metadata": {},
   "outputs": [],
   "source": [
    "df_meta.printSchema()"
   ]
  },
  {
   "cell_type": "code",
   "execution_count": null,
   "metadata": {},
   "outputs": [],
   "source": [
    "print(\"item总数：\", df_meta.groupBy(\"asin\").count().count())\n",
    "print(\"brand总数：\", df_meta.groupBy(\"brand\").count().count())\n",
    "print(\"category总数：\", df_meta.groupBy(\"category\").count().count())"
   ]
  },
  {
   "cell_type": "code",
   "execution_count": null,
   "metadata": {},
   "outputs": [],
   "source": [
    "print(\"分类特征值个数情况: \")\n",
    "print(\"cms_segid: \", user_profile_df.groupBy(\"cms_segid\").count().count())\n",
    "print(\"cms_group_id: \", user_profile_df.groupBy(\"cms_group_id\").count().count())\n",
    "print(\"final_gender_code: \", user_profile_df.groupBy(\"final_gender_code\").count().count())\n",
    "print(\"age_level: \", user_profile_df.groupBy(\"age_level\").count().count())\n",
    "print(\"shopping_level: \", user_profile_df.groupBy(\"shopping_level\").count().count())\n",
    "print(\"occupation: \", user_profile_df.groupBy(\"occupation\").count().count())\n",
    "\n",
    "print(\"含缺失值的特征情况: \")\n",
    "df_meta.groupBy(\"details\").count().show()\n",
    "df_meta.groupBy(\"feature\").count().show()\n",
    "df_meta.groupBy(\"fit\").count().show()\n",
    "\n",
    "t_count = df_meta.count()\n",
    "\n",
    "pl_na_count = t_count - user_profile_df.dropna(subset=[\"pvalue_level\"]).count()\n",
    "print(\"pvalue_level的空值情况：\", pl_na_count, \"空值占比：%0.2f%%\"%(pl_na_count/t_count*100))\n",
    "\n",
    "nul_na_count = t_count - user_profile_df.dropna(subset=[\"new_user_class_level\"]).count()\n",
    "print(\"new_user_class_level的空值情况：\", nul_na_count, \"空值占比：%0.2f%%\"%(nul_na_count/t_count*100))\n"
   ]
  },
  {
   "cell_type": "code",
   "execution_count": null,
   "metadata": {},
   "outputs": [],
   "source": [
    "print(\"含缺失值的特征情况: \")\n",
    "df_meta.groupBy(\"details\").count().show()\n",
    "df_meta.groupBy(\"feature\").count().show()\n",
    "df_meta.groupBy(\"fit\").count().show()"
   ]
  },
  {
   "cell_type": "code",
   "execution_count": null,
   "metadata": {},
   "outputs": [],
   "source": []
  }
 ],
 "metadata": {
  "colab": {
   "provenance": []
  },
  "kernelspec": {
   "display_name": "DS5110 Spark 3.3",
   "language": "python",
   "name": "ds5110_spark3.3"
  },
  "language_info": {
   "codemirror_mode": {
    "name": "ipython",
    "version": 3
   },
   "file_extension": ".py",
   "mimetype": "text/x-python",
   "name": "python",
   "nbconvert_exporter": "python",
   "pygments_lexer": "ipython3",
   "version": "3.7.12"
  }
 },
 "nbformat": 4,
 "nbformat_minor": 4
}
