{
 "cells": [
  {
   "cell_type": "code",
   "execution_count": 1,
   "metadata": {
    "id": "f5NDXrN2CtH7",
    "tags": []
   },
   "outputs": [],
   "source": [
    "import os\n",
    "import json\n",
    "import gzip\n",
    "import pandas as pd\n",
    "from urllib.request import urlopen\n",
    "import matplotlib.pyplot as plt\n",
    "from pyspark.sql import SparkSession\n",
    "from pyspark.sql.functions import col, length, lower, split, when,count, when, lit, unix_timestamp, to_date\n",
    "from pyspark.ml.feature import StringIndexer, OneHotEncoder, VectorAssembler\n",
    "from pyspark.ml import Pipeline\n",
    "from pyspark.ml.feature import StandardScaler\n",
    "from pyspark.sql.functions import avg"
   ]
  },
  {
   "cell_type": "code",
   "execution_count": 40,
   "metadata": {
    "colab": {
     "base_uri": "https://localhost:8080/"
    },
    "id": "NIpCl4lKHY8D",
    "outputId": "e0d2c868-376c-446b-e0c2-674c0f4fb0fb"
   },
   "outputs": [],
   "source": [
    "# !wget https://datarepo.eng.ucsd.edu/mcauley_group/data/amazon_v2/categoryFiles/Industrial_and_Scientific.json.gz"
   ]
  },
  {
   "cell_type": "code",
   "execution_count": null,
   "metadata": {
    "colab": {
     "base_uri": "https://localhost:8080/"
    },
    "id": "bb5fGi2wJpXI",
    "outputId": "8942d902-3d6b-4a33-b775-fab14abf6754"
   },
   "outputs": [],
   "source": [
    "# !wget https://datarepo.eng.ucsd.edu/mcauley_group/data/amazon_v2/metaFiles2/meta_Industrial_and_Scientific.json.gz"
   ]
  },
  {
   "cell_type": "code",
   "execution_count": 2,
   "metadata": {
    "tags": []
   },
   "outputs": [
    {
     "name": "stdout",
     "output_type": "stream",
     "text": [
      "Defaulting to user installation because normal site-packages is not writeable\n",
      "Requirement already satisfied: textblob in /sfs/qumulo/qhome/ynx9zm/.local/lib/python3.8/site-packages (0.17.1)\n",
      "Requirement already satisfied: nltk>=3.1; python_version >= \"3\" in /sfs/applications/202307/software/standard/core/anaconda/2020.11-py3.8/lib/python3.8/site-packages (from textblob) (3.5)\n",
      "Requirement already satisfied: regex in /sfs/applications/202307/software/standard/core/anaconda/2020.11-py3.8/lib/python3.8/site-packages (from nltk>=3.1; python_version >= \"3\"->textblob) (2020.10.15)\n",
      "Requirement already satisfied: click in /sfs/applications/202307/software/standard/core/anaconda/2020.11-py3.8/lib/python3.8/site-packages (from nltk>=3.1; python_version >= \"3\"->textblob) (7.1.2)\n",
      "Requirement already satisfied: joblib in /sfs/applications/202307/software/standard/core/anaconda/2020.11-py3.8/lib/python3.8/site-packages (from nltk>=3.1; python_version >= \"3\"->textblob) (0.17.0)\n",
      "Requirement already satisfied: tqdm in /sfs/applications/202307/software/standard/core/anaconda/2020.11-py3.8/lib/python3.8/site-packages (from nltk>=3.1; python_version >= \"3\"->textblob) (4.50.2)\n",
      "Defaulting to user installation because normal site-packages is not writeable\n",
      "Requirement already satisfied: pyspark in /sfs/qumulo/qhome/ynx9zm/.local/lib/python3.8/site-packages (3.5.0)\n",
      "Requirement already satisfied: nltk in /sfs/applications/202307/software/standard/core/anaconda/2020.11-py3.8/lib/python3.8/site-packages (3.5)\n",
      "Requirement already satisfied: py4j==0.10.9.7 in /sfs/qumulo/qhome/ynx9zm/.local/lib/python3.8/site-packages (from pyspark) (0.10.9.7)\n",
      "Requirement already satisfied: regex in /sfs/applications/202307/software/standard/core/anaconda/2020.11-py3.8/lib/python3.8/site-packages (from nltk) (2020.10.15)\n",
      "Requirement already satisfied: joblib in /sfs/applications/202307/software/standard/core/anaconda/2020.11-py3.8/lib/python3.8/site-packages (from nltk) (0.17.0)\n",
      "Requirement already satisfied: click in /sfs/applications/202307/software/standard/core/anaconda/2020.11-py3.8/lib/python3.8/site-packages (from nltk) (7.1.2)\n",
      "Requirement already satisfied: tqdm in /sfs/applications/202307/software/standard/core/anaconda/2020.11-py3.8/lib/python3.8/site-packages (from nltk) (4.50.2)\n",
      "Defaulting to user installation because normal site-packages is not writeable\n",
      "Requirement already satisfied: tqdm in /sfs/applications/202307/software/standard/core/anaconda/2020.11-py3.8/lib/python3.8/site-packages (4.50.2)\n"
     ]
    }
   ],
   "source": [
    "!pip install textblob\n",
    "!pip install pyspark nltk\n",
    "!pip install tqdm"
   ]
  },
  {
   "cell_type": "markdown",
   "metadata": {
    "id": "ddVjvBQ5BnXq"
   },
   "source": [
    "# Data Reading"
   ]
  },
  {
   "cell_type": "code",
   "execution_count": 2,
   "metadata": {
    "id": "G8Qexuq_3Rx0",
    "tags": []
   },
   "outputs": [
    {
     "name": "stderr",
     "output_type": "stream",
     "text": [
      "/opt/conda/lib/python3.7/site-packages/pyspark/bin/load-spark-env.sh: line 68: ps: command not found\n",
      "Setting default log level to \"WARN\".\n",
      "To adjust logging level use sc.setLogLevel(newLevel). For SparkR, use setLogLevel(newLevel).\n"
     ]
    },
    {
     "name": "stdout",
     "output_type": "stream",
     "text": [
      "23/12/03 13:23:32 WARN NativeCodeLoader: Unable to load native-hadoop library for your platform... using builtin-java classes where applicable\n"
     ]
    }
   ],
   "source": [
    "# Create a Spark session\n",
    "spark = SparkSession.builder \\\n",
    "    .appName(\"readGZ\") \\\n",
    "    .master(\"local[*]\") \\\n",
    "    .config(\"spark.default.parallelism\", 24) \\\n",
    "    .config(\"spark.sql.shuffle.partitions\", 24) \\\n",
    "    .getOrCreate()"
   ]
  },
  {
   "cell_type": "code",
   "execution_count": 3,
   "metadata": {
    "colab": {
     "base_uri": "https://localhost:8080/"
    },
    "id": "SSkWP10AtaKv",
    "outputId": "dcdcffe3-6145-4b91-e530-f0b0eafbffff",
    "tags": []
   },
   "outputs": [
    {
     "name": "stderr",
     "output_type": "stream",
     "text": [
      "[Stage 0:>                                                          (0 + 1) / 1]\r"
     ]
    },
    {
     "name": "stdout",
     "output_type": "stream",
     "text": [
      "23/12/03 13:23:45 WARN package: Truncated the string representation of a plan since it was too large. This behavior can be adjusted by setting 'spark.sql.debug.maxToStringFields'.\n"
     ]
    },
    {
     "name": "stderr",
     "output_type": "stream",
     "text": [
      "                                                                                \r"
     ]
    }
   ],
   "source": [
    "\n",
    "# Read the gzipped JSON file directly into a DataFrame\n",
    "df = spark.read.json(\"Industrial_and_Scientific.json.gz\")\n",
    "\n",
    "# Show the DataFrame to check if it's loaded correctly\n",
    "#df.show(10)"
   ]
  },
  {
   "cell_type": "code",
   "execution_count": 7,
   "metadata": {
    "id": "7igYuRaV4bF7",
    "tags": []
   },
   "outputs": [],
   "source": [
    "### load the meta data\n",
    "\n",
    "df_meta = spark.read.json(\"meta_Industrial_and_Scientific.json.gz\")\n",
    "#df_meta.show(10)"
   ]
  },
  {
   "cell_type": "markdown",
   "metadata": {
    "id": "0lporcTWBqQq"
   },
   "source": [
    "# EDA and Data Pre-Processing"
   ]
  },
  {
   "cell_type": "code",
   "execution_count": 8,
   "metadata": {
    "tags": []
   },
   "outputs": [
    {
     "name": "stdout",
     "output_type": "stream",
     "text": [
      "Number of Nulls in asin: 0, Percentage: 0.00%\n",
      "Number of Nulls in image: 1725623, Percentage: 98.14%\n",
      "Number of Nulls in overall: 0, Percentage: 0.00%\n",
      "Number of Nulls in reviewText: 984, Percentage: 0.06%\n",
      "Number of Nulls in reviewTime: 0, Percentage: 0.00%\n",
      "Number of Nulls in reviewerID: 0, Percentage: 0.00%\n",
      "Number of Nulls in reviewerName: 110, Percentage: 0.01%\n",
      "Number of Nulls in style: 1066819, Percentage: 60.67%\n",
      "Number of Nulls in summary: 403, Percentage: 0.02%\n",
      "Number of Nulls in unixReviewTime: 0, Percentage: 0.00%\n",
      "Number of Nulls in verified: 0, Percentage: 0.00%\n",
      "Number of Nulls in vote: 1552025, Percentage: 88.27%\n"
     ]
    }
   ],
   "source": [
    "# summarize the nulls in dataframe\n",
    "# Create an expression for each column that counts its nulls\n",
    "exprs = [count(when(col(c).isNull(), c)).alias(c) for c in df.columns]\n",
    "\n",
    "# Compute all null counts in a single pass\n",
    "null_counts = df.agg(*exprs).first().asDict()\n",
    "\n",
    "# Get the total count of rows for percentage calculation\n",
    "total_count = df.count()\n",
    "\n",
    "# Iterate through the results and calculate percentages\n",
    "for column, null_count in null_counts.items():\n",
    "    null_percentage = (null_count / total_count) * 100\n",
    "    print(f\"Number of Nulls in {column}: {null_count}, Percentage: {null_percentage:.2f}%\")\n"
   ]
  },
  {
   "cell_type": "code",
   "execution_count": 4,
   "metadata": {
    "id": "LgWrDtZ94w89",
    "tags": []
   },
   "outputs": [],
   "source": [
    "# Drop the image, style, vote columns\n",
    "df = df.drop('image', 'style', 'vote')"
   ]
  },
  {
   "cell_type": "code",
   "execution_count": 5,
   "metadata": {
    "id": "HoBwuSpS0a_A",
    "tags": []
   },
   "outputs": [],
   "source": [
    "# Handling missing values: For simplicity, we'll drop rows with any NULLs\n",
    "df = df.na.drop()\n",
    "\n",
    "# Filtering out unverified reviews\n",
    "df = df.filter(col('verified') == True)\n",
    "\n",
    "# Feature Engineering - creating a new feature for the length of the reviewText\n",
    "df = df.withColumn('reviewText_length', length(col('reviewText')))\n"
   ]
  },
  {
   "cell_type": "code",
   "execution_count": 6,
   "metadata": {
    "tags": []
   },
   "outputs": [],
   "source": [
    "# Sample a fraction of the data (5%)\n",
    "fraction = 0.05\n",
    "seed = 42  # You can choose any number for the seed\n",
    "df = df.sample(False, fraction, seed)"
   ]
  },
  {
   "cell_type": "code",
   "execution_count": 13,
   "metadata": {
    "tags": []
   },
   "outputs": [
    {
     "data": {
      "text/plain": [
       "81986"
      ]
     },
     "execution_count": 13,
     "metadata": {},
     "output_type": "execute_result"
    }
   ],
   "source": [
    "min_length, max_length = df.selectExpr(\"min(reviewText_length)\", \"max(reviewText_length)\").first()\n",
    "\n",
    "df.count()"
   ]
  },
  {
   "cell_type": "code",
   "execution_count": 14,
   "metadata": {
    "tags": []
   },
   "outputs": [
    {
     "data": {
      "text/plain": [
       "(1, 12541)"
      ]
     },
     "execution_count": 14,
     "metadata": {},
     "output_type": "execute_result"
    }
   ],
   "source": [
    "min_length,max_length"
   ]
  },
  {
   "cell_type": "code",
   "execution_count": 7,
   "metadata": {
    "tags": []
   },
   "outputs": [],
   "source": [
    "# Example of filtering based on a condition, such as reviews that are too short/long might be outliers\n",
    "df = df.filter(col('reviewText_length') > 10)  # Example threshold\n",
    "df = df.filter(col('reviewText_length') < 1000)  # Example threshold"
   ]
  },
  {
   "cell_type": "code",
   "execution_count": 16,
   "metadata": {
    "tags": []
   },
   "outputs": [
    {
     "data": {
      "text/plain": [
       "75582"
      ]
     },
     "execution_count": 16,
     "metadata": {},
     "output_type": "execute_result"
    }
   ],
   "source": [
    "df.count()"
   ]
  },
  {
   "cell_type": "code",
   "execution_count": 17,
   "metadata": {
    "tags": []
   },
   "outputs": [
    {
     "data": {
      "text/plain": [
       "(11, 999)"
      ]
     },
     "execution_count": 17,
     "metadata": {},
     "output_type": "execute_result"
    }
   ],
   "source": [
    "# Find the range for 'reviewText_length'\n",
    "min_length, max_length = df.selectExpr(\"min(reviewText_length)\", \"max(reviewText_length)\").first()\n",
    "\n",
    "min_length,max_length"
   ]
  },
  {
   "cell_type": "code",
   "execution_count": 18,
   "metadata": {
    "colab": {
     "base_uri": "https://localhost:8080/",
     "height": 564
    },
    "id": "AH_C-uRAu5G-",
    "outputId": "90a23133-a2fc-4bb8-83ae-9c0d25fb384a",
    "tags": []
   },
   "outputs": [
    {
     "data": {
      "image/png": "[encoded data removed]",
      "text/plain": [
       "<Figure size 720x432 with 1 Axes>"
      ]
     },
     "metadata": {
      "needs_background": "light"
     },
     "output_type": "display_data"
    }
   ],
   "source": [
    "# Number of bins for the histogram\n",
    "num_bins = 50\n",
    "\n",
    "# Compute the bin size\n",
    "bin_size = (max_length - min_length) / num_bins\n",
    "\n",
    "# Create bins and count the number of records in each bin\n",
    "bins_expr = [\n",
    "    ((col('reviewText_length') - min_length) / bin_size).cast('integer').alias('bin')\n",
    "]\n",
    "histogram_df = df.select(*bins_expr).groupBy('bin').count()\n",
    "\n",
    "# Collect the histogram data\n",
    "histogram_data = histogram_df.sort('bin').collect()\n",
    "\n",
    "# Prepare data for plotting\n",
    "bins = [min_length + bin_size * i for i in range(num_bins + 1)]\n",
    "counts = [0] * num_bins\n",
    "for row in histogram_data:\n",
    "    counts[row['bin']] = row['count']\n",
    "\n",
    "plt.figure(figsize=(10, 6))\n",
    "plt.hist(bins[:-1], bins=bins, weights=counts)\n",
    "plt.title('Distribution of Review Text Lengths')\n",
    "plt.xlabel('Review Text Length')\n",
    "plt.ylabel('Count')\n",
    "plt.grid(False)\n",
    "plt.show()\n"
   ]
  },
  {
   "cell_type": "markdown",
   "metadata": {},
   "source": [
    "## Text Processing"
   ]
  },
  {
   "cell_type": "code",
   "execution_count": 20,
   "metadata": {
    "tags": []
   },
   "outputs": [
    {
     "name": "stderr",
     "output_type": "stream",
     "text": [
      "[nltk_data] Downloading package vader_lexicon to\n",
      "[nltk_data]     /home/ynx9zm/nltk_data...\n",
      "[nltk_data]   Package vader_lexicon is already up-to-date!\n"
     ]
    }
   ],
   "source": [
    "from pyspark.ml.feature import Tokenizer, StopWordsRemover\n",
    "from pyspark.ml import Pipeline\n",
    "from pyspark.sql.functions import lower, col\n",
    "import nltk\n",
    "\n",
    "# Ensure required NLTK resources are downloaded\n",
    "nltk.download('vader_lexicon')\n",
    "\n",
    "# Text Preprocessing Pipeline\n",
    "tokenizer = Tokenizer(inputCol='reviewText', outputCol='reviewText_tokens')\n",
    "remover = StopWordsRemover(inputCol='reviewText_tokens', outputCol='reviewText_clean')\n",
    "preprocessing_pipeline = Pipeline(stages=[tokenizer, remover])\n",
    "\n",
    "# Transform DataFrame\n",
    "df = df.withColumn('reviewText', lower(col('reviewText')))\n",
    "df = preprocessing_pipeline.fit(df).transform(df)\n",
    "\n",
    "# Define and register UDF for sentiment analysis (batch processing not shown here)\n",
    "# Batch processing would require a more complex setup, possibly using Pandas UDFs\n",
    "from pyspark.sql.functions import udf\n",
    "from pyspark.sql.types import StringType, FloatType\n",
    "from nltk.sentiment.vader import SentimentIntensityAnalyzer\n",
    "\n",
    "def analyze_sentiment(review_text):\n",
    "    sid = SentimentIntensityAnalyzer()\n",
    "    return sid.polarity_scores(review_text)['compound']\n",
    "\n",
    "sentiment_analysis_udf = udf(analyze_sentiment, FloatType())\n",
    "df = df.withColumn(\"sentiment_score\", sentiment_analysis_udf(df[\"reviewText\"]))\n"
   ]
  },
  {
   "cell_type": "code",
   "execution_count": 21,
   "metadata": {
    "id": "WqZcdGp-5cui",
    "tags": []
   },
   "outputs": [],
   "source": [
    "# Split reviewTime into day, month, and year\n",
    "split_col = split(df['reviewTime'], ' ')\n",
    "df = df.withColumn('Day', split_col.getItem(0))\n",
    "df = df.withColumn('Month', split_col.getItem(1).substr(0,2))\n",
    "df = df.withColumn('Year', split_col.getItem(2))\n",
    "df = df.drop('reviewTime')"
   ]
  },
  {
   "cell_type": "markdown",
   "metadata": {},
   "source": [
    "# Data Visulization"
   ]
  },
  {
   "cell_type": "code",
   "execution_count": 22,
   "metadata": {
    "id": "IDu-xVsaDMh-",
    "tags": []
   },
   "outputs": [
    {
     "data": {
      "image/png": "[encoded data removed]",
      "text/plain": [
       "<Figure size 720x432 with 1 Axes>"
      ]
     },
     "metadata": {
      "needs_background": "light"
     },
     "output_type": "display_data"
    },
    {
     "data": {
      "image/png": "[encoded data removed]",
      "text/plain": [
       "<Figure size 720x432 with 1 Axes>"
      ]
     },
     "metadata": {},
     "output_type": "display_data"
    }
   ],
   "source": [
    "\n",
    "\n",
    "# Average rating (no change needed here)\n",
    "average_rating = df.agg(avg(\"overall\")).first()[0]\n",
    "\n",
    "# Count of reviews for each asin (no change needed here)\n",
    "reviews_per_asin = df.groupBy(\"asin\").agg(count(\"reviewerID\").alias(\"Number_of_Reviews\"))\n",
    "\n",
    "# Count of reviews for each reviewer (no change needed here)\n",
    "reviews_per_reviewers = df.groupBy(\"reviewerID\").agg(count(\"asin\").alias(\"Number_of_Reviews\"))\n",
    "\n",
    "# Histogram for overall ratings - Compute in PySpark\n",
    "overall_rating_distribution = df.groupBy(\"overall\").count().orderBy(\"overall\").collect()\n",
    "\n",
    "# Convert histogram data to Pandas DataFrame for plotting\n",
    "pdf_histogram = pd.DataFrame(overall_rating_distribution, columns=['Rating', 'Count'])\n",
    "\n",
    "# Plot histogram\n",
    "plt.figure(figsize=(10, 6))\n",
    "plt.bar(pdf_histogram['Rating'], pdf_histogram['Count'])\n",
    "plt.title('Distribution of Overall Ratings')\n",
    "plt.xlabel('Rating')\n",
    "plt.ylabel('Count')\n",
    "plt.grid(False)\n",
    "plt.show()\n",
    "\n",
    "# Pie chart for overall ratings - Compute in PySpark\n",
    "rating_counts = df.groupBy(\"overall\").count().orderBy(\"overall\").collect()\n",
    "\n",
    "# Convert pie chart data to Pandas Series for plotting\n",
    "pdf_pie = pd.Series({row['overall']: row['count'] for row in rating_counts})\n",
    "\n",
    "# Plot pie chart\n",
    "plt.figure(figsize=(10, 6))\n",
    "plt.pie(pdf_pie, labels=pdf_pie.index, autopct='%1.1f%%', startangle=140)\n",
    "plt.title('Distribution of Overall Ratings')\n",
    "plt.axis('equal')\n",
    "plt.show()"
   ]
  },
  {
   "cell_type": "code",
   "execution_count": 23,
   "metadata": {
    "colab": {
     "base_uri": "https://localhost:8080/",
     "height": 607
    },
    "id": "MGZpqoW9s-68",
    "outputId": "78848733-cf9f-4212-b896-e66bc0f68c9e",
    "tags": []
   },
   "outputs": [
    {
     "data": {
      "image/png": "[encoded data removed]",
      "text/plain": [
       "<Figure size 720x432 with 1 Axes>"
      ]
     },
     "metadata": {
      "needs_background": "light"
     },
     "output_type": "display_data"
    }
   ],
   "source": [
    "# Bar chart for number of reviews for each asin\n",
    "# Sort and get top 100 ASINs in PySpark\n",
    "top_reviews_per_asin = reviews_per_asin.orderBy(col(\"Number_of_Reviews\").desc()).limit(100)\n",
    "\n",
    "# Convert to Pandas DataFrame for plotting\n",
    "top_reviews_per_asin_pdf = top_reviews_per_asin.toPandas()\n",
    "\n",
    "# Plot bar chart using Pandas\n",
    "plt.figure(figsize=(10, 6))\n",
    "top_reviews_per_asin_pdf.set_index('asin')['Number_of_Reviews'].plot(kind='bar', legend=False)\n",
    "plt.title('Number of Reviews for Top 100 ASINs')\n",
    "plt.ylabel('Count')\n",
    "plt.xlabel('ASIN')\n",
    "plt.grid(False)\n",
    "plt.tight_layout()\n",
    "plt.show()"
   ]
  },
  {
   "cell_type": "code",
   "execution_count": 8,
   "metadata": {
    "tags": []
   },
   "outputs": [
    {
     "name": "stdout",
     "output_type": "stream",
     "text": [
      "Defaulting to user installation because normal site-packages is not writeable\n",
      "Requirement already satisfied: wordcloud in /home/wxr9et/.local/lib/python3.7/site-packages (1.9.2)\n",
      "Requirement already satisfied: numpy>=1.6.1 in /opt/conda/lib/python3.7/site-packages (from wordcloud) (1.21.6)\n",
      "Requirement already satisfied: pillow in /opt/conda/lib/python3.7/site-packages (from wordcloud) (9.2.0)\n",
      "Requirement already satisfied: matplotlib in /opt/conda/lib/python3.7/site-packages (from wordcloud) (3.5.3)\n",
      "Requirement already satisfied: cycler>=0.10 in /opt/conda/lib/python3.7/site-packages (from matplotlib->wordcloud) (0.11.0)\n",
      "Requirement already satisfied: fonttools>=4.22.0 in /opt/conda/lib/python3.7/site-packages (from matplotlib->wordcloud) (4.38.0)\n",
      "Requirement already satisfied: kiwisolver>=1.0.1 in /opt/conda/lib/python3.7/site-packages (from matplotlib->wordcloud) (1.4.4)\n",
      "Requirement already satisfied: packaging>=20.0 in /opt/conda/lib/python3.7/site-packages (from matplotlib->wordcloud) (23.1)\n",
      "Requirement already satisfied: pyparsing>=2.2.1 in /opt/conda/lib/python3.7/site-packages (from matplotlib->wordcloud) (3.1.1)\n",
      "Requirement already satisfied: python-dateutil>=2.7 in /opt/conda/lib/python3.7/site-packages (from matplotlib->wordcloud) (2.8.2)\n",
      "Requirement already satisfied: typing-extensions in /opt/conda/lib/python3.7/site-packages (from kiwisolver>=1.0.1->matplotlib->wordcloud) (4.7.1)\n",
      "Requirement already satisfied: six>=1.5 in /opt/conda/lib/python3.7/site-packages (from python-dateutil>=2.7->matplotlib->wordcloud) (1.16.0)\n"
     ]
    }
   ],
   "source": [
    "!pip install wordcloud"
   ]
  },
  {
   "cell_type": "code",
   "execution_count": 25,
   "metadata": {
    "colab": {
     "base_uri": "https://localhost:8080/",
     "height": 871
    },
    "id": "0UBh50DFFI1l",
    "outputId": "f5c3b337-fa19-423e-cc2f-b8dffafb8c09",
    "tags": []
   },
   "outputs": [
    {
     "ename": "ModuleNotFoundError",
     "evalue": "No module named 'wordcloud'",
     "output_type": "error",
     "traceback": [
      "\u001b[0;31m---------------------------------------------------------------------------\u001b[0m",
      "\u001b[0;31mModuleNotFoundError\u001b[0m                       Traceback (most recent call last)",
      "\u001b[0;32m<ipython-input-25-af73b06eb953>\u001b[0m in \u001b[0;36m<module>\u001b[0;34m\u001b[0m\n\u001b[1;32m      1\u001b[0m \u001b[0;32mfrom\u001b[0m \u001b[0mpyspark\u001b[0m\u001b[0;34m.\u001b[0m\u001b[0msql\u001b[0m\u001b[0;34m.\u001b[0m\u001b[0mfunctions\u001b[0m \u001b[0;32mimport\u001b[0m \u001b[0mconcat_ws\u001b[0m\u001b[0;34m,\u001b[0m \u001b[0mcollect_list\u001b[0m\u001b[0;34m\u001b[0m\u001b[0;34m\u001b[0m\u001b[0m\n\u001b[0;32m----> 2\u001b[0;31m \u001b[0;32mfrom\u001b[0m \u001b[0mwordcloud\u001b[0m \u001b[0;32mimport\u001b[0m \u001b[0mWordCloud\u001b[0m\u001b[0;34m\u001b[0m\u001b[0;34m\u001b[0m\u001b[0m\n\u001b[0m\u001b[1;32m      3\u001b[0m \u001b[0;32mimport\u001b[0m \u001b[0mmatplotlib\u001b[0m\u001b[0;34m.\u001b[0m\u001b[0mpyplot\u001b[0m \u001b[0;32mas\u001b[0m \u001b[0mplt\u001b[0m\u001b[0;34m\u001b[0m\u001b[0;34m\u001b[0m\u001b[0m\n\u001b[1;32m      4\u001b[0m \u001b[0;34m\u001b[0m\u001b[0m\n\u001b[1;32m      5\u001b[0m \u001b[0;32mdef\u001b[0m \u001b[0mgenerate_word_cloud\u001b[0m\u001b[0;34m(\u001b[0m\u001b[0mtext\u001b[0m\u001b[0;34m,\u001b[0m \u001b[0mtitle\u001b[0m\u001b[0;34m)\u001b[0m\u001b[0;34m:\u001b[0m\u001b[0;34m\u001b[0m\u001b[0;34m\u001b[0m\u001b[0m\n",
      "\u001b[0;31mModuleNotFoundError\u001b[0m: No module named 'wordcloud'"
     ]
    }
   ],
   "source": [
    "from pyspark.sql.functions import concat_ws, collect_list\n",
    "from wordcloud import WordCloud\n",
    "import matplotlib.pyplot as plt\n",
    "\n",
    "def generate_word_cloud(text, title):\n",
    "    wordcloud = WordCloud(width=800, height=400, background_color='white').generate(text)\n",
    "    plt.figure(figsize=(10, 5))\n",
    "    plt.imshow(wordcloud, interpolation='bilinear')\n",
    "    plt.axis('off')\n",
    "    plt.title(title)\n",
    "    plt.show()\n",
    "\n",
    "# # Sample a fraction of the data (5%)\n",
    "# fraction = 0.01\n",
    "# seed = 42  # You can choose any number for the seed\n",
    "# sampled_df = df.sample(False, fraction, seed)\n",
    "\n",
    "# Concatenate reviewText from all rows in the sampled PySpark DataFrame\n",
    "review_text_str = df.select(concat_ws(\" \", collect_list(\"reviewText\"))).first()[0]\n",
    "\n",
    "# Concatenate summary from all rows in the sampled PySpark DataFrame\n",
    "summary_str = df.select(concat_ws(\" \", collect_list(\"summary\"))).first()[0]\n",
    "\n",
    "# Generate word clouds\n",
    "generate_word_cloud(review_text_str, \"Word Cloud for Review Text\")\n",
    "generate_word_cloud(summary_str, \"Word Cloud for Summary\")"
   ]
  },
  {
   "cell_type": "code",
   "execution_count": null,
   "metadata": {
    "tags": []
   },
   "outputs": [],
   "source": [
    "plot = False"
   ]
  },
  {
   "cell_type": "code",
   "execution_count": null,
   "metadata": {
    "tags": []
   },
   "outputs": [],
   "source": [
    "from pyspark.sql.functions import col\n",
    "import matplotlib.pyplot as plt\n",
    "import pandas as pd\n",
    "if plot:\n",
    "    # Define the number of bins for the histogram\n",
    "    num_bins = 20\n",
    "\n",
    "    # Calculate the range for sentiment scores\n",
    "    min_score, max_score = df.selectExpr(\"min(sentiment_score)\", \"max(sentiment_score)\").first()\n",
    "\n",
    "    # Compute the bin size\n",
    "    bin_size = (max_score - min_score) / num_bins\n",
    "\n",
    "    # Create bins and count the number of records in each bin\n",
    "    bins_expr = [\n",
    "        ((col('sentiment_score') - min_score) / bin_size).cast('integer').alias('bin')\n",
    "    ]\n",
    "    histogram_df = df.select(*bins_expr).groupBy('bin').count()\n",
    "\n",
    "    # Collect the histogram data\n",
    "    histogram_data = histogram_df.sort('bin').collect()\n",
    "\n",
    "    # Prepare data for plotting\n",
    "    bins = [min_score + bin_size * i for i in range(num_bins + 1)]\n",
    "    counts = [0] * num_bins\n",
    "    for row in histogram_data:\n",
    "        if 0 <= row['bin'] < num_bins:\n",
    "            counts[row['bin']] = row['count']\n",
    "\n",
    "    # Plotting using Matplotlib\n",
    "    plt.figure(figsize=(10, 6))\n",
    "    plt.hist(bins[:-1], bins=bins, weights=counts)\n",
    "    plt.title('Distribution of Sentiment Scores')\n",
    "    plt.xlabel('Sentiment Score')\n",
    "    plt.ylabel('Count')\n",
    "    plt.grid(False)\n",
    "    plt.show()"
   ]
  },
  {
   "cell_type": "markdown",
   "metadata": {
    "id": "Az7mi7WwkR5f"
   },
   "source": [
    "# Modelling"
   ]
  },
  {
   "cell_type": "markdown",
   "metadata": {
    "id": "KIVXnBAuuVf5"
   },
   "source": [
    "## Data Splitting"
   ]
  },
  {
   "cell_type": "code",
   "execution_count": null,
   "metadata": {
    "tags": []
   },
   "outputs": [],
   "source": [
    "###sampling\n",
    "# sampled_df = df.sample(fraction=0.01, seed=42)\n",
    "# sampled_df.count()"
   ]
  },
  {
   "cell_type": "code",
   "execution_count": 9,
   "metadata": {
    "id": "mnzc-mTpuYuj",
    "tags": []
   },
   "outputs": [
    {
     "name": "stderr",
     "output_type": "stream",
     "text": [
      "                                                                                \r"
     ]
    }
   ],
   "source": [
    "from pyspark.ml.feature import StringIndexer\n",
    "\n",
    "# Indexing is required to convert string identifiers to numeric indices for the ALS algorithm\n",
    "indexer_user = StringIndexer(inputCol=\"reviewerID\", outputCol=\"userIndex\")\n",
    "df = indexer_user.fit(df).transform(df)\n",
    "\n",
    "indexer_item = StringIndexer(inputCol=\"asin\", outputCol=\"itemIndex\")\n",
    "df = indexer_item.fit(df).transform(df)"
   ]
  },
  {
   "cell_type": "code",
   "execution_count": 10,
   "metadata": {
    "id": "mnzc-mTpuYuj",
    "tags": []
   },
   "outputs": [],
   "source": [
    "(train, test) = df.randomSplit([0.8, 0.2],seed = 42)"
   ]
  },
  {
   "cell_type": "code",
   "execution_count": 11,
   "metadata": {
    "tags": []
   },
   "outputs": [],
   "source": [
    "train = train.select(\"userIndex\",\"itemIndex\",\"overall\")\n",
    "test = test.select(\"userIndex\",\"itemIndex\",\"overall\")"
   ]
  },
  {
   "cell_type": "markdown",
   "metadata": {
    "id": "csuWnWesuTGB"
   },
   "source": [
    "\n",
    "## ALS\n",
    "\n",
    "refer: https://www.kaggle.com/code/nadianizam/h-m-fashion-recommendation-with-pyspark\n",
    "\n"
   ]
  },
  {
   "cell_type": "code",
   "execution_count": 12,
   "metadata": {
    "id": "xVGz5N03kT7T",
    "tags": []
   },
   "outputs": [],
   "source": [
    "from pyspark.ml.recommendation import ALS\n",
    "from pyspark.ml.evaluation import RegressionEvaluator\n",
    "\n",
    "# Setting up the ALS model; In this model set the cold start as drop\n",
    "als = ALS(maxIter=5, regParam=0.01, userCol=\"userIndex\", itemCol=\"itemIndex\", ratingCol=\"overall\", coldStartStrategy=\"drop\")"
   ]
  },
  {
   "cell_type": "code",
   "execution_count": 20,
   "metadata": {
    "tags": []
   },
   "outputs": [
    {
     "name": "stdout",
     "output_type": "stream",
     "text": [
      "23/12/03 13:27:15 WARN DAGScheduler: Broadcasting large task binary with size 3.7 MiB\n"
     ]
    },
    {
     "name": "stderr",
     "output_type": "stream",
     "text": [
      "                                                                                \r"
     ]
    },
    {
     "name": "stdout",
     "output_type": "stream",
     "text": [
      "23/12/03 13:27:23 WARN DAGScheduler: Broadcasting large task binary with size 3.7 MiB\n"
     ]
    },
    {
     "name": "stderr",
     "output_type": "stream",
     "text": [
      "[Stage 28:>                                                         (0 + 1) / 1]\r"
     ]
    },
    {
     "name": "stdout",
     "output_type": "stream",
     "text": [
      "23/12/03 13:27:31 WARN DAGScheduler: Broadcasting large task binary with size 3.7 MiB\n"
     ]
    },
    {
     "name": "stderr",
     "output_type": "stream",
     "text": [
      "[Stage 29:===================================>                    (15 + 9) / 24]\r"
     ]
    },
    {
     "name": "stdout",
     "output_type": "stream",
     "text": [
      "23/12/03 13:27:32 WARN DAGScheduler: Broadcasting large task binary with size 3.7 MiB\n"
     ]
    },
    {
     "name": "stderr",
     "output_type": "stream",
     "text": [
      "                                                                                \r"
     ]
    },
    {
     "name": "stdout",
     "output_type": "stream",
     "text": [
      "23/12/03 13:27:33 WARN DAGScheduler: Broadcasting large task binary with size 3.7 MiB\n",
      "23/12/03 13:27:33 WARN DAGScheduler: Broadcasting large task binary with size 3.7 MiB\n",
      "23/12/03 13:27:34 WARN DAGScheduler: Broadcasting large task binary with size 3.7 MiB\n",
      "23/12/03 13:27:34 WARN DAGScheduler: Broadcasting large task binary with size 3.7 MiB\n",
      "23/12/03 13:27:35 WARN DAGScheduler: Broadcasting large task binary with size 3.7 MiB\n"
     ]
    },
    {
     "name": "stderr",
     "output_type": "stream",
     "text": [
      "[Stage 39:>                                                       (0 + 10) / 10]\r"
     ]
    },
    {
     "name": "stdout",
     "output_type": "stream",
     "text": [
      "23/12/03 13:27:36 WARN DAGScheduler: Broadcasting large task binary with size 3.7 MiB\n",
      "23/12/03 13:27:36 WARN DAGScheduler: Broadcasting large task binary with size 3.7 MiB\n"
     ]
    },
    {
     "name": "stderr",
     "output_type": "stream",
     "text": [
      "[Stage 41:>                                                       (0 + 10) / 10]\r"
     ]
    },
    {
     "name": "stdout",
     "output_type": "stream",
     "text": [
      "23/12/03 13:27:37 WARN DAGScheduler: Broadcasting large task binary with size 3.7 MiB\n",
      "23/12/03 13:27:38 WARN DAGScheduler: Broadcasting large task binary with size 3.7 MiB\n"
     ]
    },
    {
     "name": "stderr",
     "output_type": "stream",
     "text": [
      "[Stage 43:>                                                       (0 + 10) / 10]\r"
     ]
    },
    {
     "name": "stdout",
     "output_type": "stream",
     "text": [
      "23/12/03 13:27:39 WARN DAGScheduler: Broadcasting large task binary with size 3.7 MiB\n",
      "23/12/03 13:27:39 WARN DAGScheduler: Broadcasting large task binary with size 3.7 MiB\n"
     ]
    },
    {
     "name": "stderr",
     "output_type": "stream",
     "text": [
      "[Stage 45:>                                                       (0 + 10) / 10]\r"
     ]
    },
    {
     "name": "stdout",
     "output_type": "stream",
     "text": [
      "23/12/03 13:27:40 WARN DAGScheduler: Broadcasting large task binary with size 3.7 MiB\n",
      "23/12/03 13:27:40 WARN DAGScheduler: Broadcasting large task binary with size 3.7 MiB\n"
     ]
    },
    {
     "name": "stderr",
     "output_type": "stream",
     "text": [
      "                                                                                \r"
     ]
    },
    {
     "name": "stdout",
     "output_type": "stream",
     "text": [
      "23/12/03 13:27:41 WARN DAGScheduler: Broadcasting large task binary with size 3.7 MiB\n"
     ]
    }
   ],
   "source": [
    "# Fit the ALS model to the training data\n",
    "model = als.fit(train)"
   ]
  },
  {
   "cell_type": "code",
   "execution_count": 21,
   "metadata": {
    "id": "xVGz5N03kT7T",
    "tags": []
   },
   "outputs": [
    {
     "name": "stdout",
     "output_type": "stream",
     "text": [
      "23/12/03 13:27:42 WARN DAGScheduler: Broadcasting large task binary with size 3.7 MiB\n",
      "23/12/03 13:27:42 WARN DAGScheduler: Broadcasting large task binary with size 3.7 MiB\n",
      "23/12/03 13:27:42 WARN DAGScheduler: Broadcasting large task binary with size 3.7 MiB\n"
     ]
    },
    {
     "name": "stderr",
     "output_type": "stream",
     "text": [
      "[Stage 61:>                                                         (0 + 1) / 1]\r"
     ]
    },
    {
     "name": "stdout",
     "output_type": "stream",
     "text": [
      "23/12/03 13:27:51 WARN DAGScheduler: Broadcasting large task binary with size 3.7 MiB\n"
     ]
    },
    {
     "name": "stderr",
     "output_type": "stream",
     "text": [
      "                                                                                \r"
     ]
    },
    {
     "name": "stdout",
     "output_type": "stream",
     "text": [
      "23/12/03 13:27:52 WARN DAGScheduler: Broadcasting large task binary with size 3.7 MiB\n",
      "23/12/03 13:27:52 WARN DAGScheduler: Broadcasting large task binary with size 3.7 MiB\n",
      "23/12/03 13:27:52 WARN DAGScheduler: Broadcasting large task binary with size 3.7 MiB\n"
     ]
    },
    {
     "name": "stderr",
     "output_type": "stream",
     "text": [
      "[Stage 96:>                                                         (0 + 1) / 1]\r"
     ]
    },
    {
     "name": "stdout",
     "output_type": "stream",
     "text": [
      "23/12/03 13:28:01 WARN DAGScheduler: Broadcasting large task binary with size 3.7 MiB\n"
     ]
    },
    {
     "name": "stderr",
     "output_type": "stream",
     "text": [
      "                                                                                \r"
     ]
    }
   ],
   "source": [
    "# # Fitting the ALS model on the training data\n",
    "# model = als.fit(train)\n",
    "\n",
    "# Predicting on the train and test sets\n",
    "predictions_train = model.transform(train)\n",
    "predictions_test = model.transform(test)\n",
    "\n",
    "# Create an RMSE evaluator using the label and predicted columns\n",
    "reg_evaluator = RegressionEvaluator(metricName=\"rmse\", labelCol=\"overall\", predictionCol=\"prediction\")\n",
    "\n",
    "# Evaluate the model on training data\n",
    "rmse_train = reg_evaluator.evaluate(predictions_train)\n",
    "\n",
    "# Evaluate the model on test data\n",
    "rmse_test = reg_evaluator.evaluate(predictions_test)"
   ]
  },
  {
   "cell_type": "code",
   "execution_count": 22,
   "metadata": {
    "tags": []
   },
   "outputs": [
    {
     "name": "stdout",
     "output_type": "stream",
     "text": [
      "23/12/03 13:28:01 WARN DAGScheduler: Broadcasting large task binary with size 3.9 MiB\n",
      "23/12/03 13:28:02 WARN MemoryManager: Total allocation exceeds 95.00% (1,020,054,720 bytes) of heap memory\n",
      "Scaling row group sizes to 95.00% for 8 writers\n",
      "23/12/03 13:28:02 WARN MemoryManager: Total allocation exceeds 95.00% (1,020,054,720 bytes) of heap memory\n",
      "Scaling row group sizes to 84.44% for 9 writers\n",
      "23/12/03 13:28:02 WARN MemoryManager: Total allocation exceeds 95.00% (1,020,054,720 bytes) of heap memory\n",
      "Scaling row group sizes to 76.00% for 10 writers\n"
     ]
    },
    {
     "name": "stderr",
     "output_type": "stream",
     "text": [
      "                                                                                \r"
     ]
    },
    {
     "name": "stdout",
     "output_type": "stream",
     "text": [
      "23/12/03 13:28:02 WARN MemoryManager: Total allocation exceeds 95.00% (1,020,054,720 bytes) of heap memory\n",
      "Scaling row group sizes to 84.44% for 9 writers\n",
      "23/12/03 13:28:02 WARN MemoryManager: Total allocation exceeds 95.00% (1,020,054,720 bytes) of heap memory\n",
      "Scaling row group sizes to 95.00% for 8 writers\n",
      "23/12/03 13:28:02 WARN DAGScheduler: Broadcasting large task binary with size 3.9 MiB\n",
      "23/12/03 13:28:03 WARN MemoryManager: Total allocation exceeds 95.00% (1,020,054,720 bytes) of heap memory\n",
      "Scaling row group sizes to 95.00% for 8 writers\n",
      "23/12/03 13:28:03 WARN MemoryManager: Total allocation exceeds 95.00% (1,020,054,720 bytes) of heap memory\n",
      "Scaling row group sizes to 84.44% for 9 writers\n",
      "23/12/03 13:28:03 WARN MemoryManager: Total allocation exceeds 95.00% (1,020,054,720 bytes) of heap memory\n",
      "Scaling row group sizes to 76.00% for 10 writers\n",
      "23/12/03 13:28:03 WARN MemoryManager: Total allocation exceeds 95.00% (1,020,054,720 bytes) of heap memory\n",
      "Scaling row group sizes to 84.44% for 9 writers\n",
      "23/12/03 13:28:03 WARN MemoryManager: Total allocation exceeds 95.00% (1,020,054,720 bytes) of heap memory\n",
      "Scaling row group sizes to 95.00% for 8 writers\n"
     ]
    }
   ],
   "source": [
    "model_path = \"models/RatingALSModel_1.obj\"\n",
    "# Save the model, overwriting any existing model at the specified path\n",
    "model.write().overwrite().save(model_path)"
   ]
  },
  {
   "cell_type": "markdown",
   "metadata": {
    "tags": []
   },
   "source": [
    "## For user who first appear in test set, recommend the most popular stuff to them."
   ]
  },
  {
   "cell_type": "code",
   "execution_count": 51,
   "metadata": {
    "tags": []
   },
   "outputs": [],
   "source": [
    "from pyspark.sql import SparkSession\n",
    "from pyspark.sql import functions as F\n",
    "\n",
    "# Create a Spark session\n",
    "spark = SparkSession.builder.appName(\"PopularItemsRecommendation\").getOrCreate()\n",
    "\n",
    "# Find users in the test set that do not appear in the train set\n",
    "newUsers = test.select(\"userIndex\").subtract(train.select(\"userIndex\")).distinct()\n",
    "\n",
    "# Calculate item popularity based on the train set\n",
    "itemPopularity = train.groupBy(\"itemIndex\").agg(F.count(\"overall\").alias(\"popularity\"))\n",
    "\n",
    "# Rank items based on popularity in descending order\n",
    "rankedItems = itemPopularity.orderBy(F.desc(\"popularity\"))\n",
    "\n",
    "# Join the new users with the ranked items to recommend the most popular items\n",
    "recommendations = newUsers.crossJoin(rankedItems.limit(10))  # Replace k with the number of items to recommend\n",
    "\n",
    "# Select relevant columns for further processing or output\n",
    "newRecommendations = recommendations.groupBy(\"userIndex\").agg(F.collect_list(\"itemIndex\").alias(\"name\"))"
   ]
  },
  {
   "cell_type": "code",
   "execution_count": 14,
   "metadata": {
    "tags": []
   },
   "outputs": [
    {
     "name": "stdout",
     "output_type": "stream",
     "text": [
      "23/12/03 13:25:50 WARN DAGScheduler: Broadcasting large task binary with size 3.7 MiB\n",
      "23/12/03 13:25:50 WARN DAGScheduler: Broadcasting large task binary with size 3.7 MiB\n"
     ]
    },
    {
     "name": "stderr",
     "output_type": "stream",
     "text": [
      "                                                                                \r"
     ]
    },
    {
     "name": "stdout",
     "output_type": "stream",
     "text": [
      "23/12/03 13:25:59 WARN DAGScheduler: Broadcasting large task binary with size 3.7 MiB\n",
      "23/12/03 13:25:59 WARN DAGScheduler: Broadcasting large task binary with size 3.7 MiB\n"
     ]
    },
    {
     "name": "stderr",
     "output_type": "stream",
     "text": [
      "[Stage 9:>                                                          (0 + 1) / 1]\r"
     ]
    },
    {
     "name": "stdout",
     "output_type": "stream",
     "text": [
      "23/12/03 13:26:07 WARN DAGScheduler: Broadcasting large task binary with size 3.7 MiB\n"
     ]
    },
    {
     "name": "stderr",
     "output_type": "stream",
     "text": [
      "                                                                                \r"
     ]
    },
    {
     "data": {
      "text/plain": [
       "14457"
      ]
     },
     "execution_count": 14,
     "metadata": {},
     "output_type": "execute_result"
    }
   ],
   "source": [
    "newRecommendations.count()"
   ]
  },
  {
   "cell_type": "code",
   "execution_count": 15,
   "metadata": {
    "tags": []
   },
   "outputs": [
    {
     "name": "stdout",
     "output_type": "stream",
     "text": [
      "23/12/03 13:26:07 WARN DAGScheduler: Broadcasting large task binary with size 3.7 MiB\n"
     ]
    },
    {
     "name": "stderr",
     "output_type": "stream",
     "text": [
      "                                                                                \r"
     ]
    },
    {
     "data": {
      "text/plain": [
       "15311"
      ]
     },
     "execution_count": 15,
     "metadata": {},
     "output_type": "execute_result"
    }
   ],
   "source": [
    "test.count()"
   ]
  },
  {
   "cell_type": "markdown",
   "metadata": {
    "id": "xVGz5N03kT7T",
    "tags": []
   },
   "source": [
    "# grid search for ALS model"
   ]
  },
  {
   "cell_type": "code",
   "execution_count": 43,
   "metadata": {
    "id": "xVGz5N03kT7T",
    "tags": []
   },
   "outputs": [],
   "source": [
    "from pyspark.ml.tuning import ParamGridBuilder, CrossValidator\n",
    "\n",
    "param_grid = ParamGridBuilder() \\\n",
    "    .addGrid(als.rank, [10,30]) \\\n",
    "    .addGrid(als.maxIter, [5, 15]) \\\n",
    "    .addGrid(als.regParam, [0.01, 1.0]) \\\n",
    "    .build()\n",
    "\n",
    "\n",
    "##cross validation\n",
    "cross_val = CrossValidator(\n",
    "    estimator=als,\n",
    "    estimatorParamMaps=param_grid,\n",
    "    evaluator=reg_evaluator,\n",
    "    numFolds=5)"
   ]
  },
  {
   "cell_type": "code",
   "execution_count": 17,
   "metadata": {
    "tags": []
   },
   "outputs": [],
   "source": [
    "retrain = False\n",
    "if retrain:\n",
    "    cv_model = cross_val.fit(train)\n",
    "# best_model = cv_model.bestModel\n",
    "\n",
    "# # Specify the path where you want to save the model\n",
    "# model_path = \"models/Best_RatingALSModel.obj\"\n",
    "\n",
    "# # Save the model, overwriting any existing model at the specified path\n",
    "# best_model.write().overwrite().save(model_path)"
   ]
  },
  {
   "cell_type": "code",
   "execution_count": 49,
   "metadata": {
    "colab": {
     "base_uri": "https://localhost:8080/"
    },
    "id": "SIkh4pJbkT-_",
    "outputId": "89a85da8-d6a6-42b0-ef0d-56e42861934e",
    "tags": []
   },
   "outputs": [
    {
     "data": {
      "text/plain": [
       "0.003260037985302759"
      ]
     },
     "execution_count": 49,
     "metadata": {},
     "output_type": "execute_result"
    }
   ],
   "source": [
    "rmse_train"
   ]
  },
  {
   "cell_type": "code",
   "execution_count": 50,
   "metadata": {
    "colab": {
     "base_uri": "https://localhost:8080/"
    },
    "id": "h4t13CqrkUCj",
    "outputId": "2443eee2-ea8b-4fc4-bb72-18ff59e75711",
    "tags": []
   },
   "outputs": [
    {
     "data": {
      "text/plain": [
       "4.940007887749806"
      ]
     },
     "execution_count": 50,
     "metadata": {},
     "output_type": "execute_result"
    }
   ],
   "source": [
    "rmse_test"
   ]
  },
  {
   "cell_type": "code",
   "execution_count": 51,
   "metadata": {
    "tags": []
   },
   "outputs": [
    {
     "data": {
      "text/plain": [
       "[4.950013332730643,\n",
       " 4.603276629442055,\n",
       " 4.806474429015735,\n",
       " 4.582132936875243,\n",
       " 4.610608182697979,\n",
       " 4.522620926823878,\n",
       " 4.565218829699182,\n",
       " 4.505357481791878]"
      ]
     },
     "execution_count": 51,
     "metadata": {},
     "output_type": "execute_result"
    }
   ],
   "source": [
    "cv_model.avgMetrics"
   ]
  },
  {
   "cell_type": "markdown",
   "metadata": {},
   "source": [
    "## Recall"
   ]
  },
  {
   "cell_type": "code",
   "execution_count": 18,
   "metadata": {
    "tags": []
   },
   "outputs": [
    {
     "name": "stderr",
     "output_type": "stream",
     "text": [
      "[Stage 24:>                                                       (0 + 10) / 10]\r"
     ]
    },
    {
     "name": "stdout",
     "output_type": "stream",
     "text": [
      "+---------+--------------------+\n",
      "|userIndex|     recommendations|\n",
      "+---------+--------------------+\n",
      "|        3|[{3017, 4.086563}...|\n",
      "+---------+--------------------+\n",
      "only showing top 1 row\n",
      "\n"
     ]
    },
    {
     "name": "stderr",
     "output_type": "stream",
     "text": [
      "                                                                                \r"
     ]
    }
   ],
   "source": [
    "from pyspark.ml.recommendation import ALSModel\n",
    "recommendnum = 10\n",
    "als_model = ALSModel.load(\"models/Best_RatingALSModel.obj\")\n",
    "als_model.recommendForAllUsers(recommendnum).show(1)"
   ]
  },
  {
   "cell_type": "code",
   "execution_count": 23,
   "metadata": {
    "tags": []
   },
   "outputs": [
    {
     "name": "stderr",
     "output_type": "stream",
     "text": [
      "[Stage 163:=====>                                                  (1 + 9) / 10]\r"
     ]
    },
    {
     "name": "stdout",
     "output_type": "stream",
     "text": [
      "+---------+--------------------+\n",
      "|userIndex|     recommendations|\n",
      "+---------+--------------------+\n",
      "|        3|[{1610, 20.023806...|\n",
      "+---------+--------------------+\n",
      "only showing top 1 row\n",
      "\n"
     ]
    },
    {
     "name": "stderr",
     "output_type": "stream",
     "text": [
      "                                                                                \r"
     ]
    }
   ],
   "source": [
    "als_model0 = ALSModel.load(\"models/RatingALSModel_1.obj\")\n",
    "als_model0.recommendForAllUsers(recommendnum).show(1)"
   ]
  },
  {
   "cell_type": "code",
   "execution_count": 24,
   "metadata": {
    "tags": []
   },
   "outputs": [],
   "source": [
    "df_temp = als_model.recommendForAllUsers(10) # Only on training set"
   ]
  },
  {
   "cell_type": "code",
   "execution_count": 25,
   "metadata": {
    "tags": []
   },
   "outputs": [],
   "source": [
    "df_temp0 = als_model0.recommendForAllUsers(10) # Only on training set"
   ]
  },
  {
   "cell_type": "code",
   "execution_count": 24,
   "metadata": {
    "tags": []
   },
   "outputs": [
    {
     "name": "stderr",
     "output_type": "stream",
     "text": [
      "                                                                                \r"
     ]
    }
   ],
   "source": [
    "# x = df_temp.select('recommendations').collect()\n",
    "# x0 = df_temp0.select('recommendations').collect()"
   ]
  },
  {
   "cell_type": "code",
   "execution_count": 26,
   "metadata": {
    "tags": []
   },
   "outputs": [
    {
     "name": "stderr",
     "output_type": "stream",
     "text": [
      "                                                                                \r"
     ]
    },
    {
     "data": {
      "text/plain": [
       "58708"
      ]
     },
     "execution_count": 26,
     "metadata": {},
     "output_type": "execute_result"
    }
   ],
   "source": [
    "df_temp.groupBy(col(\"userIndex\")).count().count()"
   ]
  },
  {
   "cell_type": "code",
   "execution_count": 92,
   "metadata": {
    "tags": []
   },
   "outputs": [
    {
     "data": {
      "text/plain": [
       "587220"
      ]
     },
     "execution_count": 92,
     "metadata": {},
     "output_type": "execute_result"
    }
   ],
   "source": [
    "df_temp0.orderBy(col(\"userIndex\"))"
   ]
  },
  {
   "cell_type": "code",
   "execution_count": 27,
   "metadata": {
    "tags": []
   },
   "outputs": [],
   "source": [
    "from pyspark.sql.functions import col,explode\n",
    "df_temp = df_temp.withColumn(\"name\", explode(col('recommendations')))"
   ]
  },
  {
   "cell_type": "code",
   "execution_count": 28,
   "metadata": {
    "tags": []
   },
   "outputs": [],
   "source": [
    "df_temp0 = df_temp0.withColumn(\"name\", explode(col('recommendations')))"
   ]
  },
  {
   "cell_type": "code",
   "execution_count": 29,
   "metadata": {
    "tags": []
   },
   "outputs": [
    {
     "name": "stderr",
     "output_type": "stream",
     "text": [
      "[Stage 174:>                                                      (0 + 10) / 10]\r"
     ]
    },
    {
     "name": "stdout",
     "output_type": "stream",
     "text": [
      "+---------+--------------------+------------------+\n",
      "|userIndex|     recommendations|              name|\n",
      "+---------+--------------------+------------------+\n",
      "|        3|[{3017, 4.086563}...|  {3017, 4.086563}|\n",
      "|        3|[{3017, 4.086563}...| {10471, 4.073551}|\n",
      "|        3|[{3017, 4.086563}...|{19573, 4.0489764}|\n",
      "|        3|[{3017, 4.086563}...|{22730, 3.8789766}|\n",
      "|        3|[{3017, 4.086563}...|  {448, 3.8419113}|\n",
      "|        3|[{3017, 4.086563}...|  {655, 3.7570543}|\n",
      "|        3|[{3017, 4.086563}...|  {296, 3.7474897}|\n",
      "|        3|[{3017, 4.086563}...|{26095, 3.4820004}|\n",
      "|        3|[{3017, 4.086563}...| {2915, 3.3522973}|\n",
      "|        3|[{3017, 4.086563}...|{15945, 3.1983292}|\n",
      "+---------+--------------------+------------------+\n",
      "only showing top 10 rows\n",
      "\n"
     ]
    },
    {
     "name": "stderr",
     "output_type": "stream",
     "text": [
      "                                                                                \r"
     ]
    }
   ],
   "source": [
    "df_temp.show(10)"
   ]
  },
  {
   "cell_type": "code",
   "execution_count": 31,
   "metadata": {
    "tags": []
   },
   "outputs": [],
   "source": [
    "from pyspark.sql.functions import col,expr\n",
    "df_temp = df_temp.withColumn(\"name\", expr(\"transform(recommendations, r -> r.itemIndex)\"))\n",
    "df_temp = df_temp.drop_duplicates()\n",
    "df_temp0 = df_temp0.withColumn(\"name\", expr(\"transform(recommendations, r -> r.itemIndex)\"))\n",
    "df_temp0 = df_temp0.drop_duplicates()"
   ]
  },
  {
   "cell_type": "code",
   "execution_count": 52,
   "metadata": {},
   "outputs": [],
   "source": [
    "# Ensure the column order is the same in both DataFrames\n",
    "df_temp = df_temp.select(\"userIndex\", \"name\")\n",
    "df_temp0 = df_temp0.select(\"userIndex\", \"name\")\n",
    "\n",
    "# Union the DataFrames\n",
    "best_pred = df_temp.unionByName(newRecommendations)\n",
    "base_pred = df_temp0.unionByName(newRecommendations)"
   ]
  },
  {
   "cell_type": "code",
   "execution_count": 33,
   "metadata": {
    "tags": []
   },
   "outputs": [],
   "source": [
    "from pyspark.sql.functions import collect_list\n",
    "actualitem = test.groupby('userIndex').agg(collect_list('itemIndex').alias('indexlist')) # This should be test"
   ]
  },
  {
   "cell_type": "code",
   "execution_count": 34,
   "metadata": {
    "tags": []
   },
   "outputs": [
    {
     "name": "stdout",
     "output_type": "stream",
     "text": [
      "23/12/03 13:30:15 WARN DAGScheduler: Broadcasting large task binary with size 3.7 MiB\n"
     ]
    },
    {
     "name": "stderr",
     "output_type": "stream",
     "text": [
      "[Stage 184:>                                                        (0 + 1) / 1]\r"
     ]
    },
    {
     "name": "stdout",
     "output_type": "stream",
     "text": [
      "23/12/03 13:30:23 WARN DAGScheduler: Broadcasting large task binary with size 3.7 MiB\n",
      "+---------+--------------------+\n",
      "|userIndex|           indexlist|\n",
      "+---------+--------------------+\n",
      "|      0.0|   [7992.0, 19998.0]|\n",
      "|      2.0|[4351.0, 17086.0,...|\n",
      "|      3.0|      [296.0, 276.0]|\n",
      "|      4.0|    [11723.0, 493.0]|\n",
      "|      5.0|     [101.0, 1871.0]|\n",
      "|      6.0|     [5001.0, 722.0]|\n",
      "|      8.0|           [13923.0]|\n",
      "|      9.0|           [14645.0]|\n",
      "|     10.0|            [5159.0]|\n",
      "|     12.0|            [7699.0]|\n",
      "+---------+--------------------+\n",
      "only showing top 10 rows\n",
      "\n"
     ]
    },
    {
     "name": "stderr",
     "output_type": "stream",
     "text": [
      "                                                                                \r"
     ]
    }
   ],
   "source": [
    "actualitem.orderBy(col(\"userIndex\")).show(10)"
   ]
  },
  {
   "cell_type": "code",
   "execution_count": 35,
   "metadata": {
    "tags": []
   },
   "outputs": [
    {
     "name": "stdout",
     "output_type": "stream",
     "text": [
      "23/12/03 13:30:57 WARN DAGScheduler: Broadcasting large task binary with size 3.7 MiB\n"
     ]
    },
    {
     "name": "stderr",
     "output_type": "stream",
     "text": [
      "[Stage 187:>                                                        (0 + 1) / 1]\r"
     ]
    },
    {
     "name": "stdout",
     "output_type": "stream",
     "text": [
      "23/12/03 13:31:06 WARN DAGScheduler: Broadcasting large task binary with size 3.7 MiB\n"
     ]
    },
    {
     "name": "stderr",
     "output_type": "stream",
     "text": [
      "                                                                                \r"
     ]
    },
    {
     "name": "stdout",
     "output_type": "stream",
     "text": [
      "23/12/03 13:31:06 WARN DAGScheduler: Broadcasting large task binary with size 3.7 MiB\n",
      "23/12/03 13:31:06 WARN DAGScheduler: Broadcasting large task binary with size 3.7 MiB\n"
     ]
    },
    {
     "name": "stderr",
     "output_type": "stream",
     "text": [
      "                                                                                \r"
     ]
    },
    {
     "name": "stdout",
     "output_type": "stream",
     "text": [
      "23/12/03 13:31:15 WARN DAGScheduler: Broadcasting large task binary with size 3.7 MiB\n",
      "23/12/03 13:31:15 WARN DAGScheduler: Broadcasting large task binary with size 3.7 MiB\n"
     ]
    },
    {
     "name": "stderr",
     "output_type": "stream",
     "text": [
      "[Stage 197:>                                                        (0 + 1) / 1]\r"
     ]
    },
    {
     "name": "stdout",
     "output_type": "stream",
     "text": [
      "23/12/03 13:31:24 WARN DAGScheduler: Broadcasting large task binary with size 3.7 MiB\n"
     ]
    },
    {
     "name": "stderr",
     "output_type": "stream",
     "text": [
      "                                                                                \r"
     ]
    },
    {
     "data": {
      "text/plain": [
       "734"
      ]
     },
     "execution_count": 35,
     "metadata": {},
     "output_type": "execute_result"
    }
   ],
   "source": [
    "actualitem.count()-newRecommendations.count()"
   ]
  },
  {
   "cell_type": "code",
   "execution_count": 36,
   "metadata": {
    "tags": []
   },
   "outputs": [],
   "source": [
    "result = df_temp.join(actualitem, 'userIndex')"
   ]
  },
  {
   "cell_type": "code",
   "execution_count": 37,
   "metadata": {
    "tags": []
   },
   "outputs": [
    {
     "name": "stdout",
     "output_type": "stream",
     "text": [
      "23/12/03 13:31:24 WARN DAGScheduler: Broadcasting large task binary with size 3.7 MiB\n"
     ]
    },
    {
     "name": "stderr",
     "output_type": "stream",
     "text": [
      "[Stage 204:>                                                        (0 + 1) / 1]\r"
     ]
    },
    {
     "name": "stdout",
     "output_type": "stream",
     "text": [
      "23/12/03 13:31:33 WARN DAGScheduler: Broadcasting large task binary with size 3.7 MiB\n",
      "23/12/03 13:31:34 WARN DAGScheduler: Broadcasting large task binary with size 3.7 MiB\n"
     ]
    },
    {
     "name": "stderr",
     "output_type": "stream",
     "text": [
      "                                                                                \r"
     ]
    },
    {
     "data": {
      "text/plain": [
       "734"
      ]
     },
     "execution_count": 37,
     "metadata": {},
     "output_type": "execute_result"
    }
   ],
   "source": [
    "result.count()"
   ]
  },
  {
   "cell_type": "code",
   "execution_count": 38,
   "metadata": {
    "tags": []
   },
   "outputs": [],
   "source": [
    "result0 = df_temp0.join(actualitem, 'userIndex')"
   ]
  },
  {
   "cell_type": "code",
   "execution_count": 39,
   "metadata": {},
   "outputs": [
    {
     "name": "stdout",
     "output_type": "stream",
     "text": [
      "23/12/03 13:31:35 WARN DAGScheduler: Broadcasting large task binary with size 3.7 MiB\n"
     ]
    },
    {
     "name": "stderr",
     "output_type": "stream",
     "text": [
      "[Stage 214:>                                                        (0 + 1) / 1]\r"
     ]
    },
    {
     "name": "stdout",
     "output_type": "stream",
     "text": [
      "23/12/03 13:31:44 WARN DAGScheduler: Broadcasting large task binary with size 3.7 MiB\n",
      "23/12/03 13:31:44 WARN DAGScheduler: Broadcasting large task binary with size 3.7 MiB\n"
     ]
    },
    {
     "name": "stderr",
     "output_type": "stream",
     "text": [
      "                                                                                \r"
     ]
    },
    {
     "data": {
      "text/plain": [
       "734"
      ]
     },
     "execution_count": 39,
     "metadata": {},
     "output_type": "execute_result"
    }
   ],
   "source": [
    "result0.count()"
   ]
  },
  {
   "cell_type": "code",
   "execution_count": 53,
   "metadata": {},
   "outputs": [],
   "source": [
    "result_best = best_pred.join(actualitem, 'userIndex')"
   ]
  },
  {
   "cell_type": "code",
   "execution_count": 54,
   "metadata": {},
   "outputs": [],
   "source": [
    "result_base = base_pred.join(actualitem, 'userIndex')"
   ]
  },
  {
   "cell_type": "code",
   "execution_count": 40,
   "metadata": {
    "tags": []
   },
   "outputs": [],
   "source": [
    "from pyspark.sql.functions import array_intersect, size, avg\n",
    "metrics = result.withColumn('TP', size(array_intersect(col('name'),col('indexlist')))) \\\n",
    "                .withColumn('precision', col('TP')/recommendnum) \\\n",
    "                .withColumn('recall', col('TP')/size(col('indexlist'))) \\\n",
    "                .withColumn('F1', when((col('precision') + col('recall')) >0,\n",
    "                                        2* (col('precision') *col('recall'))/(col('precision') +col('recall')))\n",
    "                             .otherwise(0))"
   ]
  },
  {
   "cell_type": "code",
   "execution_count": 41,
   "metadata": {
    "tags": []
   },
   "outputs": [],
   "source": [
    "metrics0 = result0.withColumn('TP', size(array_intersect(col('name'),col('indexlist')))) \\\n",
    "                .withColumn('precision', col('TP')/recommendnum) \\\n",
    "                .withColumn('recall', col('TP')/size(col('indexlist'))) \\\n",
    "                .withColumn('F1', when((col('precision') + col('recall')) >0,\n",
    "                                        2* (col('precision') *col('recall'))/(col('precision') +col('recall')))\n",
    "                             .otherwise(0))"
   ]
  },
  {
   "cell_type": "code",
   "execution_count": 55,
   "metadata": {},
   "outputs": [],
   "source": [
    "metrics_best = result_best.withColumn('TP', size(array_intersect(col('name'),col('indexlist')))) \\\n",
    "                .withColumn('precision', col('TP')/recommendnum) \\\n",
    "                .withColumn('recall', col('TP')/size(col('indexlist'))) \\\n",
    "                .withColumn('F1', when((col('precision') + col('recall')) >0,\n",
    "                                        2* (col('precision') *col('recall'))/(col('precision') +col('recall')))\n",
    "                             .otherwise(0))"
   ]
  },
  {
   "cell_type": "code",
   "execution_count": 56,
   "metadata": {},
   "outputs": [],
   "source": [
    "metrics_base = result_base.withColumn('TP', size(array_intersect(col('name'),col('indexlist')))) \\\n",
    "                .withColumn('precision', col('TP')/recommendnum) \\\n",
    "                .withColumn('recall', col('TP')/size(col('indexlist'))) \\\n",
    "                .withColumn('F1', when((col('precision') + col('recall')) >0,\n",
    "                                        2* (col('precision') *col('recall'))/(col('precision') +col('recall')))\n",
    "                             .otherwise(0))"
   ]
  },
  {
   "cell_type": "code",
   "execution_count": 42,
   "metadata": {
    "tags": []
   },
   "outputs": [
    {
     "name": "stdout",
     "output_type": "stream",
     "text": [
      "23/12/03 13:31:59 WARN DAGScheduler: Broadcasting large task binary with size 3.7 MiB\n"
     ]
    },
    {
     "name": "stderr",
     "output_type": "stream",
     "text": [
      "[Stage 224:>                                                        (0 + 1) / 1]\r"
     ]
    },
    {
     "name": "stdout",
     "output_type": "stream",
     "text": [
      "23/12/03 13:32:10 WARN DAGScheduler: Broadcasting large task binary with size 3.7 MiB\n"
     ]
    },
    {
     "name": "stderr",
     "output_type": "stream",
     "text": [
      "                                                                                \r"
     ]
    },
    {
     "name": "stdout",
     "output_type": "stream",
     "text": [
      "23/12/03 13:32:10 WARN DAGScheduler: Broadcasting large task binary with size 3.7 MiB\n"
     ]
    },
    {
     "name": "stderr",
     "output_type": "stream",
     "text": [
      "[Stage 229:>                                                        (0 + 6) / 6]\r"
     ]
    },
    {
     "name": "stdout",
     "output_type": "stream",
     "text": [
      "+--------------------+--------------------+-------------------+\n",
      "|      avg(precision)|         avg(recall)|            avg(F1)|\n",
      "+--------------------+--------------------+-------------------+\n",
      "|0.005449591280653951|0.052452316076294275|0.00984642060936339|\n",
      "+--------------------+--------------------+-------------------+\n",
      "\n"
     ]
    },
    {
     "name": "stderr",
     "output_type": "stream",
     "text": [
      "                                                                                \r"
     ]
    }
   ],
   "source": [
    "from pyspark.sql.functions import max as ma\n",
    "from pyspark.sql.functions import avg\n",
    "# Result of the grid searched ALS model\n",
    "average_metrics = metrics.agg(\n",
    "    avg(col('precision')),\n",
    "    avg(col('recall')),\n",
    "    avg(col('F1'))\n",
    ")\n",
    "average_metrics.show()"
   ]
  },
  {
   "cell_type": "code",
   "execution_count": 43,
   "metadata": {
    "tags": []
   },
   "outputs": [
    {
     "name": "stdout",
     "output_type": "stream",
     "text": [
      "23/12/03 13:32:11 WARN DAGScheduler: Broadcasting large task binary with size 3.7 MiB\n"
     ]
    },
    {
     "name": "stderr",
     "output_type": "stream",
     "text": [
      "[Stage 234:>                                                        (0 + 1) / 1]\r"
     ]
    },
    {
     "name": "stdout",
     "output_type": "stream",
     "text": [
      "23/12/03 13:32:21 WARN DAGScheduler: Broadcasting large task binary with size 3.7 MiB\n"
     ]
    },
    {
     "name": "stderr",
     "output_type": "stream",
     "text": [
      "                                                                                \r"
     ]
    },
    {
     "name": "stdout",
     "output_type": "stream",
     "text": [
      "23/12/03 13:32:21 WARN DAGScheduler: Broadcasting large task binary with size 3.7 MiB\n"
     ]
    },
    {
     "name": "stderr",
     "output_type": "stream",
     "text": [
      "[Stage 239:===================>                                     (2 + 4) / 6]\r"
     ]
    },
    {
     "name": "stdout",
     "output_type": "stream",
     "text": [
      "+--------------------+--------------------+--------------------+\n",
      "|      avg(precision)|         avg(recall)|             avg(F1)|\n",
      "+--------------------+--------------------+--------------------+\n",
      "|0.001362397820163...|0.013623978201634877|0.002477086945751...|\n",
      "+--------------------+--------------------+--------------------+\n",
      "\n"
     ]
    },
    {
     "name": "stderr",
     "output_type": "stream",
     "text": [
      "                                                                                \r"
     ]
    }
   ],
   "source": [
    "# result of an original ALS model\n",
    "average_metrics0 = metrics0.agg(\n",
    "    avg(col('precision')),\n",
    "    avg(col('recall')),\n",
    "    avg(col('F1'))\n",
    ")\n",
    "average_metrics0.show()"
   ]
  },
  {
   "cell_type": "code",
   "execution_count": 57,
   "metadata": {},
   "outputs": [
    {
     "name": "stdout",
     "output_type": "stream",
     "text": [
      "23/12/03 13:39:51 WARN DAGScheduler: Broadcasting large task binary with size 3.7 MiB\n"
     ]
    },
    {
     "name": "stderr",
     "output_type": "stream",
     "text": [
      "[Stage 268:>                                                        (0 + 1) / 1]\r"
     ]
    },
    {
     "name": "stdout",
     "output_type": "stream",
     "text": [
      "23/12/03 13:40:01 WARN DAGScheduler: Broadcasting large task binary with size 3.7 MiB\n"
     ]
    },
    {
     "name": "stderr",
     "output_type": "stream",
     "text": [
      "                                                                                \r"
     ]
    },
    {
     "name": "stdout",
     "output_type": "stream",
     "text": [
      "23/12/03 13:40:01 WARN DAGScheduler: Broadcasting large task binary with size 3.7 MiB\n",
      "+--------------------+--------------------+-------------------+\n",
      "|      avg(precision)|         avg(recall)|            avg(F1)|\n",
      "+--------------------+--------------------+-------------------+\n",
      "|0.005449591280653951|0.052452316076294275|0.00984642060936339|\n",
      "+--------------------+--------------------+-------------------+\n",
      "\n"
     ]
    },
    {
     "name": "stderr",
     "output_type": "stream",
     "text": [
      "                                                                                \r"
     ]
    }
   ],
   "source": [
    "average_metrics_best = metrics_best.agg(\n",
    "    avg(col('precision')),\n",
    "    avg(col('recall')),\n",
    "    avg(col('F1'))\n",
    ")"
   ]
  },
  {
   "cell_type": "code",
   "execution_count": 58,
   "metadata": {},
   "outputs": [
    {
     "name": "stdout",
     "output_type": "stream",
     "text": [
      "23/12/03 13:40:09 WARN DAGScheduler: Broadcasting large task binary with size 3.7 MiB\n",
      "23/12/03 13:40:09 WARN DAGScheduler: Broadcasting large task binary with size 3.7 MiB\n",
      "23/12/03 13:40:09 WARN DAGScheduler: Broadcasting large task binary with size 3.7 MiB\n"
     ]
    },
    {
     "name": "stderr",
     "output_type": "stream",
     "text": [
      "                                                                                \r"
     ]
    },
    {
     "name": "stdout",
     "output_type": "stream",
     "text": [
      "23/12/03 13:40:20 WARN DAGScheduler: Broadcasting large task binary with size 3.7 MiB\n",
      "23/12/03 13:40:20 WARN DAGScheduler: Broadcasting large task binary with size 3.7 MiB\n",
      "23/12/03 13:40:20 WARN DAGScheduler: Broadcasting large task binary with size 3.7 MiB\n"
     ]
    },
    {
     "name": "stderr",
     "output_type": "stream",
     "text": [
      "[Stage 282:>                                                        (0 + 1) / 1]\r"
     ]
    },
    {
     "name": "stdout",
     "output_type": "stream",
     "text": [
      "23/12/03 13:40:28 WARN DAGScheduler: Broadcasting large task binary with size 3.8 MiB\n"
     ]
    },
    {
     "name": "stderr",
     "output_type": "stream",
     "text": [
      "[Stage 289:============================>                           (6 + 6) / 12]\r"
     ]
    },
    {
     "name": "stdout",
     "output_type": "stream",
     "text": [
      "+--------------------+------------------+--------------------+\n",
      "|      avg(precision)|       avg(recall)|             avg(F1)|\n",
      "+--------------------+------------------+--------------------+\n",
      "|0.004482917516950...|0.0444890615057161|0.008139941159492216|\n",
      "+--------------------+------------------+--------------------+\n",
      "\n"
     ]
    },
    {
     "name": "stderr",
     "output_type": "stream",
     "text": [
      "                                                                                \r"
     ]
    }
   ],
   "source": [
    "average_metrics_best.show()"
   ]
  },
  {
   "cell_type": "code",
   "execution_count": 59,
   "metadata": {},
   "outputs": [
    {
     "name": "stdout",
     "output_type": "stream",
     "text": [
      "23/12/03 13:40:30 WARN DAGScheduler: Broadcasting large task binary with size 3.7 MiB\n",
      "23/12/03 13:40:30 WARN DAGScheduler: Broadcasting large task binary with size 3.7 MiB\n",
      "23/12/03 13:40:30 WARN DAGScheduler: Broadcasting large task binary with size 3.7 MiB\n"
     ]
    },
    {
     "name": "stderr",
     "output_type": "stream",
     "text": [
      "                                                                                \r"
     ]
    },
    {
     "name": "stdout",
     "output_type": "stream",
     "text": [
      "23/12/03 13:40:40 WARN DAGScheduler: Broadcasting large task binary with size 3.7 MiB\n",
      "23/12/03 13:40:40 WARN DAGScheduler: Broadcasting large task binary with size 3.7 MiB\n",
      "23/12/03 13:40:40 WARN DAGScheduler: Broadcasting large task binary with size 3.7 MiB\n"
     ]
    },
    {
     "name": "stderr",
     "output_type": "stream",
     "text": [
      "[Stage 301:>                                                        (0 + 1) / 1]\r"
     ]
    },
    {
     "name": "stdout",
     "output_type": "stream",
     "text": [
      "23/12/03 13:40:49 WARN DAGScheduler: Broadcasting large task binary with size 3.8 MiB\n",
      "+--------------------+-------------------+--------------------+\n",
      "|      avg(precision)|        avg(recall)|             avg(F1)|\n",
      "+--------------------+-------------------+--------------------+\n",
      "|0.004285432163781...|0.04261295065060452|0.007783869083322715|\n",
      "+--------------------+-------------------+--------------------+\n",
      "\n"
     ]
    },
    {
     "name": "stderr",
     "output_type": "stream",
     "text": [
      "                                                                                \r"
     ]
    }
   ],
   "source": [
    "average_metrics_base = metrics_base.agg(\n",
    "    avg(col('precision')),\n",
    "    avg(col('recall')),\n",
    "    avg(col('F1'))\n",
    ")\n",
    "average_metrics_base.show()"
   ]
  },
  {
   "cell_type": "markdown",
   "metadata": {
    "id": "ddVjvBQ5BnXq",
    "tags": []
   },
   "source": [
    "# Data Reading"
   ]
  },
  {
   "cell_type": "code",
   "execution_count": 2,
   "metadata": {
    "id": "G8Qexuq_3Rx0",
    "outputId": "c5b5c8bb-80dd-4cc5-dd26-52790746fd3f"
   },
   "outputs": [
    {
     "name": "stderr",
     "output_type": "stream",
     "text": [
      "/opt/conda/lib/python3.7/site-packages/pyspark/bin/load-spark-env.sh: line 68: ps: command not found\n",
      "Setting default log level to \"WARN\".\n",
      "To adjust logging level use sc.setLogLevel(newLevel). For SparkR, use setLogLevel(newLevel).\n"
     ]
    },
    {
     "name": "stdout",
     "output_type": "stream",
     "text": [
      "23/12/02 18:52:26 WARN NativeCodeLoader: Unable to load native-hadoop library for your platform... using builtin-java classes where applicable\n",
      "23/12/02 18:52:27 WARN Utils: Service 'SparkUI' could not bind on port 4040. Attempting port 4041.\n"
     ]
    },
    {
     "name": "stderr",
     "output_type": "stream",
     "text": [
      "[Stage 0:>                                                          (0 + 1) / 1]\r"
     ]
    },
    {
     "name": "stdout",
     "output_type": "stream",
     "text": [
      "23/12/02 18:52:38 WARN package: Truncated the string representation of a plan since it was too large. This behavior can be adjusted by setting 'spark.sql.debug.maxToStringFields'.\n"
     ]
    },
    {
     "name": "stderr",
     "output_type": "stream",
     "text": [
      "                                                                                \r"
     ]
    }
   ],
   "source": [
    "from pyspark.sql import SparkSession\n",
    "\n",
    "# Create a Spark session\n",
    "spark = SparkSession.builder \\\n",
    "    .appName(\"readGZ\") \\\n",
    "    .master(\"local[*]\") \\\n",
    "    .config(\"spark.default.parallelism\", 24) \\\n",
    "    .config(\"spark.sql.shuffle.partitions\", 24) \\\n",
    "    .config(\"spark.driver.memory\", \"16g\") \\\n",
    "    .config(\"spark.executor.memory\", \"16g\") \\\n",
    "    .getOrCreate()\n",
    "\n",
    "# Read the gzipped JSON file directly into a DataFrame\n",
    "df = spark.read.json(\"Industrial_and_Scientific.json.gz\")"
   ]
  },
  {
   "cell_type": "code",
   "execution_count": 3,
   "metadata": {
    "colab": {
     "base_uri": "https://localhost:8080/"
    },
    "id": "SSkWP10AtaKv",
    "outputId": "219a8d98-5f89-41f8-eb8e-3b053f11ca9a"
   },
   "outputs": [
    {
     "name": "stdout",
     "output_type": "stream",
     "text": [
      "+----------+-----+-------+--------------------+-----------+--------------+----------------+-----+--------------------+--------------+--------+----+\n",
      "|      asin|image|overall|          reviewText| reviewTime|    reviewerID|    reviewerName|style|             summary|unixReviewTime|verified|vote|\n",
      "+----------+-----+-------+--------------------+-----------+--------------+----------------+-----+--------------------+--------------+--------+----+\n",
      "|0176496920| null|    5.0|Arrived on time, ...|01 23, 2013|A3FANY5GOT5X0W|    Kelly Keyser| null|  Just as described!|    1358899200|    true|null|\n",
      "|0176496920| null|    5.0|This device was h...| 11 5, 2012| AT6HRPPYOPHMB|       Michael C| null|        Great device|    1352073600|    true|null|\n",
      "|0176496920| null|    4.0|Just a clicker no...|10 17, 2012| A4IX7B38LIN1E|              BH| null|         Pretty Good|    1350432000|    true|null|\n",
      "|0176496920| null|    5.0|Great response ca...|03 29, 2017|A12Q4LR8N17AOZ|   Waterfall3500| null|Thank you for the...|    1490745600|    true|null|\n",
      "|0176496920| null|    1.0|It only lasted fo...|03 21, 2017|A1GJXZZPOZ3OD9| Amazon Customer| null|            One Star|    1490054400|    true|null|\n",
      "|0176496920| null|    1.0|There is no licen...|02 22, 2017| AAHQWAS1NA6AX|Kimberly Alvarez| null|             License|    1487721600|    true|null|\n",
      "|0176496920| null|    5.0|Arrived perfectly...|02 14, 2017|A1IFO0SYT4VYHQ| Amazon Customer| null|     Would recommend|    1487030400|    true|null|\n",
      "|0176496920| null|    5.0|        Works great!|02 13, 2017|A2EYTYCKW20APK| Amazon Customer| null|          Five Stars|    1486944000|    true|null|\n",
      "|0176496920| null|    5.0|I got this in les...|02 10, 2017|A3JSW99QMYGZNL|          Yadira| null|       In good shape|    1486684800|    true|null|\n",
      "|0176496920| null|    3.0|Came in quickly a...|01 24, 2017| A71I4604KUANI|  Kirsten Draper| null|Came in quick but...|    1485216000|    true|null|\n",
      "+----------+-----+-------+--------------------+-----------+--------------+----------------+-----+--------------------+--------------+--------+----+\n",
      "only showing top 10 rows\n",
      "\n"
     ]
    }
   ],
   "source": [
    "# Show the DataFrame to check if it's loaded correctly\n",
    "df.show(10)"
   ]
  },
  {
   "cell_type": "code",
   "execution_count": 4,
   "metadata": {
    "id": "_vZu2587GZNw",
    "outputId": "4c8cfe91-5e5b-4606-9626-48156ff6ed5b",
    "tags": []
   },
   "outputs": [
    {
     "name": "stderr",
     "output_type": "stream",
     "text": [
      "[Stage 2:>                                                          (0 + 1) / 1]\r"
     ]
    },
    {
     "name": "stdout",
     "output_type": "stream",
     "text": [
      "+-------+-------+\n",
      "|summary|overall|\n",
      "+-------+-------+\n",
      "|  count|1758333|\n",
      "+-------+-------+\n",
      "\n"
     ]
    },
    {
     "name": "stderr",
     "output_type": "stream",
     "text": [
      "                                                                                \r"
     ]
    }
   ],
   "source": [
    "df.select(\"overall\").summary(\"count\").show()"
   ]
  },
  {
   "cell_type": "code",
   "execution_count": 5,
   "metadata": {
    "id": "_wOIkJkNGZNw",
    "outputId": "57689a97-0cb5-485d-82b0-4ca7d6a133f2",
    "tags": []
   },
   "outputs": [
    {
     "ename": "NameError",
     "evalue": "name 'df_meta' is not defined",
     "output_type": "error",
     "traceback": [
      "\u001b[0;31m---------------------------------------------------------------------------\u001b[0m",
      "\u001b[0;31mNameError\u001b[0m                                 Traceback (most recent call last)",
      "\u001b[0;32m/tmp/ipykernel_207219/508214608.py\u001b[0m in \u001b[0;36m<module>\u001b[0;34m\u001b[0m\n\u001b[0;32m----> 1\u001b[0;31m \u001b[0mdf_meta\u001b[0m\u001b[0;34m.\u001b[0m\u001b[0mselect\u001b[0m\u001b[0;34m(\u001b[0m\u001b[0;34m\"asin\"\u001b[0m\u001b[0;34m)\u001b[0m\u001b[0;34m.\u001b[0m\u001b[0msummary\u001b[0m\u001b[0;34m(\u001b[0m\u001b[0;34m\"count\"\u001b[0m\u001b[0;34m)\u001b[0m\u001b[0;34m.\u001b[0m\u001b[0mshow\u001b[0m\u001b[0;34m(\u001b[0m\u001b[0;34m)\u001b[0m\u001b[0;34m\u001b[0m\u001b[0;34m\u001b[0m\u001b[0m\n\u001b[0m",
      "\u001b[0;31mNameError\u001b[0m: name 'df_meta' is not defined"
     ]
    }
   ],
   "source": [
    "df_meta.select(\"asin\").summary(\"count\").show()"
   ]
  },
  {
   "cell_type": "code",
   "execution_count": null,
   "metadata": {
    "id": "7igYuRaV4bF7",
    "outputId": "9a8a00e1-e192-4b08-fcd6-2164cb9b059a"
   },
   "outputs": [
    {
     "name": "stderr",
     "output_type": "stream",
     "text": [
      "                                                                                \r"
     ]
    }
   ],
   "source": [
    "### load the meta data\n",
    "df_meta = spark.read.json(\"meta_Industrial_and_Scientific.json.gz\")"
   ]
  },
  {
   "cell_type": "code",
   "execution_count": null,
   "metadata": {
    "colab": {
     "base_uri": "https://localhost:8080/"
    },
    "id": "vv5iGqYNiq9L",
    "outputId": "39501445-92da-4e37-9eec-3dee6c081402"
   },
   "outputs": [
    {
     "name": "stdout",
     "output_type": "stream",
     "text": [
      "+--------------------+--------------------+----------+--------------------+--------------------+-----------------+--------------------+-------+--------------------+---+--------------------+--------------------+--------------------+------+--------------------+------------+--------------------+-----+--------------------+\n",
      "|            also_buy|           also_view|      asin|               brand|            category|             date|         description|details|             feature|fit|            imageURL|     imageURLHighRes|            main_cat| price|                rank|similar_item|               tech1|tech2|               title|\n",
      "+--------------------+--------------------+----------+--------------------+--------------------+-----------------+--------------------+-------+--------------------+---+--------------------+--------------------+--------------------+------+--------------------+------------+--------------------+-----+--------------------+\n",
      "|[1454894547, 0133...|                  []|0176496920|Turning Technolog...|[Industrial & Sci...|                 |[RCRF-03 - Works ...|   null|                  []|   |[https://images-n...|[https://images-n...|Industrial & Scie...|$23.61|12,329 in Industr...|            |                    |     |Turning Technolog...|\n",
      "|[B01NBCNTJ9, B01I...|                  []|0692782109|               R-Cat|                  []|                 |[The only laminat...|   null|                  []|   |[https://images-n...|[https://images-n...|Industrial & Scie...|$20.00|20,174 in Industr...|            |                    |     |R-Cat 692782109 E...|\n",
      "|[0781776821, 0781...|                  []|0781776848|Anatomical Chart ...|[Industrial & Sci...|   August 7, 2007|[<div>, Now in it...|   null|[MPN: 97807817768...|   |                  []|                  []|     Office Products|$10.37|[\">#351,522 in Of...|            | class=\"a-keyvalu...|     |Anatomical Chart ...|\n",
      "|[0781786630, 1587...|[B07BCNHC3K, B07D...|0781786606|Anatomical Chart ...|[Industrial & Sci...|February 26, 2009|[<div>, Developed...|   null|[MPN: 97807817866...|   |                  []|                  []|     Office Products|      |[\">#459,493 in Of...|            | class=\"a-keyvalu...|     |Joints of the Low...|\n",
      "|[0077402286, 1455...|                  []|0840026080|Responsive Innova...|[Industrial & Sci...|                 |[Advanced digital...|   null|                  []|   |[https://images-n...|[https://images-n...|Industrial & Scie...|$32.00|172,566 in Indust...|            |                    |     |Turning Technolog...|\n",
      "|[089455767X, 0894...|                  []|0894558358|   Critical Thinking|                  []|                 |[The mind-buildin...|   null|                  []|   |[https://images-n...|[https://images-n...|Industrial & Scie...|$21.99|91,253 in Industr...|            |                    |     |Science Detective...|\n",
      "|        [1572224975]|[0760724083, B078...|0971007004|    Thomas McCracken|[Industrial & Sci...|                 |                  []|   null|                  []|   |                  []|                  []|               Books|$13.32|1,104,587 in Books (|            |                    |     |Wall Chart of Hum...|\n",
      "|[1587790211, 1587...|                  []|1587790319|Anatomical Chart ...|[Industrial & Sci...|September 6, 2006|[<div>&#160;The <...|   null|[Provides anterio...|   |                  []|                  []|     Office Products|$14.82|[\">#90,545 in Off...|            | class=\"a-keyvalu...|     |The Male Reproduc...|\n",
      "|[B004MAJHLW, 1587...|                  []|1587792052|             Unknown|[Industrial & Sci...|                 |[Illustrates spin...|   null|                  []|   |                  []|                  []|Industrial & Scie...|$23.84|17,125 in Industr...|            |                    |     |The Spinal Nerves...|\n",
      "|[1587798085, 1587...|                  []|1587791420|  Physician Supplies|[Industrial & Sci...|   August 4, 2005|[<DIV>Shows muscl...|   null|[Shows muscle and...|   |                  []|                  []|     Office Products|$24.45|[\">#318,099 in Of...|            | class=\"a-keyvalu...|     |Hand and Wrist An...|\n",
      "+--------------------+--------------------+----------+--------------------+--------------------+-----------------+--------------------+-------+--------------------+---+--------------------+--------------------+--------------------+------+--------------------+------------+--------------------+-----+--------------------+\n",
      "only showing top 10 rows\n",
      "\n"
     ]
    }
   ],
   "source": [
    "df_meta.show(10)"
   ]
  },
  {
   "cell_type": "markdown",
   "metadata": {
    "id": "hfMHyp_wCLIj"
   },
   "source": [
    "## Discussion\n",
    "\n",
    "\n",
    "\n",
    "1.   We can not read some categories (especially those with large data, in this case, the sofrware category) directly in Spark; Need to figure out why and how to solve this. (Tried reading by in raw and use pandas and then spark, but this also failed.)\n",
    "(I skipped this question by choosing another category which is fine to read directly)\n",
    "\n",
    "\n",
    "\n"
   ]
  },
  {
   "cell_type": "markdown",
   "metadata": {
    "id": "0lporcTWBqQq",
    "tags": []
   },
   "source": [
    "# Data Pre-Processing and visulization"
   ]
  },
  {
   "cell_type": "code",
   "execution_count": 7,
   "metadata": {
    "id": "LgWrDtZ94w89"
   },
   "outputs": [],
   "source": [
    "# Drop the image column because I don't think we need it\n",
    "df = df.drop('image')"
   ]
  },
  {
   "cell_type": "code",
   "execution_count": 8,
   "metadata": {
    "id": "HoBwuSpS0a_A"
   },
   "outputs": [],
   "source": [
    "from pyspark.sql.functions import col, when, length, unix_timestamp, to_date\n",
    "\n",
    "# Handling missing values: For simplicity, we'll drop rows with any NULLs\n",
    "df = df.na.drop()\n",
    "\n",
    "# Filtering out unverified reviews\n",
    "df = df.filter(col('verified') == True)\n",
    "\n",
    "# Feature Engineering - creating a new feature for the length of the reviewText\n",
    "df = df.withColumn('reviewText_length', length(col('reviewText')))\n"
   ]
  },
  {
   "cell_type": "code",
   "execution_count": null,
   "metadata": {
    "colab": {
     "base_uri": "https://localhost:8080/"
    },
    "id": "7K4J7Ww92DLo",
    "outputId": "7810957f-2851-4b36-9834-31bb22726bb6"
   },
   "outputs": [
    {
     "name": "stdout",
     "output_type": "stream",
     "text": [
      "+----------+-------+--------------------+-----------+--------------+-------------+--------------------+--------------------+--------------+--------+----+-----------------+\n",
      "|      asin|overall|          reviewText| reviewTime|    reviewerID| reviewerName|               style|             summary|unixReviewTime|verified|vote|reviewText_length|\n",
      "+----------+-------+--------------------+-----------+--------------+-------------+--------------------+--------------------+--------------+--------+----+-----------------+\n",
      "|1587790637|    5.0|I love everything...| 08 3, 2014| ALORN8T3UJC88| Ji Sung Moon|{null, null, null...|Great studying ma...|    1407024000|    true|   6|              390|\n",
      "|1587790637|    2.0|Disappointed with...| 06 9, 2014|A2DR04A9BINUE6|        Becky|{null, null, null...|             Creased|    1402272000|    true|   4|              157|\n",
      "|1587790637|    1.0|Very poor packagi...| 04 8, 2014|A39NP41GNG6DJT|  Nicole Ryan|{null, null, null...|Poster bent and w...|    1396915200|    true|   8|              286|\n",
      "|1587790637|    5.0|Clear font, easy ...| 04 1, 2017|A22L35OKSZBXE6|  Outdoorsy29|{null, null, null...|        easy to read|    1491004800|    true|   2|               81|\n",
      "|1587790637|    5.0|Great image quali...|10 15, 2016| A8QBLKY1N72GG|LovelyNutty31|{null, null, null...|           Recommend|    1476489600|    true|   3|              217|\n",
      "|1587790637|    5.0|This poster is aw...|03 27, 2016|A1NBP94KU536L6|  Esther Hong|{null, null, null...|Perfect for med/n...|    1459036800|    true|   2|              289|\n",
      "|1587790637|    2.0|The product itsel...|09 30, 2015|A32AJ6YUG1FCQY|         Mary|{null, null, null...|The product itsel...|    1443571200|    true|   2|              179|\n",
      "|1587790637|    2.0|Came in poor cond...|03 23, 2015| AHX9VS31SMYWN|    Ronnie Yu|{null, null, null...|           Two Stars|    1427068800|    true|   4|              103|\n",
      "|B0000223SK|    5.0|When working with...|01 15, 2012| AKPWF09K5F5OZ|Marge Wellman|{null, null, null...|       Lasts & Lasts|    1326585600|    true|   2|              128|\n",
      "|B0000223SK|    5.0|Lasts for several...|12 14, 2011|A29ATM05PXSQY7|      Mr Phil|{null, null, null...|   Serious sandpaper|    1323820800|    true|   5|              246|\n",
      "+----------+-------+--------------------+-----------+--------------+-------------+--------------------+--------------------+--------------+--------+----+-----------------+\n",
      "only showing top 10 rows\n",
      "\n"
     ]
    }
   ],
   "source": [
    "# Show the processed DataFrame\n",
    "df.show(10)"
   ]
  },
  {
   "cell_type": "code",
   "execution_count": null,
   "metadata": {
    "colab": {
     "base_uri": "https://localhost:8080/",
     "height": 564
    },
    "id": "AH_C-uRAu5G-",
    "outputId": "32bb7fa5-58e4-4940-e1cc-aca61a0789c7"
   },
   "outputs": [
    {
     "name": "stderr",
     "output_type": "stream",
     "text": [
      "                                                                                \r"
     ]
    },
    {
     "data": {
      "image/png": "[encoded data removed]",
      "text/plain": [
       "<Figure size 1000x600 with 1 Axes>"
      ]
     },
     "metadata": {},
     "output_type": "display_data"
    }
   ],
   "source": [
    "import matplotlib.pyplot as plt\n",
    "\n",
    "review_lengths = df.select('reviewText_length').rdd.flatMap(lambda x: x).collect()\n",
    "\n",
    "# Now convert this list to a Pandas Series\n",
    "pd_series = pd.Series(review_lengths)\n",
    "\n",
    "# Plotting the distribution of reviewText_length using Pandas/Matplotlib\n",
    "plt.figure(figsize=(10, 6))\n",
    "pd_series.hist(bins=50)  # Adjust the number of bins for your specific dataset\n",
    "plt.title('Distribution of Review Text Lengths')\n",
    "plt.xlabel('Review Text Length')\n",
    "plt.ylabel('Count')\n",
    "plt.grid(False)\n",
    "plt.show()"
   ]
  },
  {
   "cell_type": "code",
   "execution_count": 9,
   "metadata": {
    "id": "LSoJRRFQ2ApP"
   },
   "outputs": [],
   "source": [
    "# Example of filtering based on a condition, such as reviews that are too short/long might be outliers\n",
    "df = df.filter(col('reviewText_length') > 10)  # Example threshold\n",
    "\n",
    "df = df.filter(col('reviewText_length') < 1000)  # Example threshold"
   ]
  },
  {
   "cell_type": "code",
   "execution_count": null,
   "metadata": {
    "id": "4yIjISgc1xjx"
   },
   "outputs": [],
   "source": [
    "# Text Processing - cleaning the review text, tokenizing, and removing stop words (simplified example)\n",
    "from pyspark.ml.feature import Tokenizer, StopWordsRemover\n",
    "tokenizer = Tokenizer(inputCol='reviewText', outputCol='reviewText_tokens')\n",
    "df = tokenizer.transform(df)\n",
    "remover = StopWordsRemover(inputCol='reviewText_tokens', outputCol='reviewText_clean')\n",
    "df = remover.transform(df)"
   ]
  },
  {
   "cell_type": "code",
   "execution_count": null,
   "metadata": {
    "colab": {
     "base_uri": "https://localhost:8080/"
    },
    "id": "RRKiCOYH1Ysa",
    "outputId": "089447bd-7007-4edf-cf2d-ba89c00c8af4"
   },
   "outputs": [
    {
     "name": "stdout",
     "output_type": "stream",
     "text": [
      "+----------+-------+--------------------+-----------+--------------+-------------+--------------------+--------------------+--------------+--------+----+-----------------+--------------------+--------------------+\n",
      "|      asin|overall|          reviewText| reviewTime|    reviewerID| reviewerName|               style|             summary|unixReviewTime|verified|vote|reviewText_length|   reviewText_tokens|    reviewText_clean|\n",
      "+----------+-------+--------------------+-----------+--------------+-------------+--------------------+--------------------+--------------+--------+----+-----------------+--------------------+--------------------+\n",
      "|1587790637|    5.0|I love everything...| 08 3, 2014| ALORN8T3UJC88| Ji Sung Moon|{null, null, null...|Great studying ma...|    1407024000|    true|   6|              390|[i, love, everyth...|[love, everything...|\n",
      "|1587790637|    2.0|Disappointed with...| 06 9, 2014|A2DR04A9BINUE6|        Becky|{null, null, null...|             Creased|    1402272000|    true|   4|              157|[disappointed, wi...|[disappointed, pr...|\n",
      "|1587790637|    1.0|Very poor packagi...| 04 8, 2014|A39NP41GNG6DJT|  Nicole Ryan|{null, null, null...|Poster bent and w...|    1396915200|    true|   8|              286|[very, poor, pack...|[poor, packaging!...|\n",
      "|1587790637|    5.0|Clear font, easy ...| 04 1, 2017|A22L35OKSZBXE6|  Outdoorsy29|{null, null, null...|        easy to read|    1491004800|    true|   2|               81|[clear, font,, ea...|[clear, font,, ea...|\n",
      "|1587790637|    5.0|Great image quali...|10 15, 2016| A8QBLKY1N72GG|LovelyNutty31|{null, null, null...|           Recommend|    1476489600|    true|   3|              217|[great, image, qu...|[great, image, qu...|\n",
      "|1587790637|    5.0|This poster is aw...|03 27, 2016|A1NBP94KU536L6|  Esther Hong|{null, null, null...|Perfect for med/n...|    1459036800|    true|   2|              289|[this, poster, is...|[poster, awesome!...|\n",
      "|1587790637|    2.0|The product itsel...|09 30, 2015|A32AJ6YUG1FCQY|         Mary|{null, null, null...|The product itsel...|    1443571200|    true|   2|              179|[the, product, it...|[product, great.,...|\n",
      "|1587790637|    2.0|Came in poor cond...|03 23, 2015| AHX9VS31SMYWN|    Ronnie Yu|{null, null, null...|           Two Stars|    1427068800|    true|   4|              103|[came, in, poor, ...|[came, poor, cond...|\n",
      "|B0000223SK|    5.0|When working with...|01 15, 2012| AKPWF09K5F5OZ|Marge Wellman|{null, null, null...|       Lasts & Lasts|    1326585600|    true|   2|              128|[when, working, w...|[working, hard, w...|\n",
      "|B0000223SK|    5.0|Lasts for several...|12 14, 2011|A29ATM05PXSQY7|      Mr Phil|{null, null, null...|   Serious sandpaper|    1323820800|    true|   5|              246|[lasts, for, seve...|[lasts, several, ...|\n",
      "+----------+-------+--------------------+-----------+--------------+-------------+--------------------+--------------------+--------------+--------+----+-----------------+--------------------+--------------------+\n",
      "only showing top 10 rows\n",
      "\n"
     ]
    }
   ],
   "source": [
    "# Show the processed DataFrame\n",
    "df.show(10)"
   ]
  },
  {
   "cell_type": "code",
   "execution_count": null,
   "metadata": {
    "id": "WqZcdGp-5cui"
   },
   "outputs": [],
   "source": [
    "from pyspark.sql.functions import when, col, length, split\n",
    "\n",
    "# Split reviewTime into day, month, and year\n",
    "split_col = split(df['reviewTime'], ' ')\n",
    "df = df.withColumn('Day', split_col.getItem(0))\n",
    "df = df.withColumn('Month', split_col.getItem(1).substr(0,2))\n",
    "df = df.withColumn('Year', split_col.getItem(2))\n",
    "df = df.drop('reviewTime')\n",
    "\n",
    "# Convert 'vote' to integer type\n",
    "df = df.withColumn('vote', df['vote'].cast('int'))"
   ]
  },
  {
   "cell_type": "code",
   "execution_count": null,
   "metadata": {
    "colab": {
     "base_uri": "https://localhost:8080/"
    },
    "id": "jl6pleTn6xRy",
    "outputId": "66f4499d-d4f6-419a-ea62-39b8cd8ef432"
   },
   "outputs": [
    {
     "name": "stdout",
     "output_type": "stream",
     "text": [
      "+----------+-------+--------------------+--------------+-------------+--------------------+--------------------+--------------+--------+----+-----------------+--------------------+--------------------+---+-----+----+\n",
      "|      asin|overall|          reviewText|    reviewerID| reviewerName|               style|             summary|unixReviewTime|verified|vote|reviewText_length|   reviewText_tokens|    reviewText_clean|Day|Month|Year|\n",
      "+----------+-------+--------------------+--------------+-------------+--------------------+--------------------+--------------+--------+----+-----------------+--------------------+--------------------+---+-----+----+\n",
      "|1587790637|    5.0|I love everything...| ALORN8T3UJC88| Ji Sung Moon|{null, null, null...|Great studying ma...|    1407024000|    true|   6|              390|[i, love, everyth...|[love, everything...| 08|   3,|2014|\n",
      "|1587790637|    2.0|Disappointed with...|A2DR04A9BINUE6|        Becky|{null, null, null...|             Creased|    1402272000|    true|   4|              157|[disappointed, wi...|[disappointed, pr...| 06|   9,|2014|\n",
      "|1587790637|    1.0|Very poor packagi...|A39NP41GNG6DJT|  Nicole Ryan|{null, null, null...|Poster bent and w...|    1396915200|    true|   8|              286|[very, poor, pack...|[poor, packaging!...| 04|   8,|2014|\n",
      "|1587790637|    5.0|Clear font, easy ...|A22L35OKSZBXE6|  Outdoorsy29|{null, null, null...|        easy to read|    1491004800|    true|   2|               81|[clear, font,, ea...|[clear, font,, ea...| 04|   1,|2017|\n",
      "|1587790637|    5.0|Great image quali...| A8QBLKY1N72GG|LovelyNutty31|{null, null, null...|           Recommend|    1476489600|    true|   3|              217|[great, image, qu...|[great, image, qu...| 10|   15|2016|\n",
      "|1587790637|    5.0|This poster is aw...|A1NBP94KU536L6|  Esther Hong|{null, null, null...|Perfect for med/n...|    1459036800|    true|   2|              289|[this, poster, is...|[poster, awesome!...| 03|   27|2016|\n",
      "|1587790637|    2.0|The product itsel...|A32AJ6YUG1FCQY|         Mary|{null, null, null...|The product itsel...|    1443571200|    true|   2|              179|[the, product, it...|[product, great.,...| 09|   30|2015|\n",
      "|1587790637|    2.0|Came in poor cond...| AHX9VS31SMYWN|    Ronnie Yu|{null, null, null...|           Two Stars|    1427068800|    true|   4|              103|[came, in, poor, ...|[came, poor, cond...| 03|   23|2015|\n",
      "|B0000223SK|    5.0|When working with...| AKPWF09K5F5OZ|Marge Wellman|{null, null, null...|       Lasts & Lasts|    1326585600|    true|   2|              128|[when, working, w...|[working, hard, w...| 01|   15|2012|\n",
      "|B0000223SK|    5.0|Lasts for several...|A29ATM05PXSQY7|      Mr Phil|{null, null, null...|   Serious sandpaper|    1323820800|    true|   5|              246|[lasts, for, seve...|[lasts, several, ...| 12|   14|2011|\n",
      "+----------+-------+--------------------+--------------+-------------+--------------------+--------------------+--------------+--------+----+-----------------+--------------------+--------------------+---+-----+----+\n",
      "only showing top 10 rows\n",
      "\n"
     ]
    }
   ],
   "source": [
    "df.show(10)"
   ]
  },
  {
   "cell_type": "code",
   "execution_count": null,
   "metadata": {
    "colab": {
     "base_uri": "https://localhost:8080/"
    },
    "id": "LCawwLrJ2wv5",
    "outputId": "20b71eeb-3473-4b41-83e3-731fa820acf6"
   },
   "outputs": [
    {
     "name": "stderr",
     "output_type": "stream",
     "text": [
      "                                                                                \r"
     ]
    },
    {
     "data": {
      "text/plain": [
       "44622"
      ]
     },
     "execution_count": 14,
     "metadata": {},
     "output_type": "execute_result"
    }
   ],
   "source": [
    "df.select('reviewerName').distinct().count()"
   ]
  },
  {
   "cell_type": "code",
   "execution_count": null,
   "metadata": {
    "colab": {
     "base_uri": "https://localhost:8080/"
    },
    "id": "VdBoW7v721fO",
    "outputId": "a749bec3-f3f1-4a45-e62a-fd6600c8cb07"
   },
   "outputs": [
    {
     "name": "stderr",
     "output_type": "stream",
     "text": [
      "                                                                                \r"
     ]
    },
    {
     "data": {
      "text/plain": [
       "7425"
      ]
     },
     "execution_count": 15,
     "metadata": {},
     "output_type": "execute_result"
    }
   ],
   "source": [
    "df.select('asin').distinct().count()"
   ]
  },
  {
   "cell_type": "code",
   "execution_count": null,
   "metadata": {
    "id": "IDu-xVsaDMh-",
    "outputId": "c4eb4166-82e2-490e-8c4b-1a9eed163305"
   },
   "outputs": [
    {
     "name": "stderr",
     "output_type": "stream",
     "text": [
      "                                                                                \r"
     ]
    }
   ],
   "source": [
    "from pyspark.sql.functions import avg, count\n",
    "\n",
    "# Average rating\n",
    "average_rating = df.agg(avg(\"overall\")).first()[0]\n",
    "\n",
    "# Count of reviews for each asin\n",
    "reviews_per_asin = df.groupBy(\"asin\").agg(count(\"reviewerID\").alias(\"Number_of_Reviews\"))\n",
    "\n",
    "# Summary for vote column\n",
    "votes_summary = df.describe(['vote'])\n",
    "\n"
   ]
  },
  {
   "cell_type": "code",
   "execution_count": null,
   "metadata": {
    "id": "oseS27cytWcg"
   },
   "outputs": [],
   "source": [
    "# Count of reviews for each reviewer\n",
    "reviews_per_reviewers = df.groupBy(\"reviewerID\").agg(count(\"asin\").alias(\"Number_of_Reviews\"))"
   ]
  },
  {
   "cell_type": "code",
   "execution_count": null,
   "metadata": {
    "id": "CceniMOxrS8o"
   },
   "outputs": [],
   "source": [
    "votes_summary"
   ]
  },
  {
   "cell_type": "code",
   "execution_count": null,
   "metadata": {
    "id": "6OHclZxHDPTE"
   },
   "outputs": [],
   "source": [
    "\n",
    "\n",
    "# Convert Spark DataFrame to Pandas for Visualization\n",
    "pdf = df.toPandas()\n",
    "reviews_per_asin_pdf = reviews_per_asin.toPandas()\n",
    "\n",
    "# Histogram for overall ratings\n",
    "plt.figure(figsize=(10, 6))\n",
    "pdf['overall'].hist()\n",
    "plt.title('Distribution of Overall Ratings')\n",
    "plt.xlabel('Rating')\n",
    "plt.ylabel('Count')\n",
    "plt.grid(False)\n",
    "plt.show()\n",
    "\n",
    "# Plotting the pie chart for overall ratings\n",
    "rating_counts = pdf['overall'].value_counts().sort_index()\n",
    "plt.figure(figsize=(10, 6))\n",
    "plt.pie(rating_counts, labels=rating_counts.index, autopct='%1.1f%%', startangle=140)\n",
    "plt.title('Distribution of Overall Ratings')\n",
    "plt.axis('equal')  # Equal aspect ratio ensures that pie is drawn as a circle.\n",
    "plt.show()\n",
    "\n",
    "\n"
   ]
  },
  {
   "cell_type": "code",
   "execution_count": null,
   "metadata": {
    "id": "MGZpqoW9s-68"
   },
   "outputs": [],
   "source": [
    "\n",
    "# Bar chart for number of reviews for each asin\n",
    "top_reviews_per_asin_pdf = reviews_per_asin_pdf.sort_values(by='Number_of_Reviews', ascending=False).head(100)\n",
    "plt.figure(figsize=(10, 6))\n",
    "# Set the 'asin' as the index and plot the 'review_count' column\n",
    "top_reviews_per_asin_pdf.set_index('asin')['Number_of_Reviews'].plot(kind='bar', legend=False)\n",
    "plt.title('Number of Reviews for Top 100 ASINs')\n",
    "plt.ylabel('Count')\n",
    "plt.xlabel('ASIN')\n",
    "plt.grid(False)\n",
    "plt.tight_layout()\n",
    "plt.show()"
   ]
  },
  {
   "cell_type": "code",
   "execution_count": null,
   "metadata": {
    "id": "ZY61YbgAtiE8"
   },
   "outputs": [],
   "source": [
    "# Bar chart for number of reviews for each reviewers\n",
    "reviews_per_reviewers_pdf = reviews_per_reviewers.toPandas()\n",
    "\n",
    "top_reviews_per_reviewers_pdf = reviews_per_reviewers_pdf.sort_values(by='Number_of_Reviews', ascending=False).head(100)\n",
    "plt.figure(figsize=(10, 6))\n",
    "# Set the 'reviewers' as the index and plot the 'review_count' column\n",
    "top_reviews_per_reviewers_pdf.set_index('reviewerID')['Number_of_Reviews'].plot(kind='bar', legend=False)\n",
    "plt.title('Number of Reviews for Top 100 reviewers')\n",
    "plt.ylabel('Count')\n",
    "plt.xlabel('reviewers')\n",
    "plt.grid(False)\n",
    "plt.tight_layout()\n",
    "plt.show()"
   ]
  },
  {
   "cell_type": "code",
   "execution_count": null,
   "metadata": {
    "id": "q_QVtyi4Ewab"
   },
   "outputs": [],
   "source": [
    "# Convert reviewText and summary columns to a single string\n",
    "review_text_str = ' '.join(df.rdd.map(lambda row: row.reviewText).collect())\n",
    "summary_str = ' '.join(df.rdd.map(lambda row: row.summary).collect())"
   ]
  },
  {
   "cell_type": "code",
   "execution_count": null,
   "metadata": {
    "id": "0UBh50DFFI1l"
   },
   "outputs": [],
   "source": [
    "from wordcloud import WordCloud\n",
    "import matplotlib.pyplot as plt\n",
    "\n",
    "def generate_word_cloud(text, title):\n",
    "    wordcloud = WordCloud(width=800, height=400, background_color='white').generate(text)\n",
    "    plt.figure(figsize=(10, 5))\n",
    "    plt.imshow(wordcloud, interpolation='bilinear')\n",
    "    plt.axis('off')\n",
    "    plt.title(title)\n",
    "    plt.show()\n",
    "\n",
    "generate_word_cloud(review_text_str, \"Word Cloud for Review Text\")\n",
    "generate_word_cloud(summary_str, \"Word Cloud for Summary\")\n"
   ]
  },
  {
   "cell_type": "markdown",
   "metadata": {
    "id": "PUuVywIXGZNy"
   },
   "source": [
    "# Data Splitting"
   ]
  },
  {
   "cell_type": "code",
   "execution_count": 10,
   "metadata": {
    "id": "ykMVDl2rGZNz",
    "outputId": "2b2264dd-68b8-4946-e56c-15554cc3ae25"
   },
   "outputs": [
    {
     "name": "stderr",
     "output_type": "stream",
     "text": [
      "                                                                                \r"
     ]
    }
   ],
   "source": [
    "## Data Splitting\n",
    "from pyspark.ml.feature import StringIndexer\n",
    "\n",
    "# Indexing is required to convert string identifiers to numeric indices for the ALS algorithm\n",
    "indexer_user = StringIndexer(inputCol=\"reviewerID\", outputCol=\"userIndex\")\n",
    "df = indexer_user.fit(df).transform(df)\n",
    "\n",
    "indexer_item = StringIndexer(inputCol=\"asin\", outputCol=\"itemIndex\")\n",
    "df = indexer_item.fit(df).transform(df)\n",
    "# Add seed 1\n",
    "(train, test) = df.randomSplit([0.8, 0.2],1)"
   ]
  },
  {
   "cell_type": "markdown",
   "metadata": {
    "id": "Az7mi7WwkR5f",
    "jp-MarkdownHeadingCollapsed": true,
    "tags": []
   },
   "source": [
    "## ALS (collabortaive filtering)\n",
    "refer: https://www.kaggle.com/code/nadianizam/h-m-fashion-recommendation-with-pyspark"
   ]
  },
  {
   "cell_type": "code",
   "execution_count": null,
   "metadata": {
    "id": "xVGz5N03kT7T"
   },
   "outputs": [],
   "source": [
    "from pyspark.ml.recommendation import ALS\n",
    "from pyspark.ml.evaluation import RegressionEvaluator\n",
    "\n",
    "# Setting up the ALS model\n",
    "als = ALS(maxIter=5, regParam=0.01, userCol=\"userIndex\", itemCol=\"itemIndex\", ratingCol=\"overall\", coldStartStrategy=\"drop\")\n",
    "\n",
    "# Fitting the ALS model on the training data\n",
    "model = als.fit(train)\n",
    "\n",
    "# Predicting on the train and test sets\n",
    "predictions_train = model.transform(train)\n",
    "predictions_test = model.transform(test)\n",
    "\n",
    "# Create an RMSE evaluator using the label and predicted columns\n",
    "reg_evaluator = RegressionEvaluator(metricName=\"rmse\", labelCol=\"overall\", predictionCol=\"prediction\")\n",
    "\n",
    "# Evaluate the model on training data\n",
    "rmse_train = reg_evaluator.evaluate(predictions_train)\n",
    "\n",
    "# Evaluate the model on test data\n",
    "rmse_test = reg_evaluator.evaluate(predictions_test)\n"
   ]
  },
  {
   "cell_type": "code",
   "execution_count": null,
   "metadata": {
    "id": "SIkh4pJbkT-_"
   },
   "outputs": [],
   "source": [
    "rmse_train"
   ]
  },
  {
   "cell_type": "code",
   "execution_count": null,
   "metadata": {
    "id": "h4t13CqrkUCj"
   },
   "outputs": [],
   "source": [
    "rmse_test"
   ]
  },
  {
   "cell_type": "markdown",
   "metadata": {
    "id": "JeLO7apex1pt",
    "tags": []
   },
   "source": [
    "# GNN"
   ]
  },
  {
   "cell_type": "code",
   "execution_count": 11,
   "metadata": {
    "colab": {
     "base_uri": "https://localhost:8080/"
    },
    "id": "WrR_GanHyVEe",
    "outputId": "aea8a160-ac09-4be3-c8cc-9a2c8ce016df"
   },
   "outputs": [
    {
     "name": "stdout",
     "output_type": "stream",
     "text": [
      "Defaulting to user installation because normal site-packages is not writeable\n",
      "Requirement already satisfied: torch in /home/wxr9et/.local/lib/python3.7/site-packages (1.13.1)\n",
      "Requirement already satisfied: torchvision in /home/wxr9et/.local/lib/python3.7/site-packages (0.14.1)\n",
      "Requirement already satisfied: typing-extensions in /opt/conda/lib/python3.7/site-packages (from torch) (4.7.1)\n",
      "Requirement already satisfied: nvidia-cuda-runtime-cu11==11.7.99 in /home/wxr9et/.local/lib/python3.7/site-packages (from torch) (11.7.99)\n",
      "Requirement already satisfied: nvidia-cudnn-cu11==8.5.0.96 in /home/wxr9et/.local/lib/python3.7/site-packages (from torch) (8.5.0.96)\n",
      "Requirement already satisfied: nvidia-cublas-cu11==11.10.3.66 in /home/wxr9et/.local/lib/python3.7/site-packages (from torch) (11.10.3.66)\n",
      "Requirement already satisfied: nvidia-cuda-nvrtc-cu11==11.7.99 in /home/wxr9et/.local/lib/python3.7/site-packages (from torch) (11.7.99)\n",
      "Requirement already satisfied: setuptools in /opt/conda/lib/python3.7/site-packages (from nvidia-cublas-cu11==11.10.3.66->torch) (59.8.0)\n",
      "Requirement already satisfied: wheel in /opt/conda/lib/python3.7/site-packages (from nvidia-cublas-cu11==11.10.3.66->torch) (0.41.1)\n",
      "Requirement already satisfied: numpy in /opt/conda/lib/python3.7/site-packages (from torchvision) (1.21.6)\n",
      "Requirement already satisfied: requests in /opt/conda/lib/python3.7/site-packages (from torchvision) (2.31.0)\n",
      "Requirement already satisfied: pillow!=8.3.*,>=5.3.0 in /opt/conda/lib/python3.7/site-packages (from torchvision) (9.2.0)\n",
      "Requirement already satisfied: charset-normalizer<4,>=2 in /opt/conda/lib/python3.7/site-packages (from requests->torchvision) (3.2.0)\n",
      "Requirement already satisfied: idna<4,>=2.5 in /opt/conda/lib/python3.7/site-packages (from requests->torchvision) (3.4)\n",
      "Requirement already satisfied: urllib3<3,>=1.21.1 in /opt/conda/lib/python3.7/site-packages (from requests->torchvision) (2.0.4)\n",
      "Requirement already satisfied: certifi>=2017.4.17 in /opt/conda/lib/python3.7/site-packages (from requests->torchvision) (2023.7.22)\n",
      "Defaulting to user installation because normal site-packages is not writeable\n",
      "Requirement already satisfied: torch-geometric in /home/wxr9et/.local/lib/python3.7/site-packages (2.3.1)\n",
      "Requirement already satisfied: tqdm in /opt/conda/lib/python3.7/site-packages (from torch-geometric) (4.66.1)\n",
      "Requirement already satisfied: numpy in /opt/conda/lib/python3.7/site-packages (from torch-geometric) (1.21.6)\n",
      "Requirement already satisfied: scipy in /opt/conda/lib/python3.7/site-packages (from torch-geometric) (1.7.3)\n",
      "Requirement already satisfied: jinja2 in /opt/conda/lib/python3.7/site-packages (from torch-geometric) (3.1.2)\n",
      "Requirement already satisfied: requests in /opt/conda/lib/python3.7/site-packages (from torch-geometric) (2.31.0)\n",
      "Requirement already satisfied: pyparsing in /opt/conda/lib/python3.7/site-packages (from torch-geometric) (3.1.1)\n",
      "Requirement already satisfied: scikit-learn in /opt/conda/lib/python3.7/site-packages (from torch-geometric) (1.0.2)\n",
      "Requirement already satisfied: psutil>=5.8.0 in /opt/conda/lib/python3.7/site-packages (from torch-geometric) (5.9.3)\n",
      "Requirement already satisfied: MarkupSafe>=2.0 in /opt/conda/lib/python3.7/site-packages (from jinja2->torch-geometric) (2.1.3)\n",
      "Requirement already satisfied: charset-normalizer<4,>=2 in /opt/conda/lib/python3.7/site-packages (from requests->torch-geometric) (3.2.0)\n",
      "Requirement already satisfied: idna<4,>=2.5 in /opt/conda/lib/python3.7/site-packages (from requests->torch-geometric) (3.4)\n",
      "Requirement already satisfied: urllib3<3,>=1.21.1 in /opt/conda/lib/python3.7/site-packages (from requests->torch-geometric) (2.0.4)\n",
      "Requirement already satisfied: certifi>=2017.4.17 in /opt/conda/lib/python3.7/site-packages (from requests->torch-geometric) (2023.7.22)\n",
      "Requirement already satisfied: joblib>=0.11 in /opt/conda/lib/python3.7/site-packages (from scikit-learn->torch-geometric) (1.3.2)\n",
      "Requirement already satisfied: threadpoolctl>=2.0.0 in /opt/conda/lib/python3.7/site-packages (from scikit-learn->torch-geometric) (3.1.0)\n"
     ]
    }
   ],
   "source": [
    "!pip install torch torchvision\n",
    "!pip install torch-geometric"
   ]
  },
  {
   "cell_type": "code",
   "execution_count": 27,
   "metadata": {
    "id": "YikBytXdGZN6",
    "tags": []
   },
   "outputs": [],
   "source": [
    "# Standard library imports\n",
    "import random\n",
    "import time\n",
    "import torch\n",
    "import torch.nn as nn\n",
    "import torch.nn.functional as F\n",
    "import torch.optim as optim\n",
    "# from torch.utils.data import Dataset, DataLoader\n",
    "import torch_geometric\n",
    "from torch_geometric.nn.conv import MessagePassing\n",
    "from torch_geometric.utils import degree\n",
    "from tqdm.notebook import tqdm\n",
    "from sklearn import preprocessing as pp\n",
    "from sklearn.model_selection import train_test_split\n",
    "import scipy.sparse as sp\n",
    "import pandas as pd"
   ]
  },
  {
   "cell_type": "code",
   "execution_count": 28,
   "metadata": {
    "id": "uEIXzWg_wvOG"
   },
   "outputs": [],
   "source": [
    "# columns = [\"overall\",\"itemIndex\",\"userIndex\"]\n",
    "# train = train.select(columns)\n",
    "# test = test.select(columns)\n",
    "# train_df = train.toPandas()\n",
    "# test_df = test.toPandas()\n",
    "train_df = pd.read_csv('train_df.csv')\n",
    "test_df = pd.read_csv('test_df.csv')"
   ]
  },
  {
   "cell_type": "code",
   "execution_count": 30,
   "metadata": {
    "colab": {
     "base_uri": "https://localhost:8080/",
     "height": 35
    },
    "id": "5euM0Dd21S6-",
    "outputId": "ac787e42-86b2-4587-acb5-9a9d966180ed"
   },
   "outputs": [
    {
     "data": {
      "text/plain": [
       "'2.3.1'"
      ]
     },
     "execution_count": 30,
     "metadata": {},
     "output_type": "execute_result"
    }
   ],
   "source": [
    "torch_geometric.__version__"
   ]
  },
  {
   "cell_type": "code",
   "execution_count": 31,
   "metadata": {
    "colab": {
     "base_uri": "https://localhost:8080/"
    },
    "id": "AU-206xHGZN7",
    "outputId": "4808517c-4ae6-42fb-fc0c-f991a67a0671",
    "tags": []
   },
   "outputs": [
    {
     "data": {
      "text/plain": [
       "device(type='cuda', index=0)"
      ]
     },
     "execution_count": 31,
     "metadata": {},
     "output_type": "execute_result"
    }
   ],
   "source": [
    "device = torch.device(\"cuda:0\" if torch.cuda.is_available() else \"cpu\")\n",
    "device"
   ]
  },
  {
   "cell_type": "code",
   "execution_count": 32,
   "metadata": {
    "colab": {
     "base_uri": "https://localhost:8080/"
    },
    "id": "Vvwi2yhrGZN7",
    "outputId": "97f633a6-9566-4a52-b05a-fa4021166026",
    "tags": []
   },
   "outputs": [
    {
     "name": "stdout",
     "output_type": "stream",
     "text": [
      "Train Size  :  60271\n",
      "Test Size :  15311\n"
     ]
    }
   ],
   "source": [
    "print(\"Train Size  : \", len(train_df))\n",
    "print(\"Test Size : \", len (test_df))"
   ]
  },
  {
   "cell_type": "code",
   "execution_count": 7,
   "metadata": {
    "id": "lweBvSafGZN7",
    "tags": []
   },
   "outputs": [],
   "source": [
    "# Since we performed the train/test randomly on the interactions, not all users and items may be present in the training set. We will relabel all of users and items to ensure the highest label is the number of users and items, respectively."
   ]
  },
  {
   "cell_type": "code",
   "execution_count": 33,
   "metadata": {
    "id": "bMpG-aAxGZN7",
    "tags": []
   },
   "outputs": [],
   "source": [
    "le_user = pp.LabelEncoder()\n",
    "le_item = pp.LabelEncoder()\n",
    "train_df['user_id_idx'] = le_user.fit_transform(train_df['userIndex'].values)\n",
    "train_df['item_id_idx'] = le_item.fit_transform(train_df['itemIndex'].values)"
   ]
  },
  {
   "cell_type": "code",
   "execution_count": 34,
   "metadata": {
    "colab": {
     "base_uri": "https://localhost:8080/"
    },
    "id": "kCWsb8HjGZN7",
    "outputId": "fecbe519-c877-4725-f88d-477872f6d418",
    "tags": []
   },
   "outputs": [
    {
     "name": "stdout",
     "output_type": "stream",
     "text": [
      "58708 24087\n",
      "522\n"
     ]
    }
   ],
   "source": [
    "train_user_ids = train_df['userIndex'].unique()\n",
    "train_item_ids = train_df['itemIndex'].unique()\n",
    "\n",
    "print(len(train_user_ids), len(train_item_ids))\n",
    "\n",
    "test_df = test_df[\n",
    "  (test_df['userIndex'].isin(train_user_ids)) & \\\n",
    "  (test_df['itemIndex'].isin(train_item_ids))\n",
    "]\n",
    "# test_df['user_known'] = test_df['userIndex'].isin(train_user_ids)\n",
    "# test_df['item_known'] = test_df['itemIndex'].isin(train_item_ids)\n",
    "\n",
    "print(len(test_df))"
   ]
  },
  {
   "cell_type": "code",
   "execution_count": 35,
   "metadata": {
    "id": "BvZtGpcfGZN7",
    "tags": []
   },
   "outputs": [],
   "source": [
    "test_df['user_id_idx'] = le_user.transform(test_df['userIndex'].values)\n",
    "test_df['item_id_idx'] = le_item.transform(test_df['itemIndex'].values)"
   ]
  },
  {
   "cell_type": "code",
   "execution_count": 36,
   "metadata": {
    "colab": {
     "base_uri": "https://localhost:8080/"
    },
    "id": "R5RE0pdUGZN7",
    "outputId": "69ce46ce-4079-479e-84d2-2b0747bc124c",
    "tags": []
   },
   "outputs": [
    {
     "name": "stdout",
     "output_type": "stream",
     "text": [
      "Number of Unique Users :  58708\n",
      "Number of unique Items :  24087\n"
     ]
    }
   ],
   "source": [
    "n_users = train_df['user_id_idx'].nunique()\n",
    "n_items = train_df['item_id_idx'].nunique()\n",
    "print(\"Number of Unique Users : \", n_users)\n",
    "print(\"Number of unique Items : \", n_items)"
   ]
  },
  {
   "cell_type": "code",
   "execution_count": 37,
   "metadata": {
    "colab": {
     "base_uri": "https://localhost:8080/"
    },
    "id": "EKGCYvtrGZN7",
    "outputId": "4452ba9d-15fa-4b4e-f321-f9d7e338d55f",
    "tags": []
   },
   "outputs": [
    {
     "data": {
      "text/plain": [
       "(tensor([ 5191,  9278, 11405, 17647, 17702, 18916, 22824, 24990, 25206, 33577,\n",
       "         36128, 39064, 40954, 44933, 49826, 56445], device='cuda:0'),\n",
       " tensor([70924, 59189, 71918, 58819, 60536, 59132, 75638, 69717, 67676, 67030,\n",
       "         65938, 58861, 60269, 58735, 58712, 63829], device='cuda:0'),\n",
       " tensor([77740, 59078, 72402, 65003, 59907, 78806, 78498, 73348, 69124, 82495,\n",
       "         79102, 69173, 77099, 60242, 60524, 75913], device='cuda:0'))"
      ]
     },
     "execution_count": 37,
     "metadata": {},
     "output_type": "execute_result"
    }
   ],
   "source": [
    "def data_loader(data, batch_size, n_usr, n_itm):\n",
    "\n",
    "    def sample_neg(x):\n",
    "        while True:\n",
    "            neg_id = random.randint(0, n_itm - 1)\n",
    "            if neg_id not in x:\n",
    "                return neg_id\n",
    "\n",
    "    interected_items_df = data.groupby('user_id_idx')['item_id_idx'].apply(list).reset_index()\n",
    "    indices = [x for x in range(n_usr)]\n",
    "\n",
    "    if n_usr < batch_size:\n",
    "        users = [random.choice(indices) for _ in range(batch_size)]\n",
    "    else:\n",
    "        users = random.sample(indices, batch_size)\n",
    "    users.sort()\n",
    "    users_df = pd.DataFrame(users,columns = ['users'])\n",
    "\n",
    "    interected_items_df = pd.merge(interected_items_df, users_df, how = 'right', left_on = 'user_id_idx', right_on = 'users')\n",
    "    pos_items = interected_items_df['item_id_idx'].apply(lambda x : random.choice(x)).values\n",
    "    neg_items = interected_items_df['item_id_idx'].apply(lambda x: sample_neg(x)).values\n",
    "\n",
    "    return (\n",
    "        torch.LongTensor(list(users)).to(device), \n",
    "        torch.LongTensor(list(pos_items)).to(device) + n_usr, \n",
    "        torch.LongTensor(list(neg_items)).to(device) + n_usr\n",
    "    )\n",
    "data_loader(train_df, 16, n_users, n_items)"
   ]
  },
  {
   "cell_type": "code",
   "execution_count": 38,
   "metadata": {
    "colab": {
     "base_uri": "https://localhost:8080/",
     "height": 423
    },
    "id": "pp7A9LN5JJ6x",
    "outputId": "9fc0003e-9d04-413e-acb9-197d04a734eb"
   },
   "outputs": [
    {
     "data": {
      "text/html": [
       "<div>\n",
       "<style scoped>\n",
       "    .dataframe tbody tr th:only-of-type {\n",
       "        vertical-align: middle;\n",
       "    }\n",
       "\n",
       "    .dataframe tbody tr th {\n",
       "        vertical-align: top;\n",
       "    }\n",
       "\n",
       "    .dataframe thead th {\n",
       "        text-align: right;\n",
       "    }\n",
       "</style>\n",
       "<table border=\"1\" class=\"dataframe\">\n",
       "  <thead>\n",
       "    <tr style=\"text-align: right;\">\n",
       "      <th></th>\n",
       "      <th>user_id_idx</th>\n",
       "      <th>item_id_idx</th>\n",
       "    </tr>\n",
       "  </thead>\n",
       "  <tbody>\n",
       "    <tr>\n",
       "      <th>0</th>\n",
       "      <td>0</td>\n",
       "      <td>[1645, 14747, 4698, 7457, 8298, 2300]</td>\n",
       "    </tr>\n",
       "    <tr>\n",
       "      <th>1</th>\n",
       "      <td>1</td>\n",
       "      <td>[684, 1728, 1291, 416, 20597, 21203, 22286]</td>\n",
       "    </tr>\n",
       "    <tr>\n",
       "      <th>2</th>\n",
       "      <td>2</td>\n",
       "      <td>[2490, 1671, 8044, 19305]</td>\n",
       "    </tr>\n",
       "    <tr>\n",
       "      <th>3</th>\n",
       "      <td>3</td>\n",
       "      <td>[655, 3017, 296, 17412, 448]</td>\n",
       "    </tr>\n",
       "    <tr>\n",
       "      <th>4</th>\n",
       "      <td>4</td>\n",
       "      <td>[10853, 10877, 18058, 20950]</td>\n",
       "    </tr>\n",
       "    <tr>\n",
       "      <th>...</th>\n",
       "      <td>...</td>\n",
       "      <td>...</td>\n",
       "    </tr>\n",
       "    <tr>\n",
       "      <th>58703</th>\n",
       "      <td>58703</td>\n",
       "      <td>[9349]</td>\n",
       "    </tr>\n",
       "    <tr>\n",
       "      <th>58704</th>\n",
       "      <td>58704</td>\n",
       "      <td>[24040]</td>\n",
       "    </tr>\n",
       "    <tr>\n",
       "      <th>58705</th>\n",
       "      <td>58705</td>\n",
       "      <td>[719]</td>\n",
       "    </tr>\n",
       "    <tr>\n",
       "      <th>58706</th>\n",
       "      <td>58706</td>\n",
       "      <td>[12939]</td>\n",
       "    </tr>\n",
       "    <tr>\n",
       "      <th>58707</th>\n",
       "      <td>58707</td>\n",
       "      <td>[10311]</td>\n",
       "    </tr>\n",
       "  </tbody>\n",
       "</table>\n",
       "<p>58708 rows × 2 columns</p>\n",
       "</div>"
      ],
      "text/plain": [
       "       user_id_idx                                  item_id_idx\n",
       "0                0        [1645, 14747, 4698, 7457, 8298, 2300]\n",
       "1                1  [684, 1728, 1291, 416, 20597, 21203, 22286]\n",
       "2                2                    [2490, 1671, 8044, 19305]\n",
       "3                3                 [655, 3017, 296, 17412, 448]\n",
       "4                4                 [10853, 10877, 18058, 20950]\n",
       "...            ...                                          ...\n",
       "58703        58703                                       [9349]\n",
       "58704        58704                                      [24040]\n",
       "58705        58705                                        [719]\n",
       "58706        58706                                      [12939]\n",
       "58707        58707                                      [10311]\n",
       "\n",
       "[58708 rows x 2 columns]"
      ]
     },
     "execution_count": 38,
     "metadata": {},
     "output_type": "execute_result"
    }
   ],
   "source": [
    "train_df.groupby('user_id_idx')['item_id_idx'].apply(list).reset_index()"
   ]
  },
  {
   "cell_type": "code",
   "execution_count": 39,
   "metadata": {
    "colab": {
     "base_uri": "https://localhost:8080/"
    },
    "id": "q2qR61kzGZN7",
    "outputId": "832398ad-43d1-4c1e-e556-b3dff2ccae9e",
    "tags": []
   },
   "outputs": [
    {
     "data": {
      "text/plain": [
       "tensor([[57916, 51104, 53451,  ..., 82794, 68193, 68193],\n",
       "        [68194, 62582, 62582,  ..., 33296, 13204, 39068]], device='cuda:0')"
      ]
     },
     "execution_count": 39,
     "metadata": {},
     "output_type": "execute_result"
    }
   ],
   "source": [
    "u_t = torch.LongTensor(train_df.user_id_idx)\n",
    "i_t = torch.LongTensor(train_df.item_id_idx) + n_users\n",
    "\n",
    "train_edge_index = torch.stack((\n",
    "  torch.cat([u_t, i_t]),\n",
    "  torch.cat([i_t, u_t])\n",
    ")).to(device)\n",
    "train_edge_index"
   ]
  },
  {
   "cell_type": "code",
   "execution_count": 40,
   "metadata": {
    "id": "PqEw2t0RGZN7",
    "tags": []
   },
   "outputs": [],
   "source": [
    "class LightGCNConv(MessagePassing):\n",
    "    def __init__(self, **kwargs):\n",
    "        super().__init__(aggr='add')\n",
    "\n",
    "    def forward(self, x, edge_index):\n",
    "    # Compute normalization\n",
    "        from_, to_ = edge_index\n",
    "        deg = degree(to_, x.size(0), dtype=x.dtype)\n",
    "        deg_inv_sqrt = deg.pow(-0.5)\n",
    "        deg_inv_sqrt[deg_inv_sqrt == float('inf')] = 0\n",
    "        norm = deg_inv_sqrt[from_] * deg_inv_sqrt[to_]\n",
    "\n",
    "        # Start propagating messages (no update after aggregation)\n",
    "        return self.propagate(edge_index, x=x, norm=norm)\n",
    "\n",
    "    def message(self, x_j, norm):\n",
    "        return norm.view(-1, 1) * x_j"
   ]
  },
  {
   "cell_type": "code",
   "execution_count": 41,
   "metadata": {
    "colab": {
     "base_uri": "https://localhost:8080/"
    },
    "id": "aBNPX_bQGZN7",
    "outputId": "d908b482-3a66-468f-d783-9da585c98eb3",
    "tags": []
   },
   "outputs": [
    {
     "data": {
      "text/plain": [
       "tensor([[0.0000, 0.0000, 0.7071, 0.5000, 0.0000],\n",
       "        [0.0000, 0.0000, 0.0000, 0.5000, 0.7071],\n",
       "        [0.7071, 0.0000, 0.0000, 0.0000, 0.0000],\n",
       "        [0.5000, 0.5000, 0.0000, 0.0000, 0.0000],\n",
       "        [0.0000, 0.7071, 0.0000, 0.0000, 0.0000]])"
      ]
     },
     "execution_count": 41,
     "metadata": {},
     "output_type": "execute_result"
    }
   ],
   "source": [
    "import numpy as np\n",
    "test_x = torch.Tensor(np.eye(5))\n",
    "test_edge_index = torch.LongTensor(np.array([\n",
    "  [0, 0, 1, 1, 2, 3, 3, 4],\n",
    "  [2, 3, 3, 4, 0, 0, 1, 1]\n",
    "]))\n",
    "\n",
    "LightGCNConv()(test_x, test_edge_index)"
   ]
  },
  {
   "cell_type": "code",
   "execution_count": 42,
   "metadata": {
    "id": "1OHDkRtRGZN8",
    "tags": []
   },
   "outputs": [],
   "source": [
    "class RecSysGNN(nn.Module):\n",
    "  def __init__(\n",
    "      self,\n",
    "      latent_dim,\n",
    "      num_layers,\n",
    "      num_users,\n",
    "      num_items,\n",
    "      model, # 'NGCF' or 'LightGCN'\n",
    "      dropout=0.1 # Only used in NGCF\n",
    "  ):\n",
    "    super(RecSysGNN, self).__init__()\n",
    "\n",
    "    assert (model == 'NGCF' or model == 'LightGCN'), \\\n",
    "        'Model must be NGCF or LightGCN'\n",
    "    self.model = model\n",
    "    self.embedding = nn.Embedding(num_users + num_items, latent_dim)\n",
    "\n",
    "    self.convs = nn.ModuleList(LightGCNConv() for _ in range(num_layers))\n",
    "\n",
    "    self.init_parameters()\n",
    "\n",
    "\n",
    "  def init_parameters(self):\n",
    "    if self.model == 'NGCF':\n",
    "      nn.init.xavier_uniform_(self.embedding.weight, gain=1)\n",
    "    else:\n",
    "      # Authors of LightGCN report higher results with normal initialization\n",
    "      nn.init.normal_(self.embedding.weight, std=0.1)\n",
    "\n",
    "\n",
    "  def forward(self, edge_index):\n",
    "    emb0 = self.embedding.weight\n",
    "    embs = [emb0]\n",
    "\n",
    "    emb = emb0\n",
    "    for conv in self.convs:\n",
    "      emb = conv(x=emb, edge_index=edge_index)\n",
    "      embs.append(emb)\n",
    "\n",
    "    out = (\n",
    "      torch.cat(embs, dim=-1) if self.model == 'NGCF'\n",
    "      else torch.mean(torch.stack(embs, dim=0), dim=0)\n",
    "    )\n",
    "\n",
    "    return emb0, out\n",
    "\n",
    "\n",
    "  def encode_minibatch(self, users, pos_items, neg_items, edge_index):\n",
    "    emb0, out = self(edge_index)\n",
    "    return (\n",
    "        out[users],\n",
    "        out[pos_items],\n",
    "        out[neg_items],\n",
    "        emb0[users],\n",
    "        emb0[pos_items],\n",
    "        emb0[neg_items]\n",
    "    )"
   ]
  },
  {
   "cell_type": "code",
   "execution_count": 43,
   "metadata": {
    "id": "I0IUuR-BGZN8",
    "tags": []
   },
   "outputs": [],
   "source": [
    "def compute_bpr_loss(users, users_emb, pos_emb, neg_emb, user_emb0,  pos_emb0, neg_emb0):\n",
    "  # compute loss from initial embeddings, used for regulization\n",
    "  reg_loss = (1 / 2) * (\n",
    "    user_emb0.norm().pow(2) +\n",
    "    pos_emb0.norm().pow(2)  +\n",
    "    neg_emb0.norm().pow(2)\n",
    "  ) / float(len(users))\n",
    "\n",
    "  # compute BPR loss from user, positive item, and negative item embeddings\n",
    "  pos_scores = torch.mul(users_emb, pos_emb).sum(dim=1)\n",
    "  neg_scores = torch.mul(users_emb, neg_emb).sum(dim=1)\n",
    "\n",
    "  bpr_loss = torch.mean(F.softplus(neg_scores - pos_scores))\n",
    "\n",
    "  return bpr_loss, reg_loss"
   ]
  },
  {
   "cell_type": "code",
   "execution_count": 44,
   "metadata": {
    "id": "MTrqp1sfGZN8",
    "tags": []
   },
   "outputs": [],
   "source": [
    "def get_metrics(user_Embed_wts, item_Embed_wts, n_users, n_items, train_data, test_data, K = 10):\n",
    "  test_user_ids = torch.LongTensor(test_data['user_id_idx'].unique())\n",
    "  # compute the score of all user-item pairs\n",
    "  relevance_score = torch.matmul(user_Embed_wts, torch.transpose(item_Embed_wts,0, 1))\n",
    "\n",
    "  # create dense tensor of all user-item interactions\n",
    "  i = torch.stack((\n",
    "    torch.LongTensor(train_df['user_id_idx'].values),\n",
    "    torch.LongTensor(train_df['item_id_idx'].values)\n",
    "  ))\n",
    "  v = torch.ones((len(train_df)), dtype=torch.float64)\n",
    "  interactions_t = torch.sparse.FloatTensor(i, v, (n_users, n_items))\\\n",
    "      .to_dense().to(device)\n",
    "\n",
    "  # mask out training user-item interactions from metric computation\n",
    "  relevance_score = torch.mul(relevance_score, (1 - interactions_t))\n",
    "\n",
    "  # compute top scoring items for each user\n",
    "  topk_relevance_indices = torch.topk(relevance_score, K).indices\n",
    "  topk_relevance_indices_df = pd.DataFrame(topk_relevance_indices.cpu().numpy(),columns =['top_indx_'+str(x+1) for x in range(K)])\n",
    "  topk_relevance_indices_df['user_ID'] = topk_relevance_indices_df.index\n",
    "  topk_relevance_indices_df['top_rlvnt_itm'] = topk_relevance_indices_df[['top_indx_'+str(x+1) for x in range(K)]].values.tolist()\n",
    "  topk_relevance_indices_df = topk_relevance_indices_df[['user_ID','top_rlvnt_itm']]\n",
    "\n",
    "  # measure overlap between recommended (top-scoring) and held-out user-item\n",
    "  # interactions\n",
    "  test_interacted_items = test_data.groupby('user_id_idx')['item_id_idx'].apply(list).reset_index()\n",
    "  metrics_df = pd.merge(test_interacted_items,topk_relevance_indices_df, how= 'left', left_on = 'user_id_idx',right_on = ['user_ID'])\n",
    "  metrics_df['intrsctn_itm'] = [list(set(a).intersection(b)) for a, b in zip(metrics_df.item_id_idx, metrics_df.top_rlvnt_itm)]\n",
    "\n",
    "  metrics_df['recall'] = metrics_df.apply(lambda x : len(x['intrsctn_itm'])/len(x['item_id_idx']), axis = 1)\n",
    "  metrics_df['precision'] = metrics_df.apply(lambda x : len(x['intrsctn_itm'])/K, axis = 1)\n",
    "  # Compute F1-score\n",
    "  metrics_df['f1_score'] = 2 * (metrics_df['precision'] * metrics_df['recall']) / (metrics_df['precision'] + metrics_df['recall'])\n",
    "  metrics_df['f1_score'] = metrics_df['f1_score'].fillna(0)  # Handling undefined F1-score when precision and recall are both 0\n",
    "\n",
    "\n",
    "  return metrics_df['recall'].mean(), metrics_df['precision'].mean(), metrics_df['f1_score'].mean()"
   ]
  },
  {
   "cell_type": "code",
   "execution_count": 45,
   "metadata": {
    "id": "_-oPnbP_GZN8",
    "tags": []
   },
   "outputs": [],
   "source": [
    "latent_dim = 64\n",
    "n_layers = 3\n",
    "\n",
    "EPOCHS = 20\n",
    "BATCH_SIZE = 1024\n",
    "DECAY = 0.0001\n",
    "LR = 0.005\n",
    "K = 10"
   ]
  },
  {
   "cell_type": "code",
   "execution_count": 46,
   "metadata": {
    "id": "I6bWB5gKGZN8",
    "tags": []
   },
   "outputs": [],
   "source": [
    "def train_and_eval(model, optimizer, train_df):\n",
    "  loss_list_epoch = []\n",
    "  bpr_loss_list_epoch = []\n",
    "  reg_loss_list_epoch = []\n",
    "\n",
    "  recall_list = []\n",
    "  precision_list = []\n",
    "  f1_list = []\n",
    "\n",
    "  for epoch in tqdm(range(EPOCHS)):\n",
    "      n_batch = int(len(train_df)/BATCH_SIZE)\n",
    "\n",
    "      final_loss_list = []\n",
    "      bpr_loss_list = []\n",
    "      reg_loss_list = []\n",
    "\n",
    "      model.train()\n",
    "      for batch_idx in range(n_batch):\n",
    "\n",
    "          optimizer.zero_grad()\n",
    "\n",
    "          users, pos_items, neg_items = data_loader(train_df, BATCH_SIZE, n_users, n_items)\n",
    "          users_emb, pos_emb, neg_emb, userEmb0,  posEmb0, negEmb0 = model.encode_minibatch(users, pos_items, neg_items, train_edge_index)\n",
    "\n",
    "          bpr_loss, reg_loss = compute_bpr_loss(\n",
    "            users, users_emb, pos_emb, neg_emb, userEmb0,  posEmb0, negEmb0\n",
    "          )\n",
    "          reg_loss = DECAY * reg_loss\n",
    "          final_loss = bpr_loss + reg_loss\n",
    "\n",
    "          final_loss.backward()\n",
    "          optimizer.step()\n",
    "\n",
    "          final_loss_list.append(final_loss.item())\n",
    "          bpr_loss_list.append(bpr_loss.item())\n",
    "          reg_loss_list.append(reg_loss.item())\n",
    "\n",
    "      model.eval()\n",
    "      with torch.no_grad():\n",
    "          _, out = model(train_edge_index)\n",
    "          final_user_Embed, final_item_Embed = torch.split(out, (n_users, n_items))\n",
    "          test_topK_recall,  test_topK_precision,test_topK_f1 = get_metrics(\n",
    "            final_user_Embed, final_item_Embed, n_users, n_items, train_df, test_df, K\n",
    "          )\n",
    "\n",
    "      loss_list_epoch.append(round(np.mean(final_loss_list),4))\n",
    "      bpr_loss_list_epoch.append(round(np.mean(bpr_loss_list),4))\n",
    "      reg_loss_list_epoch.append(round(np.mean(reg_loss_list),4))\n",
    "\n",
    "      recall_list.append(round(test_topK_recall,4))\n",
    "      precision_list.append(round(test_topK_precision,4))\n",
    "      f1_list.append(round(test_topK_f1,4))\n",
    "\n",
    "  return (\n",
    "    loss_list_epoch,\n",
    "    bpr_loss_list_epoch,\n",
    "    reg_loss_list_epoch,\n",
    "    recall_list,\n",
    "    precision_list,\n",
    "    f1_list\n",
    "  )"
   ]
  },
  {
   "cell_type": "code",
   "execution_count": 47,
   "metadata": {
    "colab": {
     "base_uri": "https://localhost:8080/"
    },
    "id": "FjCaI_7BGZN8",
    "outputId": "4fff94b4-7ccb-4218-9b35-a86cae88ad07",
    "tags": []
   },
   "outputs": [
    {
     "name": "stdout",
     "output_type": "stream",
     "text": [
      "Size of Learnable Embedding :  [torch.Size([82795, 64])]\n"
     ]
    }
   ],
   "source": [
    "lightgcn = RecSysGNN(\n",
    "  latent_dim=latent_dim,\n",
    "  num_layers=n_layers,\n",
    "  num_users=n_users,\n",
    "  num_items=n_items,\n",
    "  model='LightGCN'\n",
    ")\n",
    "\n",
    "lightgcn.to(device)\n",
    "\n",
    "optimizer = torch.optim.Adam(lightgcn.parameters(), lr=LR)\n",
    "print(\"Size of Learnable Embedding : \", [x.shape for x in list(lightgcn.parameters())])"
   ]
  },
  {
   "cell_type": "code",
   "execution_count": 48,
   "metadata": {
    "colab": {
     "base_uri": "https://localhost:8080/",
     "height": 406,
     "referenced_widgets": [
      "1ec8f538e2c340569c8f56ec590e8b5b",
      "783e04205f3e421987fcb3733f9d14f5",
      "db4a6c3e04f7440894f662c490b75db6",
      "5c8ceb0bd2cb443897d5b9650f26a348",
      "ee18df5c64fd463db648a83281010e9a",
      "fe743840550f4166878123b2b96e5560",
      "38317fc35c314b428eb0b9535e0475ac",
      "1ff556ad209f42d088546cc1e1c574cc",
      "b68660959b3b4be48609eda55afd0e86",
      "249e1d44117f43bb8f63859d82cf22f8",
      "3f3dba2148694883b52b79cb884df6f4"
     ]
    },
    "id": "i0yjHq3MGZN8",
    "outputId": "be0e4017-2211-40c8-acae-e2c2f57b3b14",
    "tags": []
   },
   "outputs": [
    {
     "data": {
      "application/vnd.jupyter.widget-view+json": {
       "model_id": "fa409497bde7403e94faf556bc971b77",
       "version_major": 2,
       "version_minor": 0
      },
      "text/plain": [
       "  0%|          | 0/20 [00:00<?, ?it/s]"
      ]
     },
     "metadata": {},
     "output_type": "display_data"
    }
   ],
   "source": [
    "light_loss, light_bpr, light_reg, light_recall, light_precision,light_f1 = train_and_eval(lightgcn, optimizer, train_df)"
   ]
  },
  {
   "cell_type": "code",
   "execution_count": 54,
   "metadata": {},
   "outputs": [],
   "source": [
    "torch.save(lightgcn.state_dict(), 'lightgcn_model.pth')"
   ]
  },
  {
   "cell_type": "code",
   "execution_count": 58,
   "metadata": {},
   "outputs": [
    {
     "data": {
      "text/plain": [
       "RecSysGNN(\n",
       "  (embedding): Embedding(82795, 64)\n",
       "  (convs): ModuleList(\n",
       "    (0-2): 3 x LightGCNConv()\n",
       "  )\n",
       ")"
      ]
     },
     "execution_count": 58,
     "metadata": {},
     "output_type": "execute_result"
    }
   ],
   "source": [
    "# Initialize the model again with the same parameters\n",
    "loaded_model = RecSysGNN(\n",
    "    latent_dim=latent_dim,\n",
    "    num_layers=n_layers,\n",
    "    num_users=n_users,\n",
    "    num_items=n_items,\n",
    "    model='LightGCN'\n",
    ")\n",
    "\n",
    "# Load the state dict\n",
    "loaded_model.load_state_dict(torch.load('lightgcn_model.pth'))\n",
    "\n",
    "# Don't forget to call .to(device) if you are using a GPU\n",
    "loaded_model.to(device)\n"
   ]
  },
  {
   "cell_type": "code",
   "execution_count": 59,
   "metadata": {},
   "outputs": [],
   "source": [
    "def evaluate_model(model, train_df, test_df, n_users, n_items, train_edge_index, K):\n",
    "    model.eval()\n",
    "    with torch.no_grad():\n",
    "        _, out = model(train_edge_index)\n",
    "        final_user_Embed, final_item_Embed = torch.split(out, (n_users, n_items))\n",
    "        test_topK_recall, test_topK_precision, test_topK_f1 = get_metrics(\n",
    "            final_user_Embed, final_item_Embed, n_users, n_items, train_df, test_df, K\n",
    "        )\n",
    "\n",
    "    return test_topK_recall, test_topK_precision, test_topK_f1\n",
    "# Assume model is already loaded and other necessary variables (like train_df, test_df) are set\n",
    "test_topK_recall, test_topK_precision, test_topK_f1 = evaluate_model(\n",
    "    loaded_model, train_df, test_df, n_users, n_items, train_edge_index, K\n",
    ")\n"
   ]
  },
  {
   "cell_type": "code",
   "execution_count": 60,
   "metadata": {},
   "outputs": [
    {
     "data": {
      "text/plain": [
       "(0.013944223107569721, 0.001394422310756972, 0.002535313292285404)"
      ]
     },
     "execution_count": 60,
     "metadata": {},
     "output_type": "execute_result"
    }
   ],
   "source": [
    "test_topK_recall, test_topK_precision, test_topK_f1"
   ]
  },
  {
   "cell_type": "code",
   "execution_count": 49,
   "metadata": {
    "colab": {
     "base_uri": "https://localhost:8080/",
     "height": 466
    },
    "id": "5nY2_ELlGZN8",
    "outputId": "5608d5c3-7022-4b1d-8de6-b2359fca0306"
   },
   "outputs": [
    {
     "data": {
      "text/plain": [
       "<matplotlib.legend.Legend at 0x7fb241743850>"
      ]
     },
     "execution_count": 49,
     "metadata": {},
     "output_type": "execute_result"
    },
    {
     "data": {
      "image/png": "[encoded data removed]",
      "text/plain": [
       "<Figure size 640x480 with 1 Axes>"
      ]
     },
     "metadata": {},
     "output_type": "display_data"
    }
   ],
   "source": [
    "from matplotlib import pyplot as plt\n",
    "epoch_list = [(i+1) for i in range(EPOCHS)]\n",
    "plt.plot(epoch_list, light_loss, label='Total Training Loss')\n",
    "plt.plot(epoch_list, light_bpr, label='BPR Training Loss')\n",
    "plt.plot(epoch_list, light_reg, label='Reg Training Loss')\n",
    "\n",
    "plt.xlabel('Epoch')\n",
    "plt.ylabel('Loss')\n",
    "plt.legend()\n",
    "\n",
    "plt.plot(epoch_list, light_recall, label='Recall')\n",
    "plt.plot(epoch_list, light_precision, label='Precision')\n",
    "plt.plot(epoch_list, light_f1, label='F1-score')\n",
    "plt.xlabel('Epoch')\n",
    "plt.ylabel('Metrics')\n",
    "plt.legend()"
   ]
  },
  {
   "cell_type": "code",
   "execution_count": 50,
   "metadata": {
    "colab": {
     "base_uri": "https://localhost:8080/"
    },
    "id": "2XgYL76TGZN8",
    "outputId": "38a70c84-6874-4b33-a6fd-67b7dc29039e"
   },
   "outputs": [
    {
     "data": {
      "text/plain": [
       "(0.0012499999999999998, 0.012065000000000003, 0.0022550000000000005)"
      ]
     },
     "execution_count": 50,
     "metadata": {},
     "output_type": "execute_result"
    }
   ],
   "source": [
    "np.average(light_precision),np.average(light_recall),np.average(light_f1)"
   ]
  },
  {
   "cell_type": "markdown",
   "metadata": {
    "id": "KDhfmn8VUYCf",
    "jp-MarkdownHeadingCollapsed": true,
    "tags": []
   },
   "source": [
    "# Content-based Filtering"
   ]
  },
  {
   "cell_type": "code",
   "execution_count": 4,
   "metadata": {
    "id": "J-O-tSCQMNFA",
    "outputId": "7e63f341-e261-4ef7-a596-e4d93f5e33a0"
   },
   "outputs": [
    {
     "name": "stderr",
     "output_type": "stream",
     "text": [
      "                                                                                \r"
     ]
    }
   ],
   "source": [
    "df_meta = spark.read.json(\"meta_Industrial_and_Scientific.json.gz\")"
   ]
  },
  {
   "cell_type": "code",
   "execution_count": 17,
   "metadata": {
    "id": "36mEiaDOGZN8",
    "tags": []
   },
   "outputs": [],
   "source": [
    "from pyspark.sql.functions import regexp_replace\n",
    "from pyspark.sql.functions import expr,col,when\n",
    "from pyspark.sql import functions as F\n",
    "from pyspark.sql.functions import mean\n",
    "from pyspark.ml.feature import VectorAssembler, MinMaxScaler\n",
    "from pyspark.ml import Pipeline\n",
    "from pyspark.ml.feature import StringIndexer, OneHotEncoder\n",
    "from pyspark.ml.linalg import Vectors\n",
    "from pyspark.ml.feature import Normalizer\n",
    "from pyspark.sql.functions import udf\n",
    "from pyspark.sql.types import FloatType\n",
    "import numpy as np\n",
    "import os\n",
    "import json\n",
    "import gzip\n",
    "import pandas as pd\n",
    "from urllib.request import urlopen\n",
    "import matplotlib.pyplot as plt\n",
    "from pyspark.sql import SparkSession\n",
    "from pyspark.sql.functions import col, length, lower, split, when,count, when, lit, unix_timestamp, to_date\n",
    "from pyspark.ml.feature import StringIndexer, OneHotEncoder, VectorAssembler\n",
    "from pyspark.ml import Pipeline\n",
    "from pyspark.ml.feature import StandardScaler\n",
    "from pyspark.sql.functions import avg"
   ]
  },
  {
   "cell_type": "code",
   "execution_count": 18,
   "metadata": {},
   "outputs": [],
   "source": [
    "# Create a Spark session\n",
    "spark = SparkSession.builder \\\n",
    "    .appName(\"readGZ\") \\\n",
    "    .master(\"local[*]\") \\\n",
    "    .config(\"spark.default.parallelism\", 24) \\\n",
    "    .config(\"spark.sql.shuffle.partitions\", 24) \\\n",
    "    .getOrCreate()"
   ]
  },
  {
   "cell_type": "code",
   "execution_count": 19,
   "metadata": {},
   "outputs": [
    {
     "name": "stderr",
     "output_type": "stream",
     "text": [
      "                                                                                \r"
     ]
    }
   ],
   "source": [
    "\n",
    "# Read the gzipped JSON file directly into a DataFrame\n",
    "df = spark.read.json(\"Industrial_and_Scientific.json.gz\")\n"
   ]
  },
  {
   "cell_type": "code",
   "execution_count": 20,
   "metadata": {},
   "outputs": [
    {
     "name": "stderr",
     "output_type": "stream",
     "text": [
      "                                                                                \r"
     ]
    }
   ],
   "source": [
    "# Drop the image, style, vote columns\n",
    "df = df.drop('image', 'style', 'vote')\n",
    "# Handling missing values: For simplicity, we'll drop rows with any NULLs\n",
    "df = df.na.drop()\n",
    "\n",
    "# Filtering out unverified reviews\n",
    "df = df.filter(col('verified') == True)\n",
    "\n",
    "# Feature Engineering - creating a new feature for the length of the reviewText\n",
    "df = df.withColumn('reviewText_length', length(col('reviewText')))\n",
    "\n",
    "# Sample a fraction of the data (5%)\n",
    "fraction = 0.05\n",
    "seed = 42  # You can choose any number for the seed\n",
    "df = df.sample(False, fraction, seed)\n",
    "\n",
    "# Example of filtering based on a condition, such as reviews that are too short/long might be outliers\n",
    "df = df.filter(col('reviewText_length') > 10)  # Example threshold\n",
    "df = df.filter(col('reviewText_length') < 1000)  # Example threshold\n",
    "\n",
    "\n",
    "from pyspark.ml.feature import StringIndexer\n",
    "\n",
    "# Indexing is required to convert string identifiers to numeric indices for the ALS algorithm\n",
    "indexer_user = StringIndexer(inputCol=\"reviewerID\", outputCol=\"userIndex\")\n",
    "df = indexer_user.fit(df).transform(df)\n",
    "\n",
    "indexer_item = StringIndexer(inputCol=\"asin\", outputCol=\"itemIndex\")\n",
    "df = indexer_item.fit(df).transform(df)\n",
    "\n",
    "(train, test) = df.randomSplit([0.8, 0.2],seed = 42)"
   ]
  },
  {
   "cell_type": "code",
   "execution_count": 14,
   "metadata": {
    "id": "wh42k91Sg0rj",
    "outputId": "70697f72-55cc-4ea2-8e11-7f50a66cfe3d"
   },
   "outputs": [
    {
     "name": "stderr",
     "output_type": "stream",
     "text": [
      "                                                                                \r"
     ]
    }
   ],
   "source": [
    "# Step 1: The item profiles are already in 'df_transformed' as 'features'\n",
    "\n",
    "from pyspark.sql.functions import avg, count, collect_list\n",
    "from pyspark.sql.window import Window\n",
    "\n",
    "# Replace null or empty strings with a placeholder\n",
    "df_meta = df_meta.na.fill({\"brand\": \"Unknown\"})\n",
    "df_meta = df_meta.withColumn(\"brand\", F.when(F.col(\"brand\") == \"\", \"Unknown\").otherwise(F.col(\"brand\")))\n",
    "\n",
    "# Step 1: Remove the dollar sign and try to convert the price to float\n",
    "df_meta = df_meta.withColumn(\"price\", regexp_replace(col(\"price\"), \"[\\$,]\", \"\").cast(\"float\"))\n",
    "\n",
    "# Step 2: Replace non-numeric (or negative) values with None, which Spark recognizes as null\n",
    "df_meta = df_meta.withColumn(\"price\", when(col(\"price\") < 0, None).otherwise(col(\"price\")))\n",
    "\n",
    "# Step 3: Calculate the average of the numeric prices\n",
    "average_price = df_meta.select(avg(col(\"price\")).alias(\"avg_price\")).collect()[0][\"avg_price\"]\n",
    "\n",
    "# Step 4: Fill null values with the average price\n",
    "df_meta = df_meta.na.fill({\"price\": average_price})\n",
    "\n",
    "\n",
    "# Ensure the 'brand' column exists and does not have empty strings or null values\n",
    "if 'brand' not in df_meta.columns:\n",
    "    raise ValueError(\"'brand' column is missing from the DataFrame.\")\n",
    "if df_meta.filter((col('brand') == \"\") | (col('brand').isNull())).count() > 0:\n",
    "    raise ValueError(\"'brand' column contains null or empty strings.\")\n",
    "\n",
    "# Ensure the 'price' column exists and has the correct data type\n",
    "if 'price' not in df_meta.columns:\n",
    "    raise ValueError(\"'price' column is missing from the DataFrame.\")\n",
    "if df_meta.filter(col('price').isNull()).count() > 0:\n",
    "    df_meta = df_meta.fillna({'price': 0})  # Replace nulls with 0 in 'price' column"
   ]
  },
  {
   "cell_type": "code",
   "execution_count": 15,
   "metadata": {
    "colab": {
     "base_uri": "https://localhost:8080/"
    },
    "id": "f4gAPnNgOnLf",
    "outputId": "df7606a3-8e72-4768-bb5c-e3dcf191d384"
   },
   "outputs": [
    {
     "name": "stderr",
     "output_type": "stream",
     "text": [
      "                                                                                \r"
     ]
    },
    {
     "data": {
      "text/plain": [
       "24124"
      ]
     },
     "execution_count": 15,
     "metadata": {},
     "output_type": "execute_result"
    }
   ],
   "source": [
    "df_meta.select('brand').distinct().count()"
   ]
  },
  {
   "cell_type": "code",
   "execution_count": 16,
   "metadata": {
    "colab": {
     "base_uri": "https://localhost:8080/"
    },
    "id": "9mKZCbZxOudr",
    "outputId": "f5859a34-6592-4a6e-8920-f093635c0f79"
   },
   "outputs": [
    {
     "name": "stderr",
     "output_type": "stream",
     "text": [
      "[Stage 17:>                                                         (0 + 1) / 1]\r"
     ]
    },
    {
     "name": "stdout",
     "output_type": "stream",
     "text": [
      "+--------------------+-----+\n",
      "|               brand|count|\n",
      "+--------------------+-----+\n",
      "|              uxcell| 7147|\n",
      "|         Small Parts| 4252|\n",
      "|   The Hillman Group| 1868|\n",
      "|             Unknown| 1742|\n",
      "|           SmartSign| 1164|\n",
      "|                  3M| 1021|\n",
      "|                 VXB| 1003|\n",
      "|               Brady|  866|\n",
      "|     ComplianceSigns|  793|\n",
      "|Hard-to-Find Fast...|  700|\n",
      "|                SEOH|  680|\n",
      "|   RAW PRODUCTS CORP|  660|\n",
      "|           Fastenere|  608|\n",
      "|             Generic|  582|\n",
      "|              Vestil|  573|\n",
      "|      D&D PowerDrive|  568|\n",
      "|             Medline|  560|\n",
      "|  Simpson Strong-Tie|  492|\n",
      "|               EISCO|  487|\n",
      "|             Hillman|  458|\n",
      "+--------------------+-----+\n",
      "only showing top 20 rows\n",
      "\n"
     ]
    },
    {
     "name": "stderr",
     "output_type": "stream",
     "text": [
      "                                                                                \r"
     ]
    }
   ],
   "source": [
    "df_meta.groupBy('brand').count().orderBy(col('count').desc()).show()"
   ]
  },
  {
   "cell_type": "code",
   "execution_count": 21,
   "metadata": {
    "id": "SOdgUWiUGZN9",
    "tags": []
   },
   "outputs": [],
   "source": [
    "# Assuming 'train' and 'test' are the DataFrames resulting from splitting 'df',\n",
    "# and 'df_meta' is the DataFrame containing the metadata\n",
    "\n",
    "# Select the 'asin' from train and test DataFrames\n",
    "train_asin = train.select('asin').distinct()\n",
    "test_asin = test.select('asin').distinct()\n",
    "\n",
    "# Join the metadata with the asin DataFrames to filter the rows\n",
    "df_train = df_meta.join(train_asin, on='asin', how='inner')\n",
    "df_test = df_meta.join(test_asin, on='asin', how='inner')\n",
    "\n",
    "# Now df_train_meta and df_test_meta contain metadata for asins in the train and test sets respectively"
   ]
  },
  {
   "cell_type": "code",
   "execution_count": 22,
   "metadata": {
    "colab": {
     "base_uri": "https://localhost:8080/"
    },
    "id": "XBmk7HVGgAda",
    "outputId": "85647255-26b7-409d-ecf7-2cfd9a6d1df2"
   },
   "outputs": [
    {
     "name": "stdout",
     "output_type": "stream",
     "text": [
      "23/12/02 19:02:37 WARN DAGScheduler: Broadcasting large task binary with size 3.7 MiB\n"
     ]
    },
    {
     "name": "stderr",
     "output_type": "stream",
     "text": [
      "[Stage 27:>                                                         (0 + 1) / 1]\r"
     ]
    },
    {
     "name": "stdout",
     "output_type": "stream",
     "text": [
      "23/12/02 19:02:44 WARN DAGScheduler: Broadcasting large task binary with size 3.7 MiB\n"
     ]
    },
    {
     "name": "stderr",
     "output_type": "stream",
     "text": [
      "                                                                                \r"
     ]
    },
    {
     "name": "stdout",
     "output_type": "stream",
     "text": [
      "23/12/02 19:02:45 WARN DAGScheduler: Broadcasting large task binary with size 3.7 MiB\n"
     ]
    },
    {
     "name": "stderr",
     "output_type": "stream",
     "text": [
      "[Stage 30:>                                                         (0 + 1) / 1]\r"
     ]
    },
    {
     "name": "stdout",
     "output_type": "stream",
     "text": [
      "23/12/02 19:02:47 WARN DAGScheduler: Broadcasting large task binary with size 3.7 MiB\n"
     ]
    },
    {
     "name": "stderr",
     "output_type": "stream",
     "text": [
      "                                                                                \r"
     ]
    },
    {
     "name": "stdout",
     "output_type": "stream",
     "text": [
      "23/12/02 19:02:48 WARN DAGScheduler: Broadcasting large task binary with size 3.7 MiB\n"
     ]
    },
    {
     "name": "stderr",
     "output_type": "stream",
     "text": [
      "[Stage 33:>                                                         (0 + 1) / 1]\r"
     ]
    },
    {
     "name": "stdout",
     "output_type": "stream",
     "text": [
      "23/12/02 19:02:56 WARN DAGScheduler: Broadcasting large task binary with size 3.7 MiB\n"
     ]
    },
    {
     "name": "stderr",
     "output_type": "stream",
     "text": [
      "                                                                                \r"
     ]
    },
    {
     "name": "stdout",
     "output_type": "stream",
     "text": [
      "+----------+--------------------+--------------------+--------------------+--------------------+-----------------+--------------------+--------------------+--------------------+---+--------------------+--------------------+--------------------+--------+--------------------+--------------------+--------------------+-----+--------------------+--------------------+--------------------+\n",
      "|      asin|            also_buy|           also_view|               brand|            category|             date|         description|             details|             feature|fit|            imageURL|     imageURLHighRes|            main_cat|   price|                rank|        similar_item|               tech1|tech2|               title|        price_vector|        price_scaled|\n",
      "+----------+--------------------+--------------------+--------------------+--------------------+-----------------+--------------------+--------------------+--------------------+---+--------------------+--------------------+--------------------+--------+--------------------+--------------------+--------------------+-----+--------------------+--------------------+--------------------+\n",
      "|0176496920|[1454894547, 0133...|                  []|Turning Technolog...|[Industrial & Sci...|                 |[RCRF-03 - Works ...|                null|                  []|   |[https://images-n...|[https://images-n...|Industrial & Scie...|   23.61|12,329 in Industr...|                    |                    |     |Turning Technolog...|[23.610000610351562]|[3.52999652819054...|\n",
      "|1587792052|[B004MAJHLW, 1587...|                  []|             Unknown|[Industrial & Sci...|                 |[Illustrates spin...|                null|                  []|   |                  []|                  []|Industrial & Scie...|   23.84|17,125 in Industr...|                    |                    |     |The Spinal Nerves...| [23.84000015258789]|[3.56439896736742...|\n",
      "|1587790637|[158779683X, B004...|[B07BCNHC3K, B078...|Anatomical Chart ...|[Industrial & Sci...|                 |[<DIV><DIV>This c...|                null|                  []|   |                  []|                  []|Industrial & Scie...|59.06999|58,273 in Industr...|                    |                    |     |The Skeletal Syst...| [59.06998825073242]|[8.83396390199366...|\n",
      "|1684180287|[1622701275, 1546...|[1622701275, 1546...|ExactCharge Indus...|                  []|                 |[HVAC Flat Rate b...|                null|                  []|   |[https://images-n...|[https://images-n...|Industrial & Scie...|59.06999|103,388 in Indust...|                    |                    |     |HVAC Flat Rate Pr...| [59.06998825073242]|[8.83396390199366...|\n",
      "|6543552263|                  []|                  []|            Ohm shop|[Industrial & Sci...|                 |[Features: 100% B...|{null, null, null...|                  []|   |[https://images-n...|[https://images-n...|Health & Personal...|59.06999|1,597,786 in Heal...|                    |                    |     |for Philips Sonic...| [59.06998825073242]|[8.83396390199366...|\n",
      "|750803855X|                  []|                  []|             Unknown|[Industrial & Sci...|                 |                  []|{null, null, null...|                  []|   |[https://images-n...|[https://images-n...|Industrial & Scie...|59.06999|712,331 in Indust...|                    |                    |     |Video Otoscope 2....| [59.06998825073242]|[8.83396390199366...|\n",
      "|8410400243|[B06XSN2JF5, B005...|                  []|              Tremco|[Industrial & Sci...|                 |[Tremco Vulkem 11...|{null, null, null...|                  []|   |[https://images-n...|[https://images-n...|Industrial & Scie...|    27.0|103,730 in Indust...|                    |                    |     |Tremco 116 Vulkem...|              [27.0]|[4.03705948439507...|\n",
      "|8803000844|[B00004UE6N, B007...|                  []|      Craft / Empura|[Industrial & Sci...|     June 2, 2008|[This single tank...|{null, null, null...|[Stainless steel ...|   |[https://images-n...|[https://images-n...|         Amazon Home|   52.95|[\">#34,408 in Kit...| class=\"a-bordere...|                    |     |Craft / Empura Co...| [52.95000076293945]|[7.91855991785994...|\n",
      "|9980453931|[B01COB5T5I, B01A...|                  []|                UKGE|[Industrial & Sci...|                 |[A high quality A...|{null, null, null...|                  []|   |                  []|                  []|Industrial & Scie...|   19.19|29,580 in Industr...|                    |                    |     |FS9410: USA Eocen...|[19.190000534057617]|[2.86887006546799...|\n",
      "|B0000223SM|[B0000223SK, B000...|                  []|        PORTER-CABLE|[Industrial & Sci...|February 28, 2006|[PORTER CABLE SAN...|{null, null, null...|[Durable aluminum...|   |                  []|                  []|Tools & Home Impr...|   29.99|[\">#204,777 in To...| class=\"a-bordere...| class=\"a-keyvalu...|     |PORTER-CABLE 7400...|[29.989999771118164]|[4.48429204957595...|\n",
      "|B0000223SI|[B0000223SK, B000...|                  []|        PORTER-CABLE|[Industrial & Sci...|    April 1, 2004|[Amazon.com This ...|{null, null, null...|[Clog- and loadin...|   |                  []|                  []|Tools & Home Impr...|   15.99|[\">#19,857 in Too...| class=\"a-bordere...| class=\"a-keyvalu...|     |PORTER-CABLE 7400...|[15.989999771118164]|[2.39022636669106...|\n",
      "|B0000223SK|[B0000223SN, B000...|                  []|        PORTER-CABLE|[Industrial & Sci...|                 |[Amazon.com This ...|{null, null, 5.6 ...|[Clog- and loadin...|   |                  []|                  []|Tools & Home Impr...|   17.99|13,586 in Tools &...|                    |                    |     |PORTER-CABLE 7400...|[17.989999771118164]|[2.68937860710319...|\n",
      "|B0000223SL|[B0000223SN, B000...|                  []|        PORTER-CABLE|[Industrial & Sci...|February 28, 2006|[Amazon.com This ...|{null, null, null...|[Clog- and loadin...|   |                  []|                  []|Tools & Home Impr...|    15.7|[\">#213,339 in To...| class=\"a-bordere...| class=\"a-keyvalu...|     |PORTER-CABLE 7400...|[15.699999809265137]|[2.34684929753718...|\n",
      "|B0000223UV|[B000CSS8UE, B07G...|                  []|             Gorilla|[Industrial & Sci...|     July 7, 2004|[The product that...|{null, null, null...|[Incredibly stron...|   |[https://images-n...|[https://images-n...|Industrial & Scie...|   10.24|[\">#340 in Indust...|                    | class=\"a-keyvalu...|     |Gorilla Original ...|[10.239999771118164]|[1.53016367550620...|\n",
      "|B00002246J|[B00004RH8J, B000...|                  []|              DEWALT|[Industrial & Sci...|    June 27, 2017|[For use with gri...|{null, null, null...|[N/A, Imported, T...|   |                  []|                  []|Tools & Home Impr...|59.06999|[\">#330,278 in To...|                    | class=\"a-keyvalu...|     |DEWALT DW4524 4-1...| [59.06998825073242]|[8.83396390199366...|\n",
      "|B0000224J0|[B0000224J1, B00N...|                  []|              DEWALT|[Industrial & Sci...|    June 15, 2006|[High performance...|{null, null, null...|[High performance...|   |                  []|                  []|Tools & Home Impr...|    6.98|[\">#51,285 in Too...|                    | class=\"a-keyvalu...|     |DEWALT DW8001 Gen...| [6.980000019073486]|[1.04254556072263...|\n",
      "|B0000224MY|[B0009H5RXY, B000...|                  []|           Qualcraft|[Industrial & Sci...| November 8, 1999|[Easy to use and ...|{null, null, null...|[Heavy-duty wall ...|   |                  []|                  []|Tools & Home Impr...|   144.1|[\">#46,873 in Too...|                    | class=\"a-keyvalu...|     |Qualcraft 2601 Wa...|[144.10000610351562]|[0.00215524240734...|\n",
      "|B0000224PT|                  []|[B000IKNWN4, B003...|         B & C Eagle|[Industrial & Sci...| November 8, 1999|[B&C Eagle collat...|{null, null, null...|[Compatible with ...|   |                  []|                  []|Tools & Home Impr...|   21.81|[\">#186,656 in To...|                    | class=\"a-keyvalu...|     |B&amp;C Eagle 97/...|[21.809999465942383]|[3.26075934064334...|\n",
      "|B0000225C2|                  []|                  []|              Apache|[Industrial & Sci...|                 |[A blue PVC disch...|{null, null, 18.4...|[Resistant to oil...|   |[https://images-n...|[https://images-n...|Industrial & Scie...|    5.71|                  []|                    |                    |     |Apache 98138065 3...| [5.710000038146973]|[8.52583890913869...|\n",
      "|B0000225GZ|[B004XJYATQ, B000...|                  []|           B&C Eagle|[Industrial & Sci...| November 8, 1999|[B&C Eagle collat...|{null, null, null...|[For use in 7/16-...|   |                  []|                  []|Tools & Home Impr...|   72.99|[\">#58,041 in Too...|                    | class=\"a-keyvalu...|     |B&amp;C Eagle SDM...| [72.98999786376953]|[0.00109160649331...|\n",
      "+----------+--------------------+--------------------+--------------------+--------------------+-----------------+--------------------+--------------------+--------------------+---+--------------------+--------------------+--------------------+--------+--------------------+--------------------+--------------------+-----+--------------------+--------------------+--------------------+\n",
      "only showing top 20 rows\n",
      "\n"
     ]
    }
   ],
   "source": [
    "# Convert the 'price' column into a vector column\n",
    "assembler_for_price = VectorAssembler(inputCols=[\"price\"], outputCol=\"price_vector\")\n",
    "\n",
    "# Normalize the price column\n",
    "price_scaler = MinMaxScaler(inputCol=\"price_vector\", outputCol=\"price_scaled\")\n",
    "\n",
    "# Define the pipeline with all the stages\n",
    "pipeline = Pipeline(stages=[\n",
    "    # brand_indexer,\n",
    "    # brand_encoder,\n",
    "    assembler_for_price,\n",
    "    price_scaler\n",
    "    # assembler_for_features\n",
    "])\n",
    "\n",
    "# After cleaning, try fitting the pipeline again\n",
    "pipeline_model = pipeline.fit(df_train)\n",
    "\n",
    "# Now transform the data\n",
    "df_transformed = pipeline_model.transform(df_train)\n",
    "\n",
    "# Show the result\n",
    "df_transformed.show()"
   ]
  },
  {
   "cell_type": "code",
   "execution_count": 23,
   "metadata": {
    "id": "mfU2FUvoGZN9",
    "outputId": "db74da6e-56ef-4381-dafa-789098eb3dba",
    "tags": []
   },
   "outputs": [
    {
     "name": "stdout",
     "output_type": "stream",
     "text": [
      "23/12/02 19:03:02 WARN DAGScheduler: Broadcasting large task binary with size 3.7 MiB\n"
     ]
    },
    {
     "name": "stderr",
     "output_type": "stream",
     "text": [
      "[Stage 37:>                                                         (0 + 1) / 1]\r"
     ]
    },
    {
     "name": "stdout",
     "output_type": "stream",
     "text": [
      "23/12/02 19:03:10 WARN DAGScheduler: Broadcasting large task binary with size 3.7 MiB\n",
      "+--------+--------------------+\n",
      "|   price|        price_scaled|\n",
      "+--------+--------------------+\n",
      "|   23.61|[3.52999652819054...|\n",
      "|   23.84|[3.56439896736742...|\n",
      "|59.06999|[8.83396390199366...|\n",
      "|59.06999|[8.83396390199366...|\n",
      "|59.06999|[8.83396390199366...|\n",
      "|59.06999|[8.83396390199366...|\n",
      "|    27.0|[4.03705948439507...|\n",
      "|   52.95|[7.91855991785994...|\n",
      "|   19.19|[2.86887006546799...|\n",
      "|   29.99|[4.48429204957595...|\n",
      "+--------+--------------------+\n",
      "only showing top 10 rows\n",
      "\n"
     ]
    },
    {
     "name": "stderr",
     "output_type": "stream",
     "text": [
      "                                                                                \r"
     ]
    }
   ],
   "source": [
    "df_transformed.select('price','price_scaled').show(10)"
   ]
  },
  {
   "cell_type": "code",
   "execution_count": 24,
   "metadata": {
    "id": "ijbSExupGZN9",
    "outputId": "f56816ba-17b6-4bce-f9d5-ac3d8b73a49e",
    "tags": []
   },
   "outputs": [],
   "source": [
    "from pyspark.sql.functions import udf\n",
    "from pyspark.sql.types import FloatType\n",
    "from pyspark.ml.linalg import Vectors, VectorUDT\n",
    "# UDF to extract the first element of a vector column\n",
    "first_element_udf = udf(lambda vector: float(vector[0]), FloatType())\n",
    "\n",
    "df_transformed = df_transformed.withColumn(\"price_scaled_float\", first_element_udf(\"price_scaled\"))"
   ]
  },
  {
   "cell_type": "code",
   "execution_count": 25,
   "metadata": {
    "id": "_-jeVkUKGZN9",
    "outputId": "25326d6f-2210-4c94-fe0f-05186b9844cc",
    "tags": []
   },
   "outputs": [
    {
     "name": "stdout",
     "output_type": "stream",
     "text": [
      "23/12/02 19:03:14 WARN DAGScheduler: Broadcasting large task binary with size 3.7 MiB\n"
     ]
    },
    {
     "name": "stderr",
     "output_type": "stream",
     "text": [
      "[Stage 41:>                                                         (0 + 1) / 1]\r"
     ]
    },
    {
     "name": "stdout",
     "output_type": "stream",
     "text": [
      "23/12/02 19:03:22 WARN DAGScheduler: Broadcasting large task binary with size 3.7 MiB\n",
      "23/12/02 19:03:23 WARN DAGScheduler: Broadcasting large task binary with size 3.7 MiB\n"
     ]
    },
    {
     "name": "stderr",
     "output_type": "stream",
     "text": [
      "[Stage 44:>                                                         (0 + 1) / 1]\r"
     ]
    },
    {
     "name": "stdout",
     "output_type": "stream",
     "text": [
      "+--------+------------------+\n",
      "|   price|price_scaled_float|\n",
      "+--------+------------------+\n",
      "|   23.61|      3.5299966E-4|\n",
      "|   23.84|       3.564399E-4|\n",
      "|59.06999|      8.8339637E-4|\n",
      "|59.06999|      8.8339637E-4|\n",
      "|59.06999|      8.8339637E-4|\n",
      "|59.06999|      8.8339637E-4|\n",
      "|    27.0|      4.0370596E-4|\n",
      "|   52.95|        7.91856E-4|\n",
      "|   19.19|        2.86887E-4|\n",
      "|   29.99|       4.484292E-4|\n",
      "+--------+------------------+\n",
      "only showing top 10 rows\n",
      "\n"
     ]
    },
    {
     "name": "stderr",
     "output_type": "stream",
     "text": [
      "                                                                                \r"
     ]
    }
   ],
   "source": [
    "df_transformed.select('price','price_scaled_float').show(10)"
   ]
  },
  {
   "cell_type": "code",
   "execution_count": 26,
   "metadata": {
    "id": "Y46xDySiGZN9",
    "outputId": "ebe3e4f4-e610-42dd-ba67-8a0298fa7d10",
    "tags": []
   },
   "outputs": [
    {
     "name": "stdout",
     "output_type": "stream",
     "text": [
      "23/12/02 19:03:24 WARN DAGScheduler: Broadcasting large task binary with size 3.7 MiB\n",
      "23/12/02 19:03:24 WARN DAGScheduler: Broadcasting large task binary with size 3.7 MiB\n"
     ]
    },
    {
     "name": "stderr",
     "output_type": "stream",
     "text": [
      "                                                                                \r"
     ]
    },
    {
     "name": "stdout",
     "output_type": "stream",
     "text": [
      "23/12/02 19:03:33 WARN DAGScheduler: Broadcasting large task binary with size 3.7 MiB\n",
      "23/12/02 19:03:33 WARN DAGScheduler: Broadcasting large task binary with size 3.7 MiB\n",
      "23/12/02 19:03:33 WARN DAGScheduler: Broadcasting large task binary with size 3.7 MiB\n"
     ]
    },
    {
     "name": "stderr",
     "output_type": "stream",
     "text": [
      "[Stage 49:>                 (0 + 1) / 1][Stage 50:>                 (0 + 1) / 1]\r"
     ]
    },
    {
     "name": "stdout",
     "output_type": "stream",
     "text": [
      "23/12/02 19:03:36 WARN DAGScheduler: Broadcasting large task binary with size 3.7 MiB\n"
     ]
    },
    {
     "name": "stderr",
     "output_type": "stream",
     "text": [
      "[Stage 49:>                                                         (0 + 1) / 1]\r"
     ]
    },
    {
     "name": "stdout",
     "output_type": "stream",
     "text": [
      "23/12/02 19:03:36 WARN DAGScheduler: Broadcasting large task binary with size 3.7 MiB\n"
     ]
    },
    {
     "name": "stderr",
     "output_type": "stream",
     "text": [
      "                                                                                \r"
     ]
    },
    {
     "name": "stdout",
     "output_type": "stream",
     "text": [
      "23/12/02 19:03:36 WARN DAGScheduler: Broadcasting large task binary with size 3.7 MiB\n",
      "+--------------+--------------------+--------------------+\n",
      "|    reviewerID|           avg_price|               brand|\n",
      "+--------------+--------------------+--------------------+\n",
      "|A32T3VMP09YVWO|7.918559713289142E-4|      Craft / Empura|\n",
      "| AHF0WHZARKT86|8.833963656798005E-4|                 DAP|\n",
      "|A3B1KK88EVW8CJ|3.072293669295807...|            Shop-Vac|\n",
      "| AMRVMZGBHT7Z6|8.833963656798005E-4|         Porta-Nails|\n",
      "|A35AJ3CCYV3I61|1.817349839257076...|              DEWALT|\n",
      "|A2FTLYHRE1DLUI|1.817349839257076...|              DEWALT|\n",
      "|A3SE1RMKAZWSOM|8.331389835802838E-5|General Tools Mfg...|\n",
      "| AK3T4XPTHWP0W|0.001542279380373...|               Scott|\n",
      "| A2SFEYYXPFQ5H|8.929694740800187E-5|              Dremel|\n",
      "|A1O5ICD3DW52SR|1.118829313782043...|              Dremel|\n",
      "+--------------+--------------------+--------------------+\n",
      "only showing top 10 rows\n",
      "\n"
     ]
    }
   ],
   "source": [
    "from pyspark.sql.window import Window\n",
    "from pyspark.sql.functions import avg, count, col, broadcast\n",
    "\n",
    "df_train = df_transformed\n",
    "\n",
    "# Use scaled priced instead\n",
    "\n",
    "# Prepare the item profiles from the training set\n",
    "item_profiles_train = df_train.select('asin', 'brand', 'price_scaled_float').distinct()\n",
    "\n",
    "# Calculate the average price for each user in the training set\n",
    "avg_price_train = train.join(df_train, 'asin').groupBy('reviewerID').agg(avg('price_scaled_float').alias('avg_price'))\n",
    "\n",
    "# Count the occurrences of each brand for each user in the training set and find the most frequent one\n",
    "brand_frequency_train = train.join(df_train, 'asin').groupBy('reviewerID', 'brand').agg(count('brand').alias('brand_count'))\n",
    "\n",
    "# Find the top brand for each user in the training set\n",
    "windowSpec = Window.partitionBy('reviewerID').orderBy(col('brand_count').desc(), col('brand'))\n",
    "top_brands_train = (brand_frequency_train.withColumn('rank', F.row_number().over(windowSpec))\n",
    "                    .where(col('rank') == 1)\n",
    "                    .select('reviewerID', 'brand'))\n",
    "\n",
    "# Create the user profiles using the training set\n",
    "user_profiles_train = avg_price_train.join(broadcast(top_brands_train), 'reviewerID')\n",
    "\n",
    "user_profiles_train.show(10)"
   ]
  },
  {
   "cell_type": "code",
   "execution_count": 27,
   "metadata": {
    "id": "1FxJwEOGGZN9",
    "outputId": "7d2c9d47-77ce-42d3-976c-908b5de52c1b",
    "tags": []
   },
   "outputs": [
    {
     "name": "stdout",
     "output_type": "stream",
     "text": [
      "23/12/02 19:03:37 WARN DAGScheduler: Broadcasting large task binary with size 3.7 MiB\n"
     ]
    },
    {
     "name": "stderr",
     "output_type": "stream",
     "text": [
      "[Stage 58:>                                                         (0 + 1) / 1]\r"
     ]
    },
    {
     "name": "stdout",
     "output_type": "stream",
     "text": [
      "23/12/02 19:03:45 WARN DAGScheduler: Broadcasting large task binary with size 3.7 MiB\n"
     ]
    },
    {
     "name": "stderr",
     "output_type": "stream",
     "text": [
      "                                                                                \r"
     ]
    },
    {
     "name": "stdout",
     "output_type": "stream",
     "text": [
      "23/12/02 19:03:45 WARN DAGScheduler: Broadcasting large task binary with size 3.7 MiB\n"
     ]
    },
    {
     "name": "stderr",
     "output_type": "stream",
     "text": [
      "[Stage 61:>                                                         (0 + 1) / 1]\r"
     ]
    },
    {
     "name": "stdout",
     "output_type": "stream",
     "text": [
      "23/12/02 19:03:48 WARN DAGScheduler: Broadcasting large task binary with size 3.7 MiB\n",
      "+----------+--------------------+------------------+\n",
      "|      asin|               brand|price_scaled_float|\n",
      "+----------+--------------------+------------------+\n",
      "|B00004WLKL|      Gardner Bender|      2.2346672E-4|\n",
      "|B00004Y693|        Lord & Hodge|       7.927534E-5|\n",
      "|B00004YOAO|         Irwin Tools|       7.777959E-5|\n",
      "|B00004YSW8|       Warp Brothers|      8.8339637E-4|\n",
      "|B00004Z0YY|   National Hardware|      1.4927697E-4|\n",
      "|B000052030|M-D Building Prod...|      8.8339637E-4|\n",
      "|B0000DD1F9|             Steelex|      8.8339637E-4|\n",
      "|B0000DD4IB|             Grizzly|      8.8339637E-4|\n",
      "|B0000DD5H0|                Kreg|      5.9232145E-5|\n",
      "|B00018ABP0|     Apex Tool Group|       3.220374E-4|\n",
      "+----------+--------------------+------------------+\n",
      "only showing top 10 rows\n",
      "\n"
     ]
    },
    {
     "name": "stderr",
     "output_type": "stream",
     "text": [
      "                                                                                \r"
     ]
    }
   ],
   "source": [
    "item_profiles_train.show(10)"
   ]
  },
  {
   "cell_type": "code",
   "execution_count": 28,
   "metadata": {
    "id": "4Gz_jP7KGZN9",
    "tags": []
   },
   "outputs": [],
   "source": [
    "from pyspark.sql import Window\n",
    "from pyspark.sql.functions import rank, col\n",
    "\n",
    "# Assuming calculate_similarity can be replaced with a native Spark function or combination of functions\n",
    "def calculate_similarity(user_brand, user_avg_price, item_brand, item_price):\n",
    "    # Simple similarity based on brand matching and price difference\n",
    "    brand_similarity = 1 if user_brand == item_brand else 0\n",
    "    # Prevent division by zero if user_avg_price is 0\n",
    "    price_similarity = 1 - abs(item_price - user_avg_price) / user_avg_price if user_avg_price != 0 else 0\n",
    "    # Combine the two components of similarity\n",
    "    return brand_similarity * 0.5 + price_similarity * 0.5\n",
    "\n",
    "# Register the UDF\n",
    "similarity_udf = F.udf(calculate_similarity, FloatType())\n",
    "\n",
    "# Generate recommendations for users in the validation set\n",
    "# First, get the list of items each user has reviewed in the training set to exclude them from recommendations\n",
    "df_already_reviewed_train = train.select('reviewerID', 'asin').distinct().alias(\"ar_train\")\n",
    "\n",
    "# Calculate similarities between user profiles and item profiles, excluding already reviewed items\n",
    "user_profiles_val = test.select('reviewerID').distinct().alias(\"up_val\")\n",
    "item_profiles_alias = item_profiles_train.alias(\"ip\")\n",
    "\n",
    "user_profiles_val = user_profiles_val.join(broadcast(user_profiles_train), \"reviewerID\", \"inner\")\n",
    "user_profiles_val = user_profiles_val.alias(\"up_val\")\n",
    "user_item_similarity = (user_profiles_val\n",
    "                        .crossJoin(broadcast(item_profiles_alias))\n",
    "                        .withColumn('similarity', similarity_udf(\n",
    "                            col('up_val.brand'), col('up_val.avg_price'), col('ip.brand'), col('ip.price_scaled_float')))\n",
    "                        .select('up_val.reviewerID', 'ip.asin', 'similarity'))\n",
    "\n",
    "# Exclude already reviewed items\n",
    "recommendations = user_item_similarity.join(broadcast(df_already_reviewed_train),\n",
    "                                            (user_item_similarity.reviewerID == df_already_reviewed_train.reviewerID) &\n",
    "                                            (user_item_similarity.asin == df_already_reviewed_train.asin),\n",
    "                                            'left_anti')\n",
    "\n",
    "# Use window functions to rank by similarity\n",
    "windowSpec = Window.partitionBy(recommendations['reviewerID']).orderBy(recommendations['similarity'].desc())\n",
    "\n",
    "ranked_recommendations = recommendations.withColumn(\"rank\", rank().over(windowSpec))\n",
    "\n",
    "# Get top N recommendations\n",
    "top_recommendations = ranked_recommendations.filter(col(\"rank\") <= 10)  # Replace N with the number of recommendations you want\n"
   ]
  },
  {
   "cell_type": "code",
   "execution_count": 29,
   "metadata": {
    "id": "tTpNTkddGZN9",
    "outputId": "ac8da3da-eec5-4aba-f5d6-daaa3360777b",
    "tags": []
   },
   "outputs": [
    {
     "name": "stdout",
     "output_type": "stream",
     "text": [
      "23/12/02 19:03:49 WARN DAGScheduler: Broadcasting large task binary with size 3.7 MiB\n",
      "23/12/02 19:03:49 WARN DAGScheduler: Broadcasting large task binary with size 3.7 MiB\n",
      "23/12/02 19:03:49 WARN DAGScheduler: Broadcasting large task binary with size 3.7 MiB\n",
      "23/12/02 19:03:49 WARN DAGScheduler: Broadcasting large task binary with size 3.7 MiB\n"
     ]
    },
    {
     "name": "stderr",
     "output_type": "stream",
     "text": [
      "                                                                                \r"
     ]
    },
    {
     "name": "stdout",
     "output_type": "stream",
     "text": [
      "23/12/02 19:03:58 WARN DAGScheduler: Broadcasting large task binary with size 3.7 MiB\n",
      "23/12/02 19:03:58 WARN DAGScheduler: Broadcasting large task binary with size 3.7 MiB\n",
      "23/12/02 19:03:58 WARN DAGScheduler: Broadcasting large task binary with size 3.7 MiB\n",
      "23/12/02 19:03:58 WARN DAGScheduler: Broadcasting large task binary with size 3.7 MiB\n",
      "23/12/02 19:03:58 WARN DAGScheduler: Broadcasting large task binary with size 3.7 MiB\n"
     ]
    },
    {
     "name": "stderr",
     "output_type": "stream",
     "text": [
      "[Stage 72:>   (0 + 1) / 1][Stage 73:>   (0 + 1) / 1][Stage 74:>   (0 + 1) / 1]1]\r"
     ]
    },
    {
     "name": "stdout",
     "output_type": "stream",
     "text": [
      "23/12/02 19:04:01 WARN DAGScheduler: Broadcasting large task binary with size 3.7 MiB\n"
     ]
    },
    {
     "name": "stderr",
     "output_type": "stream",
     "text": [
      "[Stage 74:>                                                         (0 + 1) / 1]\r"
     ]
    },
    {
     "name": "stdout",
     "output_type": "stream",
     "text": [
      "23/12/02 19:04:01 WARN DAGScheduler: Broadcasting large task binary with size 3.7 MiB\n"
     ]
    },
    {
     "name": "stderr",
     "output_type": "stream",
     "text": [
      "                                                                                \r"
     ]
    },
    {
     "name": "stdout",
     "output_type": "stream",
     "text": [
      "23/12/02 19:04:01 WARN DAGScheduler: Broadcasting large task binary with size 3.7 MiB\n",
      "23/12/02 19:04:02 WARN DAGScheduler: Broadcasting large task binary with size 3.7 MiB\n",
      "23/12/02 19:04:02 WARN DAGScheduler: Broadcasting large task binary with size 3.8 MiB\n"
     ]
    },
    {
     "name": "stderr",
     "output_type": "stream",
     "text": [
      "[Stage 85:>                                                         (0 + 1) / 1]\r"
     ]
    },
    {
     "name": "stdout",
     "output_type": "stream",
     "text": [
      "23/12/02 19:04:32 WARN DAGScheduler: Broadcasting large task binary with size 3.8 MiB\n",
      "+--------------+----------+----------+----+\n",
      "|    reviewerID|      asin|similarity|rank|\n",
      "+--------------+----------+----------+----+\n",
      "|A1240X5POMJ6IJ|B00GU2GT2U|       1.0|   1|\n",
      "|A1240X5POMJ6IJ|B00GU2NS56|       1.0|   1|\n",
      "|A1240X5POMJ6IJ|B00GU2NOCS|       1.0|   1|\n",
      "|A1240X5POMJ6IJ|B00F9MMUTS|       1.0|   1|\n",
      "|A1240X5POMJ6IJ|B00FG7BR22|       1.0|   1|\n",
      "|A1240X5POMJ6IJ|B00ITZOQEY|       1.0|   1|\n",
      "|A1240X5POMJ6IJ|B00FG7C0GE|       1.0|   1|\n",
      "|A1240X5POMJ6IJ|B00GU2GZWO|       1.0|   1|\n",
      "|A1240X5POMJ6IJ|B00GU2G6T6|       1.0|   1|\n",
      "|A1240X5POMJ6IJ|B00FG7BQIM|       1.0|   1|\n",
      "+--------------+----------+----------+----+\n",
      "only showing top 10 rows\n",
      "\n"
     ]
    },
    {
     "name": "stderr",
     "output_type": "stream",
     "text": [
      "                                                                                \r"
     ]
    }
   ],
   "source": [
    "top_recommendations.show(10)"
   ]
  },
  {
   "cell_type": "code",
   "execution_count": 30,
   "metadata": {
    "id": "543weynPGZN9",
    "tags": []
   },
   "outputs": [],
   "source": [
    "from pyspark.sql.functions import collect_list\n",
    "\n",
    "# Assuming top_recommendations DataFrame has columns 'reviewerID' and 'asin'\n",
    "final_recommendations = (top_recommendations\n",
    "                         .groupBy('reviewerID')\n",
    "                         .agg(collect_list('asin').alias('recommendations')))\n"
   ]
  },
  {
   "cell_type": "code",
   "execution_count": 31,
   "metadata": {
    "id": "g_kD1BTAGZN9",
    "outputId": "8891648e-aa6d-4af0-9821-d5f1f81c2089",
    "tags": []
   },
   "outputs": [
    {
     "name": "stdout",
     "output_type": "stream",
     "text": [
      "23/12/02 19:04:33 WARN DAGScheduler: Broadcasting large task binary with size 3.7 MiB\n",
      "23/12/02 19:04:33 WARN DAGScheduler: Broadcasting large task binary with size 3.7 MiB\n",
      "23/12/02 19:04:33 WARN DAGScheduler: Broadcasting large task binary with size 3.7 MiB\n",
      "23/12/02 19:04:33 WARN DAGScheduler: Broadcasting large task binary with size 3.7 MiB\n"
     ]
    },
    {
     "name": "stderr",
     "output_type": "stream",
     "text": [
      "                                                                                \r"
     ]
    },
    {
     "name": "stdout",
     "output_type": "stream",
     "text": [
      "23/12/02 19:04:42 WARN DAGScheduler: Broadcasting large task binary with size 3.7 MiB\n",
      "23/12/02 19:04:42 WARN DAGScheduler: Broadcasting large task binary with size 3.7 MiB\n",
      "23/12/02 19:04:42 WARN DAGScheduler: Broadcasting large task binary with size 3.7 MiB\n",
      "23/12/02 19:04:42 WARN DAGScheduler: Broadcasting large task binary with size 3.7 MiB\n",
      "23/12/02 19:04:42 WARN DAGScheduler: Broadcasting large task binary with size 3.7 MiB\n"
     ]
    },
    {
     "name": "stderr",
     "output_type": "stream",
     "text": [
      "[Stage 97:>                 (0 + 1) / 1][Stage 99:>                 (0 + 1) / 1]\r"
     ]
    },
    {
     "name": "stdout",
     "output_type": "stream",
     "text": [
      "23/12/02 19:04:45 WARN DAGScheduler: Broadcasting large task binary with size 3.7 MiB\n",
      "23/12/02 19:04:45 WARN DAGScheduler: Broadcasting large task binary with size 3.7 MiB\n"
     ]
    },
    {
     "name": "stderr",
     "output_type": "stream",
     "text": [
      "                                                                                \r"
     ]
    },
    {
     "name": "stdout",
     "output_type": "stream",
     "text": [
      "23/12/02 19:04:46 WARN DAGScheduler: Broadcasting large task binary with size 3.7 MiB\n",
      "23/12/02 19:04:46 WARN DAGScheduler: Broadcasting large task binary with size 3.7 MiB\n",
      "23/12/02 19:04:46 WARN DAGScheduler: Broadcasting large task binary with size 3.8 MiB\n"
     ]
    },
    {
     "name": "stderr",
     "output_type": "stream",
     "text": [
      "[Stage 110:>                                                        (0 + 1) / 1]\r"
     ]
    },
    {
     "name": "stdout",
     "output_type": "stream",
     "text": [
      "23/12/02 19:05:17 WARN DAGScheduler: Broadcasting large task binary with size 3.8 MiB\n"
     ]
    },
    {
     "name": "stderr",
     "output_type": "stream",
     "text": [
      "[Stage 113:>                                                        (0 + 1) / 1]\r"
     ]
    },
    {
     "name": "stdout",
     "output_type": "stream",
     "text": [
      "+--------------+------------------------------------------------------------------------------------------------------------------------------------+\n",
      "|reviewerID    |recommendations                                                                                                                     |\n",
      "+--------------+------------------------------------------------------------------------------------------------------------------------------------+\n",
      "|A1240X5POMJ6IJ|[B00GU2GT2U, B00GU2NS56, B00GU2NOCS, B00F9MMUTS, B00FG7BR22, B00ITZOQEY, B00FG7C0GE, B00GU2GZWO, B00GU2G6T6, B00FG7BQIM, B00ITZOMSE]|\n",
      "+--------------+------------------------------------------------------------------------------------------------------------------------------------+\n",
      "only showing top 1 row\n",
      "\n"
     ]
    },
    {
     "name": "stderr",
     "output_type": "stream",
     "text": [
      "                                                                                \r"
     ]
    }
   ],
   "source": [
    "final_recommendations.show(1,truncate = False)"
   ]
  },
  {
   "cell_type": "code",
   "execution_count": 33,
   "metadata": {
    "id": "moJd9t-1GZN-",
    "outputId": "593a4785-664d-4df2-ed20-06a262d7e1de",
    "tags": []
   },
   "outputs": [
    {
     "name": "stdout",
     "output_type": "stream",
     "text": [
      "23/12/02 19:07:43 WARN DAGScheduler: Broadcasting large task binary with size 3.7 MiB\n",
      "23/12/02 19:07:43 WARN DAGScheduler: Broadcasting large task binary with size 3.7 MiB\n",
      "23/12/02 19:07:43 WARN DAGScheduler: Broadcasting large task binary with size 3.7 MiB\n",
      "23/12/02 19:07:43 WARN DAGScheduler: Broadcasting large task binary with size 3.7 MiB\n",
      "23/12/02 19:07:43 WARN DAGScheduler: Broadcasting large task binary with size 3.7 MiB\n"
     ]
    },
    {
     "name": "stderr",
     "output_type": "stream",
     "text": [
      "                                                                                \r"
     ]
    },
    {
     "name": "stdout",
     "output_type": "stream",
     "text": [
      "23/12/02 19:07:52 WARN DAGScheduler: Broadcasting large task binary with size 3.7 MiB\n",
      "23/12/02 19:07:52 WARN DAGScheduler: Broadcasting large task binary with size 3.7 MiB\n",
      "23/12/02 19:07:53 WARN DAGScheduler: Broadcasting large task binary with size 3.7 MiB\n",
      "23/12/02 19:07:53 WARN DAGScheduler: Broadcasting large task binary with size 3.7 MiB\n",
      "23/12/02 19:07:53 WARN DAGScheduler: Broadcasting large task binary with size 3.7 MiB\n",
      "23/12/02 19:07:53 WARN DAGScheduler: Broadcasting large task binary with size 3.7 MiB\n"
     ]
    },
    {
     "name": "stderr",
     "output_type": "stream",
     "text": [
      "[Stage 123:>                (0 + 1) / 1][Stage 125:>                (0 + 1) / 1]\r"
     ]
    },
    {
     "name": "stdout",
     "output_type": "stream",
     "text": [
      "23/12/02 19:07:55 WARN DAGScheduler: Broadcasting large task binary with size 3.7 MiB\n",
      "23/12/02 19:07:56 WARN DAGScheduler: Broadcasting large task binary with size 3.7 MiB\n"
     ]
    },
    {
     "name": "stderr",
     "output_type": "stream",
     "text": [
      "                                                                                \r"
     ]
    },
    {
     "name": "stdout",
     "output_type": "stream",
     "text": [
      "23/12/02 19:07:56 WARN DAGScheduler: Broadcasting large task binary with size 3.7 MiB\n",
      "23/12/02 19:07:56 WARN DAGScheduler: Broadcasting large task binary with size 3.7 MiB\n",
      "23/12/02 19:07:56 WARN DAGScheduler: Broadcasting large task binary with size 3.8 MiB\n"
     ]
    },
    {
     "name": "stderr",
     "output_type": "stream",
     "text": [
      "[Stage 138:>                                                        (0 + 1) / 1]\r"
     ]
    },
    {
     "name": "stdout",
     "output_type": "stream",
     "text": [
      "23/12/02 19:08:27 WARN DAGScheduler: Broadcasting large task binary with size 3.8 MiB\n"
     ]
    },
    {
     "name": "stderr",
     "output_type": "stream",
     "text": [
      "[Stage 141:>                                                        (0 + 1) / 1]\r"
     ]
    },
    {
     "name": "stdout",
     "output_type": "stream",
     "text": [
      "+--------------+--------------------+------+-------------------+\n",
      "|    reviewerID|           precision|recall|                 F1|\n",
      "+--------------+--------------------+------+-------------------+\n",
      "|A1240X5POMJ6IJ|                 0.0|   0.0|                0.0|\n",
      "|A19G7YUR3HKOAR|                 0.0|   0.0|                0.0|\n",
      "|A1DH81B19ASE30|                 0.0|   0.0|                0.0|\n",
      "|A1HAW4JVUTSFFF|                 0.0|   0.0|                0.0|\n",
      "|A1HCV0VRVP5ISS|                 0.0|   0.0|                0.0|\n",
      "|A1HEXO1SF2YRTT|                 0.0|   0.0|                0.0|\n",
      "|A1JS6UMCBBYKNU|                 0.0|   0.0|                0.0|\n",
      "|A1OK9NMJH25J5Y|                 0.0|   0.0|                0.0|\n",
      "|A1S7CNTU8FORM6|                 0.0|   0.0|                0.0|\n",
      "|A1SRMG16HF5TLD|                 0.0|   0.0|                0.0|\n",
      "|A1XPB58WAREZLT|                 0.0|   0.0|                0.0|\n",
      "|A23XU2KM06GE1P|0.037037037037037035|   1.0|0.07142857142857142|\n",
      "|A27IYRA843Q5EJ|                 0.0|   0.0|                0.0|\n",
      "|A2AQ73XDAGJB3K|                 0.0|   0.0|                0.0|\n",
      "|A2DIQTZPF26T1L|                 0.0|   0.0|                0.0|\n",
      "|A2EU9RIYI1KN5P|                 0.0|   0.0|                0.0|\n",
      "|A2GXYICAWU5MRT|                 0.0|   0.0|                0.0|\n",
      "|A2U27A197AH87W|                 0.0|   0.0|                0.0|\n",
      "|A2ZR132LVNVXN6|                 0.0|   0.0|                0.0|\n",
      "|A36E2DOAO9W7V5|                 0.0|   0.0|                0.0|\n",
      "+--------------+--------------------+------+-------------------+\n",
      "only showing top 20 rows\n",
      "\n"
     ]
    },
    {
     "name": "stderr",
     "output_type": "stream",
     "text": [
      "                                                                                \r"
     ]
    }
   ],
   "source": [
    "from pyspark.sql.functions import col, size, array_intersect\n",
    "\n",
    "# Step 1: For each `reviewerID` in `test`, collect all `asin` values into a list.\n",
    "actual_items = test.groupBy('reviewerID').agg(collect_list('asin').alias('actual_asin'))\n",
    "\n",
    "# Join the actual items with the recommended items on `reviewerID`\n",
    "results = final_recommendations.join(actual_items, 'reviewerID')\n",
    "\n",
    "# Step 3: Calculate true positives, precision, recall, and F1 score.\n",
    "metrics = results.withColumn('true_positives', size(array_intersect(col('recommendations'), col('actual_asin')))) \\\n",
    "                 .withColumn('precision', col('true_positives') / size(col('recommendations'))) \\\n",
    "                 .withColumn('recall', col('true_positives') / size(col('actual_asin'))) \\\n",
    "                 .withColumn('F1', when((col('precision') + col('recall')) > 0,\n",
    "                                         2 * (col('precision') * col('recall')) / (col('precision') + col('recall')))\n",
    "                             .otherwise(0))\n",
    "\n",
    "# Show the results\n",
    "metrics.select('reviewerID', 'precision', 'recall', 'F1').show()"
   ]
  },
  {
   "cell_type": "code",
   "execution_count": 34,
   "metadata": {
    "id": "tlhotbTrGZN-",
    "outputId": "f048d8c9-dcf9-4a17-87f6-940062ca1678",
    "tags": []
   },
   "outputs": [
    {
     "name": "stdout",
     "output_type": "stream",
     "text": [
      "23/12/02 19:08:28 WARN DAGScheduler: Broadcasting large task binary with size 3.7 MiB\n",
      "23/12/02 19:08:28 WARN DAGScheduler: Broadcasting large task binary with size 3.7 MiB\n",
      "23/12/02 19:08:28 WARN DAGScheduler: Broadcasting large task binary with size 3.7 MiB\n",
      "23/12/02 19:08:28 WARN DAGScheduler: Broadcasting large task binary with size 3.7 MiB\n",
      "23/12/02 19:08:28 WARN DAGScheduler: Broadcasting large task binary with size 3.7 MiB\n"
     ]
    },
    {
     "name": "stderr",
     "output_type": "stream",
     "text": [
      "                                                                                \r"
     ]
    },
    {
     "name": "stdout",
     "output_type": "stream",
     "text": [
      "23/12/02 19:08:37 WARN DAGScheduler: Broadcasting large task binary with size 3.7 MiB\n",
      "23/12/02 19:08:37 WARN DAGScheduler: Broadcasting large task binary with size 3.7 MiB\n",
      "23/12/02 19:08:37 WARN DAGScheduler: Broadcasting large task binary with size 3.7 MiB\n",
      "23/12/02 19:08:37 WARN DAGScheduler: Broadcasting large task binary with size 3.7 MiB\n",
      "23/12/02 19:08:37 WARN DAGScheduler: Broadcasting large task binary with size 3.7 MiB\n",
      "23/12/02 19:08:38 WARN DAGScheduler: Broadcasting large task binary with size 3.7 MiB\n"
     ]
    },
    {
     "name": "stderr",
     "output_type": "stream",
     "text": [
      "[Stage 151:>                (0 + 1) / 1][Stage 153:>                (0 + 1) / 1]\r"
     ]
    },
    {
     "name": "stdout",
     "output_type": "stream",
     "text": [
      "23/12/02 19:08:40 WARN DAGScheduler: Broadcasting large task binary with size 3.7 MiB\n",
      "23/12/02 19:08:40 WARN DAGScheduler: Broadcasting large task binary with size 3.7 MiB\n"
     ]
    },
    {
     "name": "stderr",
     "output_type": "stream",
     "text": [
      "                                                                                \r"
     ]
    },
    {
     "name": "stdout",
     "output_type": "stream",
     "text": [
      "23/12/02 19:08:41 WARN DAGScheduler: Broadcasting large task binary with size 3.7 MiB\n",
      "23/12/02 19:08:41 WARN DAGScheduler: Broadcasting large task binary with size 3.7 MiB\n",
      "23/12/02 19:08:41 WARN DAGScheduler: Broadcasting large task binary with size 3.8 MiB\n"
     ]
    },
    {
     "name": "stderr",
     "output_type": "stream",
     "text": [
      "[Stage 166:>                                                        (0 + 1) / 1]\r"
     ]
    },
    {
     "name": "stdout",
     "output_type": "stream",
     "text": [
      "23/12/02 19:09:11 WARN DAGScheduler: Broadcasting large task binary with size 3.8 MiB\n"
     ]
    },
    {
     "name": "stderr",
     "output_type": "stream",
     "text": [
      "[Stage 169:================================================>      (21 + 3) / 24]\r"
     ]
    },
    {
     "name": "stdout",
     "output_type": "stream",
     "text": [
      "+--------------------+-------------------+--------------------+\n",
      "|       avg_precision|         avg_recall|              avg_F1|\n",
      "+--------------------+-------------------+--------------------+\n",
      "|0.002069261480609...|0.04234972677595628|0.003808041696468...|\n",
      "+--------------------+-------------------+--------------------+\n",
      "\n"
     ]
    },
    {
     "name": "stderr",
     "output_type": "stream",
     "text": [
      "                                                                                \r"
     ]
    }
   ],
   "source": [
    "from pyspark.sql.functions import avg\n",
    "average_metrics = metrics.agg(\n",
    "    avg(col('precision')).alias('avg_precision'),\n",
    "    avg(col('recall')).alias('avg_recall'),\n",
    "    avg(col('F1')).alias('avg_F1')\n",
    ")\n",
    "average_metrics.show()"
   ]
  }
 ],
 "metadata": {
  "accelerator": "GPU",
  "colab": {
   "provenance": []
  },
  "kernelspec": {
   "display_name": "DS5110 Spark 3.3",
   "language": "python",
   "name": "ds5110_spark3.3"
  },
  "language_info": {
   "codemirror_mode": {
    "name": "ipython",
    "version": 3
   },
   "file_extension": ".py",
   "mimetype": "text/x-python",
   "name": "python",
   "nbconvert_exporter": "python",
   "pygments_lexer": "ipython3",
   "version": "3.7.12"
  },
  "widgets": {
   "application/vnd.jupyter.widget-state+json": {
    "1ec8f538e2c340569c8f56ec590e8b5b": {
     "model_module": "@jupyter-widgets/controls",
     "model_module_version": "1.5.0",
     "model_name": "HBoxModel",
     "state": {
      "_dom_classes": [],
      "_model_module": "@jupyter-widgets/controls",
      "_model_module_version": "1.5.0",
      "_model_name": "HBoxModel",
      "_view_count": null,
      "_view_module": "@jupyter-widgets/controls",
      "_view_module_version": "1.5.0",
      "_view_name": "HBoxView",
      "box_style": "",
      "children": [
       "IPY_MODEL_783e04205f3e421987fcb3733f9d14f5",
       "IPY_MODEL_db4a6c3e04f7440894f662c490b75db6",
       "IPY_MODEL_5c8ceb0bd2cb443897d5b9650f26a348"
      ],
      "layout": "IPY_MODEL_ee18df5c64fd463db648a83281010e9a"
     }
    },
    "1ff556ad209f42d088546cc1e1c574cc": {
     "model_module": "@jupyter-widgets/base",
     "model_module_version": "1.2.0",
     "model_name": "LayoutModel",
     "state": {
      "_model_module": "@jupyter-widgets/base",
      "_model_module_version": "1.2.0",
      "_model_name": "LayoutModel",
      "_view_count": null,
      "_view_module": "@jupyter-widgets/base",
      "_view_module_version": "1.2.0",
      "_view_name": "LayoutView",
      "align_content": null,
      "align_items": null,
      "align_self": null,
      "border": null,
      "bottom": null,
      "display": null,
      "flex": null,
      "flex_flow": null,
      "grid_area": null,
      "grid_auto_columns": null,
      "grid_auto_flow": null,
      "grid_auto_rows": null,
      "grid_column": null,
      "grid_gap": null,
      "grid_row": null,
      "grid_template_areas": null,
      "grid_template_columns": null,
      "grid_template_rows": null,
      "height": null,
      "justify_content": null,
      "justify_items": null,
      "left": null,
      "margin": null,
      "max_height": null,
      "max_width": null,
      "min_height": null,
      "min_width": null,
      "object_fit": null,
      "object_position": null,
      "order": null,
      "overflow": null,
      "overflow_x": null,
      "overflow_y": null,
      "padding": null,
      "right": null,
      "top": null,
      "visibility": null,
      "width": null
     }
    },
    "249e1d44117f43bb8f63859d82cf22f8": {
     "model_module": "@jupyter-widgets/base",
     "model_module_version": "1.2.0",
     "model_name": "LayoutModel",
     "state": {
      "_model_module": "@jupyter-widgets/base",
      "_model_module_version": "1.2.0",
      "_model_name": "LayoutModel",
      "_view_count": null,
      "_view_module": "@jupyter-widgets/base",
      "_view_module_version": "1.2.0",
      "_view_name": "LayoutView",
      "align_content": null,
      "align_items": null,
      "align_self": null,
      "border": null,
      "bottom": null,
      "display": null,
      "flex": null,
      "flex_flow": null,
      "grid_area": null,
      "grid_auto_columns": null,
      "grid_auto_flow": null,
      "grid_auto_rows": null,
      "grid_column": null,
      "grid_gap": null,
      "grid_row": null,
      "grid_template_areas": null,
      "grid_template_columns": null,
      "grid_template_rows": null,
      "height": null,
      "justify_content": null,
      "justify_items": null,
      "left": null,
      "margin": null,
      "max_height": null,
      "max_width": null,
      "min_height": null,
      "min_width": null,
      "object_fit": null,
      "object_position": null,
      "order": null,
      "overflow": null,
      "overflow_x": null,
      "overflow_y": null,
      "padding": null,
      "right": null,
      "top": null,
      "visibility": null,
      "width": null
     }
    },
    "38317fc35c314b428eb0b9535e0475ac": {
     "model_module": "@jupyter-widgets/controls",
     "model_module_version": "1.5.0",
     "model_name": "DescriptionStyleModel",
     "state": {
      "_model_module": "@jupyter-widgets/controls",
      "_model_module_version": "1.5.0",
      "_model_name": "DescriptionStyleModel",
      "_view_count": null,
      "_view_module": "@jupyter-widgets/base",
      "_view_module_version": "1.2.0",
      "_view_name": "StyleView",
      "description_width": ""
     }
    },
    "3f3dba2148694883b52b79cb884df6f4": {
     "model_module": "@jupyter-widgets/controls",
     "model_module_version": "1.5.0",
     "model_name": "DescriptionStyleModel",
     "state": {
      "_model_module": "@jupyter-widgets/controls",
      "_model_module_version": "1.5.0",
      "_model_name": "DescriptionStyleModel",
      "_view_count": null,
      "_view_module": "@jupyter-widgets/base",
      "_view_module_version": "1.2.0",
      "_view_name": "StyleView",
      "description_width": ""
     }
    },
    "5c8ceb0bd2cb443897d5b9650f26a348": {
     "model_module": "@jupyter-widgets/controls",
     "model_module_version": "1.5.0",
     "model_name": "HTMLModel",
     "state": {
      "_dom_classes": [],
      "_model_module": "@jupyter-widgets/controls",
      "_model_module_version": "1.5.0",
      "_model_name": "HTMLModel",
      "_view_count": null,
      "_view_module": "@jupyter-widgets/controls",
      "_view_module_version": "1.5.0",
      "_view_name": "HTMLView",
      "description": "",
      "description_tooltip": null,
      "layout": "IPY_MODEL_249e1d44117f43bb8f63859d82cf22f8",
      "placeholder": "​",
      "style": "IPY_MODEL_3f3dba2148694883b52b79cb884df6f4",
      "value": " 0/20 [00:00&lt;?, ?it/s]"
     }
    },
    "783e04205f3e421987fcb3733f9d14f5": {
     "model_module": "@jupyter-widgets/controls",
     "model_module_version": "1.5.0",
     "model_name": "HTMLModel",
     "state": {
      "_dom_classes": [],
      "_model_module": "@jupyter-widgets/controls",
      "_model_module_version": "1.5.0",
      "_model_name": "HTMLModel",
      "_view_count": null,
      "_view_module": "@jupyter-widgets/controls",
      "_view_module_version": "1.5.0",
      "_view_name": "HTMLView",
      "description": "",
      "description_tooltip": null,
      "layout": "IPY_MODEL_fe743840550f4166878123b2b96e5560",
      "placeholder": "​",
      "style": "IPY_MODEL_38317fc35c314b428eb0b9535e0475ac",
      "value": "  0%"
     }
    },
    "b68660959b3b4be48609eda55afd0e86": {
     "model_module": "@jupyter-widgets/controls",
     "model_module_version": "1.5.0",
     "model_name": "ProgressStyleModel",
     "state": {
      "_model_module": "@jupyter-widgets/controls",
      "_model_module_version": "1.5.0",
      "_model_name": "ProgressStyleModel",
      "_view_count": null,
      "_view_module": "@jupyter-widgets/base",
      "_view_module_version": "1.2.0",
      "_view_name": "StyleView",
      "bar_color": null,
      "description_width": ""
     }
    },
    "db4a6c3e04f7440894f662c490b75db6": {
     "model_module": "@jupyter-widgets/controls",
     "model_module_version": "1.5.0",
     "model_name": "FloatProgressModel",
     "state": {
      "_dom_classes": [],
      "_model_module": "@jupyter-widgets/controls",
      "_model_module_version": "1.5.0",
      "_model_name": "FloatProgressModel",
      "_view_count": null,
      "_view_module": "@jupyter-widgets/controls",
      "_view_module_version": "1.5.0",
      "_view_name": "ProgressView",
      "bar_style": "danger",
      "description": "",
      "description_tooltip": null,
      "layout": "IPY_MODEL_1ff556ad209f42d088546cc1e1c574cc",
      "max": 20,
      "min": 0,
      "orientation": "horizontal",
      "style": "IPY_MODEL_b68660959b3b4be48609eda55afd0e86",
      "value": 0
     }
    },
    "ee18df5c64fd463db648a83281010e9a": {
     "model_module": "@jupyter-widgets/base",
     "model_module_version": "1.2.0",
     "model_name": "LayoutModel",
     "state": {
      "_model_module": "@jupyter-widgets/base",
      "_model_module_version": "1.2.0",
      "_model_name": "LayoutModel",
      "_view_count": null,
      "_view_module": "@jupyter-widgets/base",
      "_view_module_version": "1.2.0",
      "_view_name": "LayoutView",
      "align_content": null,
      "align_items": null,
      "align_self": null,
      "border": null,
      "bottom": null,
      "display": null,
      "flex": null,
      "flex_flow": null,
      "grid_area": null,
      "grid_auto_columns": null,
      "grid_auto_flow": null,
      "grid_auto_rows": null,
      "grid_column": null,
      "grid_gap": null,
      "grid_row": null,
      "grid_template_areas": null,
      "grid_template_columns": null,
      "grid_template_rows": null,
      "height": null,
      "justify_content": null,
      "justify_items": null,
      "left": null,
      "margin": null,
      "max_height": null,
      "max_width": null,
      "min_height": null,
      "min_width": null,
      "object_fit": null,
      "object_position": null,
      "order": null,
      "overflow": null,
      "overflow_x": null,
      "overflow_y": null,
      "padding": null,
      "right": null,
      "top": null,
      "visibility": null,
      "width": null
     }
    },
    "fe743840550f4166878123b2b96e5560": {
     "model_module": "@jupyter-widgets/base",
     "model_module_version": "1.2.0",
     "model_name": "LayoutModel",
     "state": {
      "_model_module": "@jupyter-widgets/base",
      "_model_module_version": "1.2.0",
      "_model_name": "LayoutModel",
      "_view_count": null,
      "_view_module": "@jupyter-widgets/base",
      "_view_module_version": "1.2.0",
      "_view_name": "LayoutView",
      "align_content": null,
      "align_items": null,
      "align_self": null,
      "border": null,
      "bottom": null,
      "display": null,
      "flex": null,
      "flex_flow": null,
      "grid_area": null,
      "grid_auto_columns": null,
      "grid_auto_flow": null,
      "grid_auto_rows": null,
      "grid_column": null,
      "grid_gap": null,
      "grid_row": null,
      "grid_template_areas": null,
      "grid_template_columns": null,
      "grid_template_rows": null,
      "height": null,
      "justify_content": null,
      "justify_items": null,
      "left": null,
      "margin": null,
      "max_height": null,
      "max_width": null,
      "min_height": null,
      "min_width": null,
      "object_fit": null,
      "object_position": null,
      "order": null,
      "overflow": null,
      "overflow_x": null,
      "overflow_y": null,
      "padding": null,
      "right": null,
      "top": null,
      "visibility": null,
      "width": null
     }
    }
   }
  }
 },
 "nbformat": 4,
 "nbformat_minor": 4
}
